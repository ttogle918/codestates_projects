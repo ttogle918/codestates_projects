{
  "nbformat": 4,
  "nbformat_minor": 0,
  "metadata": {
    "colab": {
      "name": "s1_vgame.ipynb",
      "provenance": [],
      "include_colab_link": true
    },
    "kernelspec": {
      "name": "python3",
      "display_name": "Python 3"
    },
    "language_info": {
      "name": "python"
    }
  },
  "cells": [
    {
      "cell_type": "markdown",
      "metadata": {
        "id": "view-in-github",
        "colab_type": "text"
      },
      "source": [
        "<a href=\"https://colab.research.google.com/github/ttogle918/AI_projects/blob/master/s1_vgame.ipynb\" target=\"_parent\"><img src=\"https://colab.research.google.com/assets/colab-badge.svg\" alt=\"Open In Colab\"/></a>"
      ]
    },
    {
      "cell_type": "markdown",
      "metadata": {
        "id": "7VlaGEqID3bK"
      },
      "source": [
        "# \"다음 분기에 어떤 게임을 설계해야 할까\"를 도출하는 과정 / 결과 보여주기\n",
        "\n",
        "dataset read, 어떤 게임을 만들어야 하는지 결론 도출\n",
        "\n",
        "요구사항.\n",
        "- 지역에 따라서 선호하는 게임 장르가 다를까 라는 질문에 대답을 하셔야합니다.\n",
        "- 연도별 게임의 트렌드가 있을까 라는 질문에 대답을 하셔야합니다.\n",
        "- 출고량이 높은 게임에 대한 분석 및 시각화 프로세스가 포함되어야 합니다.\n",
        "\n",
        "-----------------\n",
        "\n",
        "data 이름 설명\n",
        "+ Name : 게임의 이름입니다.\n",
        "+ Platform : 게임이 지원되는 플랫폼의 이름입니다.\n",
        "+ Year : 게임이 출시된 연도입니다.\n",
        "+ Genre : 게임의 장르입니다.\n",
        "+ Publisher : 게임을 제작한 회사입니다.\n",
        "+ NA_Sales : 북미지역에서의 출고량입니다.\n",
        "+ EU_Sales : 유럽지역에서의 출고량입니다.\n",
        "+ JP_Sales : 일본지역에서의 출고량입니다.\n",
        "+ Other_Sales : 기타지역에서의 출고량입니다.\n",
        "\n",
        "\n",
        "-----------------\n",
        "부가설명\n",
        "\n",
        "아래 Sales의 기준은 100만(M)이다.\n",
        "- 1k = one thousand (1,000)\n",
        "- 10k = ten thousand (10,000)\n",
        "- 100k = 100 thousand (100,000)\n",
        "- 1M = 1000K (100만)"
      ]
    },
    {
      "cell_type": "code",
      "metadata": {
        "colab": {
          "base_uri": "https://localhost:8080/"
        },
        "id": "Dhgp6R_h-oNf",
        "outputId": "21459c57-f7c2-49a6-88bd-486fc23db66b"
      },
      "source": [
        "# google drive에서 파일 가져오기\n",
        "from google.colab import drive\n",
        "drive.mount('/content/drive')"
      ],
      "execution_count": 1,
      "outputs": [
        {
          "output_type": "stream",
          "name": "stdout",
          "text": [
            "Mounted at /content/drive\n"
          ]
        }
      ]
    },
    {
      "cell_type": "code",
      "metadata": {
        "colab": {
          "base_uri": "https://localhost:8080/",
          "height": 204
        },
        "id": "JlD_RGfQCOnv",
        "outputId": "d85a0ac1-f261-4d4e-b39b-1dabe5a3dfb1"
      },
      "source": [
        "# csv파일 불러오기\n",
        "import pandas as pd\n",
        "df = pd.read_csv(\"/content/drive/MyDrive/Colab Notebooks/code_states/vgames2.csv\", engine='python')\n",
        "df = df.drop('Unnamed: 0', axis=1)\n",
        "df.head()"
      ],
      "execution_count": 2,
      "outputs": [
        {
          "output_type": "execute_result",
          "data": {
            "text/html": [
              "<div>\n",
              "<style scoped>\n",
              "    .dataframe tbody tr th:only-of-type {\n",
              "        vertical-align: middle;\n",
              "    }\n",
              "\n",
              "    .dataframe tbody tr th {\n",
              "        vertical-align: top;\n",
              "    }\n",
              "\n",
              "    .dataframe thead th {\n",
              "        text-align: right;\n",
              "    }\n",
              "</style>\n",
              "<table border=\"1\" class=\"dataframe\">\n",
              "  <thead>\n",
              "    <tr style=\"text-align: right;\">\n",
              "      <th></th>\n",
              "      <th>Name</th>\n",
              "      <th>Platform</th>\n",
              "      <th>Year</th>\n",
              "      <th>Genre</th>\n",
              "      <th>Publisher</th>\n",
              "      <th>NA_Sales</th>\n",
              "      <th>EU_Sales</th>\n",
              "      <th>JP_Sales</th>\n",
              "      <th>Other_Sales</th>\n",
              "    </tr>\n",
              "  </thead>\n",
              "  <tbody>\n",
              "    <tr>\n",
              "      <th>0</th>\n",
              "      <td>Candace Kane's Candy Factory</td>\n",
              "      <td>DS</td>\n",
              "      <td>2008.0</td>\n",
              "      <td>Action</td>\n",
              "      <td>Destineer</td>\n",
              "      <td>0.04</td>\n",
              "      <td>0</td>\n",
              "      <td>0</td>\n",
              "      <td>0</td>\n",
              "    </tr>\n",
              "    <tr>\n",
              "      <th>1</th>\n",
              "      <td>The Munchables</td>\n",
              "      <td>Wii</td>\n",
              "      <td>2009.0</td>\n",
              "      <td>Action</td>\n",
              "      <td>Namco Bandai Games</td>\n",
              "      <td>0.17</td>\n",
              "      <td>0</td>\n",
              "      <td>0</td>\n",
              "      <td>0.01</td>\n",
              "    </tr>\n",
              "    <tr>\n",
              "      <th>2</th>\n",
              "      <td>Otome wa Oanesama Boku ni Koi Shiteru Portable</td>\n",
              "      <td>PSP</td>\n",
              "      <td>2010.0</td>\n",
              "      <td>Adventure</td>\n",
              "      <td>Alchemist</td>\n",
              "      <td>0</td>\n",
              "      <td>0</td>\n",
              "      <td>0.02</td>\n",
              "      <td>0</td>\n",
              "    </tr>\n",
              "    <tr>\n",
              "      <th>3</th>\n",
              "      <td>Deal or No Deal: Special Edition</td>\n",
              "      <td>DS</td>\n",
              "      <td>2010.0</td>\n",
              "      <td>Misc</td>\n",
              "      <td>Zoo Games</td>\n",
              "      <td>0.04</td>\n",
              "      <td>0</td>\n",
              "      <td>0</td>\n",
              "      <td>0</td>\n",
              "    </tr>\n",
              "    <tr>\n",
              "      <th>4</th>\n",
              "      <td>Ben 10 Ultimate Alien: Cosmic Destruction</td>\n",
              "      <td>PS3</td>\n",
              "      <td>2010.0</td>\n",
              "      <td>Platform</td>\n",
              "      <td>D3Publisher</td>\n",
              "      <td>0.12</td>\n",
              "      <td>0.09</td>\n",
              "      <td>0</td>\n",
              "      <td>0.04</td>\n",
              "    </tr>\n",
              "  </tbody>\n",
              "</table>\n",
              "</div>"
            ],
            "text/plain": [
              "                                             Name Platform  ...  JP_Sales Other_Sales\n",
              "0                    Candace Kane's Candy Factory       DS  ...         0           0\n",
              "1                                  The Munchables      Wii  ...         0        0.01\n",
              "2  Otome wa Oanesama Boku ni Koi Shiteru Portable      PSP  ...      0.02           0\n",
              "3                Deal or No Deal: Special Edition       DS  ...         0           0\n",
              "4       Ben 10 Ultimate Alien: Cosmic Destruction      PS3  ...         0        0.04\n",
              "\n",
              "[5 rows x 9 columns]"
            ]
          },
          "metadata": {},
          "execution_count": 2
        }
      ]
    },
    {
      "cell_type": "code",
      "metadata": {
        "id": "LUSdYD9pFvxp",
        "outputId": "37c48bc6-8a6d-4126-ec02-7b4dc6a4d250",
        "colab": {
          "base_uri": "https://localhost:8080/"
        }
      },
      "source": [
        "def toFloat(n) :\n",
        "  try :\n",
        "    return float(n)\n",
        "  except ValueError :\n",
        "    if n[-1] == 'M' :\n",
        "      return float(n[0:-1])\n",
        "    elif n[-1] == 'K' :\n",
        "      return float(n[0:-1])/1000\n",
        "    else :\n",
        "      print(n)\n",
        "  return 'cannot toInt' # 1개라도 있으면 dtype이 object가 됨\n",
        "\n",
        "def setYear(y) :\n",
        "  if y > 2021 :\n",
        "    print(y)\n",
        "    return '-1'\n",
        "  if y > 99 :\n",
        "    return int(y)\n",
        "  elif y < 22 :\n",
        "    return int(2000 + y)\n",
        "  elif y > 21 :\n",
        "    return int(1900 + y)\n",
        "\n",
        "# 계산을 위해 data를 숫자형으로 변환 \n",
        "df['NA_Sales'] = df['NA_Sales'].apply(toFloat)\n",
        "df['EU_Sales'] = df['EU_Sales'].apply(toFloat)\n",
        "df['JP_Sales'] = df['JP_Sales'].apply(toFloat)\n",
        "df['Other_Sales'] = df['Other_Sales'].apply(toFloat)\n",
        "\n",
        "df['Year'] = df['Year'].apply(setYear)\n",
        "df.isnull().sum() # 혹시나 0년 == 2000년일 수도 있으니까 year 변환 뒤 nan을 0으로 치환\n",
        "df['Year'] = df['Year'].fillna(0)\n",
        "print(\"min year \", min(df['Year']) )\n",
        "print(\"max NA_Sales\", max(df['NA_Sales']) )"
      ],
      "execution_count": 3,
      "outputs": [
        {
          "output_type": "stream",
          "name": "stdout",
          "text": [
            "min year  0.0\n",
            "max NA_Sales 41.49\n"
          ]
        }
      ]
    },
    {
      "cell_type": "code",
      "metadata": {
        "colab": {
          "base_uri": "https://localhost:8080/",
          "height": 419
        },
        "id": "9lQPZ1FmGyyy",
        "outputId": "e3019b45-44de-4708-ea42-f106088596dd"
      },
      "source": [
        "# # 연도 등록\n",
        "# def generation(n) :\n",
        "#   return int(n / 100)\n",
        "\n",
        "# df['generation'] = df['Year'].apply(generation)\n",
        "# df.head()"
      ],
      "execution_count": 43,
      "outputs": [
        {
          "output_type": "execute_result",
          "data": {
            "text/html": [
              "<div>\n",
              "<style scoped>\n",
              "    .dataframe tbody tr th:only-of-type {\n",
              "        vertical-align: middle;\n",
              "    }\n",
              "\n",
              "    .dataframe tbody tr th {\n",
              "        vertical-align: top;\n",
              "    }\n",
              "\n",
              "    .dataframe thead th {\n",
              "        text-align: right;\n",
              "    }\n",
              "</style>\n",
              "<table border=\"1\" class=\"dataframe\">\n",
              "  <thead>\n",
              "    <tr style=\"text-align: right;\">\n",
              "      <th></th>\n",
              "      <th>Name</th>\n",
              "      <th>Platform</th>\n",
              "      <th>Year</th>\n",
              "      <th>Genre</th>\n",
              "      <th>Publisher</th>\n",
              "      <th>NA_Sales</th>\n",
              "      <th>EU_Sales</th>\n",
              "      <th>JP_Sales</th>\n",
              "      <th>Other_Sales</th>\n",
              "    </tr>\n",
              "  </thead>\n",
              "  <tbody>\n",
              "    <tr>\n",
              "      <th>0</th>\n",
              "      <td>Candace Kane's Candy Factory</td>\n",
              "      <td>DS</td>\n",
              "      <td>2008.0</td>\n",
              "      <td>Action</td>\n",
              "      <td>Destineer</td>\n",
              "      <td>0.04</td>\n",
              "      <td>0.00</td>\n",
              "      <td>0.00</td>\n",
              "      <td>0.00</td>\n",
              "    </tr>\n",
              "    <tr>\n",
              "      <th>1</th>\n",
              "      <td>The Munchables</td>\n",
              "      <td>Wii</td>\n",
              "      <td>2009.0</td>\n",
              "      <td>Action</td>\n",
              "      <td>Namco Bandai Games</td>\n",
              "      <td>0.17</td>\n",
              "      <td>0.00</td>\n",
              "      <td>0.00</td>\n",
              "      <td>0.01</td>\n",
              "    </tr>\n",
              "    <tr>\n",
              "      <th>7</th>\n",
              "      <td>Samurai Warriors: State of War</td>\n",
              "      <td>PSP</td>\n",
              "      <td>2005.0</td>\n",
              "      <td>Action</td>\n",
              "      <td>Tecmo Koei</td>\n",
              "      <td>0.07</td>\n",
              "      <td>0.00</td>\n",
              "      <td>0.11</td>\n",
              "      <td>0.01</td>\n",
              "    </tr>\n",
              "    <tr>\n",
              "      <th>9</th>\n",
              "      <td>The Penguins of Madagascar: Dr. Blowhole Retur...</td>\n",
              "      <td>PS3</td>\n",
              "      <td>2011.0</td>\n",
              "      <td>Action</td>\n",
              "      <td>THQ</td>\n",
              "      <td>0.04</td>\n",
              "      <td>0.03</td>\n",
              "      <td>0.00</td>\n",
              "      <td>0.01</td>\n",
              "    </tr>\n",
              "    <tr>\n",
              "      <th>15</th>\n",
              "      <td>Mini Ninjas</td>\n",
              "      <td>PS3</td>\n",
              "      <td>2009.0</td>\n",
              "      <td>Action</td>\n",
              "      <td>Eidos Interactive</td>\n",
              "      <td>0.14</td>\n",
              "      <td>0.16</td>\n",
              "      <td>0.00</td>\n",
              "      <td>0.06</td>\n",
              "    </tr>\n",
              "    <tr>\n",
              "      <th>...</th>\n",
              "      <td>...</td>\n",
              "      <td>...</td>\n",
              "      <td>...</td>\n",
              "      <td>...</td>\n",
              "      <td>...</td>\n",
              "      <td>...</td>\n",
              "      <td>...</td>\n",
              "      <td>...</td>\n",
              "      <td>...</td>\n",
              "    </tr>\n",
              "    <tr>\n",
              "      <th>16575</th>\n",
              "      <td>Grand Theft Auto V</td>\n",
              "      <td>PC</td>\n",
              "      <td>2015.0</td>\n",
              "      <td>Action</td>\n",
              "      <td>Take-Two Interactive</td>\n",
              "      <td>0.36</td>\n",
              "      <td>0.64</td>\n",
              "      <td>0.00</td>\n",
              "      <td>0.08</td>\n",
              "    </tr>\n",
              "    <tr>\n",
              "      <th>16581</th>\n",
              "      <td>LEGO The Hobbit</td>\n",
              "      <td>XOne</td>\n",
              "      <td>2014.0</td>\n",
              "      <td>Action</td>\n",
              "      <td>Warner Bros. Interactive Entertainment</td>\n",
              "      <td>0.13</td>\n",
              "      <td>0.12</td>\n",
              "      <td>0.00</td>\n",
              "      <td>0.02</td>\n",
              "    </tr>\n",
              "    <tr>\n",
              "      <th>16583</th>\n",
              "      <td>LEGO Indiana Jones 2: The Adventure Continues</td>\n",
              "      <td>Wii</td>\n",
              "      <td>2009.0</td>\n",
              "      <td>Action</td>\n",
              "      <td>Activision</td>\n",
              "      <td>0.91</td>\n",
              "      <td>0.39</td>\n",
              "      <td>0.00</td>\n",
              "      <td>0.13</td>\n",
              "    </tr>\n",
              "    <tr>\n",
              "      <th>16594</th>\n",
              "      <td>Rainbow Islands: Revolution</td>\n",
              "      <td>PSP</td>\n",
              "      <td>2005.0</td>\n",
              "      <td>Action</td>\n",
              "      <td>Rising Star Games</td>\n",
              "      <td>0.01</td>\n",
              "      <td>0.00</td>\n",
              "      <td>0.00</td>\n",
              "      <td>0.00</td>\n",
              "    </tr>\n",
              "    <tr>\n",
              "      <th>16596</th>\n",
              "      <td>Toukiden: The Age of Demons</td>\n",
              "      <td>PSV</td>\n",
              "      <td>2013.0</td>\n",
              "      <td>Action</td>\n",
              "      <td>Tecmo Koei</td>\n",
              "      <td>0.05</td>\n",
              "      <td>0.05</td>\n",
              "      <td>0.25</td>\n",
              "      <td>0.03</td>\n",
              "    </tr>\n",
              "  </tbody>\n",
              "</table>\n",
              "<p>3305 rows × 9 columns</p>\n",
              "</div>"
            ],
            "text/plain": [
              "                                                    Name  ... Other_Sales\n",
              "0                           Candace Kane's Candy Factory  ...        0.00\n",
              "1                                         The Munchables  ...        0.01\n",
              "7                         Samurai Warriors: State of War  ...        0.01\n",
              "9      The Penguins of Madagascar: Dr. Blowhole Retur...  ...        0.01\n",
              "15                                           Mini Ninjas  ...        0.06\n",
              "...                                                  ...  ...         ...\n",
              "16575                                 Grand Theft Auto V  ...        0.08\n",
              "16581                                    LEGO The Hobbit  ...        0.02\n",
              "16583      LEGO Indiana Jones 2: The Adventure Continues  ...        0.13\n",
              "16594                        Rainbow Islands: Revolution  ...        0.00\n",
              "16596                        Toukiden: The Age of Demons  ...        0.03\n",
              "\n",
              "[3305 rows x 9 columns]"
            ]
          },
          "metadata": {},
          "execution_count": 43
        }
      ]
    },
    {
      "cell_type": "code",
      "metadata": {
        "colab": {
          "base_uri": "https://localhost:8080/",
          "height": 235
        },
        "id": "2fpZenxH8kqe",
        "outputId": "5332adc0-f756-4fbe-8b80-95fd1a0c4fe9"
      },
      "source": [
        "import matplotlib.pyplot as plt\n",
        "import numpy as np\n",
        "# wide = df[df['Year', 'Genre']]\n",
        "wide = df.pivot_table(index = 'Year', columns = 'Genre', values = 'Name', aggfunc=len)\n",
        "wide = wide.fillna(0)\n",
        "wide = wide[1:]\n",
        "wide.head()"
      ],
      "execution_count": 68,
      "outputs": [
        {
          "output_type": "execute_result",
          "data": {
            "text/html": [
              "<div>\n",
              "<style scoped>\n",
              "    .dataframe tbody tr th:only-of-type {\n",
              "        vertical-align: middle;\n",
              "    }\n",
              "\n",
              "    .dataframe tbody tr th {\n",
              "        vertical-align: top;\n",
              "    }\n",
              "\n",
              "    .dataframe thead th {\n",
              "        text-align: right;\n",
              "    }\n",
              "</style>\n",
              "<table border=\"1\" class=\"dataframe\">\n",
              "  <thead>\n",
              "    <tr style=\"text-align: right;\">\n",
              "      <th>Genre</th>\n",
              "      <th>Action</th>\n",
              "      <th>Adventure</th>\n",
              "      <th>Fighting</th>\n",
              "      <th>Misc</th>\n",
              "      <th>Platform</th>\n",
              "      <th>Puzzle</th>\n",
              "      <th>Racing</th>\n",
              "      <th>Role-Playing</th>\n",
              "      <th>Shooter</th>\n",
              "      <th>Simulation</th>\n",
              "      <th>Sports</th>\n",
              "      <th>Strategy</th>\n",
              "    </tr>\n",
              "    <tr>\n",
              "      <th>Year</th>\n",
              "      <th></th>\n",
              "      <th></th>\n",
              "      <th></th>\n",
              "      <th></th>\n",
              "      <th></th>\n",
              "      <th></th>\n",
              "      <th></th>\n",
              "      <th></th>\n",
              "      <th></th>\n",
              "      <th></th>\n",
              "      <th></th>\n",
              "      <th></th>\n",
              "    </tr>\n",
              "  </thead>\n",
              "  <tbody>\n",
              "    <tr>\n",
              "      <th>1980.0</th>\n",
              "      <td>1.0</td>\n",
              "      <td>0.0</td>\n",
              "      <td>1.0</td>\n",
              "      <td>4.0</td>\n",
              "      <td>0.0</td>\n",
              "      <td>0.0</td>\n",
              "      <td>0.0</td>\n",
              "      <td>0.0</td>\n",
              "      <td>2.0</td>\n",
              "      <td>0.0</td>\n",
              "      <td>0.0</td>\n",
              "      <td>0.0</td>\n",
              "    </tr>\n",
              "    <tr>\n",
              "      <th>1981.0</th>\n",
              "      <td>25.0</td>\n",
              "      <td>0.0</td>\n",
              "      <td>0.0</td>\n",
              "      <td>0.0</td>\n",
              "      <td>3.0</td>\n",
              "      <td>2.0</td>\n",
              "      <td>1.0</td>\n",
              "      <td>0.0</td>\n",
              "      <td>10.0</td>\n",
              "      <td>1.0</td>\n",
              "      <td>4.0</td>\n",
              "      <td>0.0</td>\n",
              "    </tr>\n",
              "    <tr>\n",
              "      <th>1982.0</th>\n",
              "      <td>18.0</td>\n",
              "      <td>0.0</td>\n",
              "      <td>0.0</td>\n",
              "      <td>1.0</td>\n",
              "      <td>5.0</td>\n",
              "      <td>3.0</td>\n",
              "      <td>2.0</td>\n",
              "      <td>0.0</td>\n",
              "      <td>5.0</td>\n",
              "      <td>0.0</td>\n",
              "      <td>2.0</td>\n",
              "      <td>0.0</td>\n",
              "    </tr>\n",
              "    <tr>\n",
              "      <th>1983.0</th>\n",
              "      <td>7.0</td>\n",
              "      <td>1.0</td>\n",
              "      <td>0.0</td>\n",
              "      <td>1.0</td>\n",
              "      <td>5.0</td>\n",
              "      <td>1.0</td>\n",
              "      <td>0.0</td>\n",
              "      <td>0.0</td>\n",
              "      <td>1.0</td>\n",
              "      <td>0.0</td>\n",
              "      <td>1.0</td>\n",
              "      <td>0.0</td>\n",
              "    </tr>\n",
              "    <tr>\n",
              "      <th>1984.0</th>\n",
              "      <td>1.0</td>\n",
              "      <td>0.0</td>\n",
              "      <td>0.0</td>\n",
              "      <td>1.0</td>\n",
              "      <td>1.0</td>\n",
              "      <td>3.0</td>\n",
              "      <td>3.0</td>\n",
              "      <td>0.0</td>\n",
              "      <td>3.0</td>\n",
              "      <td>0.0</td>\n",
              "      <td>2.0</td>\n",
              "      <td>0.0</td>\n",
              "    </tr>\n",
              "  </tbody>\n",
              "</table>\n",
              "</div>"
            ],
            "text/plain": [
              "Genre   Action  Adventure  Fighting  ...  Simulation  Sports  Strategy\n",
              "Year                                 ...                              \n",
              "1980.0     1.0        0.0       1.0  ...         0.0     0.0       0.0\n",
              "1981.0    25.0        0.0       0.0  ...         1.0     4.0       0.0\n",
              "1982.0    18.0        0.0       0.0  ...         0.0     2.0       0.0\n",
              "1983.0     7.0        1.0       0.0  ...         0.0     1.0       0.0\n",
              "1984.0     1.0        0.0       0.0  ...         0.0     2.0       0.0\n",
              "\n",
              "[5 rows x 12 columns]"
            ]
          },
          "metadata": {},
          "execution_count": 68
        }
      ]
    },
    {
      "cell_type": "code",
      "metadata": {
        "id": "JNXJb1wVmhvf",
        "outputId": "1f7304df-e7f8-430d-85f9-b138c9e74c99",
        "colab": {
          "base_uri": "https://localhost:8080/",
          "height": 304
        }
      },
      "source": [
        "wide.plot.line()\n",
        "plt.title('Line Graph with released video game per Year', fontsize=20)\n",
        "plt.xlabel('Year', fontsize=14)\n",
        "plt.ylabel('Genre\\'s sum', fontsize=14)\n",
        "plt.show()"
      ],
      "execution_count": 69,
      "outputs": [
        {
          "output_type": "display_data",
          "data": {
            "image/png": "[encoded data removed]",
            "text/plain": [
              "<Figure size 432x288 with 1 Axes>"
            ]
          },
          "metadata": {
            "needs_background": "light"
          }
        }
      ]
    },
    {
      "cell_type": "code",
      "metadata": {
        "colab": {
          "base_uri": "https://localhost:8080/"
        },
        "id": "Er62W7Yf-t6N",
        "outputId": "7f5fd8c9-432f-40da-8959-6f78635716a3"
      },
      "source": [
        "labels = set(df['Genre'])\n",
        "index = np.arange(len(labels))\n",
        "labels"
      ],
      "execution_count": 82,
      "outputs": [
        {
          "output_type": "execute_result",
          "data": {
            "text/plain": [
              "{'Action',\n",
              " 'Adventure',\n",
              " 'Fighting',\n",
              " 'Misc',\n",
              " 'Platform',\n",
              " 'Puzzle',\n",
              " 'Racing',\n",
              " 'Role-Playing',\n",
              " 'Shooter',\n",
              " 'Simulation',\n",
              " 'Sports',\n",
              " 'Strategy',\n",
              " nan}"
            ]
          },
          "metadata": {},
          "execution_count": 82
        }
      ]
    },
    {
      "cell_type": "markdown",
      "metadata": {
        "id": "XkANH1a4u4cX"
      },
      "source": [
        "나라별 장르 판매량의 평균 비교 (2015년부터 최근까지)\n",
        "\n",
        "Action은 너무 폭이 넓고 puzzle은 좁다. 이런걸 scaling 할 수 있을까?\n",
        "\n",
        "NA_Sales와 EU_Sales의 각각의 평균을 구한 뒤, 가설검정 가능?\n",
        "\n",
        "or 개발 후, 차이가 작으면 두군데, 차이가 크면 한군데 출시한다고 생각했을 때, 가설검정 가능할 것 같다.\n",
        "\n",
        "어떤 장르로할지? 어떤 플랫폼으로할지?도 비교하면 좋을것 같다.\n",
        "ps끼리 ds끼리 묶기.\n"
      ]
    },
    {
      "cell_type": "code",
      "metadata": {
        "id": "CRj6YLbXngnk",
        "outputId": "a0acf844-e4fc-40d7-d154-00fb49d5648b",
        "colab": {
          "base_uri": "https://localhost:8080/",
          "height": 32
        }
      },
      "source": [
        "df_sample = df[df['Year'] >= 2015]\n",
        "df_country = pd.DataFrame()\n",
        "\n",
        "def makeSample(string, df1, df_s) :\n",
        "  return df_s[df['Genre'] == string].sum\n",
        "\n",
        "df_country.apply(makeSample)"
      ],
      "execution_count": 87,
      "outputs": [
        {
          "output_type": "execute_result",
          "data": {
            "text/html": [
              "<div>\n",
              "<style scoped>\n",
              "    .dataframe tbody tr th:only-of-type {\n",
              "        vertical-align: middle;\n",
              "    }\n",
              "\n",
              "    .dataframe tbody tr th {\n",
              "        vertical-align: top;\n",
              "    }\n",
              "\n",
              "    .dataframe thead th {\n",
              "        text-align: right;\n",
              "    }\n",
              "</style>\n",
              "<table border=\"1\" class=\"dataframe\">\n",
              "  <thead>\n",
              "    <tr style=\"text-align: right;\">\n",
              "      <th></th>\n",
              "    </tr>\n",
              "  </thead>\n",
              "  <tbody>\n",
              "  </tbody>\n",
              "</table>\n",
              "</div>"
            ],
            "text/plain": [
              "Empty DataFrame\n",
              "Columns: []\n",
              "Index: []"
            ]
          },
          "metadata": {},
          "execution_count": 87
        }
      ]
    },
    {
      "cell_type": "code",
      "metadata": {
        "id": "6dMM54lknghm"
      },
      "source": [
        ""
      ],
      "execution_count": null,
      "outputs": []
    },
    {
      "cell_type": "markdown",
      "metadata": {
        "id": "TxZHAyJT8CkQ"
      },
      "source": [
        " Two-Sample T-test.\n",
        "\n",
        " 가설검정 예시.\n",
        " 'Na_Sales(북미지역)'에서의 판매량은 'EU_Sales(유럽지역)'에서의 판매량과 같다(비슷하다)"
      ]
    },
    {
      "cell_type": "code",
      "metadata": {
        "id": "LJ7XRlWl-RgO"
      },
      "source": [
        "# scipy를 upgrade해야 아래 코드 실행 가능.\n",
        "# !pip install --upgrade scipy  "
      ],
      "execution_count": null,
      "outputs": []
    },
    {
      "cell_type": "code",
      "metadata": {
        "colab": {
          "base_uri": "https://localhost:8080/"
        },
        "id": "EL3E4nCd0dwv",
        "outputId": "34e3e8af-025a-45ce-a5a0-1da5ede9e296"
      },
      "source": [
        "from scipy import stats\n",
        "import numpy as np\n",
        "game1 = pd.to_numeric(df['NA_Sales'])\n",
        "game2 = pd.to_numeric(df['EU_Sales'])\n",
        "\n",
        "print(\"Na :\", np.mean(game1))\n",
        "print(\"Na sum:\", np.sum(game1))\n",
        "\n",
        "print(\"EU :\", np.mean(game2))\n",
        "print(\"EU sum:\", np.sum(game2))\n",
        "sta, pv = stats.ttest_ind(game1, game2)\n",
        "\n",
        "print(sta, pv)"
      ],
      "execution_count": null,
      "outputs": [
        {
          "output_type": "stream",
          "name": "stdout",
          "text": [
            "Na : 0.26466742981082814\n",
            "Na sum: 4392.95\n",
            "EU : 0.14665200626581526\n",
            "EU sum: 2434.13\n",
            "15.831371100049903 3.0384925458019944e-56\n"
          ]
        }
      ]
    }
  ]
}