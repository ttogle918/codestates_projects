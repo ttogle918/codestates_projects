{
  "nbformat": 4,
  "nbformat_minor": 0,
  "metadata": {
    "colab": {
      "name": "s1_vgame.ipynb",
      "provenance": []
    },
    "kernelspec": {
      "name": "python3",
      "display_name": "Python 3"
    },
    "language_info": {
      "name": "python"
    }
  },
  "cells": [
    {
      "cell_type": "code",
      "metadata": {
        "colab": {
          "base_uri": "https://localhost:8080/"
        },
        "id": "Dhgp6R_h-oNf",
        "outputId": "f4e0b830-6356-43d4-949f-e7cb8750445d"
      },
      "source": [
        "# google drive에서 파일 가져오기\n",
        "from google.colab import drive\n",
        "drive.mount('/content/drive')"
      ],
      "execution_count": 15,
      "outputs": [
        {
          "output_type": "stream",
          "name": "stdout",
          "text": [
            "Drive already mounted at /content/drive; to attempt to forcibly remount, call drive.mount(\"/content/drive\", force_remount=True).\n"
          ]
        }
      ]
    },
    {
      "cell_type": "markdown",
      "metadata": {
        "id": "7VlaGEqID3bK"
      },
      "source": [
        "# \"다음 분기에 어떤 게임을 설계해야 할까\"를 도출하는 과정 / 결과 보여주기\n",
        "\n",
        "dataset read, 어떤 게임을 만들어야 하는지 결론 도출\n",
        "\n",
        "요구사항.\n",
        "- 지역에 따라서 선호하는 게임 장르가 다를까 라는 질문에 대답을 하셔야합니다.\n",
        "- 연도별 게임의 트렌드가 있을까 라는 질문에 대답을 하셔야합니다.\n",
        "- 출고량이 높은 게임에 대한 분석 및 시각화 프로세스가 포함되어야 합니다.\n",
        "\n",
        "-----------------\n",
        "\n",
        "data 이름 설명\n",
        "+ Name : 게임의 이름입니다.\n",
        "+ Platform : 게임이 지원되는 플랫폼의 이름입니다.\n",
        "+ Year : 게임이 출시된 연도입니다.\n",
        "+ Genre : 게임의 장르입니다.\n",
        "+ Publisher : 게임을 제작한 회사입니다.\n",
        "+ NA_Sales : 북미지역에서의 출고량입니다.\n",
        "+ EU_Sales : 유럽지역에서의 출고량입니다.\n",
        "+ JP_Sales : 일본지역에서의 출고량입니다.\n",
        "+ Other_Sales : 기타지역에서의 출고량입니다.\n",
        "\n",
        "\n",
        "-----------------\n",
        "부가설명\n",
        "\n",
        "아래 Sales의 기준은 100만(M)이다.\n",
        "- 1k = one thousand (1,000)\n",
        "- 10k = ten thousand (10,000)\n",
        "- 100k = 100 thousand (100,000)\n",
        "- 1M = 1000K (100만)"
      ]
    },
    {
      "cell_type": "code",
      "metadata": {
        "colab": {
          "base_uri": "https://localhost:8080/",
          "height": 484
        },
        "id": "JlD_RGfQCOnv",
        "outputId": "7ab09637-8742-450c-de22-7026400c61ff"
      },
      "source": [
        "# csv파일 불러오기\n",
        "import pandas as pd\n",
        "df = pd.read_csv(\"/content/drive/MyDrive/Colab Notebooks/code_states/vgames2.csv\", engine='python')\n",
        "df.head()"
      ],
      "execution_count": 16,
      "outputs": [
        {
          "output_type": "execute_result",
          "data": {
            "text/html": [
              "<div>\n",
              "<style scoped>\n",
              "    .dataframe tbody tr th:only-of-type {\n",
              "        vertical-align: middle;\n",
              "    }\n",
              "\n",
              "    .dataframe tbody tr th {\n",
              "        vertical-align: top;\n",
              "    }\n",
              "\n",
              "    .dataframe thead th {\n",
              "        text-align: right;\n",
              "    }\n",
              "</style>\n",
              "<table border=\"1\" class=\"dataframe\">\n",
              "  <thead>\n",
              "    <tr style=\"text-align: right;\">\n",
              "      <th></th>\n",
              "      <th>Unnamed: 0</th>\n",
              "      <th>Name</th>\n",
              "      <th>Platform</th>\n",
              "      <th>Year</th>\n",
              "      <th>Genre</th>\n",
              "      <th>Publisher</th>\n",
              "      <th>NA_Sales</th>\n",
              "      <th>EU_Sales</th>\n",
              "      <th>JP_Sales</th>\n",
              "      <th>Other_Sales</th>\n",
              "    </tr>\n",
              "  </thead>\n",
              "  <tbody>\n",
              "    <tr>\n",
              "      <th>0</th>\n",
              "      <td>1</td>\n",
              "      <td>Candace Kane's Candy Factory</td>\n",
              "      <td>DS</td>\n",
              "      <td>2008.0</td>\n",
              "      <td>Action</td>\n",
              "      <td>Destineer</td>\n",
              "      <td>0.04</td>\n",
              "      <td>0</td>\n",
              "      <td>0</td>\n",
              "      <td>0</td>\n",
              "    </tr>\n",
              "    <tr>\n",
              "      <th>1</th>\n",
              "      <td>2</td>\n",
              "      <td>The Munchables</td>\n",
              "      <td>Wii</td>\n",
              "      <td>2009.0</td>\n",
              "      <td>Action</td>\n",
              "      <td>Namco Bandai Games</td>\n",
              "      <td>0.17</td>\n",
              "      <td>0</td>\n",
              "      <td>0</td>\n",
              "      <td>0.01</td>\n",
              "    </tr>\n",
              "    <tr>\n",
              "      <th>2</th>\n",
              "      <td>3</td>\n",
              "      <td>Otome wa Oanesama Boku ni Koi Shiteru Portable</td>\n",
              "      <td>PSP</td>\n",
              "      <td>2010.0</td>\n",
              "      <td>Adventure</td>\n",
              "      <td>Alchemist</td>\n",
              "      <td>0</td>\n",
              "      <td>0</td>\n",
              "      <td>0.02</td>\n",
              "      <td>0</td>\n",
              "    </tr>\n",
              "    <tr>\n",
              "      <th>3</th>\n",
              "      <td>4</td>\n",
              "      <td>Deal or No Deal: Special Edition</td>\n",
              "      <td>DS</td>\n",
              "      <td>2010.0</td>\n",
              "      <td>Misc</td>\n",
              "      <td>Zoo Games</td>\n",
              "      <td>0.04</td>\n",
              "      <td>0</td>\n",
              "      <td>0</td>\n",
              "      <td>0</td>\n",
              "    </tr>\n",
              "    <tr>\n",
              "      <th>4</th>\n",
              "      <td>5</td>\n",
              "      <td>Ben 10 Ultimate Alien: Cosmic Destruction</td>\n",
              "      <td>PS3</td>\n",
              "      <td>2010.0</td>\n",
              "      <td>Platform</td>\n",
              "      <td>D3Publisher</td>\n",
              "      <td>0.12</td>\n",
              "      <td>0.09</td>\n",
              "      <td>0</td>\n",
              "      <td>0.04</td>\n",
              "    </tr>\n",
              "  </tbody>\n",
              "</table>\n",
              "</div>"
            ],
            "text/plain": [
              "   Unnamed: 0  ... Other_Sales\n",
              "0           1  ...           0\n",
              "1           2  ...        0.01\n",
              "2           3  ...           0\n",
              "3           4  ...           0\n",
              "4           5  ...        0.04\n",
              "\n",
              "[5 rows x 10 columns]"
            ]
          },
          "metadata": {},
          "execution_count": 16
        }
      ]
    },
    {
      "cell_type": "code",
      "metadata": {
        "colab": {
          "base_uri": "https://localhost:8080/"
        },
        "id": "vdCYxNu7DiOJ",
        "outputId": "23439113-1af8-4e85-d5a4-e90ff87ba839"
      },
      "source": [
        "df.dtypes"
      ],
      "execution_count": 17,
      "outputs": [
        {
          "output_type": "execute_result",
          "data": {
            "text/plain": [
              "Unnamed: 0       int64\n",
              "Name            object\n",
              "Platform        object\n",
              "Year           float64\n",
              "Genre           object\n",
              "Publisher       object\n",
              "NA_Sales        object\n",
              "EU_Sales        object\n",
              "JP_Sales        object\n",
              "Other_Sales     object\n",
              "dtype: object"
            ]
          },
          "metadata": {},
          "execution_count": 17
        }
      ]
    },
    {
      "cell_type": "code",
      "metadata": {
        "colab": {
          "base_uri": "https://localhost:8080/",
          "height": 310
        },
        "id": "BIDc15NjFHSx",
        "outputId": "f72e491e-93a9-4abf-84f1-d0d42327a958"
      },
      "source": [
        "df = df.drop('Unnamed: 0', axis=1)\n",
        "df.head()"
      ],
      "execution_count": 18,
      "outputs": [
        {
          "output_type": "execute_result",
          "data": {
            "text/html": [
              "<div>\n",
              "<style scoped>\n",
              "    .dataframe tbody tr th:only-of-type {\n",
              "        vertical-align: middle;\n",
              "    }\n",
              "\n",
              "    .dataframe tbody tr th {\n",
              "        vertical-align: top;\n",
              "    }\n",
              "\n",
              "    .dataframe thead th {\n",
              "        text-align: right;\n",
              "    }\n",
              "</style>\n",
              "<table border=\"1\" class=\"dataframe\">\n",
              "  <thead>\n",
              "    <tr style=\"text-align: right;\">\n",
              "      <th></th>\n",
              "      <th>Name</th>\n",
              "      <th>Platform</th>\n",
              "      <th>Year</th>\n",
              "      <th>Genre</th>\n",
              "      <th>Publisher</th>\n",
              "      <th>NA_Sales</th>\n",
              "      <th>EU_Sales</th>\n",
              "      <th>JP_Sales</th>\n",
              "      <th>Other_Sales</th>\n",
              "    </tr>\n",
              "  </thead>\n",
              "  <tbody>\n",
              "    <tr>\n",
              "      <th>0</th>\n",
              "      <td>Candace Kane's Candy Factory</td>\n",
              "      <td>DS</td>\n",
              "      <td>2008.0</td>\n",
              "      <td>Action</td>\n",
              "      <td>Destineer</td>\n",
              "      <td>0.04</td>\n",
              "      <td>0</td>\n",
              "      <td>0</td>\n",
              "      <td>0</td>\n",
              "    </tr>\n",
              "    <tr>\n",
              "      <th>1</th>\n",
              "      <td>The Munchables</td>\n",
              "      <td>Wii</td>\n",
              "      <td>2009.0</td>\n",
              "      <td>Action</td>\n",
              "      <td>Namco Bandai Games</td>\n",
              "      <td>0.17</td>\n",
              "      <td>0</td>\n",
              "      <td>0</td>\n",
              "      <td>0.01</td>\n",
              "    </tr>\n",
              "    <tr>\n",
              "      <th>2</th>\n",
              "      <td>Otome wa Oanesama Boku ni Koi Shiteru Portable</td>\n",
              "      <td>PSP</td>\n",
              "      <td>2010.0</td>\n",
              "      <td>Adventure</td>\n",
              "      <td>Alchemist</td>\n",
              "      <td>0</td>\n",
              "      <td>0</td>\n",
              "      <td>0.02</td>\n",
              "      <td>0</td>\n",
              "    </tr>\n",
              "    <tr>\n",
              "      <th>3</th>\n",
              "      <td>Deal or No Deal: Special Edition</td>\n",
              "      <td>DS</td>\n",
              "      <td>2010.0</td>\n",
              "      <td>Misc</td>\n",
              "      <td>Zoo Games</td>\n",
              "      <td>0.04</td>\n",
              "      <td>0</td>\n",
              "      <td>0</td>\n",
              "      <td>0</td>\n",
              "    </tr>\n",
              "    <tr>\n",
              "      <th>4</th>\n",
              "      <td>Ben 10 Ultimate Alien: Cosmic Destruction</td>\n",
              "      <td>PS3</td>\n",
              "      <td>2010.0</td>\n",
              "      <td>Platform</td>\n",
              "      <td>D3Publisher</td>\n",
              "      <td>0.12</td>\n",
              "      <td>0.09</td>\n",
              "      <td>0</td>\n",
              "      <td>0.04</td>\n",
              "    </tr>\n",
              "  </tbody>\n",
              "</table>\n",
              "</div>"
            ],
            "text/plain": [
              "                                             Name Platform  ...  JP_Sales Other_Sales\n",
              "0                    Candace Kane's Candy Factory       DS  ...         0           0\n",
              "1                                  The Munchables      Wii  ...         0        0.01\n",
              "2  Otome wa Oanesama Boku ni Koi Shiteru Portable      PSP  ...      0.02           0\n",
              "3                Deal or No Deal: Special Edition       DS  ...         0           0\n",
              "4       Ben 10 Ultimate Alien: Cosmic Destruction      PS3  ...         0        0.04\n",
              "\n",
              "[5 rows x 9 columns]"
            ]
          },
          "metadata": {},
          "execution_count": 18
        }
      ]
    },
    {
      "cell_type": "code",
      "metadata": {
        "id": "LUSdYD9pFvxp"
      },
      "source": [
        "def toFloat(n) :\n",
        "  try :\n",
        "    return float(n)\n",
        "  except ValueError :\n",
        "    if n[-1] == 'M' :\n",
        "      return float(n[0:-1])\n",
        "    elif n[-1] == 'K' :\n",
        "      return float(n[0:-1])/1000\n",
        "    else :\n",
        "      print(n)\n",
        "  return 'cannot toInt' # 1개라도 있으면 dtype이 object가 됨\n",
        "\n",
        "def setYear(y) :\n",
        "  if y > 2021 :\n",
        "    print(y)\n",
        "    return 'Na'\n",
        "  if y > 99 :\n",
        "    return int(y)\n",
        "  elif y < 22 :\n",
        "    return int(2000 + y)\n",
        "  elif y > 21 :\n",
        "    return int(1900 + y)"
      ],
      "execution_count": 19,
      "outputs": []
    },
    {
      "cell_type": "code",
      "metadata": {
        "id": "JEVAOEOBYNW5"
      },
      "source": [
        "# 계산을 위해 data를 숫자형으로 변환 \n",
        "df['NA_Sales'] = df['NA_Sales'].apply(toFloat)\n",
        "df['EU_Sales'] = df['EU_Sales'].apply(toFloat)\n",
        "df['JP_Sales'] = df['JP_Sales'].apply(toFloat)\n",
        "df['Other_Sales'] = df['Other_Sales'].apply(toFloat)\n",
        "\n",
        "df['Year'] = df['Year'].apply(setYear)\n",
        "# df.head()"
      ],
      "execution_count": 20,
      "outputs": []
    },
    {
      "cell_type": "code",
      "metadata": {
        "colab": {
          "base_uri": "https://localhost:8080/"
        },
        "id": "K8M58JysaUNY",
        "outputId": "f7ced3a6-be66-4691-a39e-ba5384a919f3"
      },
      "source": [
        "df.isnull().sum() # 혹시나 0년 == 2000년일 수도 있으니까 year 변환 뒤 nan을 0으로 치환\n",
        "df['Year'] = df['Year'].fillna(0)\n",
        "min(df['Year'])"
      ],
      "execution_count": 21,
      "outputs": [
        {
          "output_type": "execute_result",
          "data": {
            "text/plain": [
              "0.0"
            ]
          },
          "metadata": {},
          "execution_count": 21
        }
      ]
    },
    {
      "cell_type": "code",
      "metadata": {
        "colab": {
          "base_uri": "https://localhost:8080/"
        },
        "id": "KF23xPuXzLou",
        "outputId": "38c4c5f5-9edb-4a21-b84b-7f2bebbb0af7"
      },
      "source": [
        "# cond = 1979 < df['Year']  df['Year'] < 1985\n",
        "max(df['NA_Sales'])"
      ],
      "execution_count": 22,
      "outputs": [
        {
          "output_type": "execute_result",
          "data": {
            "text/plain": [
              "41.49"
            ]
          },
          "metadata": {},
          "execution_count": 22
        }
      ]
    },
    {
      "cell_type": "code",
      "metadata": {
        "colab": {
          "base_uri": "https://localhost:8080/",
          "height": 504
        },
        "id": "9lQPZ1FmGyyy",
        "outputId": "9754bde7-f194-43ce-dde0-8939b10cfeb3"
      },
      "source": [
        "# 연도 등록\n",
        "def generation(n) :\n",
        "  return int(n / 100)\n",
        "\n",
        "df['generation'] = df['Year'].apply(generation)\n",
        "df.head()"
      ],
      "execution_count": 23,
      "outputs": [
        {
          "output_type": "execute_result",
          "data": {
            "text/html": [
              "<div>\n",
              "<style scoped>\n",
              "    .dataframe tbody tr th:only-of-type {\n",
              "        vertical-align: middle;\n",
              "    }\n",
              "\n",
              "    .dataframe tbody tr th {\n",
              "        vertical-align: top;\n",
              "    }\n",
              "\n",
              "    .dataframe thead th {\n",
              "        text-align: right;\n",
              "    }\n",
              "</style>\n",
              "<table border=\"1\" class=\"dataframe\">\n",
              "  <thead>\n",
              "    <tr style=\"text-align: right;\">\n",
              "      <th></th>\n",
              "      <th>Name</th>\n",
              "      <th>Platform</th>\n",
              "      <th>Year</th>\n",
              "      <th>Genre</th>\n",
              "      <th>Publisher</th>\n",
              "      <th>NA_Sales</th>\n",
              "      <th>EU_Sales</th>\n",
              "      <th>JP_Sales</th>\n",
              "      <th>Other_Sales</th>\n",
              "      <th>generation</th>\n",
              "    </tr>\n",
              "  </thead>\n",
              "  <tbody>\n",
              "    <tr>\n",
              "      <th>0</th>\n",
              "      <td>Candace Kane's Candy Factory</td>\n",
              "      <td>DS</td>\n",
              "      <td>2008.0</td>\n",
              "      <td>Action</td>\n",
              "      <td>Destineer</td>\n",
              "      <td>0.04</td>\n",
              "      <td>0.00</td>\n",
              "      <td>0.00</td>\n",
              "      <td>0.00</td>\n",
              "      <td>20</td>\n",
              "    </tr>\n",
              "    <tr>\n",
              "      <th>1</th>\n",
              "      <td>The Munchables</td>\n",
              "      <td>Wii</td>\n",
              "      <td>2009.0</td>\n",
              "      <td>Action</td>\n",
              "      <td>Namco Bandai Games</td>\n",
              "      <td>0.17</td>\n",
              "      <td>0.00</td>\n",
              "      <td>0.00</td>\n",
              "      <td>0.01</td>\n",
              "      <td>20</td>\n",
              "    </tr>\n",
              "    <tr>\n",
              "      <th>2</th>\n",
              "      <td>Otome wa Oanesama Boku ni Koi Shiteru Portable</td>\n",
              "      <td>PSP</td>\n",
              "      <td>2010.0</td>\n",
              "      <td>Adventure</td>\n",
              "      <td>Alchemist</td>\n",
              "      <td>0.00</td>\n",
              "      <td>0.00</td>\n",
              "      <td>0.02</td>\n",
              "      <td>0.00</td>\n",
              "      <td>20</td>\n",
              "    </tr>\n",
              "    <tr>\n",
              "      <th>3</th>\n",
              "      <td>Deal or No Deal: Special Edition</td>\n",
              "      <td>DS</td>\n",
              "      <td>2010.0</td>\n",
              "      <td>Misc</td>\n",
              "      <td>Zoo Games</td>\n",
              "      <td>0.04</td>\n",
              "      <td>0.00</td>\n",
              "      <td>0.00</td>\n",
              "      <td>0.00</td>\n",
              "      <td>20</td>\n",
              "    </tr>\n",
              "    <tr>\n",
              "      <th>4</th>\n",
              "      <td>Ben 10 Ultimate Alien: Cosmic Destruction</td>\n",
              "      <td>PS3</td>\n",
              "      <td>2010.0</td>\n",
              "      <td>Platform</td>\n",
              "      <td>D3Publisher</td>\n",
              "      <td>0.12</td>\n",
              "      <td>0.09</td>\n",
              "      <td>0.00</td>\n",
              "      <td>0.04</td>\n",
              "      <td>20</td>\n",
              "    </tr>\n",
              "  </tbody>\n",
              "</table>\n",
              "</div>"
            ],
            "text/plain": [
              "                                             Name  ... generation\n",
              "0                    Candace Kane's Candy Factory  ...         20\n",
              "1                                  The Munchables  ...         20\n",
              "2  Otome wa Oanesama Boku ni Koi Shiteru Portable  ...         20\n",
              "3                Deal or No Deal: Special Edition  ...         20\n",
              "4       Ben 10 Ultimate Alien: Cosmic Destruction  ...         20\n",
              "\n",
              "[5 rows x 10 columns]"
            ]
          },
          "metadata": {},
          "execution_count": 23
        }
      ]
    },
    {
      "cell_type": "markdown",
      "metadata": {
        "id": "TxZHAyJT8CkQ"
      },
      "source": [
        " Two-Sample T-test.\n",
        "\n",
        " 가설검정 예시.\n",
        " 'Na_Sales(북미지역)'에서의 판매량은 'EU_Sales(유럽지역)'에서의 판매량과 같다(비슷하다)"
      ]
    },
    {
      "cell_type": "code",
      "metadata": {
        "id": "LJ7XRlWl-RgO"
      },
      "source": [
        "# scipy를 upgrade해야 아래 코드 실행 가능.\n",
        "# !pip install --upgrade scipy"
      ],
      "execution_count": 24,
      "outputs": []
    },
    {
      "cell_type": "code",
      "metadata": {
        "colab": {
          "base_uri": "https://localhost:8080/"
        },
        "id": "EL3E4nCd0dwv",
        "outputId": "34e3e8af-025a-45ce-a5a0-1da5ede9e296"
      },
      "source": [
        "from scipy import stats\n",
        "import numpy as np\n",
        "game1 = pd.to_numeric(df['NA_Sales'])\n",
        "game2 = pd.to_numeric(df['EU_Sales'])\n",
        "\n",
        "print(\"Na :\", np.mean(game1))\n",
        "print(\"Na sum:\", np.sum(game1))\n",
        "\n",
        "print(\"EU :\", np.mean(game2))\n",
        "print(\"EU sum:\", np.sum(game2))\n",
        "sta, pv = stats.ttest_ind(game1, game2)\n",
        "\n",
        "print(sta, pv)"
      ],
      "execution_count": 25,
      "outputs": [
        {
          "output_type": "stream",
          "name": "stdout",
          "text": [
            "Na : 0.26466742981082814\n",
            "Na sum: 4392.95\n",
            "EU : 0.14665200626581526\n",
            "EU sum: 2434.13\n",
            "15.831371100049903 3.0384925458019944e-56\n"
          ]
        }
      ]
    },
    {
      "cell_type": "code",
      "metadata": {
        "colab": {
          "base_uri": "https://localhost:8080/",
          "height": 143
        },
        "id": "2fpZenxH8kqe",
        "outputId": "c931054c-9c0a-4379-daae-43a435f0477f"
      },
      "source": [
        "import matplotlib.pyplot as plt\n",
        "\n",
        "grouped_df = pd.DataFrame(df.groupby('generation').Genre.count())\n",
        "grouped_df = grouped_df.reset_index()\n",
        "grouped_df"
      ],
      "execution_count": 26,
      "outputs": [
        {
          "output_type": "execute_result",
          "data": {
            "text/html": [
              "<div>\n",
              "<style scoped>\n",
              "    .dataframe tbody tr th:only-of-type {\n",
              "        vertical-align: middle;\n",
              "    }\n",
              "\n",
              "    .dataframe tbody tr th {\n",
              "        vertical-align: top;\n",
              "    }\n",
              "\n",
              "    .dataframe thead th {\n",
              "        text-align: right;\n",
              "    }\n",
              "</style>\n",
              "<table border=\"1\" class=\"dataframe\">\n",
              "  <thead>\n",
              "    <tr style=\"text-align: right;\">\n",
              "      <th></th>\n",
              "      <th>generation</th>\n",
              "      <th>Genre</th>\n",
              "    </tr>\n",
              "  </thead>\n",
              "  <tbody>\n",
              "    <tr>\n",
              "      <th>0</th>\n",
              "      <td>0</td>\n",
              "      <td>271</td>\n",
              "    </tr>\n",
              "    <tr>\n",
              "      <th>1</th>\n",
              "      <td>19</td>\n",
              "      <td>1968</td>\n",
              "    </tr>\n",
              "    <tr>\n",
              "      <th>2</th>\n",
              "      <td>20</td>\n",
              "      <td>14309</td>\n",
              "    </tr>\n",
              "  </tbody>\n",
              "</table>\n",
              "</div>"
            ],
            "text/plain": [
              "   generation  Genre\n",
              "0           0    271\n",
              "1          19   1968\n",
              "2          20  14309"
            ]
          },
          "metadata": {},
          "execution_count": 26
        }
      ]
    },
    {
      "cell_type": "code",
      "metadata": {
        "colab": {
          "base_uri": "https://localhost:8080/"
        },
        "id": "Er62W7Yf-t6N",
        "outputId": "a8b0b739-d39b-4965-d7f7-4d2ac3a51b0a"
      },
      "source": [
        "labels = set(df['Genre'])\n",
        "index = np.arange(len(labels))\n",
        "labels"
      ],
      "execution_count": 27,
      "outputs": [
        {
          "output_type": "execute_result",
          "data": {
            "text/plain": [
              "{'Action',\n",
              " 'Adventure',\n",
              " 'Fighting',\n",
              " 'Misc',\n",
              " 'Platform',\n",
              " 'Puzzle',\n",
              " 'Racing',\n",
              " 'Role-Playing',\n",
              " 'Shooter',\n",
              " 'Simulation',\n",
              " 'Sports',\n",
              " 'Strategy',\n",
              " nan}"
            ]
          },
          "metadata": {},
          "execution_count": 27
        }
      ]
    },
    {
      "cell_type": "code",
      "metadata": {
        "id": "Q91yX78JIa0C"
      },
      "source": [
        "# plt.bar(index, grouped_df)\n",
        "# plt.title('Sum of Tips by Day', fontsize=20)\n",
        "\n",
        "# plt.xlabel('Day', fontsize=18)\n",
        "\n",
        "# plt.ylabel('Sum of Tips', fontsize=18)\n",
        "\n",
        "# plt.xticks(index, label, fontsize=15)\n",
        "\n",
        "# plt.show()"
      ],
      "execution_count": 28,
      "outputs": []
    },
    {
      "cell_type": "code",
      "metadata": {
        "id": "OAVwUYxoB-mk"
      },
      "source": [
        "# grouped_df.plot(kind='bar', rot=0)\n",
        "# plt.title('Dodged Bar Chart by Pandas', fontsize=20)\n",
        "# plt.legend(fontsize='12')\n",
        "# plt.show()"
      ],
      "execution_count": 29,
      "outputs": []
    }
  ]
}