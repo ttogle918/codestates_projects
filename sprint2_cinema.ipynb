{
  "nbformat": 4,
  "nbformat_minor": 0,
  "metadata": {
    "jupytext": {
      "cell_metadata_filter": "-all",
      "main_language": "python",
      "notebook_metadata_filter": "-all"
    },
    "kernelspec": {
      "display_name": "Python 3",
      "language": "python",
      "name": "python3"
    },
    "language_info": {
      "codemirror_mode": {
        "name": "ipython",
        "version": 3
      },
      "file_extension": ".py",
      "mimetype": "text/x-python",
      "name": "python",
      "nbconvert_exporter": "python",
      "pygments_lexer": "ipython3",
      "version": "3.7.7"
    },
    "colab": {
      "name": "sprint2_cinema.ipynb",
      "provenance": [],
      "collapsed_sections": [
        "Db3fUvmssG7X",
        "dMrXQt4-Yjbh",
        "iHCIh1ic2SbG",
        "fXggdSJtwlqu",
        "a3uFNqmkHJfO"
      ],
      "include_colab_link": true
    }
  },
  "cells": [
    {
      "cell_type": "markdown",
      "metadata": {
        "id": "view-in-github",
        "colab_type": "text"
      },
      "source": [
        "<a href=\"https://colab.research.google.com/github/ttogle918/AI_projects/blob/master/sprint2_cinema.ipynb\" target=\"_parent\"><img src=\"https://colab.research.google.com/assets/colab-badge.svg\" alt=\"Open In Colab\"/></a>"
      ]
    },
    {
      "cell_type": "markdown",
      "metadata": {
        "id": "w4FwVJetxWZ9"
      },
      "source": [
        "# Movie revenue 예측"
      ]
    },
    {
      "cell_type": "markdown",
      "metadata": {
        "id": "Db3fUvmssG7X"
      },
      "source": [
        "## 파일 가져오기 및 패키지 정의"
      ]
    },
    {
      "cell_type": "code",
      "metadata": {
        "id": "iqO_gCBYdTNc",
        "colab": {
          "base_uri": "https://localhost:8080/"
        },
        "outputId": "7a9b9dc9-c40e-4cab-8270-a6f50e939727"
      },
      "source": [
        "# google 드라이브에 로컬 파일 업로드\n",
        "from google.colab import files, drive\n",
        "drive.mount('/content/drive')"
      ],
      "execution_count": 1,
      "outputs": [
        {
          "output_type": "stream",
          "name": "stdout",
          "text": [
            "Drive already mounted at /content/drive; to attempt to forcibly remount, call drive.mount(\"/content/drive\", force_remount=True).\n"
          ]
        }
      ]
    },
    {
      "cell_type": "code",
      "metadata": {
        "id": "R0tfYCrUdaRt"
      },
      "source": [
        "import pandas as pd\n",
        "import numpy as np\n",
        "import ast\n",
        "import re\n",
        "from collections import Counter"
      ],
      "execution_count": 2,
      "outputs": []
    },
    {
      "cell_type": "code",
      "metadata": {
        "id": "JhY5ntQK_JKN"
      },
      "source": [
        "import ast\n",
        "def getDataFrame(s) :\n",
        "  if s[0] == '\\'' :\n",
        "    s = s[1:-1]\n",
        "  if str(s)[0] == '{' :\n",
        "    df = pd.DataFrame([ast.literal_eval(s)])\n",
        "  if str(s)[0] == '[' :\n",
        "    df = pd.DataFrame(ast.literal_eval(s))\n",
        "  else :\n",
        "    df = s\n",
        "  return df"
      ],
      "execution_count": 3,
      "outputs": []
    },
    {
      "cell_type": "code",
      "metadata": {
        "id": "0D1UaYJi5qeI",
        "outputId": "067f4595-de22-4b31-c716-29ee796df624",
        "colab": {
          "base_uri": "https://localhost:8080/"
        }
      },
      "source": [
        "credits = pd.read_csv(\"/content/drive/MyDrive/Colab Notebooks/code_states/credits.csv\")\n",
        "keywords = pd.read_csv(\"/content/drive/MyDrive/Colab Notebooks/code_states/keywords.csv\")\n",
        "links = pd.read_csv(\"/content/drive/MyDrive/Colab Notebooks/code_states/links.csv\")\n",
        "links = links.append(pd.read_csv(\"/content/drive/MyDrive/Colab Notebooks/code_states/links_small.csv\"))\n",
        "movies_metadata = pd.read_csv(\"/content/drive/MyDrive/Colab Notebooks/code_states/movies_metadata.csv\")\n",
        "ratings = pd.read_csv(\"/content/drive/MyDrive/Colab Notebooks/code_states/ratings.csv\")\n",
        "ratings = ratings.append(pd.read_csv(\"/content/drive/MyDrive/Colab Notebooks/code_states/ratings_small.csv\"))\n",
        "\n",
        "credits.shape, keywords.shape, links.shape, movies_metadata.shape, ratings.shape"
      ],
      "execution_count": 4,
      "outputs": [
        {
          "output_type": "stream",
          "name": "stderr",
          "text": [
            "/usr/local/lib/python3.7/dist-packages/IPython/core/interactiveshell.py:2718: DtypeWarning: Columns (10) have mixed types.Specify dtype option on import or set low_memory=False.\n",
            "  interactivity=interactivity, compiler=compiler, result=result)\n"
          ]
        },
        {
          "output_type": "execute_result",
          "data": {
            "text/plain": [
              "((45476, 3), (46419, 2), (54968, 3), (45466, 24), (26124293, 4))"
            ]
          },
          "metadata": {},
          "execution_count": 4
        }
      ]
    },
    {
      "cell_type": "markdown",
      "metadata": {
        "id": "mcgezsWIhFBj"
      },
      "source": [
        "|  <center>credit</center> |  <center>cast</center> |\n",
        "|:--------:|:--------|\n",
        "|**credit** |cast(id, keywords), crew(credit_id, de), id> |\n",
        "|**keywords** | id (id, name), keywords(id) |\n",
        "|**links** | movieId, imdbId, tmdbId |\n",
        "|**movies_metadata** | adult, belongs_to_collection, budget, genres |\n",
        "|**''** | homepage, id, imdb_id, original_language |\n",
        "|**''** | original_title, overview, popularity, poster_path |\n",
        "|**''** | production_companies, production_countries |\n",
        "|**''** | release_date, revenue, runtime, spoken_languages |\n",
        "|**''** | status, tagline, title, video, vote_average, vote_count |\n",
        "|**ratings** | userId, movieId, rating, timestamp |"
      ]
    },
    {
      "cell_type": "markdown",
      "metadata": {
        "id": "Eil-Fj0NGOXi"
      },
      "source": [
        "## credits : 극 중 등장인물에 대한 정보와 제작진에 대한 정보를 담고있는 dataframe\n",
        "이 credits의 데이터 중 우리는 배우의 이름과 책임 감독의 이름만 궁금할 것이다.\n",
        "\n",
        "그러므로 cast에서는 상위 3명(주연), crew에서는 상위 1명(감독 혹은 작가)을 뽑아내었다.\n",
        "#### 과연 주연과 감독/PD가 영화 판매수익에 영향을 미칠까?"
      ]
    },
    {
      "cell_type": "code",
      "metadata": {
        "id": "e9NVtlH85hj_",
        "outputId": "81aeaec9-fe4f-4e4a-849f-30bd72222412",
        "colab": {
          "base_uri": "https://localhost:8080/"
        }
      },
      "source": [
        "credits.info()"
      ],
      "execution_count": 5,
      "outputs": [
        {
          "output_type": "stream",
          "name": "stdout",
          "text": [
            "<class 'pandas.core.frame.DataFrame'>\n",
            "RangeIndex: 45476 entries, 0 to 45475\n",
            "Data columns (total 3 columns):\n",
            " #   Column  Non-Null Count  Dtype \n",
            "---  ------  --------------  ----- \n",
            " 0   cast    45476 non-null  object\n",
            " 1   crew    45476 non-null  object\n",
            " 2   id      45476 non-null  int64 \n",
            "dtypes: int64(1), object(2)\n",
            "memory usage: 1.0+ MB\n"
          ]
        }
      ]
    },
    {
      "cell_type": "markdown",
      "metadata": {
        "id": "qxVWs2XJHosx"
      },
      "source": [
        "1. data 불러오기\n",
        "2. 중복된 값 지우기\n",
        "3. null값, empty값 확인 -> 지우기\n",
        "4. cast에서 배우 이름 따로 저장, crew에서 감독 이름 따로 저장"
      ]
    },
    {
      "cell_type": "code",
      "metadata": {
        "colab": {
          "base_uri": "https://localhost:8080/"
        },
        "id": "2CVGZ_oqMO1j",
        "outputId": "fd7d6ccd-9827-4148-a3f4-45813e37a63f"
      },
      "source": [
        "credits.duplicated().sum()"
      ],
      "execution_count": 6,
      "outputs": [
        {
          "output_type": "execute_result",
          "data": {
            "text/plain": [
              "37"
            ]
          },
          "metadata": {},
          "execution_count": 6
        }
      ]
    },
    {
      "cell_type": "code",
      "metadata": {
        "id": "uyo6mvhBMs_U"
      },
      "source": [
        "credits = credits.drop_duplicates()"
      ],
      "execution_count": 7,
      "outputs": []
    },
    {
      "cell_type": "code",
      "metadata": {
        "id": "lL1LEOJM6pkh",
        "outputId": "a5f9ddb8-67c9-4362-99d1-a18acb99f058",
        "colab": {
          "base_uri": "https://localhost:8080/"
        }
      },
      "source": [
        "print('empty cast', len(credits[credits.cast == '[]']) )\n",
        "print('empty crew', len(credits[credits.crew == '[]']) )"
      ],
      "execution_count": 8,
      "outputs": [
        {
          "output_type": "stream",
          "name": "stdout",
          "text": [
            "empty cast 2414\n",
            "empty crew 771\n"
          ]
        }
      ]
    },
    {
      "cell_type": "code",
      "metadata": {
        "id": "T_TmcOXa8wX_",
        "outputId": "d6958e8c-dd2a-421b-dec5-fe1f21a8bbc3",
        "colab": {
          "base_uri": "https://localhost:8080/"
        }
      },
      "source": [
        "# delete empty cells\n",
        "credits = credits[(credits.cast != '[]') & (credits.crew != '[]')]\n",
        "credits.shape"
      ],
      "execution_count": 9,
      "outputs": [
        {
          "output_type": "execute_result",
          "data": {
            "text/plain": [
              "(42675, 3)"
            ]
          },
          "metadata": {},
          "execution_count": 9
        }
      ]
    },
    {
      "cell_type": "code",
      "metadata": {
        "id": "YXK2FyZg-iJ9",
        "colab": {
          "base_uri": "https://localhost:8080/"
        },
        "outputId": "0ac1c86c-8f95-498e-cb7b-f2da160a4283"
      },
      "source": [
        "print(credits.shape)\n",
        "print(len(credits['id'].unique())) # id당 한 row가 아니다!"
      ],
      "execution_count": 10,
      "outputs": [
        {
          "output_type": "stream",
          "name": "stdout",
          "text": [
            "(42675, 3)\n",
            "42668\n"
          ]
        }
      ]
    },
    {
      "cell_type": "code",
      "metadata": {
        "colab": {
          "base_uri": "https://localhost:8080/",
          "height": 160
        },
        "id": "Qsy-Iqr1Ussd",
        "outputId": "68ff125b-7054-42f3-91be-7e557cadc74a"
      },
      "source": [
        "# cast의 내용은 같고 credit_id의 값만 다르기 때문에 삭제해도 된다 -> id는 unique()\n",
        "credits = credits.drop(credits[credits['id'].duplicated() == True].index)\n",
        "print(credits.shape)\n",
        "credits.head(3)"
      ],
      "execution_count": 11,
      "outputs": [
        {
          "output_type": "stream",
          "name": "stdout",
          "text": [
            "(42668, 3)\n"
          ]
        },
        {
          "output_type": "execute_result",
          "data": {
            "text/html": [
              "<div>\n",
              "<style scoped>\n",
              "    .dataframe tbody tr th:only-of-type {\n",
              "        vertical-align: middle;\n",
              "    }\n",
              "\n",
              "    .dataframe tbody tr th {\n",
              "        vertical-align: top;\n",
              "    }\n",
              "\n",
              "    .dataframe thead th {\n",
              "        text-align: right;\n",
              "    }\n",
              "</style>\n",
              "<table border=\"1\" class=\"dataframe\">\n",
              "  <thead>\n",
              "    <tr style=\"text-align: right;\">\n",
              "      <th></th>\n",
              "      <th>cast</th>\n",
              "      <th>crew</th>\n",
              "      <th>id</th>\n",
              "    </tr>\n",
              "  </thead>\n",
              "  <tbody>\n",
              "    <tr>\n",
              "      <th>0</th>\n",
              "      <td>[{'cast_id': 14, 'character': 'Woody (voice)',...</td>\n",
              "      <td>[{'credit_id': '52fe4284c3a36847f8024f49', 'de...</td>\n",
              "      <td>862</td>\n",
              "    </tr>\n",
              "    <tr>\n",
              "      <th>1</th>\n",
              "      <td>[{'cast_id': 1, 'character': 'Alan Parrish', '...</td>\n",
              "      <td>[{'credit_id': '52fe44bfc3a36847f80a7cd1', 'de...</td>\n",
              "      <td>8844</td>\n",
              "    </tr>\n",
              "    <tr>\n",
              "      <th>2</th>\n",
              "      <td>[{'cast_id': 2, 'character': 'Max Goldman', 'c...</td>\n",
              "      <td>[{'credit_id': '52fe466a9251416c75077a89', 'de...</td>\n",
              "      <td>15602</td>\n",
              "    </tr>\n",
              "  </tbody>\n",
              "</table>\n",
              "</div>"
            ],
            "text/plain": [
              "                                                cast  ...     id\n",
              "0  [{'cast_id': 14, 'character': 'Woody (voice)',...  ...    862\n",
              "1  [{'cast_id': 1, 'character': 'Alan Parrish', '...  ...   8844\n",
              "2  [{'cast_id': 2, 'character': 'Max Goldman', 'c...  ...  15602\n",
              "\n",
              "[3 rows x 3 columns]"
            ]
          },
          "metadata": {},
          "execution_count": 11
        }
      ]
    },
    {
      "cell_type": "markdown",
      "metadata": {
        "id": "iHCIh1ic2SbG"
      },
      "source": [
        "### cast"
      ]
    },
    {
      "cell_type": "code",
      "metadata": {
        "colab": {
          "base_uri": "https://localhost:8080/"
        },
        "id": "vCnFvLKxIHOC",
        "outputId": "4829bb64-5cae-4a64-b018-f79b5c432377"
      },
      "source": [
        "# string 형태로 data 형태 바꾸기\n",
        "li = [entry['name'] for entry in  ast.literal_eval(credits.cast[0])[0:4]]\n",
        "li"
      ],
      "execution_count": 12,
      "outputs": [
        {
          "output_type": "execute_result",
          "data": {
            "text/plain": [
              "['Tom Hanks', 'Tim Allen', 'Don Rickles', 'Jim Varney']"
            ]
          },
          "metadata": {},
          "execution_count": 12
        }
      ]
    },
    {
      "cell_type": "code",
      "metadata": {
        "id": "wH6BRDT9N3IC"
      },
      "source": [
        "# cast 상위 8명만\n",
        "import re\n",
        "\n",
        "def set_list_to_string(s, idx, to) :\n",
        "  if to == 0 :\n",
        "    t_dict = ast.literal_eval(s)\n",
        "    return [re.sub(r'[^\\w]', '_',re.sub(r'[^\\w\\s]', '', entry[idx])) for entry in t_dict]\n",
        "  \n",
        "  t_dict = ast.literal_eval(s)[0:to]\n",
        "  return [re.sub(r'[^\\w]', '_',re.sub(r'[^\\w\\s]', '', entry[idx])) for entry in t_dict]"
      ],
      "execution_count": 13,
      "outputs": []
    },
    {
      "cell_type": "code",
      "metadata": {
        "colab": {
          "base_uri": "https://localhost:8080/"
        },
        "id": "_Xqw91gJoJZl",
        "outputId": "62701601-2f1a-4fc1-d9ea-981e97f594b0"
      },
      "source": [
        "credits['actors'] = credits.cast.apply(set_list_to_string, idx='name', to=8)\n",
        "credits['actors'].head(10)"
      ],
      "execution_count": 14,
      "outputs": [
        {
          "output_type": "execute_result",
          "data": {
            "text/plain": [
              "0    [Tom_Hanks, Tim_Allen, Don_Rickles, Jim_Varney...\n",
              "1    [Robin_Williams, Jonathan_Hyde, Kirsten_Dunst,...\n",
              "2    [Walter_Matthau, Jack_Lemmon, AnnMargret, Soph...\n",
              "3    [Whitney_Houston, Angela_Bassett, Loretta_Devi...\n",
              "4    [Steve_Martin, Diane_Keaton, Martin_Short, Kim...\n",
              "5    [Al_Pacino, Robert_De_Niro, Val_Kilmer, Jon_Vo...\n",
              "6    [Harrison_Ford, Julia_Ormond, Greg_Kinnear, An...\n",
              "7    [Jonathan_Taylor_Thomas, Brad_Renfro, Rachael_...\n",
              "8    [JeanClaude_Van_Damme, Powers_Boothe, Dorian_H...\n",
              "9    [Pierce_Brosnan, Sean_Bean, Izabella_Scorupco,...\n",
              "Name: actors, dtype: object"
            ]
          },
          "metadata": {},
          "execution_count": 14
        }
      ]
    },
    {
      "cell_type": "code",
      "metadata": {
        "colab": {
          "base_uri": "https://localhost:8080/"
        },
        "id": "hQUbRNEZqRG_",
        "outputId": "d4deeb07-2788-4f7c-824a-ed81a5e51735"
      },
      "source": [
        "# 가장 많이 나온 배우 100명을 most_popular_acctors이라고 가정\n",
        "from collections import Counter\n",
        "\n",
        "actor_count = Counter([name for names_per_film in credits.actors.values for name in names_per_film])\n",
        "most_popular_actors = [entry[0] for entry in actor_count.most_common(100)]\n",
        "most_popular_actors"
      ],
      "execution_count": 15,
      "outputs": [
        {
          "output_type": "execute_result",
          "data": {
            "text/plain": [
              "['Christopher_Lee',\n",
              " 'John_Wayne',\n",
              " 'Jackie_Chan',\n",
              " 'Gérard_Depardieu',\n",
              " 'Michael_Caine',\n",
              " 'Robert_De_Niro',\n",
              " 'Samuel_L_Jackson',\n",
              " 'Donald_Sutherland',\n",
              " 'Danny_Glover',\n",
              " 'Harvey_Keitel',\n",
              " 'Christopher_Walken',\n",
              " 'Susan_Sarandon',\n",
              " 'Malcolm_McDowell',\n",
              " 'Anthony_Quinn',\n",
              " 'John_Hurt',\n",
              " 'Eric_Roberts',\n",
              " 'Nicolas_Cage',\n",
              " 'Morgan_Freeman',\n",
              " 'John_Goodman',\n",
              " 'Donald_Pleasence',\n",
              " 'John_Carradine',\n",
              " 'Bruce_Willis',\n",
              " 'Gene_Hackman',\n",
              " 'Christopher_Plummer',\n",
              " 'Alec_Baldwin',\n",
              " 'Steve_Buscemi',\n",
              " 'Max_von_Sydow',\n",
              " 'Robert_Duvall',\n",
              " 'Willem_Dafoe',\n",
              " 'Vincent_Price',\n",
              " 'Dennis_Hopper',\n",
              " 'Keenan_Wynn',\n",
              " 'Helen_Mirren',\n",
              " 'Stellan_Skarsgård',\n",
              " 'Bette_Davis',\n",
              " 'Liam_Neeson',\n",
              " 'James_Mason',\n",
              " 'Woody_Harrelson',\n",
              " 'James_Caan',\n",
              " 'John_Leguizamo',\n",
              " 'James_Stewart',\n",
              " 'Ed_Harris',\n",
              " 'John_Turturro',\n",
              " 'James_Franco',\n",
              " 'Whoopi_Goldberg',\n",
              " 'Ben_Kingsley',\n",
              " 'Robert_Mitchum',\n",
              " 'Burt_Reynolds',\n",
              " 'Robin_Williams',\n",
              " 'Danny_Trejo',\n",
              " 'John_Cusack',\n",
              " 'Lionel_Barrymore',\n",
              " 'Henry_Fonda',\n",
              " 'Val_Kilmer',\n",
              " 'Martin_Sheen',\n",
              " 'Anthony_Hopkins',\n",
              " 'Jeff_Bridges',\n",
              " 'Boris_Karloff',\n",
              " 'Brian_Cox',\n",
              " 'Nick_Nolte',\n",
              " 'Mickey_Rooney',\n",
              " 'Burt_Lancaster',\n",
              " 'Tom_Hanks',\n",
              " 'Christopher_Lloyd',\n",
              " 'William_Hurt',\n",
              " 'Forest_Whitaker',\n",
              " 'Lance_Henriksen',\n",
              " 'Keith_David',\n",
              " 'John_Malkovich',\n",
              " 'Catherine_Deneuve',\n",
              " 'Peter_Cushing',\n",
              " 'Ned_Beatty',\n",
              " 'Antonio_Banderas',\n",
              " 'Julianne_Moore',\n",
              " 'Dan_Aykroyd',\n",
              " 'Vanessa_Redgrave',\n",
              " 'Paul_Newman',\n",
              " 'Marcello_Mastroianni',\n",
              " 'Cary_Grant',\n",
              " 'Ray_Milland',\n",
              " 'Jim_Broadbent',\n",
              " 'Charles_Durning',\n",
              " 'Ray_Liotta',\n",
              " 'Meryl_Streep',\n",
              " 'Bruce_Dern',\n",
              " 'Isabelle_Huppert',\n",
              " 'George_Sanders',\n",
              " 'Kirk_Douglas',\n",
              " 'Tom_Wilkinson',\n",
              " 'Ron_Perlman',\n",
              " 'James_Earl_Jones',\n",
              " 'Robert_Downey_Jr',\n",
              " 'Dolph_Lundgren',\n",
              " 'Stanley_Tucci',\n",
              " 'Dennis_Quaid',\n",
              " 'Rutger_Hauer',\n",
              " 'Ernest_Borgnine',\n",
              " 'Barbara_Stanwyck',\n",
              " 'Danny_DeVito',\n",
              " 'Christian_Slater']"
            ]
          },
          "metadata": {},
          "execution_count": 15
        }
      ]
    },
    {
      "cell_type": "code",
      "metadata": {
        "id": "taaUHhBowFF9"
      },
      "source": [
        "credits['number_of_named_actors'] = credits['actors'].apply(len)"
      ],
      "execution_count": 16,
      "outputs": []
    },
    {
      "cell_type": "code",
      "metadata": {
        "id": "J71ffI8MVNxM",
        "outputId": "b5c7138d-7f31-458c-81d6-ca085702945b",
        "colab": {
          "base_uri": "https://localhost:8080/",
          "height": 244
        }
      },
      "source": [
        "credits.head(3)"
      ],
      "execution_count": 17,
      "outputs": [
        {
          "output_type": "execute_result",
          "data": {
            "text/html": [
              "<div>\n",
              "<style scoped>\n",
              "    .dataframe tbody tr th:only-of-type {\n",
              "        vertical-align: middle;\n",
              "    }\n",
              "\n",
              "    .dataframe tbody tr th {\n",
              "        vertical-align: top;\n",
              "    }\n",
              "\n",
              "    .dataframe thead th {\n",
              "        text-align: right;\n",
              "    }\n",
              "</style>\n",
              "<table border=\"1\" class=\"dataframe\">\n",
              "  <thead>\n",
              "    <tr style=\"text-align: right;\">\n",
              "      <th></th>\n",
              "      <th>cast</th>\n",
              "      <th>crew</th>\n",
              "      <th>id</th>\n",
              "      <th>actors</th>\n",
              "      <th>number_of_named_actors</th>\n",
              "    </tr>\n",
              "  </thead>\n",
              "  <tbody>\n",
              "    <tr>\n",
              "      <th>0</th>\n",
              "      <td>[{'cast_id': 14, 'character': 'Woody (voice)',...</td>\n",
              "      <td>[{'credit_id': '52fe4284c3a36847f8024f49', 'de...</td>\n",
              "      <td>862</td>\n",
              "      <td>[Tom_Hanks, Tim_Allen, Don_Rickles, Jim_Varney...</td>\n",
              "      <td>8</td>\n",
              "    </tr>\n",
              "    <tr>\n",
              "      <th>1</th>\n",
              "      <td>[{'cast_id': 1, 'character': 'Alan Parrish', '...</td>\n",
              "      <td>[{'credit_id': '52fe44bfc3a36847f80a7cd1', 'de...</td>\n",
              "      <td>8844</td>\n",
              "      <td>[Robin_Williams, Jonathan_Hyde, Kirsten_Dunst,...</td>\n",
              "      <td>8</td>\n",
              "    </tr>\n",
              "    <tr>\n",
              "      <th>2</th>\n",
              "      <td>[{'cast_id': 2, 'character': 'Max Goldman', 'c...</td>\n",
              "      <td>[{'credit_id': '52fe466a9251416c75077a89', 'de...</td>\n",
              "      <td>15602</td>\n",
              "      <td>[Walter_Matthau, Jack_Lemmon, AnnMargret, Soph...</td>\n",
              "      <td>7</td>\n",
              "    </tr>\n",
              "  </tbody>\n",
              "</table>\n",
              "</div>"
            ],
            "text/plain": [
              "                                                cast  ... number_of_named_actors\n",
              "0  [{'cast_id': 14, 'character': 'Woody (voice)',...  ...                      8\n",
              "1  [{'cast_id': 1, 'character': 'Alan Parrish', '...  ...                      8\n",
              "2  [{'cast_id': 2, 'character': 'Max Goldman', 'c...  ...                      7\n",
              "\n",
              "[3 rows x 5 columns]"
            ]
          },
          "metadata": {},
          "execution_count": 17
        }
      ]
    },
    {
      "cell_type": "markdown",
      "metadata": {
        "id": "t1YJD1GrGyap"
      },
      "source": [
        "-->>>>> **vectorize가 필요한가/?**"
      ]
    },
    {
      "cell_type": "code",
      "metadata": {
        "id": "FbfKgwz6v_7u"
      },
      "source": [
        "def listToString(item_list):\n",
        "  return r' '.join(item_list)\n",
        "\n",
        "credits['actors'] = credits['actors'].apply(listToString)"
      ],
      "execution_count": 18,
      "outputs": []
    },
    {
      "cell_type": "code",
      "metadata": {
        "id": "d4SkPN51rHnF"
      },
      "source": [
        "# import sklearn\n",
        "# from sklearn.feature_extraction.text import CountVectorizer\n",
        "\n",
        "# vectorizer = CountVectorizer(min_df=50)\n",
        "# corpus = [word for string in credits['actors'].values for word in string.split(' ')]\n",
        "# vectorizer.fit(corpus)\n",
        "# credits['actors_vec'] = credits['actors'].apply(lambda x: [x]).apply(vectorizer.transform)"
      ],
      "execution_count": 19,
      "outputs": []
    },
    {
      "cell_type": "code",
      "metadata": {
        "id": "jELpEk8ovA_n"
      },
      "source": [
        "# credits['actors_vec'][4]"
      ],
      "execution_count": 20,
      "outputs": []
    },
    {
      "cell_type": "code",
      "metadata": {
        "id": "Y2SLg9B7VaUb",
        "outputId": "1adf2f91-125a-4b48-dd8d-402c908c928f",
        "colab": {
          "base_uri": "https://localhost:8080/",
          "height": 244
        }
      },
      "source": [
        "credits.head(3)"
      ],
      "execution_count": 21,
      "outputs": [
        {
          "output_type": "execute_result",
          "data": {
            "text/html": [
              "<div>\n",
              "<style scoped>\n",
              "    .dataframe tbody tr th:only-of-type {\n",
              "        vertical-align: middle;\n",
              "    }\n",
              "\n",
              "    .dataframe tbody tr th {\n",
              "        vertical-align: top;\n",
              "    }\n",
              "\n",
              "    .dataframe thead th {\n",
              "        text-align: right;\n",
              "    }\n",
              "</style>\n",
              "<table border=\"1\" class=\"dataframe\">\n",
              "  <thead>\n",
              "    <tr style=\"text-align: right;\">\n",
              "      <th></th>\n",
              "      <th>cast</th>\n",
              "      <th>crew</th>\n",
              "      <th>id</th>\n",
              "      <th>actors</th>\n",
              "      <th>number_of_named_actors</th>\n",
              "    </tr>\n",
              "  </thead>\n",
              "  <tbody>\n",
              "    <tr>\n",
              "      <th>0</th>\n",
              "      <td>[{'cast_id': 14, 'character': 'Woody (voice)',...</td>\n",
              "      <td>[{'credit_id': '52fe4284c3a36847f8024f49', 'de...</td>\n",
              "      <td>862</td>\n",
              "      <td>Tom_Hanks Tim_Allen Don_Rickles Jim_Varney Wal...</td>\n",
              "      <td>8</td>\n",
              "    </tr>\n",
              "    <tr>\n",
              "      <th>1</th>\n",
              "      <td>[{'cast_id': 1, 'character': 'Alan Parrish', '...</td>\n",
              "      <td>[{'credit_id': '52fe44bfc3a36847f80a7cd1', 'de...</td>\n",
              "      <td>8844</td>\n",
              "      <td>Robin_Williams Jonathan_Hyde Kirsten_Dunst Bra...</td>\n",
              "      <td>8</td>\n",
              "    </tr>\n",
              "    <tr>\n",
              "      <th>2</th>\n",
              "      <td>[{'cast_id': 2, 'character': 'Max Goldman', 'c...</td>\n",
              "      <td>[{'credit_id': '52fe466a9251416c75077a89', 'de...</td>\n",
              "      <td>15602</td>\n",
              "      <td>Walter_Matthau Jack_Lemmon AnnMargret Sophia_L...</td>\n",
              "      <td>7</td>\n",
              "    </tr>\n",
              "  </tbody>\n",
              "</table>\n",
              "</div>"
            ],
            "text/plain": [
              "                                                cast  ... number_of_named_actors\n",
              "0  [{'cast_id': 14, 'character': 'Woody (voice)',...  ...                      8\n",
              "1  [{'cast_id': 1, 'character': 'Alan Parrish', '...  ...                      8\n",
              "2  [{'cast_id': 2, 'character': 'Max Goldman', 'c...  ...                      7\n",
              "\n",
              "[3 rows x 5 columns]"
            ]
          },
          "metadata": {},
          "execution_count": 21
        }
      ]
    },
    {
      "cell_type": "markdown",
      "metadata": {
        "id": "fXggdSJtwlqu"
      },
      "source": [
        "### Crew"
      ]
    },
    {
      "cell_type": "code",
      "metadata": {
        "colab": {
          "base_uri": "https://localhost:8080/",
          "height": 179
        },
        "id": "3d9n7-Kc3FEC",
        "outputId": "200dc40b-9d78-4e34-cd63-5f203fa1672f"
      },
      "source": [
        "credits.crew[0]"
      ],
      "execution_count": 22,
      "outputs": [
        {
          "output_type": "execute_result",
          "data": {
            "application/vnd.google.colaboratory.intrinsic+json": {
              "type": "string"
            },
            "text/plain": [
              "'[{\\'credit_id\\': \\'52fe4284c3a36847f8024f49\\', \\'department\\': \\'Directing\\', \\'gender\\': 2, \\'id\\': 7879, \\'job\\': \\'Director\\', \\'name\\': \\'John Lasseter\\', \\'profile_path\\': \\'/7EdqiNbr4FRjIhKHyPPdFfEEEFG.jpg\\'}, {\\'credit_id\\': \\'52fe4284c3a36847f8024f4f\\', \\'department\\': \\'Writing\\', \\'gender\\': 2, \\'id\\': 12891, \\'job\\': \\'Screenplay\\', \\'name\\': \\'Joss Whedon\\', \\'profile_path\\': \\'/dTiVsuaTVTeGmvkhcyJvKp2A5kr.jpg\\'}, {\\'credit_id\\': \\'52fe4284c3a36847f8024f55\\', \\'department\\': \\'Writing\\', \\'gender\\': 2, \\'id\\': 7, \\'job\\': \\'Screenplay\\', \\'name\\': \\'Andrew Stanton\\', \\'profile_path\\': \\'/pvQWsu0qc8JFQhMVJkTHuexUAa1.jpg\\'}, {\\'credit_id\\': \\'52fe4284c3a36847f8024f5b\\', \\'department\\': \\'Writing\\', \\'gender\\': 2, \\'id\\': 12892, \\'job\\': \\'Screenplay\\', \\'name\\': \\'Joel Cohen\\', \\'profile_path\\': \\'/dAubAiZcvKFbboWlj7oXOkZnTSu.jpg\\'}, {\\'credit_id\\': \\'52fe4284c3a36847f8024f61\\', \\'department\\': \\'Writing\\', \\'gender\\': 0, \\'id\\': 12893, \\'job\\': \\'Screenplay\\', \\'name\\': \\'Alec Sokolow\\', \\'profile_path\\': \\'/v79vlRYi94BZUQnkkyznbGUZLjT.jpg\\'}, {\\'credit_id\\': \\'52fe4284c3a36847f8024f67\\', \\'department\\': \\'Production\\', \\'gender\\': 1, \\'id\\': 12894, \\'job\\': \\'Producer\\', \\'name\\': \\'Bonnie Arnold\\', \\'profile_path\\': None}, {\\'credit_id\\': \\'52fe4284c3a36847f8024f6d\\', \\'department\\': \\'Production\\', \\'gender\\': 0, \\'id\\': 12895, \\'job\\': \\'Executive Producer\\', \\'name\\': \\'Ed Catmull\\', \\'profile_path\\': None}, {\\'credit_id\\': \\'52fe4284c3a36847f8024f73\\', \\'department\\': \\'Production\\', \\'gender\\': 2, \\'id\\': 12896, \\'job\\': \\'Producer\\', \\'name\\': \\'Ralph Guggenheim\\', \\'profile_path\\': None}, {\\'credit_id\\': \\'52fe4284c3a36847f8024f79\\', \\'department\\': \\'Production\\', \\'gender\\': 2, \\'id\\': 12897, \\'job\\': \\'Executive Producer\\', \\'name\\': \\'Steve Jobs\\', \\'profile_path\\': \\'/mOMP3SwD5qWQSR0ldCIByd3guTV.jpg\\'}, {\\'credit_id\\': \\'52fe4284c3a36847f8024f8b\\', \\'department\\': \\'Editing\\', \\'gender\\': 2, \\'id\\': 8, \\'job\\': \\'Editor\\', \\'name\\': \\'Lee Unkrich\\', \\'profile_path\\': \\'/bdTCCXjgOV3YyaNmLGYGOxFQMOc.jpg\\'}, {\\'credit_id\\': \\'52fe4284c3a36847f8024f91\\', \\'department\\': \\'Art\\', \\'gender\\': 2, \\'id\\': 7883, \\'job\\': \\'Art Direction\\', \\'name\\': \\'Ralph Eggleston\\', \\'profile_path\\': \\'/uUfcGKDsKO1aROMpXRs67Hn6RvR.jpg\\'}, {\\'credit_id\\': \\'598331bf925141421201044b\\', \\'department\\': \\'Editing\\', \\'gender\\': 2, \\'id\\': 1168870, \\'job\\': \\'Editor\\', \\'name\\': \\'Robert Gordon\\', \\'profile_path\\': None}, {\\'credit_id\\': \\'5892168cc3a36809660095f9\\', \\'department\\': \\'Sound\\', \\'gender\\': 0, \\'id\\': 1552883, \\'job\\': \\'Foley Editor\\', \\'name\\': \\'Mary Helen Leasman\\', \\'profile_path\\': None}, {\\'credit_id\\': \\'5531824d9251415289000945\\', \\'department\\': \\'Visual Effects\\', \\'gender\\': 0, \\'id\\': 1453514, \\'job\\': \\'Animation\\', \\'name\\': \\'Kim Blanchette\\', \\'profile_path\\': None}, {\\'credit_id\\': \\'589215969251412dcb009bf6\\', \\'department\\': \\'Sound\\', \\'gender\\': 0, \\'id\\': 1414182, \\'job\\': \\'ADR Editor\\', \\'name\\': \\'Marilyn McCoppen\\', \\'profile_path\\': None}, {\\'credit_id\\': \\'589217099251412dc500a018\\', \\'department\\': \\'Sound\\', \\'gender\\': 2, \\'id\\': 7885, \\'job\\': \\'Orchestrator\\', \\'name\\': \\'Randy Newman\\', \\'profile_path\\': \\'/w0JzfoiM25nrnxYOzosPHRq6mlE.jpg\\'}, {\\'credit_id\\': \\'5693e6b29251417b0e0000e3\\', \\'department\\': \\'Editing\\', \\'gender\\': 0, \\'id\\': 1429549, \\'job\\': \\'Color Timer\\', \\'name\\': \\'Dale E. Grahn\\', \\'profile_path\\': None}, {\\'credit_id\\': \\'572e2522c3a36869e6001a9c\\', \\'department\\': \\'Visual Effects\\', \\'gender\\': 0, \\'id\\': 7949, \\'job\\': \\'CG Painter\\', \\'name\\': \\'Robin Cooper\\', \\'profile_path\\': None}, {\\'credit_id\\': \\'574f12309251415ca1000012\\', \\'department\\': \\'Writing\\', \\'gender\\': 2, \\'id\\': 7879, \\'job\\': \\'Original Story\\', \\'name\\': \\'John Lasseter\\', \\'profile_path\\': \\'/7EdqiNbr4FRjIhKHyPPdFfEEEFG.jpg\\'}, {\\'credit_id\\': \\'574f1240c3a3682e7300001c\\', \\'department\\': \\'Writing\\', \\'gender\\': 2, \\'id\\': 12890, \\'job\\': \\'Original Story\\', \\'name\\': \\'Pete Docter\\', \\'profile_path\\': \\'/r6ngPgnReA3RHmKjmSoVsc6Awjp.jpg\\'}, {\\'credit_id\\': \\'574f12519251415c92000015\\', \\'department\\': \\'Writing\\', \\'gender\\': 0, \\'id\\': 7911, \\'job\\': \\'Original Story\\', \\'name\\': \\'Joe Ranft\\', \\'profile_path\\': \\'/f1BoWC2JbCcfP1e5hKfGsxkHzVU.jpg\\'}, {\\'credit_id\\': \\'574f12cec3a3682e82000022\\', \\'department\\': \\'Crew\\', \\'gender\\': 0, \\'id\\': 1629419, \\'job\\': \\'Post Production Supervisor\\', \\'name\\': \\'Patsy Bouge\\', \\'profile_path\\': None}, {\\'credit_id\\': \\'574f14f19251415ca1000082\\', \\'department\\': \\'Art\\', \\'gender\\': 0, \\'id\\': 7961, \\'job\\': \\'Sculptor\\', \\'name\\': \\'Norm DeCarlo\\', \\'profile_path\\': None}, {\\'credit_id\\': \\'5751ae4bc3a3683772002b7f\\', \\'department\\': \\'Visual Effects\\', \\'gender\\': 2, \\'id\\': 12905, \\'job\\': \\'Animation Director\\', \\'name\\': \\'Ash Brannon\\', \\'profile_path\\': \\'/6ueWgPEEBHvS3De2BHYQnYjRTig.jpg\\'}, {\\'credit_id\\': \\'5891edbe9251412dc5007cd6\\', \\'department\\': \\'Sound\\', \\'gender\\': 2, \\'id\\': 7885, \\'job\\': \\'Music\\', \\'name\\': \\'Randy Newman\\', \\'profile_path\\': \\'/w0JzfoiM25nrnxYOzosPHRq6mlE.jpg\\'}, {\\'credit_id\\': \\'589213d39251412dc8009832\\', \\'department\\': \\'Directing\\', \\'gender\\': 0, \\'id\\': 1748707, \\'job\\': \\'Layout\\', \\'name\\': \\'Roman Figun\\', \\'profile_path\\': None}, {\\'credit_id\\': \\'5892173dc3a3680968009351\\', \\'department\\': \\'Sound\\', \\'gender\\': 2, \\'id\\': 4949, \\'job\\': \\'Orchestrator\\', \\'name\\': \\'Don Davis\\', \\'profile_path\\': None}, {\\'credit_id\\': \\'589217cec3a3686b0a0052ba\\', \\'department\\': \\'Sound\\', \\'gender\\': 0, \\'id\\': 1372885, \\'job\\': \\'Music Editor\\', \\'name\\': \\'James Flamberg\\', \\'profile_path\\': None}, {\\'credit_id\\': \\'58921831c3a3686348004a64\\', \\'department\\': \\'Editing\\', \\'gender\\': 0, \\'id\\': 1739962, \\'job\\': \\'Negative Cutter\\', \\'name\\': \\'Mary Beth Smith\\', \\'profile_path\\': None}, {\\'credit_id\\': \\'58921838c3a36809700096c0\\', \\'department\\': \\'Editing\\', \\'gender\\': 0, \\'id\\': 1748513, \\'job\\': \\'Negative Cutter\\', \\'name\\': \\'Rick Mackay\\', \\'profile_path\\': None}, {\\'credit_id\\': \\'589218429251412dd1009d1b\\', \\'department\\': \\'Art\\', \\'gender\\': 0, \\'id\\': 1458006, \\'job\\': \\'Title Designer\\', \\'name\\': \\'Susan Bradley\\', \\'profile_path\\': None}, {\\'credit_id\\': \\'5891ed99c3a3680966007670\\', \\'department\\': \\'Crew\\', \\'gender\\': 0, \\'id\\': 1748557, \\'job\\': \\'Supervising Technical Director\\', \\'name\\': \\'William Reeves\\', \\'profile_path\\': None}, {\\'credit_id\\': \\'5891edcec3a3686b0a002eb2\\', \\'department\\': \\'Sound\\', \\'gender\\': 2, \\'id\\': 7885, \\'job\\': \\'Songs\\', \\'name\\': \\'Randy Newman\\', \\'profile_path\\': \\'/w0JzfoiM25nrnxYOzosPHRq6mlE.jpg\\'}, {\\'credit_id\\': \\'5891edf9c3a36809700075e6\\', \\'department\\': \\'Writing\\', \\'gender\\': 2, \\'id\\': 7, \\'job\\': \\'Original Story\\', \\'name\\': \\'Andrew Stanton\\', \\'profile_path\\': \\'/pvQWsu0qc8JFQhMVJkTHuexUAa1.jpg\\'}, {\\'credit_id\\': \\'58920f0b9251412dd7009104\\', \\'department\\': \\'Crew\\', \\'gender\\': 2, \\'id\\': 12890, \\'job\\': \\'Supervising Animator\\', \\'name\\': \\'Pete Docter\\', \\'profile_path\\': \\'/r6ngPgnReA3RHmKjmSoVsc6Awjp.jpg\\'}, {\\'credit_id\\': \\'58920f1fc3a3680977009021\\', \\'department\\': \\'Sound\\', \\'gender\\': 2, \\'id\\': 2216, \\'job\\': \\'Sound Designer\\', \\'name\\': \\'Gary Rydstrom\\', \\'profile_path\\': \\'/jZpr1nVfO7lldWI0YtmP1FGw7Rj.jpg\\'}, {\\'credit_id\\': \\'58920f389251412dd700912d\\', \\'department\\': \\'Production\\', \\'gender\\': 0, \\'id\\': 12909, \\'job\\': \\'Production Supervisor\\', \\'name\\': \\'Karen Robert Jackson\\', \\'profile_path\\': None}, {\\'credit_id\\': \\'58920fbd9251412dcb00969c\\', \\'department\\': \\'Crew\\', \\'gender\\': 0, \\'id\\': 953331, \\'job\\': \\'Executive Music Producer\\', \\'name\\': \\'Chris Montan\\', \\'profile_path\\': None}, {\\'credit_id\\': \\'589210069251412dd7009219\\', \\'department\\': \\'Visual Effects\\', \\'gender\\': 0, \\'id\\': 7893, \\'job\\': \\'Animation Director\\', \\'name\\': \\'Rich Quade\\', \\'profile_path\\': None}, {\\'credit_id\\': \\'589210329251412dcd00943b\\', \\'department\\': \\'Visual Effects\\', \\'gender\\': 0, \\'id\\': 8025, \\'job\\': \\'Animation\\', \\'name\\': \\'Michael Berenstein\\', \\'profile_path\\': None}, {\\'credit_id\\': \\'5892103bc3a368096a009180\\', \\'department\\': \\'Visual Effects\\', \\'gender\\': 0, \\'id\\': 78009, \\'job\\': \\'Animation\\', \\'name\\': \\'Colin Brady\\', \\'profile_path\\': None}, {\\'credit_id\\': \\'5892105dc3a3680968008db2\\', \\'department\\': \\'Visual Effects\\', \\'gender\\': 0, \\'id\\': 1748682, \\'job\\': \\'Animation\\', \\'name\\': \\'Davey Crockett Feiten\\', \\'profile_path\\': None}, {\\'credit_id\\': \\'589210669251412dcd009466\\', \\'department\\': \\'Visual Effects\\', \\'gender\\': 0, \\'id\\': 1454030, \\'job\\': \\'Animation\\', \\'name\\': \\'Angie Glocka\\', \\'profile_path\\': None}, {\\'credit_id\\': \\'5892107c9251412dd1009613\\', \\'department\\': \\'Visual Effects\\', \\'gender\\': 0, \\'id\\': 1748683, \\'job\\': \\'Animation\\', \\'name\\': \\'Rex Grignon\\', \\'profile_path\\': None}, {\\'credit_id\\': \\'5892108ac3a3680973008d3f\\', \\'department\\': \\'Visual Effects\\', \\'gender\\': 0, \\'id\\': 1748684, \\'job\\': \\'Animation\\', \\'name\\': \\'Tom K. Gurney\\', \\'profile_path\\': None}, {\\'credit_id\\': \\'58921093c3a3686348004477\\', \\'department\\': \\'Visual Effects\\', \\'gender\\': 2, \\'id\\': 8029, \\'job\\': \\'Animation\\', \\'name\\': \\'Jimmy Hayward\\', \\'profile_path\\': \\'/lTDRpudEY7BDwTefXbXzMlmb0ui.jpg\\'}, {\\'credit_id\\': \\'5892109b9251412dcd0094b0\\', \\'department\\': \\'Visual Effects\\', \\'gender\\': 0, \\'id\\': 1426773, \\'job\\': \\'Animation\\', \\'name\\': \\'Hal T. Hickel\\', \\'profile_path\\': None}, {\\'credit_id\\': \\'589210a29251412dc5009a29\\', \\'department\\': \\'Visual Effects\\', \\'gender\\': 0, \\'id\\': 8035, \\'job\\': \\'Animation\\', \\'name\\': \\'Karen Kiser\\', \\'profile_path\\': None}, {\\'credit_id\\': \\'589210ccc3a3680977009191\\', \\'department\\': \\'Visual Effects\\', \\'gender\\': 0, \\'id\\': 1748688, \\'job\\': \\'Animation\\', \\'name\\': \\'Anthony B. LaMolinara\\', \\'profile_path\\': None}, {\\'credit_id\\': \\'589210d7c3a3686b0a004c1f\\', \\'department\\': \\'Visual Effects\\', \\'gender\\': 0, \\'id\\': 587314, \\'job\\': \\'Animation\\', \\'name\\': \\'Guionne Leroy\\', \\'profile_path\\': None}, {\\'credit_id\\': \\'589210e1c3a36809770091a7\\', \\'department\\': \\'Visual Effects\\', \\'gender\\': 2, \\'id\\': 7918, \\'job\\': \\'Animation\\', \\'name\\': \\'Bud Luckey\\', \\'profile_path\\': \\'/pcCh7G19FKMNijmPQg1PMH1btic.jpg\\'}, {\\'credit_id\\': \\'589210ee9251412dc200978a\\', \\'department\\': \\'Visual Effects\\', \\'gender\\': 0, \\'id\\': 1748689, \\'job\\': \\'Animation\\', \\'name\\': \\'Les Major\\', \\'profile_path\\': None}, {\\'credit_id\\': \\'589210fa9251412dc8009595\\', \\'department\\': \\'Visual Effects\\', \\'gender\\': 2, \\'id\\': 7892, \\'job\\': \\'Animation\\', \\'name\\': \\'Glenn McQueen\\', \\'profile_path\\': None}, {\\'credit_id\\': \\'589211029251412dc8009598\\', \\'department\\': \\'Visual Effects\\', \\'gender\\': 0, \\'id\\': 555795, \\'job\\': \\'Animation\\', \\'name\\': \\'Mark Oftedal\\', \\'profile_path\\': None}, {\\'credit_id\\': \\'5892110b9251412dc800959d\\', \\'department\\': \\'Visual Effects\\', \\'gender\\': 2, \\'id\\': 7882, \\'job\\': \\'Animation\\', \\'name\\': \\'Jeff Pidgeon\\', \\'profile_path\\': \\'/yLddkg5HcgbJg00cS13GVBnP0HY.jpg\\'}, {\\'credit_id\\': \\'58921113c3a36863480044e4\\', \\'department\\': \\'Visual Effects\\', \\'gender\\': 0, \\'id\\': 8017, \\'job\\': \\'Animation\\', \\'name\\': \\'Jeff Pratt\\', \\'profile_path\\': None}, {\\'credit_id\\': \\'5892111c9251412dcb0097e9\\', \\'department\\': \\'Visual Effects\\', \\'gender\\': 0, \\'id\\': 1184140, \\'job\\': \\'Animation\\', \\'name\\': \\'Steve Rabatich\\', \\'profile_path\\': None}, {\\'credit_id\\': \\'58921123c3a36809700090f6\\', \\'department\\': \\'Visual Effects\\', \\'gender\\': 0, \\'id\\': 8049, \\'job\\': \\'Animation\\', \\'name\\': \\'Roger Rose\\', \\'profile_path\\': None}, {\\'credit_id\\': \\'5892112b9251412dcb0097fb\\', \\'department\\': \\'Visual Effects\\', \\'gender\\': 0, \\'id\\': 1509559, \\'job\\': \\'Animation\\', \\'name\\': \\'Steve Segal\\', \\'profile_path\\': None}, {\\'credit_id\\': \\'589211349251412dc80095c3\\', \\'department\\': \\'Visual Effects\\', \\'gender\\': 0, \\'id\\': 1748691, \\'job\\': \\'Animation\\', \\'name\\': \\'Doug Sheppeck\\', \\'profile_path\\': None}, {\\'credit_id\\': \\'5892113cc3a3680970009106\\', \\'department\\': \\'Visual Effects\\', \\'gender\\': 0, \\'id\\': 8050, \\'job\\': \\'Animation\\', \\'name\\': \\'Alan Sperling\\', \\'profile_path\\': None}, {\\'credit_id\\': \\'58921148c3a3686b0a004c99\\', \\'department\\': \\'Visual Effects\\', \\'gender\\': 0, \\'id\\': 8010, \\'job\\': \\'Animation\\', \\'name\\': \\'Doug Sweetland\\', \\'profile_path\\': None}, {\\'credit_id\\': \\'58921150c3a3680966009125\\', \\'department\\': \\'Visual Effects\\', \\'gender\\': 0, \\'id\\': 8044, \\'job\\': \\'Animation\\', \\'name\\': \\'David Tart\\', \\'profile_path\\': None}, {\\'credit_id\\': \\'589211629251412dc5009b00\\', \\'department\\': \\'Visual Effects\\', \\'gender\\': 0, \\'id\\': 1454034, \\'job\\': \\'Animation\\', \\'name\\': \\'Ken Willard\\', \\'profile_path\\': None}, {\\'credit_id\\': \\'589211c1c3a3686b0a004d28\\', \\'department\\': \\'Visual Effects\\', \\'gender\\': 0, \\'id\\': 7887, \\'job\\': \\'Visual Effects Supervisor\\', \\'name\\': \\'Thomas Porter\\', \\'profile_path\\': None}, {\\'credit_id\\': \\'589211d4c3a3680968008ed9\\', \\'department\\': \\'Visual Effects\\', \\'gender\\': 0, \\'id\\': 1406878, \\'job\\': \\'Visual Effects\\', \\'name\\': \\'Mark Thomas Henne\\', \\'profile_path\\': None}, {\\'credit_id\\': \\'589211f59251412dd4008e65\\', \\'department\\': \\'Visual Effects\\', \\'gender\\': 0, \\'id\\': 1748698, \\'job\\': \\'Visual Effects\\', \\'name\\': \\'Oren Jacob\\', \\'profile_path\\': None}, {\\'credit_id\\': \\'58921242c3a368096a00939b\\', \\'department\\': \\'Visual Effects\\', \\'gender\\': 0, \\'id\\': 1748699, \\'job\\': \\'Visual Effects\\', \\'name\\': \\'Darwyn Peachey\\', \\'profile_path\\': None}, {\\'credit_id\\': \\'5892124b9251412dc5009bd2\\', \\'department\\': \\'Visual Effects\\', \\'gender\\': 0, \\'id\\': 1748701, \\'job\\': \\'Visual Effects\\', \\'name\\': \\'Mitch Prater\\', \\'profile_path\\': None}, {\\'credit_id\\': \\'58921264c3a3686b0a004dbf\\', \\'department\\': \\'Visual Effects\\', \\'gender\\': 0, \\'id\\': 1748703, \\'job\\': \\'Visual Effects\\', \\'name\\': \\'Brian M. Rosen\\', \\'profile_path\\': None}, {\\'credit_id\\': \\'589212709251412dcd009676\\', \\'department\\': \\'Lighting\\', \\'gender\\': 1, \\'id\\': 12912, \\'job\\': \\'Lighting Supervisor\\', \\'name\\': \\'Sharon Calahan\\', \\'profile_path\\': None}, {\\'credit_id\\': \\'5892127fc3a3686b0a004de5\\', \\'department\\': \\'Lighting\\', \\'gender\\': 0, \\'id\\': 7899, \\'job\\': \\'Lighting Supervisor\\', \\'name\\': \\'Galyn Susman\\', \\'profile_path\\': None}, {\\'credit_id\\': \\'589212cdc3a3680970009268\\', \\'department\\': \\'Visual Effects\\', \\'gender\\': 0, \\'id\\': 12915, \\'job\\': \\'CG Painter\\', \\'name\\': \\'William Cone\\', \\'profile_path\\': None}, {\\'credit_id\\': \\'5892130f9251412dc8009791\\', \\'department\\': \\'Art\\', \\'gender\\': 0, \\'id\\': 1748705, \\'job\\': \\'Sculptor\\', \\'name\\': \\'Shelley Daniels Lekven\\', \\'profile_path\\': None}, {\\'credit_id\\': \\'5892131c9251412dd4008f4c\\', \\'department\\': \\'Visual Effects\\', \\'gender\\': 2, \\'id\\': 7889, \\'job\\': \\'Character Designer\\', \\'name\\': \\'Bob Pauley\\', \\'profile_path\\': None}, {\\'credit_id\\': \\'589213249251412dd100987b\\', \\'department\\': \\'Visual Effects\\', \\'gender\\': 2, \\'id\\': 7918, \\'job\\': \\'Character Designer\\', \\'name\\': \\'Bud Luckey\\', \\'profile_path\\': \\'/pcCh7G19FKMNijmPQg1PMH1btic.jpg\\'}, {\\'credit_id\\': \\'5892132b9251412dc80097b1\\', \\'department\\': \\'Visual Effects\\', \\'gender\\': 2, \\'id\\': 7, \\'job\\': \\'Character Designer\\', \\'name\\': \\'Andrew Stanton\\', \\'profile_path\\': \\'/pvQWsu0qc8JFQhMVJkTHuexUAa1.jpg\\'}, {\\'credit_id\\': \\'58921332c3a368634800467b\\', \\'department\\': \\'Visual Effects\\', \\'gender\\': 0, \\'id\\': 12915, \\'job\\': \\'Character Designer\\', \\'name\\': \\'William Cone\\', \\'profile_path\\': None}, {\\'credit_id\\': \\'5892135f9251412dd4008f90\\', \\'department\\': \\'Visual Effects\\', \\'gender\\': 0, \\'id\\': 1748706, \\'job\\': \\'Character Designer\\', \\'name\\': \\'Steve Johnson\\', \\'profile_path\\': None}, {\\'credit_id\\': \\'58921384c3a3680973008fd4\\', \\'department\\': \\'Visual Effects\\', \\'gender\\': 0, \\'id\\': 1176752, \\'job\\': \\'Character Designer\\', \\'name\\': \\'Dan Haskett\\', \\'profile_path\\': None}, {\\'credit_id\\': \\'5892138e9251412dc20099fc\\', \\'department\\': \\'Visual Effects\\', \\'gender\\': 0, \\'id\\': 1088034, \\'job\\': \\'Character Designer\\', \\'name\\': \\'Tom Holloway\\', \\'profile_path\\': \\'/a0r0T2usTBpgMI5aZbRBDW1fTl8.jpg\\'}, {\\'credit_id\\': \\'58921395c3a368097700942f\\', \\'department\\': \\'Visual Effects\\', \\'gender\\': 0, \\'id\\': 1447465, \\'job\\': \\'Character Designer\\', \\'name\\': \\'Jean Gillmore\\', \\'profile_path\\': None}, {\\'credit_id\\': \\'589213e2c3a3680973009026\\', \\'department\\': \\'Directing\\', \\'gender\\': 0, \\'id\\': 1748709, \\'job\\': \\'Layout\\', \\'name\\': \\'Desirée Mourad\\', \\'profile_path\\': None}, {\\'credit_id\\': \\'589214099251412dc5009d57\\', \\'department\\': \\'Art\\', \\'gender\\': 0, \\'id\\': 1748710, \\'job\\': \\'Set Dresser\\', \\'name\\': \"Kelly O\\'Connell\", \\'profile_path\\': None}, {\\'credit_id\\': \\'58921411c3a3686b0a004f70\\', \\'department\\': \\'Art\\', \\'gender\\': 0, \\'id\\': 1443471, \\'job\\': \\'Set Dresser\\', \\'name\\': \\'Sonoko Konishi\\', \\'profile_path\\': None}, {\\'credit_id\\': \\'58921434c3a368096a00956e\\', \\'department\\': \\'Art\\', \\'gender\\': 0, \\'id\\': 1748711, \\'job\\': \\'Set Dresser\\', \\'name\\': \\'Ann M. Rockwell\\', \\'profile_path\\': None}, {\\'credit_id\\': \\'5892144ac3a36809680090de\\', \\'department\\': \\'Editing\\', \\'gender\\': 0, \\'id\\': 1748712, \\'job\\': \\'Editorial Manager\\', \\'name\\': \\'Julie M. McDonald\\', \\'profile_path\\': None}, {\\'credit_id\\': \\'58921479c3a368096800910f\\', \\'department\\': \\'Editing\\', \\'gender\\': 0, \\'id\\': 1589729, \\'job\\': \\'Assistant Editor\\', \\'name\\': \\'Robin Lee\\', \\'profile_path\\': None}, {\\'credit_id\\': \\'5892148b9251412dd10099cc\\', \\'department\\': \\'Editing\\', \\'gender\\': 0, \\'id\\': 1748716, \\'job\\': \\'Assistant Editor\\', \\'name\\': \\'Tom Freeman\\', \\'profile_path\\': None}, {\\'credit_id\\': \\'589214959251412dcb009b1f\\', \\'department\\': \\'Editing\\', \\'gender\\': 0, \\'id\\': 1748717, \\'job\\': \\'Assistant Editor\\', \\'name\\': \\'Ada Cochavi\\', \\'profile_path\\': None}, {\\'credit_id\\': \\'5892149ec3a3686348004798\\', \\'department\\': \\'Editing\\', \\'gender\\': 0, \\'id\\': 1336438, \\'job\\': \\'Assistant Editor\\', \\'name\\': \\'Dana Mulligan\\', \\'profile_path\\': None}, {\\'credit_id\\': \\'589214adc3a368096a0095db\\', \\'department\\': \\'Editing\\', \\'gender\\': 0, \\'id\\': 1748718, \\'job\\': \\'Editorial Coordinator\\', \\'name\\': \\'Deirdre Morrison\\', \\'profile_path\\': None}, {\\'credit_id\\': \\'589214c7c3a368097700952b\\', \\'department\\': \\'Production\\', \\'gender\\': 0, \\'id\\': 1748719, \\'job\\': \\'Production Coordinator\\', \\'name\\': \\'Lori Lombardo\\', \\'profile_path\\': None}, {\\'credit_id\\': \\'589214cec3a368096a009603\\', \\'department\\': \\'Production\\', \\'gender\\': 0, \\'id\\': 1748720, \\'job\\': \\'Production Coordinator\\', \\'name\\': \\'Ellen Devine\\', \\'profile_path\\': None}, {\\'credit_id\\': \\'589214e39251412dc8009904\\', \\'department\\': \\'Crew\\', \\'gender\\': 0, \\'id\\': 1468014, \\'job\\': \\'Unit Publicist\\', \\'name\\': \\'Lauren Beth Strogoff\\', \\'profile_path\\': None}, {\\'credit_id\\': \\'58921544c3a3686b0a00507d\\', \\'department\\': \\'Sound\\', \\'gender\\': 2, \\'id\\': 2216, \\'job\\': \\'Sound Re-Recording Mixer\\', \\'name\\': \\'Gary Rydstrom\\', \\'profile_path\\': \\'/jZpr1nVfO7lldWI0YtmP1FGw7Rj.jpg\\'}, {\\'credit_id\\': \\'5892154c9251412dd1009a56\\', \\'department\\': \\'Sound\\', \\'gender\\': 0, \\'id\\': 1425978, \\'job\\': \\'Sound Re-Recording Mixer\\', \\'name\\': \\'Gary Summers\\', \\'profile_path\\': None}, {\\'credit_id\\': \\'58921555c3a36809680091bd\\', \\'department\\': \\'Sound\\', \\'gender\\': 2, \\'id\\': 8276, \\'job\\': \\'Supervising Sound Editor\\', \\'name\\': \\'Tim Holland\\', \\'profile_path\\': None}, {\\'credit_id\\': \\'589215c39251412dcb009c12\\', \\'department\\': \\'Sound\\', \\'gender\\': 0, \\'id\\': 7069, \\'job\\': \\'Sound Effects Editor\\', \\'name\\': \\'Pat Jackson\\', \\'profile_path\\': None}, {\\'credit_id\\': \\'58921698c3a368096a009788\\', \\'department\\': \\'Crew\\', \\'gender\\': 2, \\'id\\': 15894, \\'job\\': \\'Sound Design Assistant\\', \\'name\\': \\'Tom Myers\\', \\'profile_path\\': None}, {\\'credit_id\\': \\'589216a89251412dc2009ca4\\', \\'department\\': \\'Sound\\', \\'gender\\': 0, \\'id\\': 1414177, \\'job\\': \\'Assistant Sound Editor\\', \\'name\\': \\'J.R. Grubbs\\', \\'profile_path\\': None}, {\\'credit_id\\': \\'589216c19251412dc2009cb9\\', \\'department\\': \\'Sound\\', \\'gender\\': 1, \\'id\\': 1748724, \\'job\\': \\'Assistant Sound Editor\\', \\'name\\': \\'Susan Sanford\\', \\'profile_path\\': None}, {\\'credit_id\\': \\'589216ccc3a3680973009274\\', \\'department\\': \\'Sound\\', \\'gender\\': 0, \\'id\\': 1748725, \\'job\\': \\'Assistant Sound Editor\\', \\'name\\': \\'Susan Popovic\\', \\'profile_path\\': None}, {\\'credit_id\\': \\'589216d79251412dc8009aa0\\', \\'department\\': \\'Sound\\', \\'gender\\': 0, \\'id\\': 8067, \\'job\\': \\'Assistant Sound Editor\\', \\'name\\': \\'Dan Engstrom\\', \\'profile_path\\': None}, {\\'credit_id\\': \\'589216e49251412dcd009a4f\\', \\'department\\': \\'Production\\', \\'gender\\': 1, \\'id\\': 7902, \\'job\\': \\'Casting Consultant\\', \\'name\\': \\'Ruth Lambert\\', \\'profile_path\\': None}, {\\'credit_id\\': \\'589216f39251412dc2009cf3\\', \\'department\\': \\'Production\\', \\'gender\\': 0, \\'id\\': 84493, \\'job\\': \\'ADR Voice Casting\\', \\'name\\': \\'Mickie McGowan\\', \\'profile_path\\': \\'/k7TjJBfINsg8vLQxJwos6XObAD6.jpg\\'}]'"
            ]
          },
          "metadata": {},
          "execution_count": 22
        }
      ]
    },
    {
      "cell_type": "code",
      "metadata": {
        "id": "2j5kAama2YEj"
      },
      "source": [
        "# [entry['name'] for entry in ast.literal_eval(credits.crew[0])]"
      ],
      "execution_count": 23,
      "outputs": []
    },
    {
      "cell_type": "code",
      "metadata": {
        "id": "R4k0a18V2muN"
      },
      "source": [
        "credits['crew'] = credits.crew.apply(set_list_to_string, idx='name', to=4)"
      ],
      "execution_count": 24,
      "outputs": []
    },
    {
      "cell_type": "code",
      "metadata": {
        "colab": {
          "base_uri": "https://localhost:8080/"
        },
        "id": "qt17Y5eX2ml7",
        "outputId": "d5e4ba65-6535-4cad-9cea-cb6df78369eb"
      },
      "source": [
        "credits.crew[0]"
      ],
      "execution_count": 25,
      "outputs": [
        {
          "output_type": "execute_result",
          "data": {
            "text/plain": [
              "['John_Lasseter', 'Joss_Whedon', 'Andrew_Stanton', 'Joel_Cohen']"
            ]
          },
          "metadata": {},
          "execution_count": 25
        }
      ]
    },
    {
      "cell_type": "code",
      "metadata": {
        "id": "ui98ERcXAV1t"
      },
      "source": [
        "credits['crew'] = credits['crew'].apply(listToString)"
      ],
      "execution_count": 26,
      "outputs": []
    },
    {
      "cell_type": "code",
      "metadata": {
        "id": "ZX5srDEI9hVm"
      },
      "source": [
        "credits['number_of_named_crews'] = credits['crew'].apply(len)"
      ],
      "execution_count": 27,
      "outputs": []
    },
    {
      "cell_type": "code",
      "metadata": {
        "colab": {
          "base_uri": "https://localhost:8080/",
          "height": 329
        },
        "id": "Smtr1OyANo_O",
        "outputId": "84be1ef9-34de-466b-da10-94f588ed2ca1"
      },
      "source": [
        "credits.head(3)"
      ],
      "execution_count": 28,
      "outputs": [
        {
          "output_type": "execute_result",
          "data": {
            "text/html": [
              "<div>\n",
              "<style scoped>\n",
              "    .dataframe tbody tr th:only-of-type {\n",
              "        vertical-align: middle;\n",
              "    }\n",
              "\n",
              "    .dataframe tbody tr th {\n",
              "        vertical-align: top;\n",
              "    }\n",
              "\n",
              "    .dataframe thead th {\n",
              "        text-align: right;\n",
              "    }\n",
              "</style>\n",
              "<table border=\"1\" class=\"dataframe\">\n",
              "  <thead>\n",
              "    <tr style=\"text-align: right;\">\n",
              "      <th></th>\n",
              "      <th>cast</th>\n",
              "      <th>crew</th>\n",
              "      <th>id</th>\n",
              "      <th>actors</th>\n",
              "      <th>number_of_named_actors</th>\n",
              "      <th>number_of_named_crews</th>\n",
              "    </tr>\n",
              "  </thead>\n",
              "  <tbody>\n",
              "    <tr>\n",
              "      <th>0</th>\n",
              "      <td>[{'cast_id': 14, 'character': 'Woody (voice)',...</td>\n",
              "      <td>John_Lasseter Joss_Whedon Andrew_Stanton Joel_...</td>\n",
              "      <td>862</td>\n",
              "      <td>Tom_Hanks Tim_Allen Don_Rickles Jim_Varney Wal...</td>\n",
              "      <td>8</td>\n",
              "      <td>51</td>\n",
              "    </tr>\n",
              "    <tr>\n",
              "      <th>1</th>\n",
              "      <td>[{'cast_id': 1, 'character': 'Alan Parrish', '...</td>\n",
              "      <td>Larry_J_Franco Jonathan_Hensleigh James_Horner...</td>\n",
              "      <td>8844</td>\n",
              "      <td>Robin_Williams Jonathan_Hyde Kirsten_Dunst Bra...</td>\n",
              "      <td>8</td>\n",
              "      <td>59</td>\n",
              "    </tr>\n",
              "    <tr>\n",
              "      <th>2</th>\n",
              "      <td>[{'cast_id': 2, 'character': 'Max Goldman', 'c...</td>\n",
              "      <td>Howard_Deutch Mark_Steven_Johnson Mark_Steven_...</td>\n",
              "      <td>15602</td>\n",
              "      <td>Walter_Matthau Jack_Lemmon AnnMargret Sophia_L...</td>\n",
              "      <td>7</td>\n",
              "      <td>65</td>\n",
              "    </tr>\n",
              "  </tbody>\n",
              "</table>\n",
              "</div>"
            ],
            "text/plain": [
              "                                                cast  ... number_of_named_crews\n",
              "0  [{'cast_id': 14, 'character': 'Woody (voice)',...  ...                    51\n",
              "1  [{'cast_id': 1, 'character': 'Alan Parrish', '...  ...                    59\n",
              "2  [{'cast_id': 2, 'character': 'Max Goldman', 'c...  ...                    65\n",
              "\n",
              "[3 rows x 6 columns]"
            ]
          },
          "metadata": {},
          "execution_count": 28
        }
      ]
    },
    {
      "cell_type": "code",
      "metadata": {
        "id": "u76-Iv_V_gvf"
      },
      "source": [
        "# vectorizer = CountVectorizer(min_df=50)\n",
        "# corpus = [word for string in credits['crew'].values for word in string.split(' ')]\n",
        "# vectorizer.fit(corpus)\n",
        "# credits['crews_vec'] = credits['crew'].apply(lambda x: [x]).apply(vectorizer.transform)"
      ],
      "execution_count": 29,
      "outputs": []
    },
    {
      "cell_type": "code",
      "metadata": {
        "id": "xVQmGp-h_m0C"
      },
      "source": [
        "# credits['crews_vec'][4]"
      ],
      "execution_count": 30,
      "outputs": []
    },
    {
      "cell_type": "code",
      "metadata": {
        "id": "dgFn8xMxvxnR"
      },
      "source": [
        "credits = credits.drop(['cast'], axis=1)"
      ],
      "execution_count": 31,
      "outputs": []
    },
    {
      "cell_type": "markdown",
      "metadata": {
        "id": "qyA1XVoNvpT2"
      },
      "source": [
        "### EDA를 거친 credits 모습"
      ]
    },
    {
      "cell_type": "code",
      "metadata": {
        "colab": {
          "base_uri": "https://localhost:8080/",
          "height": 244
        },
        "id": "i6pJzZV49U52",
        "outputId": "9f934652-a742-41ad-8b51-7ef136b08e98"
      },
      "source": [
        "credits.head(3)"
      ],
      "execution_count": 32,
      "outputs": [
        {
          "output_type": "execute_result",
          "data": {
            "text/html": [
              "<div>\n",
              "<style scoped>\n",
              "    .dataframe tbody tr th:only-of-type {\n",
              "        vertical-align: middle;\n",
              "    }\n",
              "\n",
              "    .dataframe tbody tr th {\n",
              "        vertical-align: top;\n",
              "    }\n",
              "\n",
              "    .dataframe thead th {\n",
              "        text-align: right;\n",
              "    }\n",
              "</style>\n",
              "<table border=\"1\" class=\"dataframe\">\n",
              "  <thead>\n",
              "    <tr style=\"text-align: right;\">\n",
              "      <th></th>\n",
              "      <th>crew</th>\n",
              "      <th>id</th>\n",
              "      <th>actors</th>\n",
              "      <th>number_of_named_actors</th>\n",
              "      <th>number_of_named_crews</th>\n",
              "    </tr>\n",
              "  </thead>\n",
              "  <tbody>\n",
              "    <tr>\n",
              "      <th>0</th>\n",
              "      <td>John_Lasseter Joss_Whedon Andrew_Stanton Joel_...</td>\n",
              "      <td>862</td>\n",
              "      <td>Tom_Hanks Tim_Allen Don_Rickles Jim_Varney Wal...</td>\n",
              "      <td>8</td>\n",
              "      <td>51</td>\n",
              "    </tr>\n",
              "    <tr>\n",
              "      <th>1</th>\n",
              "      <td>Larry_J_Franco Jonathan_Hensleigh James_Horner...</td>\n",
              "      <td>8844</td>\n",
              "      <td>Robin_Williams Jonathan_Hyde Kirsten_Dunst Bra...</td>\n",
              "      <td>8</td>\n",
              "      <td>59</td>\n",
              "    </tr>\n",
              "    <tr>\n",
              "      <th>2</th>\n",
              "      <td>Howard_Deutch Mark_Steven_Johnson Mark_Steven_...</td>\n",
              "      <td>15602</td>\n",
              "      <td>Walter_Matthau Jack_Lemmon AnnMargret Sophia_L...</td>\n",
              "      <td>7</td>\n",
              "      <td>65</td>\n",
              "    </tr>\n",
              "  </tbody>\n",
              "</table>\n",
              "</div>"
            ],
            "text/plain": [
              "                                                crew  ...  number_of_named_crews\n",
              "0  John_Lasseter Joss_Whedon Andrew_Stanton Joel_...  ...                     51\n",
              "1  Larry_J_Franco Jonathan_Hensleigh James_Horner...  ...                     59\n",
              "2  Howard_Deutch Mark_Steven_Johnson Mark_Steven_...  ...                     65\n",
              "\n",
              "[3 rows x 5 columns]"
            ]
          },
          "metadata": {},
          "execution_count": 32
        }
      ]
    },
    {
      "cell_type": "markdown",
      "metadata": {
        "id": "m34yF8NYG5ut"
      },
      "source": [
        "## keywords : 극 중 키워드 단어를 담고있는 dataframe\n",
        "-> keyword_name에 극 중 키워드 단어를 처리하기 쉬운 형태로 저장한다.\n",
        "\n",
        "#### 과연 키워드가 영화 판매수익에 영향을 미칠까?"
      ]
    },
    {
      "cell_type": "code",
      "metadata": {
        "colab": {
          "base_uri": "https://localhost:8080/"
        },
        "id": "4o0vjUVB6Cgb",
        "outputId": "3053133b-8639-49c5-8cd5-efd78e8d88fc"
      },
      "source": [
        "[entry['name'] for entry in  ast.literal_eval(keywords.keywords[0])]"
      ],
      "execution_count": 33,
      "outputs": [
        {
          "output_type": "execute_result",
          "data": {
            "text/plain": [
              "['jealousy',\n",
              " 'toy',\n",
              " 'boy',\n",
              " 'friendship',\n",
              " 'friends',\n",
              " 'rivalry',\n",
              " 'boy next door',\n",
              " 'new toy',\n",
              " 'toy comes to life']"
            ]
          },
          "metadata": {},
          "execution_count": 33
        }
      ]
    },
    {
      "cell_type": "code",
      "metadata": {
        "id": "jFhKLDh6O4uo"
      },
      "source": [
        "keywords['keywords'] = keywords.keywords.apply(set_list_to_string, idx='name', to=0)"
      ],
      "execution_count": 34,
      "outputs": []
    },
    {
      "cell_type": "code",
      "metadata": {
        "colab": {
          "base_uri": "https://localhost:8080/",
          "height": 0
        },
        "id": "fL6cHQp30xHa",
        "outputId": "d7625801-783f-4abf-a381-01c499142507"
      },
      "source": [
        "keywords.head(3)"
      ],
      "execution_count": 35,
      "outputs": [
        {
          "output_type": "execute_result",
          "data": {
            "text/html": [
              "<div>\n",
              "<style scoped>\n",
              "    .dataframe tbody tr th:only-of-type {\n",
              "        vertical-align: middle;\n",
              "    }\n",
              "\n",
              "    .dataframe tbody tr th {\n",
              "        vertical-align: top;\n",
              "    }\n",
              "\n",
              "    .dataframe thead th {\n",
              "        text-align: right;\n",
              "    }\n",
              "</style>\n",
              "<table border=\"1\" class=\"dataframe\">\n",
              "  <thead>\n",
              "    <tr style=\"text-align: right;\">\n",
              "      <th></th>\n",
              "      <th>id</th>\n",
              "      <th>keywords</th>\n",
              "    </tr>\n",
              "  </thead>\n",
              "  <tbody>\n",
              "    <tr>\n",
              "      <th>0</th>\n",
              "      <td>862</td>\n",
              "      <td>[jealousy, toy, boy, friendship, friends, riva...</td>\n",
              "    </tr>\n",
              "    <tr>\n",
              "      <th>1</th>\n",
              "      <td>8844</td>\n",
              "      <td>[board_game, disappearance, based_on_childrens...</td>\n",
              "    </tr>\n",
              "    <tr>\n",
              "      <th>2</th>\n",
              "      <td>15602</td>\n",
              "      <td>[fishing, best_friend, duringcreditsstinger, o...</td>\n",
              "    </tr>\n",
              "  </tbody>\n",
              "</table>\n",
              "</div>"
            ],
            "text/plain": [
              "      id                                           keywords\n",
              "0    862  [jealousy, toy, boy, friendship, friends, riva...\n",
              "1   8844  [board_game, disappearance, based_on_childrens...\n",
              "2  15602  [fishing, best_friend, duringcreditsstinger, o..."
            ]
          },
          "metadata": {},
          "execution_count": 35
        }
      ]
    },
    {
      "cell_type": "code",
      "metadata": {
        "colab": {
          "base_uri": "https://localhost:8080/"
        },
        "id": "yO0tQwM4xEpX",
        "outputId": "f62589c3-1e57-4278-c76b-39d9e3206304"
      },
      "source": [
        "keyword_zip = []\n",
        "keyword_zip = keyword_zip.append(keywords['keywords'].iloc[1])\n",
        "print(keyword_zip)"
      ],
      "execution_count": 36,
      "outputs": [
        {
          "output_type": "stream",
          "name": "stdout",
          "text": [
            "None\n"
          ]
        }
      ]
    },
    {
      "cell_type": "code",
      "metadata": {
        "colab": {
          "base_uri": "https://localhost:8080/",
          "height": 0
        },
        "id": "hrM9M7iBPgiq",
        "outputId": "d36aeca8-4eb8-46cc-e9fc-77ba70bfa88c"
      },
      "source": [
        "keywords['keywords'] = keywords['keywords'].apply(listToString)\n",
        "keywords.head(3)"
      ],
      "execution_count": 37,
      "outputs": [
        {
          "output_type": "execute_result",
          "data": {
            "text/html": [
              "<div>\n",
              "<style scoped>\n",
              "    .dataframe tbody tr th:only-of-type {\n",
              "        vertical-align: middle;\n",
              "    }\n",
              "\n",
              "    .dataframe tbody tr th {\n",
              "        vertical-align: top;\n",
              "    }\n",
              "\n",
              "    .dataframe thead th {\n",
              "        text-align: right;\n",
              "    }\n",
              "</style>\n",
              "<table border=\"1\" class=\"dataframe\">\n",
              "  <thead>\n",
              "    <tr style=\"text-align: right;\">\n",
              "      <th></th>\n",
              "      <th>id</th>\n",
              "      <th>keywords</th>\n",
              "    </tr>\n",
              "  </thead>\n",
              "  <tbody>\n",
              "    <tr>\n",
              "      <th>0</th>\n",
              "      <td>862</td>\n",
              "      <td>jealousy toy boy friendship friends rivalry bo...</td>\n",
              "    </tr>\n",
              "    <tr>\n",
              "      <th>1</th>\n",
              "      <td>8844</td>\n",
              "      <td>board_game disappearance based_on_childrens_bo...</td>\n",
              "    </tr>\n",
              "    <tr>\n",
              "      <th>2</th>\n",
              "      <td>15602</td>\n",
              "      <td>fishing best_friend duringcreditsstinger old_men</td>\n",
              "    </tr>\n",
              "  </tbody>\n",
              "</table>\n",
              "</div>"
            ],
            "text/plain": [
              "      id                                           keywords\n",
              "0    862  jealousy toy boy friendship friends rivalry bo...\n",
              "1   8844  board_game disappearance based_on_childrens_bo...\n",
              "2  15602   fishing best_friend duringcreditsstinger old_men"
            ]
          },
          "metadata": {},
          "execution_count": 37
        }
      ]
    },
    {
      "cell_type": "code",
      "metadata": {
        "colab": {
          "base_uri": "https://localhost:8080/"
        },
        "id": "ixj8i9KiQMLl",
        "outputId": "9e457d48-9636-43db-f88f-7422d241804e"
      },
      "source": [
        "keywords['keywords'].unique()"
      ],
      "execution_count": 38,
      "outputs": [
        {
          "output_type": "execute_result",
          "data": {
            "text/plain": [
              "array(['jealousy toy boy friendship friends rivalry boy_next_door new_toy toy_comes_to_life',\n",
              "       'board_game disappearance based_on_childrens_book new_home recluse giant_insect',\n",
              "       'fishing best_friend duringcreditsstinger old_men', ...,\n",
              "       'blair_witch', 'witch mythology legend serial_killer mockumentary',\n",
              "       'artist play pinoy'], dtype=object)"
            ]
          },
          "metadata": {},
          "execution_count": 38
        }
      ]
    },
    {
      "cell_type": "markdown",
      "metadata": {
        "id": "YYC-gT2fDUxW"
      },
      "source": [
        "## credit과 keywords merge"
      ]
    },
    {
      "cell_type": "code",
      "metadata": {
        "id": "bIkndu_OC8Mw",
        "colab": {
          "base_uri": "https://localhost:8080/",
          "height": 0
        },
        "outputId": "f086719f-00e9-44b9-eef8-bc5ed15f1143"
      },
      "source": [
        "merged_df = pd.merge(credits, keywords, how='inner', on='id')\n",
        "merged_df.head(3)"
      ],
      "execution_count": 39,
      "outputs": [
        {
          "output_type": "execute_result",
          "data": {
            "text/html": [
              "<div>\n",
              "<style scoped>\n",
              "    .dataframe tbody tr th:only-of-type {\n",
              "        vertical-align: middle;\n",
              "    }\n",
              "\n",
              "    .dataframe tbody tr th {\n",
              "        vertical-align: top;\n",
              "    }\n",
              "\n",
              "    .dataframe thead th {\n",
              "        text-align: right;\n",
              "    }\n",
              "</style>\n",
              "<table border=\"1\" class=\"dataframe\">\n",
              "  <thead>\n",
              "    <tr style=\"text-align: right;\">\n",
              "      <th></th>\n",
              "      <th>crew</th>\n",
              "      <th>id</th>\n",
              "      <th>actors</th>\n",
              "      <th>number_of_named_actors</th>\n",
              "      <th>number_of_named_crews</th>\n",
              "      <th>keywords</th>\n",
              "    </tr>\n",
              "  </thead>\n",
              "  <tbody>\n",
              "    <tr>\n",
              "      <th>0</th>\n",
              "      <td>John_Lasseter Joss_Whedon Andrew_Stanton Joel_...</td>\n",
              "      <td>862</td>\n",
              "      <td>Tom_Hanks Tim_Allen Don_Rickles Jim_Varney Wal...</td>\n",
              "      <td>8</td>\n",
              "      <td>51</td>\n",
              "      <td>jealousy toy boy friendship friends rivalry bo...</td>\n",
              "    </tr>\n",
              "    <tr>\n",
              "      <th>1</th>\n",
              "      <td>Larry_J_Franco Jonathan_Hensleigh James_Horner...</td>\n",
              "      <td>8844</td>\n",
              "      <td>Robin_Williams Jonathan_Hyde Kirsten_Dunst Bra...</td>\n",
              "      <td>8</td>\n",
              "      <td>59</td>\n",
              "      <td>board_game disappearance based_on_childrens_bo...</td>\n",
              "    </tr>\n",
              "    <tr>\n",
              "      <th>2</th>\n",
              "      <td>Howard_Deutch Mark_Steven_Johnson Mark_Steven_...</td>\n",
              "      <td>15602</td>\n",
              "      <td>Walter_Matthau Jack_Lemmon AnnMargret Sophia_L...</td>\n",
              "      <td>7</td>\n",
              "      <td>65</td>\n",
              "      <td>fishing best_friend duringcreditsstinger old_men</td>\n",
              "    </tr>\n",
              "  </tbody>\n",
              "</table>\n",
              "</div>"
            ],
            "text/plain": [
              "                                                crew  ...                                           keywords\n",
              "0  John_Lasseter Joss_Whedon Andrew_Stanton Joel_...  ...  jealousy toy boy friendship friends rivalry bo...\n",
              "1  Larry_J_Franco Jonathan_Hensleigh James_Horner...  ...  board_game disappearance based_on_childrens_bo...\n",
              "2  Howard_Deutch Mark_Steven_Johnson Mark_Steven_...  ...   fishing best_friend duringcreditsstinger old_men\n",
              "\n",
              "[3 rows x 6 columns]"
            ]
          },
          "metadata": {},
          "execution_count": 39
        }
      ]
    },
    {
      "cell_type": "markdown",
      "metadata": {
        "id": "a3uFNqmkHJfO"
      },
      "source": [
        "## links : 극 중 키워드 단어를 담고있는 dataframe\n",
        "-> keyword_name에 극 중 키워드 단어를 처리하기 쉬운 형태로 저장한다.\n",
        "\n",
        "#### 과연 키워드가 영화 판매수익에 영향을 미칠까?"
      ]
    },
    {
      "cell_type": "code",
      "metadata": {
        "id": "O8vuDnEb1dph",
        "colab": {
          "base_uri": "https://localhost:8080/",
          "height": 0
        },
        "outputId": "db85f5b7-2652-49d0-a592-8402ce5296af"
      },
      "source": [
        "links.columns = ['movieId', 'imdbId', 'id']\n",
        "links.head(1)"
      ],
      "execution_count": 40,
      "outputs": [
        {
          "output_type": "execute_result",
          "data": {
            "text/html": [
              "<div>\n",
              "<style scoped>\n",
              "    .dataframe tbody tr th:only-of-type {\n",
              "        vertical-align: middle;\n",
              "    }\n",
              "\n",
              "    .dataframe tbody tr th {\n",
              "        vertical-align: top;\n",
              "    }\n",
              "\n",
              "    .dataframe thead th {\n",
              "        text-align: right;\n",
              "    }\n",
              "</style>\n",
              "<table border=\"1\" class=\"dataframe\">\n",
              "  <thead>\n",
              "    <tr style=\"text-align: right;\">\n",
              "      <th></th>\n",
              "      <th>movieId</th>\n",
              "      <th>imdbId</th>\n",
              "      <th>id</th>\n",
              "    </tr>\n",
              "  </thead>\n",
              "  <tbody>\n",
              "    <tr>\n",
              "      <th>0</th>\n",
              "      <td>1</td>\n",
              "      <td>114709</td>\n",
              "      <td>862.0</td>\n",
              "    </tr>\n",
              "  </tbody>\n",
              "</table>\n",
              "</div>"
            ],
            "text/plain": [
              "   movieId  imdbId     id\n",
              "0        1  114709  862.0"
            ]
          },
          "metadata": {},
          "execution_count": 40
        }
      ]
    },
    {
      "cell_type": "code",
      "metadata": {
        "id": "cRxpmuSqTJtb"
      },
      "source": [
        "links = links.drop_duplicates()"
      ],
      "execution_count": 41,
      "outputs": []
    },
    {
      "cell_type": "code",
      "metadata": {
        "colab": {
          "base_uri": "https://localhost:8080/"
        },
        "id": "_1i0tlbLTTLj",
        "outputId": "8d0f7773-6770-465a-b6d4-11cbeed086e4"
      },
      "source": [
        "links.isnull().sum()"
      ],
      "execution_count": 42,
      "outputs": [
        {
          "output_type": "execute_result",
          "data": {
            "text/plain": [
              "movieId      0\n",
              "imdbId       0\n",
              "id         222\n",
              "dtype: int64"
            ]
          },
          "metadata": {},
          "execution_count": 42
        }
      ]
    },
    {
      "cell_type": "markdown",
      "metadata": {
        "id": "yePHVwvVGtQp"
      },
      "source": [
        "## merge\n"
      ]
    },
    {
      "cell_type": "code",
      "metadata": {
        "id": "ZcBMWYP6DzD8",
        "colab": {
          "base_uri": "https://localhost:8080/",
          "height": 0
        },
        "outputId": "46b1f6b3-b4e2-47e8-b286-e6f5a412da75"
      },
      "source": [
        "merged_df = pd.merge(merged_df, links, how='inner', on='id')\n",
        "merged_df.head(3)"
      ],
      "execution_count": 43,
      "outputs": [
        {
          "output_type": "execute_result",
          "data": {
            "text/html": [
              "<div>\n",
              "<style scoped>\n",
              "    .dataframe tbody tr th:only-of-type {\n",
              "        vertical-align: middle;\n",
              "    }\n",
              "\n",
              "    .dataframe tbody tr th {\n",
              "        vertical-align: top;\n",
              "    }\n",
              "\n",
              "    .dataframe thead th {\n",
              "        text-align: right;\n",
              "    }\n",
              "</style>\n",
              "<table border=\"1\" class=\"dataframe\">\n",
              "  <thead>\n",
              "    <tr style=\"text-align: right;\">\n",
              "      <th></th>\n",
              "      <th>crew</th>\n",
              "      <th>id</th>\n",
              "      <th>actors</th>\n",
              "      <th>number_of_named_actors</th>\n",
              "      <th>number_of_named_crews</th>\n",
              "      <th>keywords</th>\n",
              "      <th>movieId</th>\n",
              "      <th>imdbId</th>\n",
              "    </tr>\n",
              "  </thead>\n",
              "  <tbody>\n",
              "    <tr>\n",
              "      <th>0</th>\n",
              "      <td>John_Lasseter Joss_Whedon Andrew_Stanton Joel_...</td>\n",
              "      <td>862</td>\n",
              "      <td>Tom_Hanks Tim_Allen Don_Rickles Jim_Varney Wal...</td>\n",
              "      <td>8</td>\n",
              "      <td>51</td>\n",
              "      <td>jealousy toy boy friendship friends rivalry bo...</td>\n",
              "      <td>1</td>\n",
              "      <td>114709</td>\n",
              "    </tr>\n",
              "    <tr>\n",
              "      <th>1</th>\n",
              "      <td>Larry_J_Franco Jonathan_Hensleigh James_Horner...</td>\n",
              "      <td>8844</td>\n",
              "      <td>Robin_Williams Jonathan_Hyde Kirsten_Dunst Bra...</td>\n",
              "      <td>8</td>\n",
              "      <td>59</td>\n",
              "      <td>board_game disappearance based_on_childrens_bo...</td>\n",
              "      <td>2</td>\n",
              "      <td>113497</td>\n",
              "    </tr>\n",
              "    <tr>\n",
              "      <th>2</th>\n",
              "      <td>Howard_Deutch Mark_Steven_Johnson Mark_Steven_...</td>\n",
              "      <td>15602</td>\n",
              "      <td>Walter_Matthau Jack_Lemmon AnnMargret Sophia_L...</td>\n",
              "      <td>7</td>\n",
              "      <td>65</td>\n",
              "      <td>fishing best_friend duringcreditsstinger old_men</td>\n",
              "      <td>3</td>\n",
              "      <td>113228</td>\n",
              "    </tr>\n",
              "  </tbody>\n",
              "</table>\n",
              "</div>"
            ],
            "text/plain": [
              "                                                crew     id  ... movieId  imdbId\n",
              "0  John_Lasseter Joss_Whedon Andrew_Stanton Joel_...    862  ...       1  114709\n",
              "1  Larry_J_Franco Jonathan_Hensleigh James_Horner...   8844  ...       2  113497\n",
              "2  Howard_Deutch Mark_Steven_Johnson Mark_Steven_...  15602  ...       3  113228\n",
              "\n",
              "[3 rows x 8 columns]"
            ]
          },
          "metadata": {},
          "execution_count": 43
        }
      ]
    },
    {
      "cell_type": "markdown",
      "metadata": {
        "id": "cAQWLIwtJgdr"
      },
      "source": [
        "## movies_metadata : 영화에 대한 정보를 담고있는 dataframe\n",
        "-> 예측할 때 필요한 정보만 남겨놓았다.\n",
        "\n",
        "#### 과연 예산과 장르, 상영시간, 판매회사가 영화 판매수익에 영향을 미칠까?"
      ]
    },
    {
      "cell_type": "markdown",
      "metadata": {
        "id": "mtEKHtHxu-te"
      },
      "source": [
        "+ movies_metadata에서 필요없는 컬럼 삭제 ( ['original_language', 'original_title', 'overview', 'poster_path', 'tagline'] )\n",
        "+ homepage컬럼은 유/무로 판단(있다면 1, 없다면 0)\n",
        "+ spoken_languages는 언어가 몇가지인지로 적는다. ( 이 영화에 대한 기대감과 투자의 정도를 알 수 있을 것이다. )"
      ]
    },
    {
      "cell_type": "code",
      "metadata": {
        "colab": {
          "base_uri": "https://localhost:8080/"
        },
        "id": "C8pNSF-1Lrng",
        "outputId": "75483779-7a17-45c3-b86f-a251ec3979c5"
      },
      "source": [
        "movies_metadata.duplicated().sum()"
      ],
      "execution_count": 44,
      "outputs": [
        {
          "output_type": "execute_result",
          "data": {
            "text/plain": [
              "13"
            ]
          },
          "metadata": {},
          "execution_count": 44
        }
      ]
    },
    {
      "cell_type": "code",
      "metadata": {
        "id": "iNGsTOfAMen2"
      },
      "source": [
        "movies_metadata = movies_metadata.drop_duplicates()"
      ],
      "execution_count": 45,
      "outputs": []
    },
    {
      "cell_type": "code",
      "metadata": {
        "id": "7onqjCf41dfX",
        "colab": {
          "base_uri": "https://localhost:8080/",
          "height": 0
        },
        "outputId": "70921e15-8805-496f-d73d-703527486d12"
      },
      "source": [
        "print(movies_metadata.shape)\n",
        "movies_metadata.head(2)"
      ],
      "execution_count": 46,
      "outputs": [
        {
          "output_type": "stream",
          "name": "stdout",
          "text": [
            "(45453, 24)\n"
          ]
        },
        {
          "output_type": "execute_result",
          "data": {
            "text/html": [
              "<div>\n",
              "<style scoped>\n",
              "    .dataframe tbody tr th:only-of-type {\n",
              "        vertical-align: middle;\n",
              "    }\n",
              "\n",
              "    .dataframe tbody tr th {\n",
              "        vertical-align: top;\n",
              "    }\n",
              "\n",
              "    .dataframe thead th {\n",
              "        text-align: right;\n",
              "    }\n",
              "</style>\n",
              "<table border=\"1\" class=\"dataframe\">\n",
              "  <thead>\n",
              "    <tr style=\"text-align: right;\">\n",
              "      <th></th>\n",
              "      <th>adult</th>\n",
              "      <th>belongs_to_collection</th>\n",
              "      <th>budget</th>\n",
              "      <th>genres</th>\n",
              "      <th>homepage</th>\n",
              "      <th>id</th>\n",
              "      <th>imdb_id</th>\n",
              "      <th>original_language</th>\n",
              "      <th>original_title</th>\n",
              "      <th>overview</th>\n",
              "      <th>popularity</th>\n",
              "      <th>poster_path</th>\n",
              "      <th>production_companies</th>\n",
              "      <th>production_countries</th>\n",
              "      <th>release_date</th>\n",
              "      <th>revenue</th>\n",
              "      <th>runtime</th>\n",
              "      <th>spoken_languages</th>\n",
              "      <th>status</th>\n",
              "      <th>tagline</th>\n",
              "      <th>title</th>\n",
              "      <th>video</th>\n",
              "      <th>vote_average</th>\n",
              "      <th>vote_count</th>\n",
              "    </tr>\n",
              "  </thead>\n",
              "  <tbody>\n",
              "    <tr>\n",
              "      <th>0</th>\n",
              "      <td>False</td>\n",
              "      <td>{'id': 10194, 'name': 'Toy Story Collection', ...</td>\n",
              "      <td>30000000</td>\n",
              "      <td>[{'id': 16, 'name': 'Animation'}, {'id': 35, '...</td>\n",
              "      <td>http://toystory.disney.com/toy-story</td>\n",
              "      <td>862</td>\n",
              "      <td>tt0114709</td>\n",
              "      <td>en</td>\n",
              "      <td>Toy Story</td>\n",
              "      <td>Led by Woody, Andy's toys live happily in his ...</td>\n",
              "      <td>21.9469</td>\n",
              "      <td>/rhIRbceoE9lR4veEXuwCC2wARtG.jpg</td>\n",
              "      <td>[{'name': 'Pixar Animation Studios', 'id': 3}]</td>\n",
              "      <td>[{'iso_3166_1': 'US', 'name': 'United States o...</td>\n",
              "      <td>1995-10-30</td>\n",
              "      <td>373554033.0</td>\n",
              "      <td>81.0</td>\n",
              "      <td>[{'iso_639_1': 'en', 'name': 'English'}]</td>\n",
              "      <td>Released</td>\n",
              "      <td>NaN</td>\n",
              "      <td>Toy Story</td>\n",
              "      <td>False</td>\n",
              "      <td>7.7</td>\n",
              "      <td>5415.0</td>\n",
              "    </tr>\n",
              "    <tr>\n",
              "      <th>1</th>\n",
              "      <td>False</td>\n",
              "      <td>NaN</td>\n",
              "      <td>65000000</td>\n",
              "      <td>[{'id': 12, 'name': 'Adventure'}, {'id': 14, '...</td>\n",
              "      <td>NaN</td>\n",
              "      <td>8844</td>\n",
              "      <td>tt0113497</td>\n",
              "      <td>en</td>\n",
              "      <td>Jumanji</td>\n",
              "      <td>When siblings Judy and Peter discover an encha...</td>\n",
              "      <td>17.0155</td>\n",
              "      <td>/vzmL6fP7aPKNKPRTFnZmiUfciyV.jpg</td>\n",
              "      <td>[{'name': 'TriStar Pictures', 'id': 559}, {'na...</td>\n",
              "      <td>[{'iso_3166_1': 'US', 'name': 'United States o...</td>\n",
              "      <td>1995-12-15</td>\n",
              "      <td>262797249.0</td>\n",
              "      <td>104.0</td>\n",
              "      <td>[{'iso_639_1': 'en', 'name': 'English'}, {'iso...</td>\n",
              "      <td>Released</td>\n",
              "      <td>Roll the dice and unleash the excitement!</td>\n",
              "      <td>Jumanji</td>\n",
              "      <td>False</td>\n",
              "      <td>6.9</td>\n",
              "      <td>2413.0</td>\n",
              "    </tr>\n",
              "  </tbody>\n",
              "</table>\n",
              "</div>"
            ],
            "text/plain": [
              "   adult  ... vote_count\n",
              "0  False  ...     5415.0\n",
              "1  False  ...     2413.0\n",
              "\n",
              "[2 rows x 24 columns]"
            ]
          },
          "metadata": {},
          "execution_count": 46
        }
      ]
    },
    {
      "cell_type": "code",
      "metadata": {
        "id": "25hmLDV9FSWh",
        "colab": {
          "base_uri": "https://localhost:8080/"
        },
        "outputId": "e0ab7698-3e3b-41e3-9862-139ad9669a19"
      },
      "source": [
        "print(movies_metadata.revenue.mean())\n",
        "print(movies_metadata.revenue.median())\n",
        "movies_metadata.status.unique()"
      ],
      "execution_count": 47,
      "outputs": [
        {
          "output_type": "stream",
          "name": "stdout",
          "text": [
            "11212544.046889784\n",
            "0.0\n"
          ]
        },
        {
          "output_type": "execute_result",
          "data": {
            "text/plain": [
              "array(['Released', nan, 'Rumored', 'Post Production', 'In Production',\n",
              "       'Planned', 'Canceled'], dtype=object)"
            ]
          },
          "metadata": {},
          "execution_count": 47
        }
      ]
    },
    {
      "cell_type": "code",
      "metadata": {
        "colab": {
          "base_uri": "https://localhost:8080/"
        },
        "id": "ioT6XKBqOeD7",
        "outputId": "6af73bc8-227f-4019-b163-9162dfdbf658"
      },
      "source": [
        "movies_metadata.isnull().sum()"
      ],
      "execution_count": 48,
      "outputs": [
        {
          "output_type": "execute_result",
          "data": {
            "text/plain": [
              "adult                        0\n",
              "belongs_to_collection    40959\n",
              "budget                       0\n",
              "genres                       0\n",
              "homepage                 37673\n",
              "id                           0\n",
              "imdb_id                     17\n",
              "original_language           11\n",
              "original_title               0\n",
              "overview                   954\n",
              "popularity                   5\n",
              "poster_path                386\n",
              "production_companies         3\n",
              "production_countries         3\n",
              "release_date                87\n",
              "revenue                      6\n",
              "runtime                    263\n",
              "spoken_languages             6\n",
              "status                      87\n",
              "tagline                  25045\n",
              "title                        6\n",
              "video                        6\n",
              "vote_average                 6\n",
              "vote_count                   6\n",
              "dtype: int64"
            ]
          },
          "metadata": {},
          "execution_count": 48
        }
      ]
    },
    {
      "cell_type": "code",
      "metadata": {
        "colab": {
          "base_uri": "https://localhost:8080/"
        },
        "id": "lyUQfWFkBS-l",
        "outputId": "113c43ac-6772-4a03-fd36-f9e8440810e2"
      },
      "source": [
        "movies_metadata.dtypes"
      ],
      "execution_count": 49,
      "outputs": [
        {
          "output_type": "execute_result",
          "data": {
            "text/plain": [
              "adult                     object\n",
              "belongs_to_collection     object\n",
              "budget                    object\n",
              "genres                    object\n",
              "homepage                  object\n",
              "id                        object\n",
              "imdb_id                   object\n",
              "original_language         object\n",
              "original_title            object\n",
              "overview                  object\n",
              "popularity                object\n",
              "poster_path               object\n",
              "production_companies      object\n",
              "production_countries      object\n",
              "release_date              object\n",
              "revenue                  float64\n",
              "runtime                  float64\n",
              "spoken_languages          object\n",
              "status                    object\n",
              "tagline                   object\n",
              "title                     object\n",
              "video                     object\n",
              "vote_average             float64\n",
              "vote_count               float64\n",
              "dtype: object"
            ]
          },
          "metadata": {},
          "execution_count": 49
        }
      ]
    },
    {
      "cell_type": "code",
      "metadata": {
        "colab": {
          "base_uri": "https://localhost:8080/"
        },
        "id": "TSgG4auLBmwb",
        "outputId": "e1af2bc1-3569-43b5-bd10-9879af9fcc4f"
      },
      "source": [
        "def toint(s) :\n",
        "  try :\n",
        "    n = int(s)\n",
        "    return n\n",
        "  except :\n",
        "    print(s)\n",
        "    return s\n",
        "movies_metadata.budget.apply(toint)"
      ],
      "execution_count": 50,
      "outputs": [
        {
          "output_type": "stream",
          "name": "stdout",
          "text": [
            "/ff9qCepilowshEtG2GYWwzt2bs4.jpg\n",
            "/zV8bHuSL6WXoD6FWogP9j4x80bL.jpg\n",
            "/zaSf5OG7V8X8gqFvly88zDdRm46.jpg\n"
          ]
        },
        {
          "output_type": "execute_result",
          "data": {
            "text/plain": [
              "0        30000000\n",
              "1        65000000\n",
              "2               0\n",
              "3        16000000\n",
              "4               0\n",
              "           ...   \n",
              "45461           0\n",
              "45462           0\n",
              "45463           0\n",
              "45464           0\n",
              "45465           0\n",
              "Name: budget, Length: 45453, dtype: object"
            ]
          },
          "metadata": {},
          "execution_count": 50
        }
      ]
    },
    {
      "cell_type": "code",
      "metadata": {
        "colab": {
          "base_uri": "https://localhost:8080/",
          "height": 0
        },
        "id": "EX-_PgplCj-m",
        "outputId": "ce6d1dd5-3fea-4009-a9c9-a717e32a95a0"
      },
      "source": [
        "# 본인의 columns 위치가 아닌 곳에 데이터가 있는 data들 drop\n",
        "movies_metadata[movies_metadata.budget == '/zV8bHuSL6WXoD6FWogP9j4x80bL.jpg']"
      ],
      "execution_count": 51,
      "outputs": [
        {
          "output_type": "execute_result",
          "data": {
            "text/html": [
              "<div>\n",
              "<style scoped>\n",
              "    .dataframe tbody tr th:only-of-type {\n",
              "        vertical-align: middle;\n",
              "    }\n",
              "\n",
              "    .dataframe tbody tr th {\n",
              "        vertical-align: top;\n",
              "    }\n",
              "\n",
              "    .dataframe thead th {\n",
              "        text-align: right;\n",
              "    }\n",
              "</style>\n",
              "<table border=\"1\" class=\"dataframe\">\n",
              "  <thead>\n",
              "    <tr style=\"text-align: right;\">\n",
              "      <th></th>\n",
              "      <th>adult</th>\n",
              "      <th>belongs_to_collection</th>\n",
              "      <th>budget</th>\n",
              "      <th>genres</th>\n",
              "      <th>homepage</th>\n",
              "      <th>id</th>\n",
              "      <th>imdb_id</th>\n",
              "      <th>original_language</th>\n",
              "      <th>original_title</th>\n",
              "      <th>overview</th>\n",
              "      <th>popularity</th>\n",
              "      <th>poster_path</th>\n",
              "      <th>production_companies</th>\n",
              "      <th>production_countries</th>\n",
              "      <th>release_date</th>\n",
              "      <th>revenue</th>\n",
              "      <th>runtime</th>\n",
              "      <th>spoken_languages</th>\n",
              "      <th>status</th>\n",
              "      <th>tagline</th>\n",
              "      <th>title</th>\n",
              "      <th>video</th>\n",
              "      <th>vote_average</th>\n",
              "      <th>vote_count</th>\n",
              "    </tr>\n",
              "  </thead>\n",
              "  <tbody>\n",
              "    <tr>\n",
              "      <th>29503</th>\n",
              "      <td>Rune Balot goes to a casino connected to the ...</td>\n",
              "      <td>1.931659</td>\n",
              "      <td>/zV8bHuSL6WXoD6FWogP9j4x80bL.jpg</td>\n",
              "      <td>[{'name': 'Aniplex', 'id': 2883}, {'name': 'Go...</td>\n",
              "      <td>[{'iso_3166_1': 'US', 'name': 'United States o...</td>\n",
              "      <td>2012-09-29</td>\n",
              "      <td>0</td>\n",
              "      <td>68.0</td>\n",
              "      <td>[{'iso_639_1': 'ja', 'name': '日本語'}]</td>\n",
              "      <td>Released</td>\n",
              "      <td>NaN</td>\n",
              "      <td>Mardock Scramble: The Third Exhaust</td>\n",
              "      <td>False</td>\n",
              "      <td>7.0</td>\n",
              "      <td>12</td>\n",
              "      <td>NaN</td>\n",
              "      <td>NaN</td>\n",
              "      <td>NaN</td>\n",
              "      <td>NaN</td>\n",
              "      <td>NaN</td>\n",
              "      <td>NaN</td>\n",
              "      <td>NaN</td>\n",
              "      <td>NaN</td>\n",
              "      <td>NaN</td>\n",
              "    </tr>\n",
              "  </tbody>\n",
              "</table>\n",
              "</div>"
            ],
            "text/plain": [
              "                                                   adult  ... vote_count\n",
              "29503   Rune Balot goes to a casino connected to the ...  ...        NaN\n",
              "\n",
              "[1 rows x 24 columns]"
            ]
          },
          "metadata": {},
          "execution_count": 51
        }
      ]
    },
    {
      "cell_type": "code",
      "metadata": {
        "colab": {
          "base_uri": "https://localhost:8080/"
        },
        "id": "vPs-LdPAC24A",
        "outputId": "524aaa8a-70d1-4a5f-af37-4fc860b4840b"
      },
      "source": [
        "movies_metadata = movies_metadata.drop(index=movies_metadata[movies_metadata.budget == '/ff9qCepilowshEtG2GYWwzt2bs4.jpg'].index)\n",
        "movies_metadata = movies_metadata.drop(index=movies_metadata[movies_metadata.budget == '/zV8bHuSL6WXoD6FWogP9j4x80bL.jpg'].index)\n",
        "movies_metadata = movies_metadata.drop(index=movies_metadata[movies_metadata.budget == '/zaSf5OG7V8X8gqFvly88zDdRm46.jpg'].index)\n",
        "print(movies_metadata.shape)\n",
        "movies_metadata.id = movies_metadata.id.astype(int)"
      ],
      "execution_count": 52,
      "outputs": [
        {
          "output_type": "stream",
          "name": "stdout",
          "text": [
            "(45450, 24)\n"
          ]
        }
      ]
    },
    {
      "cell_type": "code",
      "metadata": {
        "id": "xCZfepTRO1Oz"
      },
      "source": [
        "movies_metadata.poster_path = movies_metadata.poster_path.fillna(0)"
      ],
      "execution_count": 53,
      "outputs": []
    },
    {
      "cell_type": "code",
      "metadata": {
        "colab": {
          "base_uri": "https://localhost:8080/"
        },
        "id": "xs5EopmnQkS9",
        "outputId": "2bd34d6e-1af8-4c3f-9a31-527596616313"
      },
      "source": [
        "def set_poster(s) :\n",
        "  if s == 0 :\n",
        "    return 0\n",
        "  else :\n",
        "    return 1\n",
        "  return 0\n",
        "movies_metadata.poster_path = movies_metadata.poster_path.apply(set_poster)\n",
        "movies_metadata.columns = ['adult', 'belongs_to_collection', 'budget', 'genres', 'homepage', 'id',\n",
        "       'imdb_id', 'original_language', 'original_title', 'overview',\n",
        "       'popularity', 'poster', 'production_companies',\n",
        "       'production_countries', 'release_date', 'revenue', 'runtime',\n",
        "       'spoken_languages', 'status', 'tagline', 'title', 'video',\n",
        "       'vote_average', 'vote_count']\n",
        "movies_metadata.columns"
      ],
      "execution_count": 54,
      "outputs": [
        {
          "output_type": "execute_result",
          "data": {
            "text/plain": [
              "Index(['adult', 'belongs_to_collection', 'budget', 'genres', 'homepage', 'id',\n",
              "       'imdb_id', 'original_language', 'original_title', 'overview',\n",
              "       'popularity', 'poster', 'production_companies', 'production_countries',\n",
              "       'release_date', 'revenue', 'runtime', 'spoken_languages', 'status',\n",
              "       'tagline', 'title', 'video', 'vote_average', 'vote_count'],\n",
              "      dtype='object')"
            ]
          },
          "metadata": {},
          "execution_count": 54
        }
      ]
    },
    {
      "cell_type": "code",
      "metadata": {
        "colab": {
          "base_uri": "https://localhost:8080/"
        },
        "id": "OPqVkN0mXXbG",
        "outputId": "6343ee07-9857-4a17-fb1d-3ff33d556190"
      },
      "source": [
        "print(movies_metadata.adult.unique())\n",
        "print(movies_metadata.status.unique())\n",
        "print(movies_metadata.video.unique())"
      ],
      "execution_count": 55,
      "outputs": [
        {
          "output_type": "stream",
          "name": "stdout",
          "text": [
            "['False' 'True']\n",
            "['Released' nan 'Rumored' 'Post Production' 'In Production' 'Planned'\n",
            " 'Canceled']\n",
            "[False True nan]\n"
          ]
        }
      ]
    },
    {
      "cell_type": "code",
      "metadata": {
        "colab": {
          "base_uri": "https://localhost:8080/"
        },
        "id": "IOk1ub_MTDbD",
        "outputId": "5ce035a2-d271-4d0b-b06e-f5cd2ef3ce9c"
      },
      "source": [
        "# False가 대부분이고, True는 극소수(대략 0.02%)이므로 통계적으로 의미를 띄지않는다.(유의미하지않다.) -> drop\n",
        "Counter(movies_metadata.adult)"
      ],
      "execution_count": 56,
      "outputs": [
        {
          "output_type": "execute_result",
          "data": {
            "text/plain": [
              "Counter({'False': 45441, 'True': 9})"
            ]
          },
          "metadata": {},
          "execution_count": 56
        }
      ]
    },
    {
      "cell_type": "code",
      "metadata": {
        "colab": {
          "base_uri": "https://localhost:8080/"
        },
        "id": "u-H97MlAVkhG",
        "outputId": "de014932-af81-414c-d0a3-9183e4ae2ccb"
      },
      "source": [
        "# belongs_to_collection 컬럼에 빈칸(nan)값이 많기 때문에 우리가 예측하고자 하는 바에 도움이 되지 않는다. -> drop\n",
        "movies_metadata.shape, movies_metadata.belongs_to_collection.isnull().sum()"
      ],
      "execution_count": 57,
      "outputs": [
        {
          "output_type": "execute_result",
          "data": {
            "text/plain": [
              "((45450, 24), 40959)"
            ]
          },
          "metadata": {},
          "execution_count": 57
        }
      ]
    },
    {
      "cell_type": "code",
      "metadata": {
        "colab": {
          "base_uri": "https://localhost:8080/"
        },
        "id": "JveUiIWpWOW2",
        "outputId": "acc7f652-d0c8-461f-e240-c04d5c1edf1d"
      },
      "source": [
        "# Released는 train data로, Planned, In Production, Post Production은 test 데이터로\n",
        "Counter(movies_metadata.status)"
      ],
      "execution_count": 58,
      "outputs": [
        {
          "output_type": "execute_result",
          "data": {
            "text/plain": [
              "Counter({'Canceled': 2,\n",
              "         'In Production': 20,\n",
              "         'Planned': 15,\n",
              "         'Post Production': 98,\n",
              "         'Released': 45002,\n",
              "         'Rumored': 229,\n",
              "         nan: 84})"
            ]
          },
          "metadata": {},
          "execution_count": 58
        }
      ]
    },
    {
      "cell_type": "code",
      "metadata": {
        "colab": {
          "base_uri": "https://localhost:8080/"
        },
        "id": "X4W27gMuMhwz",
        "outputId": "37bb6e94-8463-462c-8bac-9adad20030f5"
      },
      "source": [
        "# False가 대부분이므로 video feature 삭제\n",
        "Counter(movies_metadata.video)"
      ],
      "execution_count": 59,
      "outputs": [
        {
          "output_type": "execute_result",
          "data": {
            "text/plain": [
              "Counter({False: 45354, True: 93, nan: 3})"
            ]
          },
          "metadata": {},
          "execution_count": 59
        }
      ]
    },
    {
      "cell_type": "code",
      "metadata": {
        "id": "AYk1nVLpVVR-",
        "colab": {
          "base_uri": "https://localhost:8080/"
        },
        "outputId": "83e5aef7-66cf-4d0b-9696-7a69ea12393e"
      },
      "source": [
        "# 1(포스터가 존재)이 대부분이므로 유의미하지 않다.\n",
        "Counter(movies_metadata.poster)"
      ],
      "execution_count": 60,
      "outputs": [
        {
          "output_type": "execute_result",
          "data": {
            "text/plain": [
              "Counter({0: 386, 1: 45064})"
            ]
          },
          "metadata": {},
          "execution_count": 60
        }
      ]
    },
    {
      "cell_type": "code",
      "metadata": {
        "id": "Lqsix6gQVrlK",
        "colab": {
          "base_uri": "https://localhost:8080/"
        },
        "outputId": "b9c7d8ab-e013-4b8a-8770-5cda136ed648"
      },
      "source": [
        "Counter(movies_metadata.homepage) # 대략 1의 비율이 17% -> 남겨둔다."
      ],
      "execution_count": 61,
      "outputs": [
        {
          "output_type": "execute_result",
          "data": {
            "text/plain": [
              "Counter({'http://toystory.disney.com/toy-story': 1,\n",
              "         nan: 37673,\n",
              "         'http://www.mgm.com/view/movie/757/Goldeneye/': 1,\n",
              "         'http://www.mgm.com/title_title.do?title_star=LEAVINGL': 1,\n",
              "         'http://www.sevenmovie.com/': 1,\n",
              "         'http://www.mgm.com/#/our-titles/2083/The-Usual-Suspects': 1,\n",
              "         'http://www.newline.com/properties/friday.html': 1,\n",
              "         'http://www.miramax.com/movie/from-dusk-till-dawn/': 1,\n",
              "         'http://www.nickbroomfield.com/heidifleiss.html': 1,\n",
              "         'http://www.sonypictures.com/classics/annefrank/index.html': 1,\n",
              "         'http://miramax.com/movie/blue-in-the-face/': 1,\n",
              "         'http://www.powerrangers.com/': 1,\n",
              "         'http://www.strange-days.com': 1,\n",
              "         'http://www.miramax.com/movie/clerks/': 1,\n",
              "         'http://www.miramax.com/movie/heavenly-creatures': 1,\n",
              "         'http://www.starwars.com/films/star-wars-episode-iv-a-new-hope': 1,\n",
              "         'http://www.miramax.com/movie/like-water-for-chocolate/': 1,\n",
              "         'http://miramax.com/movie/picture-bride/': 1,\n",
              "         'http://www.miramax.com/movie/ready-to-wear/': 1,\n",
              "         'http://www.sonypictures.com/movies/theswanprincess/': 1,\n",
              "         'http://www.theofficialjohncarpenter.com/village-of-the-damned/': 1,\n",
              "         'http://workingtitlefilms.com/film.php?filmID=59': 1,\n",
              "         'http://movies.disney.com/the-lion-king': 1,\n",
              "         'http://www.theofficialjohncarpenter.com/in-the-mouth-of-madness/': 1,\n",
              "         'http://www.newline.com/properties/abovetherim.html': 1,\n",
              "         'http://www.mgm.com/#/our-titles/215/Blown-Away': 1,\n",
              "         'http://www.sonymoviechannel.com/movies/calendar-girl/details': 1,\n",
              "         'http://www.warnerbros.com/demolition-man': 1,\n",
              "         'http://www.jurassicpark.com/': 1,\n",
              "         'http://www.mgm.com/#/our-titles/1024/Kalifornia': 1,\n",
              "         'http://www.janetjackson.com': 1,\n",
              "         'http://www.schindlerslist.com/': 1,\n",
              "         'http://www.warnerbros.com/blade-runner': 1,\n",
              "         'http://movies.disney.com/the-three-musketeers': 1,\n",
              "         'https://www.foxconnect.com/home-alone-4.html': 1,\n",
              "         'http://movies.disney.com/aladdin': 1,\n",
              "         'http://movies.disney.com/snow-white-and-the-seven-dwarfs': 1,\n",
              "         'http://disney.go.com/disneyvideos/animatedfilms/beauty/?cmp=dcom_VAN_WDSHE_BEA_van_batb__Extl': 1,\n",
              "         'http://www.themoviefargo.com/': 1,\n",
              "         'http://www.missionimpossible.com/': 4,\n",
              "         'http://movies.disney.com/james-and-the-giant-peach': 1,\n",
              "         'http://www.mst3k.com/': 1,\n",
              "         'http://www.warnerbros.com/archive/spacejam/movie/jam.htm': 1,\n",
              "         'http://www.wallaceandgromit.com/films/a-close-shave': 1,\n",
              "         'http://www.sonyclassics.com/ashesoftimeredux/': 1,\n",
              "         'http://worldcinemafoundation.org/films/touki-bouki': 1,\n",
              "         'http://www.miramax.com/movie/trainspotting/': 1,\n",
              "         'http://www.warnerbros.com/eraser': 1,\n",
              "         'http://www.tsquare.tv/film/': 1,\n",
              "         'http://www.miramax.com/movie/emma/': 1,\n",
              "         'http://www.theofficialjohncarpenter.com/escape-from-la/': 1,\n",
              "         'http://www.thegodfather.com/': 1,\n",
              "         'http://thewizardofoz.warnerbros.com/': 1,\n",
              "         'http://www.newline.com/properties/setitoff.html': 1,\n",
              "         'http://movies.disney.com/cinderella-1950': 1,\n",
              "         'http://movies.disney.com/the-three-caballeros': 1,\n",
              "         'http://movies.disney.com/the-fox-and-the-hound': 1,\n",
              "         'http://www.imdb.com/title/tt0116722/': 1,\n",
              "         'http://www.romeoandjuliet.com/': 1,\n",
              "         'http://movies.disney.com/aladdin-and-the-king-of-thieves': 1,\n",
              "         'http://lionsgateathome.com/dirty-dancing': 1,\n",
              "         'https://www.sonymoviechannel.com/movies/basic-instinct': 1,\n",
              "         'http://www.miramax.com/movie/the-crying-game/': 1,\n",
              "         'http://www.et20.com/': 1,\n",
              "         'http://www.theofficialjohncarpenter.com/the-fog/': 1,\n",
              "         'http://www.theofficialjohncarpenter.com/escape-from-new-york/': 1,\n",
              "         'http://www.sonypictures.com/cthe/montypython/': 1,\n",
              "         'http://www.wallaceandgromit.com/films/the-wrong-trousers': 1,\n",
              "         'http://www.madonna.com': 1,\n",
              "         'http://www.starwars.com/films/star-wars-episode-v-the-empire-strikes-back': 1,\n",
              "         'http://www.indianajones.com': 2,\n",
              "         'http://www.mgm.com/#/our-titles/766/The-Good,-the-Bad-and-the-Ugly': 1,\n",
              "         'http://www.apocalypsenow.com': 2,\n",
              "         'http://www.starwars.com/films/star-wars-episode-vi-return-of-the-jedi': 1,\n",
              "         'http://www.wim-wenders.com/movies/movies_spec/wingsofdesire/wingsofdesire.htm': 1,\n",
              "         'http://www.warnerbros.com/goodfellas': 1,\n",
              "         'https://www.facebook.com/alienanthology/': 1,\n",
              "         'http://www.wallaceandgromit.com/films/a-grand-day-out': 1,\n",
              "         'http://www.dasboot.com': 1,\n",
              "         'http://www.mgm.com/#/our-titles/1970/The-Terminator/': 1,\n",
              "         'http://www.backtothefuture.com/movies/backtothefuture1': 1,\n",
              "         'http://www.bandaivisual.co.jp/akira/': 1,\n",
              "         'http://movies.disney.com/fantasia': 1,\n",
              "         'http://www.indianajones.com/crusade': 1,\n",
              "         'http://www.nosferatumovie.com/cast_crew.html': 1,\n",
              "         'http://www.startrek.com/startrek/view/series/MOV/008/index.html': 1,\n",
              "         'http://www.jaws25.com/': 1,\n",
              "         'http://marsattacks.warnerbros.com/': 1,\n",
              "         'http://en.wikipedia.org/wiki/Evita_(film)': 1,\n",
              "         'http://www.universalstudiosentertainment.com/fierce-creatures/': 1,\n",
              "         'http://www.orionpictures.com/cityofindustry/': 1,\n",
              "         'http://www.sonypictures.com/homevideo/meninblack/': 1,\n",
              "         'http://wildamerica.warnerbros.com/': 1,\n",
              "         'http://www.warnerbros.com/contact': 1,\n",
              "         'http://www.miramax.com/movie/cop-land': 1,\n",
              "         'http://www.paramount.com/movies/hunt-red-october': 1,\n",
              "         'http://www.viewaskew.com/chasingamy/': 1,\n",
              "         'http://www.sonypictures.com/classics/fastcheap/': 1,\n",
              "         'http://www.bbc.co.uk/bbcfilms/film/mrs_dalloway': 1,\n",
              "         'http://www.miramax.com/movie/good-will-hunting': 1,\n",
              "         'http://www.ha3.com/': 1,\n",
              "         'http://www.titanicmovie.com': 1,\n",
              "         'http://www.mgm.com/view/movie/2029/Tomorrow-Never-Dies/': 1,\n",
              "         'http://www.biglebowskibluray.com/splash.php': 1,\n",
              "         'http://www.foxsearchlight.com/shootfish/': 1,\n",
              "         'http://www.warnerbros.com/movies/home-entertainment/sphere/7bdffe73-2a0e-4e7a-98e7-cee4d723e0b3.html': 1,\n",
              "         'http://www.aynrandasenseoflife.com/asol.html': 1,\n",
              "         'http://dogeatdog.michaelmoore.com/tbo.html': 1,\n",
              "         'http://www.miramax.com/movie/children-of-heaven/': 1,\n",
              "         'http://www.pithemovie.com/': 1,\n",
              "         'http://www.sonyclassics.com/whatever/whatever.html': 1,\n",
              "         'http://www.aboutmary.com/': 1,\n",
              "         'http://www.theofficialjohncarpenter.com/halloween/': 1,\n",
              "         'https://www.uphe.com/movies/halloween-ii': 1,\n",
              "         'http://theexorcist.warnerbros.com/': 1,\n",
              "         'http://en.wikipedia.org/wiki/Polish_Wedding': 1,\n",
              "         'http://www.backtothefuture.com/movies/backtothefuture2': 1,\n",
              "         'http://www.backtothefuture.com/movies/backtothefuture3': 1,\n",
              "         'http://movies.disney.com/bambi': 1,\n",
              "         'http://www.imdb.com/title/tt0099674/': 1,\n",
              "         'http://movies.disney.com/the-great-mouse-detective': 1,\n",
              "         'http://www.orionpictures.com/view/movie/633/Fanny-And-Alexander/': 1,\n",
              "         'http://movies.disney.com/the-jungle-book-1967': 1,\n",
              "         'http://movies.disney.com/101-dalmatians-1961': 1,\n",
              "         'http://movies.disney.com/one-magic-christmas': 1,\n",
              "         'http://movies.disney.com/aladdin-the-return-of-jafar': 1,\n",
              "         'http://movies.disney.com/return-to-oz': 1,\n",
              "         'https://www.uphe.com/movies/legend-1986': 1,\n",
              "         'http://www.warnerbros.com/blade': 1,\n",
              "         'http://www.thefarmerswifefilm.co.uk/': 1,\n",
              "         'http://www.imdb.com/title/tt0100134/': 1,\n",
              "         'http://www.sonypictures.com/movies/afewgoodmen/': 1,\n",
              "         'http://www.theofficialjohncarpenter.com/the-thing/': 1,\n",
              "         'http://www.wb-soldier.com/': 1,\n",
              "         'http://www.orgazmodvd.com/': 1,\n",
              "         'http://www.theofficialjohncarpenter.com/vampires/': 1,\n",
              "         'http://www.historyx.com/': 1,\n",
              "         'http://www.godsandmonsters.net/': 1,\n",
              "         'http://www.meetjoeblack.com/': 1,\n",
              "         'http://movies.disney.com/a-bugs-life': 1,\n",
              "         'http://nimbusfilm.dk/film/festen/?lang=en': 1,\n",
              "         'http://www.mgm.com/view/movie/2101/A-View-to-a-Kill/': 1,\n",
              "         'http://youvegotmail.warnerbros.com': 1,\n",
              "         'http://www.oscarwilde.com/': 1,\n",
              "         'http://www.theofficialjohncarpenter.com/christine/': 1,\n",
              "         'http://www.foxmovies.com/movies/planet-of-the-apes': 1,\n",
              "         'http://www.universalstudiosentertainment.com/lock-stock-and-two-smoking-barrels/': 1,\n",
              "         'http://www.warnerbros.com/matrix': 1,\n",
              "         'http://www.foxmovies.com.au/entrapment': 1,\n",
              "         'http://www.mummyvideo.com/': 1,\n",
              "         'http://www.picturethisent.com/minisites/edgeof17/edge1.html': 1,\n",
              "         'http://www.starwars.com/films/star-wars-episode-i-the-phantom-menace': 1,\n",
              "         'http://www.thesaragossamanuscript.info/': 1,\n",
              "         'http://www.rockyhorror.com/': 1,\n",
              "         'http://www.notting-hill.com/': 1,\n",
              "         'http://disneydvd.disney.go.com/tarzanr-special-edition.html': 1,\n",
              "         'http://aso.gov.au/titles/features/the-boys/': 1,\n",
              "         'http://www.juliettebinoche.net/les-amants-du-pont-neuf.html': 1,\n",
              "         'http://www.blairwitch.com/': 1,\n",
              "         'http://eyeswideshut.warnerbros.com/': 1,\n",
              "         'http://www.ghostbusters.com/': 2,\n",
              "         'https://www.warnerbros.com/iron-giant': 1,\n",
              "         'https://www.miramax.com/movie/the-yards': 1,\n",
              "         'http://www.madhouse.co.jp/works/1999-1997/works_movie_perfectblue.html': 1,\n",
              "         'http://www.dreamworks.com/ab/': 1,\n",
              "         'http://www.thebeatles.com/film/hard-days-night': 1,\n",
              "         'http://www.warnerbros.com/deliverance': 1,\n",
              "         'http://phantasm.com': 4,\n",
              "         'http://www.foxsearchlight.com/boysdontcry/': 1,\n",
              "         'http://www.fivewives.com/': 1,\n",
              "         'http://www.pbs.org/wgbh/amex/honor/': 1,\n",
              "         'http://www.mgm.com/view/movie/760/Goldfinger/': 1,\n",
              "         'http://www.mgm.com/view/movie/717/From-Russia-With-Love/': 1,\n",
              "         'http://www.mgm.com/#/our-titles/566/Dr.-No': 1,\n",
              "         'http://naturallynative.com/home.html': 1,\n",
              "         'http://www.foxmovies.com/movies/fight-club': 1,\n",
              "         'http://www.universalpictures.com/bestman/': 1,\n",
              "         'http://www.mgm.com/view/movie/695/For-Your-Eyes-Only/': 1,\n",
              "         'http://www.mgm.com/view/movie/1111/License-to-Kill/': 1,\n",
              "         'http://www.mgm.com/view/movie/1130/Live-and-Let-Die/': 1,\n",
              "         'http://www.mgm.com/view/movie/2009/Thunderball/': 1,\n",
              "         'http://www.re-animatorfilms.com/BrideRe-Animator.html': 1,\n",
              "         'http://www.mgm.com/view/movie/1873/Spaceballs/': 1,\n",
              "         'http://www.foxmovies.com/anywherebuthere/': 1,\n",
              "         'http://www.dogma-movie.com/': 1,\n",
              "         'http://www.banzai-institute.com/': 1,\n",
              "         'http://www.mgm.com/view/movie/231/The-World-Is-Not-Enough/': 1,\n",
              "         'http://www.end-of-days.com/': 1,\n",
              "         'http://toystory.disney.com/toy-story-2': 1,\n",
              "         'http://thegreenmile.warnerbros.com/': 1,\n",
              "         'http://www.miramax.com/movie/the-cider-house-rules/': 1,\n",
              "         'http://www.filmsite.org/lastp.html': 1,\n",
              "         'http://movies.disney.com/fantasia-2000': 1,\n",
              "         'http://www.magnoliamovie.com/': 1,\n",
              "         'http://www.universalpictures.com/manonthemoon/': 1,\n",
              "         'http://www.miramax.com/movie/the-talented-mr-ripley/': 1,\n",
              "         'http://mydogskip.warnerbros.com/': 1,\n",
              "         'http://thebigtease.warnerbros.com/index.html': 1,\n",
              "         'http://www.bfi.org.uk/whats-on/bfi-film-releases/howards-end': 1,\n",
              "         'http://www.theboondocksaints.com': 1,\n",
              "         'http://www.tigger.com': 1,\n",
              "         'http://www.lynnhershman.com/ada/': 1,\n",
              "         'http://www.pitchblack.com/': 1,\n",
              "         'http://www.charliechaplin.com/biography/articles/4-City-Lights': 1,\n",
              "         'https://en.wikipedia.org/wiki/The_Flamingo_Kid': 1,\n",
              "         'http://www.judyberlin.com/': 1,\n",
              "         'http://colsearch.nfsa.afc.gov.au/nfsa/search/display/display.w3p;adv=no;page=0;query=The%20Year%20My': 1,\n",
              "         'http://www.crownintlpictures.com/lntitles.html': 3,\n",
              "         'http://www.brockovich.com/movie.html': 1,\n",
              "         'http://www.animalhouse.com/': 1,\n",
              "         'http://readytorumble.warnerbros.com/flash.html': 1,\n",
              "         'http://www.u-571.com/': 1,\n",
              "         'http://www.paramountvantage.com/virginsuicides/html_3/': 1,\n",
              "         'http://www.crownintlpictures.com/ostitles.html': 4,\n",
              "         'http://www.vivarockvegas.com/': 1,\n",
              "         'http://www.dogme95.dk/the_idiots/content/index.htm': 1,\n",
              "         'http://www.imdb.com/title/tt0093185/': 1,\n",
              "         'http://www.mgm.com/view/movie/1411/On-Her-Majesty%E2%80%99s-Secret-Service/': 1,\n",
              "         'http://www.mgm.com/view/movie/1891/The-Spy-Who-Loved-Me/': 1,\n",
              "         'http://www.mgm.com/view/movie/1292/Moonraker/': 1,\n",
              "         'http://www.mgm.com/view/movie/1213/The-Man-with-the-Golden-Gun/': 1,\n",
              "         'http://www.benji.com/MeetBenji.htm': 1,\n",
              "         'http://en.wikipedia.org/wiki/Baraka_(film)': 1,\n",
              "         'http://www.eurekavideo.co.uk/moc/catalogue/gandahar': 1,\n",
              "         'http://www.theofficialjohncarpenter.com/starman/': 1,\n",
              "         'http://www.theofficialjohncarpenter.com/assault-of-precinct-13/': 1,\n",
              "         'http://www.theofficialjohncarpenter.com/big-trouble-in-little-china/': 1,\n",
              "         'http://movies.disney.com/the-kid': 1,\n",
              "         'http://in-crowd.warnerbros.com/': 1,\n",
              "         'http://p2kmovie.warnerbros.com/index2.html': 1,\n",
              "         'http://movies.warnerbros.com/spacecowboys/index.html': 1,\n",
              "         'http://www.ramblinjack-themovie.com/': 1,\n",
              "         'https://www.uphe.com/movies/bring-it-on': 1,\n",
              "         'http://movies.disney.com/remember-the-titans': 1,\n",
              "         'http://www.requiemforadream.com/': 1,\n",
              "         'http://www.twofamilyhouse.com/': 1,\n",
              "         'http://www.mgm.com/view/movie/529/Diamonds-Are-Forever/': 1,\n",
              "         'http://www.grinched.com/': 1,\n",
              "         'https://www.epicbuzz.net/movies/vertical-limit': 1,\n",
              "         'http://www.mgm.com/view/movie/1132/The-Living-Daylights/': 1,\n",
              "         'http://www.yahooserious.com/accident/': 1,\n",
              "         'http://www.newline.com/properties/stateandmain.html': 1,\n",
              "         'http://alltheprettyhorses.com/': 1,\n",
              "         'http://www.antitrustthemovie.com/': 1,\n",
              "         'http://movies.warnerbros.com/thepledge/': 1,\n",
              "         'http://www.google.com/url?sa=t&rct=j&q=&esrc=s&source=web&cd=1&ved=0CEYQFjAA&url=http%3A%2F%2Fwww.imdb.com%2Ftitle%2Ftt0176883%2F&ei=tzYoUOfwAorDygGUx4DwBQ&usg=AFQjCNHQJEqf61axUWzdCwFNV39Lz9dErw&sig2=XEZJdBB0e0PrbpQLezqVuQ': 1,\n",
              "         'http://www.amythemovie.com/': 1,\n",
              "         'http://www.invisible-circus.com/': 1,\n",
              "         'http://www.mgm.com/#/our-titles/366/Cherry-2000': 1,\n",
              "         'http://www.crownintlpictures.com/hktitles.html': 3,\n",
              "         'http://www.wkw-inthemoodforlove.com/': 1,\n",
              "         'http://www.series7movie.com/': 1,\n",
              "         'http://www.irisfilms.org/films/long-nights-journey-into-day/': 1,\n",
              "         'http://www.mgm.com/title_title.do?title_star=HARLEYDA': 1,\n",
              "         'http://www.exitwounds.net/': 1,\n",
              "         'http://www.otnemem.com/': 1,\n",
              "         'http://movies.warnerbros.com/pk3/': 2,\n",
              "         'http://brokenkingdomfilm.com/#/kingdomcome': 1,\n",
              "         'http://www.youtube.com/watch?v=dIgzh6OPYQQ': 1,\n",
              "         'http://www.dfi.dk/faktaomfilm/film/en/257.aspx?id=257': 1,\n",
              "         'http://www.sordidlives-themovie.com/': 1,\n",
              "         'http://angeleyesmovie.warnerbros.com/index_noflash.html': 1,\n",
              "         'http://www.shrek.com/': 1,\n",
              "         'http://www.bam.org/oursong': 1,\n",
              "         'http://www.imdb.com/title/tt0054130/': 1,\n",
              "         'http://www.bigeden.com/': 1,\n",
              "         'http://www.disney.com/atlantis': 1,\n",
              "         'http://catsanddogsmovie.warnerbros.com/cmp/main.html': 1,\n",
              "         'http://www.baise-moi.co.uk/': 1,\n",
              "         'http://www.tcm.com/tcmdb/title/24062/Sweet-Smell-of-Success/': 1,\n",
              "         'http://happyproduct.com': 1,\n",
              "         'http://www.imdb.com/title/tt0095169/': 1,\n",
              "         'http://www.wbshop.com/product/hot+to+trot+1000180065.do': 1,\n",
              "         'http://www.theofficialjohncarpenter.com/they-live/': 1,\n",
              "         'http://www.billandted.org/': 1,\n",
              "         'http://www.office-kitano.co.jp/brother/index.html': 1,\n",
              "         'http://www.brotundtulpen.de/': 1,\n",
              "         'http://www.wethotamericansummer.com/': 1,\n",
              "         'http://www.osmosisjones.com/': 1,\n",
              "         'http://ontheedgemovie.com/': 1,\n",
              "         'http://movies.uip.de/corellismandoline/': 1,\n",
              "         'http://www.theofficialjohncarpenter.com/ghost-of-mars/': 1,\n",
              "         'http://www.speedwayjunky-themovie.com/': 1,\n",
              "         'http://tartanvideo.com/film.asp?ProjectID={C668EA2C-810D-4E33-AB5C-9B8B00FA4B8A}': 1,\n",
              "         'http://web.archive.org/web/20090606152940/http://www.thelearningcurvemovie.com/': 1,\n",
              "         'http://www.warnerbros.com/dirty-harry/': 1,\n",
              "         'http://www.imax.com/': 1,\n",
              "         'http://www.paramountclassics.com/focus/': 1,\n",
              "         'http://www.k-pax.com/': 1,\n",
              "         'http://movies.disney.com/monsters-inc': 1,\n",
              "         'http://www.imdb.com/title/tt0246072/': 1,\n",
              "         'http://harrypotter.warnerbros.com/harrypotterandthedeathlyhallows/mainsite/index.html': 1,\n",
              "         'http://www.fluffer.com': 1,\n",
              "         'http://www.novocaineonline.com/': 1,\n",
              "         'http://www.warnerbros.co.uk/movies/oceans-eleven': 1,\n",
              "         'http://baran.cinemajidi.com/': 1,\n",
              "         'http://www.die-fabelhafte-welt-der-amelie.de': 1,\n",
              "         'http://www.makhmalbaf.com/movies.php?m=10': 1,\n",
              "         'http://www.howhighmovie.com/': 1,\n",
              "         'http://www.lordoftherings.net/': 2,\n",
              "         'http://www.abeautifulmind.com/': 1,\n",
              "         'http://www.brotherhoodofthewolf.com/': 1,\n",
              "         'http://www.crownintlpictures.com/dgtitles.html': 3,\n",
              "         'http://www2.warnerbros.com/walktoremember/main.html': 1,\n",
              "         'http://www.americanadobo.com': 1,\n",
              "         'http://www.wbshop.com/product/code/1000040993.do': 1,\n",
              "         'http://www.brokenlizard.com/': 1,\n",
              "         'http://www.imdb.com/title/tt0077199/': 1,\n",
              "         'http://timemachine.countingdown.com/': 1,\n",
              "         'http://funthemovie.com/': 1,\n",
              "         'http://www.iceagemovies.com/films/ice-age': 1,\n",
              "         'http://www.sonypictures.com/movies/residentevil/index.html': 1,\n",
              "         'http://www.warnerbros.de/movies/showtime/': 1,\n",
              "         'http://www.promisesproject.org/': 1,\n",
              "         'http://www.warnerbros.com/blade-ii': 1,\n",
              "         'http://www.sonypictures.com/movies/panicroom/': 1,\n",
              "         'http://www.sonyclassics.com/crush/': 1,\n",
              "         'http://www.sonypictures.com/movies/thesweetestthing/': 1,\n",
              "         'http://www.humannaturemovie.com/': 1,\n",
              "         'http://www.the-scorpion-king.com/': 1,\n",
              "         'http://www.sonypictures.com/classics/dogtown/': 1,\n",
              "         'http://www.mgm.com/sites/deuceswild/intro/': 1,\n",
              "         'http://www.sonypictures.com/movies/spider-man/': 1,\n",
              "         'http://www.giantspiderinvasion.com/': 1,\n",
              "         'http://www.sonypictures.com/movies/thenewguy/': 1,\n",
              "         'http://movies.uip.de/aboutaboy/': 1,\n",
              "         'http://www.starwars.com/films/star-wars-episode-ii-attack-of-the-clones': 1,\n",
              "         'http://www.mgm.com/#/our-titles/1092/The-Last-Waltz/': 1,\n",
              "         'http://www.sonypictures.com/movies/enough/': 1,\n",
              "         'http://www.paramount.com/movies/sum-all-fears': 1,\n",
              "         'http://atanarjuat.com/': 1,\n",
              "         'http://www.universalstudiosentertainment.com/the-bourne-identity/': 1,\n",
              "         'http://www.juwannamann.com/': 1,\n",
              "         'http://www.sonypictures.com/homevideo/meninblackii/': 1,\n",
              "         'http://www.criterion.com/films/355-the-importance-of-being-earnest': 1,\n",
              "         'http://www.austinpowers.com/': 1,\n",
              "         'http://movies.disney.com/the-country-bears': 1,\n",
              "         'http://www.kidstaysinthepicture.com/': 1,\n",
              "         'http://www.sonypictures.com/movies/xxx/': 1,\n",
              "         'http://www.24hourpartypeople-themovie.com/': 1,\n",
              "         'http://www.nickbroomfield.com/biggieandtupac.html': 1,\n",
              "         'http://www.warnervideo.com/clashofthetitans1981/': 1,\n",
              "         'http://swimfan.film.ru/': 1,\n",
              "         'http://www.troma.com/movies/monsterinthecloset/': 1,\n",
              "         'http://lantern-media.com/BronxGangs-Wanderers.htm': 1,\n",
              "         'http://www.dasexperiment.de/intro/': 1,\n",
              "         'http://movies.disney.com/spirited-away': 1,\n",
              "         'http://www.miramax.com/movie/heaven': 1,\n",
              "         'http://www.rainbowfilms.com/': 1,\n",
              "         'http://www.newline.com/properties/knockaroundguys.html': 1,\n",
              "         'http://www.bowlingforcolumbine.com/index.php': 1,\n",
              "         'http://www.pokemon.com/us/movies/movie-pokemon-4ever-2002/': 2,\n",
              "         'http://www.kino.com/takecareofmycat/': 1,\n",
              "         'http://movies.uip.de/8mile/': 1,\n",
              "         'http://www.therisingplace.com/': 1,\n",
              "         'http://padreamaro.ad2.com/site/home_eng.htm': 1,\n",
              "         'http://www.rockyhorror.com/shocktreatment/': 1,\n",
              "         'http://www.timmccannfilm.com/filmpages/rev9.html': 1,\n",
              "         'http://www.mgm.com/view/movie/232/Die-Another-Day/': 1,\n",
              "         'http://www.sonypictures.de/filme/was-tun-wenns-brennt/': 1,\n",
              "         'http://brat2.film.ru/brat1.asp': 1,\n",
              "         'http://www.sonypictures.com/homevideo/adaptation/index.html': 1,\n",
              "         'http://www.sonypictures.com/movies/maidinmanhattan/': 1,\n",
              "         'http://video.movies.go.com/gangsofnewyork/': 1,\n",
              "         'http://www.mgm.com/#/our-titles/226/Body-Of-Evidence': 1,\n",
              "         'http://www.beckerfilms.com/page3.html': 1,\n",
              "         'https://www.facebook.com/CatchMeIfYouCanMovie': 1,\n",
              "         'http://www.thepianistmovie.com/': 1,\n",
              "         'http://cidadededeus.globo.com/': 1,\n",
              "         'http://en.wikipedia.org/wiki/Sugar_Hill_(1994_film)': 1,\n",
              "         'http://marvel.com/movies/movie/12/daredevil': 1,\n",
              "         'http://www.sonyclassics.com/alltherealgirls/': 1,\n",
              "         'http://atopictures.com/amandla.php': 1,\n",
              "         'http://www.chihwaseon.com/': 1,\n",
              "         'http://www.miramax.com/movie/into-the-west/': 1,\n",
              "         'http://www.oldschool-themovie.com': 1,\n",
              "         'http://www.stonereader.net/': 1,\n",
              "         'http://www.spiderthemovie.com/': 1,\n",
              "         'http://www2.foxsearchlight.com/benditlikebeckham/': 1,\n",
              "         'http://dreamcatchermovie.warnerbros.com/': 1,\n",
              "         'http://www.lhp.com.sg/victor/': 1,\n",
              "         'http://www.newline.com/properties/manaparta.html': 1,\n",
              "         'http://www.sonypictures.com/cthe/cowboybebop/': 1,\n",
              "         'http://disneydvd.disney.go.com/ghosts-of-the-abyss.html#4532': 1,\n",
              "         'http://robzombie.com/movies/house-of-1000-corpses/': 1,\n",
              "         'http://www.ifcfilms.com/viewFilm.htm?filmId=245': 1,\n",
              "         'http://disneydvd.disney.go.com/the-lizzie-mcguire-movie.html': 1,\n",
              "         'http://www.pokemon.com/us/movies/movie-pokemon-heroes-2003/': 1,\n",
              "         'http://www.brucealmighty.com/': 1,\n",
              "         'http://thein-laws.warnerbros.com/shell.html': 1,\n",
              "         'http://tmbw.net/wiki/Gigantic': 1,\n",
              "         'http://movies.disney.com/finding-nemo': 1,\n",
              "         'http://www.italianjobmovie.com/': 1,\n",
              "         'http://www.capturingthefriedmans.com/main.html': 1,\n",
              "         'http://www.whaleriderthemovie.com/': 1,\n",
              "         'http://www.cinematicorchestra.com/': 1,\n",
              "         'http://alexandemmamovie.warnerbros.com/': 1,\n",
              "         'http://www.jesusfilm.org/': 1,\n",
              "         'http://sinbad-themovie.com/main.html': 1,\n",
              "         'http://www.marsdistribution.com/xml/flash.html?cfilm=46022': 1,\n",
              "         'http://disney.go.com/disneyvideos/liveaction/pirates/main_site/main.html': 1,\n",
              "         'http://www.seabiscuitmovie.com/': 1,\n",
              "         'http://en.wikipedia.org/wiki/One,_Two,_Three': 1,\n",
              "         'http://www.mgm.com/view/Movie/1621/Remo-Williams:-The-Adventure-Begins/': 1,\n",
              "         'http://www.sonypictures.com/homevideo/catalog/catalogDetail_DVD043396087576.html': 1,\n",
              "         'http://www.sonypictures.com/homevideo/swat/': 1,\n",
              "         'http://www.le-divorce.com/': 1,\n",
              "         'http://www.stepintoliquid.com/': 1,\n",
              "         'http://www.newline.com/properties/americansplendor.html': 1,\n",
              "         'http://www.thx1138movie.com/': 1,\n",
              "         'http://www.revolution-os.com': 1,\n",
              "         'http://www.venusboyz.com/': 1,\n",
              "         'http://www.nolathemovie.com/': 1,\n",
              "         'http://www.so-close.com/': 1,\n",
              "         'http://www.theofficialjohncarpenter.com/memoirs-of-an-invisible-man/': 1,\n",
              "         'http://www.newline.com/properties/secondhandlions.html': 1,\n",
              "         'http://www.sonypictures.com/movies/underworld/site/main.html': 1,\n",
              "         'http://www.therundown.com/': 1,\n",
              "         'http://en.wikipedia.org/wiki/Kart_Racer': 1,\n",
              "         'http://www.lutherthemovie.com/': 1,\n",
              "         'http://mamboitaliano.ca/': 1,\n",
              "         'http://www.clubcultura.com/clubcine/clubcineastas/isabelcoixet/mividasinmi/index.htm': 1,\n",
              "         'http://www.seinundhaben.net': 1,\n",
              "         'http://www.sonyclassics.com/triplets/': 1,\n",
              "         'http://www.lifeanddebt.org/': 1,\n",
              "         'http://www.lagaan.com': 1,\n",
              "         'http://www.imdb.com/title/tt0078199/': 1,\n",
              "         'http://www.ledzeppelin.com/': 1,\n",
              "         'http://www.miramax.com/movie/avalon': 1,\n",
              "         'http://debutfilm.pinoynet.com/': 1,\n",
              "         'http://www.charlottesometimesthemovie.com/home.html': 1,\n",
              "         'http://www.schoolofrockmovie.com/': 1,\n",
              "         'http://www.concertforgeorge.com/': 1,\n",
              "         'http://www.goodboy.com/': 1,\n",
              "         'http://www.house-of-the-dead.com/': 1,\n",
              "         'http://www.miramax.com/movie/kill-bill-volume-1/': 1,\n",
              "         'http://www.piecesofaprilmovie.com/': 1,\n",
              "         'http://movies.disney.com/brother-bear': 1,\n",
              "         'http://theeye.kingnet.com.tw/en-main.html': 1,\n",
              "         'http://www.preachingtotheperv.com/': 1,\n",
              "         'http://www.harmonygold.com/catalog/title.php?id=dirt': 1,\n",
              "         'http://www.viipillars.com/gloomysunday/index3.htm': 1,\n",
              "         'http://www.loveactually.com/': 1,\n",
              "         'http://www.masterandcommanderthefarsideoftheworld.com/': 1,\n",
              "         'http://www.tupac-resurrection.com/': 1,\n",
              "         'http://www.thebigempty.com/': 1,\n",
              "         'http://danielostroff.com/missing.html': 1,\n",
              "         'http://gothikamovie.warnerbros.com/': 1,\n",
              "         'http://www.21-grams.com/index.php': 1,\n",
              "         'http://www.miramax.com/movie/bad-santa': 1,\n",
              "         'http://dancewithastranger.com/': 1,\n",
              "         'http://www.mgm.com/title_title.do?title_star=WARGAMES': 1,\n",
              "         'http://www.mgm.com/thingsyoucantell/': 1,\n",
              "         'http://www.mgm.com/#/our-titles/2024/To-Live-and-Die-in-L.A.': 1,\n",
              "         'http://www.wernerherzog.com/films-by.html': 7,\n",
              "         'https://www.warnerbros.com/bullitt': 1,\n",
              "         'http://movies.disney.com/nausicaa-of-the-valley-of-the-wind': 1,\n",
              "         'https://www.alltheanime.com/collections/royal-space-force-the-wings-of-honneamise': 1,\n",
              "         'http://www.sphinxproductions.com/films/grass/': 1,\n",
              "         'http://www.lordoftherings.net': 1,\n",
              "         'http://www.calendargirls.tv/home.html': 1,\n",
              "         'http://www.guerilla-films.com/twomen/': 1,\n",
              "         'http://movies.disney.com/the-young-black-stallion': 1,\n",
              "         'http://www.alongcamepolly.com/': 1,\n",
              "         'http://www.melvingoestodinner.com/': 1,\n",
              "         'http://www.sonyclassics.com/ibrahim/aboutcast.html': 1,\n",
              "         'http://www.robotstories.net': 1,\n",
              "         'http://www.thepassionofthechrist.com/': 1,\n",
              "         'http://www.good-bye-lenin.de/index2.php': 1,\n",
              "         'http://www.wisconsindeathtrip.com/': 1,\n",
              "         'http://www.mgm.com/view/Movie/33/': 1,\n",
              "         'http://www.dawnofthedeadmovie.net/': 1,\n",
              "         'http://www.eternalsunshine.com': 1,\n",
              "         'http://www.sonypictures.com/homevideo/hellboy/': 1,\n",
              "         'http://movies.disney.com/home-on-the-range': 1,\n",
              "         'http://www.miramax.com/movie/ella-enchanted/': 1,\n",
              "         'http://www.29palms-lefilm.com/': 1,\n",
              "         'http://www.hangmanscursethemovie.com/': 1,\n",
              "         'http://marvel.com/movies/movie/5/the_punisher': 1,\n",
              "         'http://www.paperclipsmovie.com/': 1,\n",
              "         'http://www.sonyclassics.com/youngadam/': 1,\n",
              "         'http://www.meangirls.com/': 1,\n",
              "         'https://www.uphe.com/movies/van-helsing': 1,\n",
              "         'http://www.coffeeandcigarettesmovie.com/': 1,\n",
              "         'http://www.kinoproduction.fi/raid/index2.html': 1,\n",
              "         'http://www.thediscoveryofheaven.nl/': 1,\n",
              "         'http://www.chancemovie.com/': 1,\n",
              "         'http://www.mgm.com/view/movie/2347/You-Only-Live-Twice/': 1,\n",
              "         'http://www.mgm.com/view/movie/1394/Octopussy/': 1,\n",
              "         'http://www.mgm.com/view/movie/1345/Never-Say-Never-Again/': 1,\n",
              "         'http://www.kore-eda.com/misc/maboroshi_dvd.htm': 1,\n",
              "         'http://www.niceguysmovie.com/': 1,\n",
              "         'https://www.sonymoviechannel.com/movies/china-syndrome': 1,\n",
              "         'http://www.genghisblues.com/': 1,\n",
              "         'http://www.northbeachthemovie.com/': 1,\n",
              "         'http://www.miramax.com/cypher/': 1,\n",
              "         'http://www.scifi.com/dune_2k/': 1,\n",
              "         'http://www.lammbock-derfilm.de/': 1,\n",
              "         'http://www.fruehling-sommer.de': 1,\n",
              "         'http://lucasfilm.com/twice-upon-a-time': 1,\n",
              "         'http://www.beyondthevalleyofthedolls.com/home.html': 1,\n",
              "         'http://en.wikipedia.org/wiki/Hooper_(film)': 1,\n",
              "         'http://www.office-kitano.co.jp/dolls/': 1,\n",
              "         'http://www.shrek2.com/': 1,\n",
              "         'http://www.thedayaftertomorrow.com/': 1,\n",
              "         'http://www.sonyclassics.com/themother/': 1,\n",
              "         'http://www.savedmovie.com/': 1,\n",
              "         'http://www.mindhunters-thefilm.com/': 1,\n",
              "         'http://www.uplink.co.jp/brightfuture/': 1,\n",
              "         'http://www.thehuntingofthepresident.com/': 1,\n",
              "         'http://winklerfilm.com/siddhartha_detail.html': 1,\n",
              "         'http://www.screenonline.org.uk/film/id/509290/': 1,\n",
              "         'http://www.iswid.net/': 1,\n",
              "         'http://www.theterminal-themovie.com/': 1,\n",
              "         'http://www.newline.com/properties/notebookthe.html': 1,\n",
              "         'http://alt.tnt.tv/movies/tntoriginals/pirates/frame_index.htm': 1,\n",
              "         'http://www.imdb.com/title/tt0061678/': 1,\n",
              "         'http://www.freedomdowntime.com/': 1,\n",
              "         'http://www.sonypictures.com/movies/spider-man2/': 1,\n",
              "         'http://www.warnerbros.com/?site=beforesunset#/page=movies&pid=f-57b53b9e/BEFORE_SUNSET&asset=059437/Before_Sunset_-_Trailer_1A&type=video/': 1,\n",
              "         'http://www2.warnerbros.com/acinderellastory/index.html': 1,\n",
              "         'http://www.mariallenaeresdegracia.com/index.html': 1,\n",
              "         'https://www.uphe.com/movies/the-bourne-supremacy': 1,\n",
              "         'http://www.thunderbirdsmovie.com': 1,\n",
              "         'http://www2.foxsearchlight.com/gardenstate/': 1,\n",
              "         'http://www.avp-movie.com/': 1,\n",
              "         'http://yugioh.warnerbros.com/': 1,\n",
              "         'http://www.sonypictures.com/movies/superbabiesbabygeniuses2/index.html': 1,\n",
              "         'http://www.cellularthemovie.com/': 1,\n",
              "         'http://www.skycaptain.com/': 1,\n",
              "         'http://www.sonyclassics.com/headintheclouds/': 1,\n",
              "         'http://www.newline.com/properties/dirtyshamea.html': 1,\n",
              "         'http://www.motorcyclediariesmovie.com/': 1,\n",
              "         'http://cannibalholocaust.net/': 1,\n",
              "         'http://www.newline.com/properties/raiseyourvoice.html': 1,\n",
              "         'http://www.primermovie.com': 1,\n",
              "         'http://www.miramax.com/shallwedance/': 1,\n",
              "         'http://www.teamamerica.com': 1,\n",
              "         'http://www.universalstudiosentertainment.com/friday-night-lights/': 1,\n",
              "         'http://www.stlukeproductions.com/therese/index.html': 1,\n",
              "         'http://www.foxsearchlight.com/sideways/': 1,\n",
              "         'http://www.bbc.co.uk/comedy/stellastreet/': 1,\n",
              "         'http://www.undertowmovie.com/': 1,\n",
              "         'http://www.paramountclassics.com/enduringlove/': 1,\n",
              "         'http://disney.go.com/disneyvideos/animatedfilms/incredibles/main.html': 1,\n",
              "         'http://www.afterthesunset.com/': 1,\n",
              "         'http://www.lamalaeducacion.com': 1,\n",
              "         'http://oceans12.warnerbros.com/': 1,\n",
              "         'http://www.warnerbros.com/blade-trinity': 1,\n",
              "         'http://www.archive.org/details/PreludeToWar': 1,\n",
              "         'http://www.letsscarejessicatodeath.net/': 1,\n",
              "         'http://www.sonyclassics.com/badass/': 1,\n",
              "         'http://www.theofficialjohncarpenter.com/dark-star/': 1,\n",
              "         'http://en.wikipedia.org/wiki/Lianna': 1,\n",
              "         'http://www.rumblefishdvd.com/': 1,\n",
              "         'http://www.anneofgreengables.com/': 1,\n",
              "         'http://www.theofficialjohncarpenter.com/prince-of-darkness/': 1,\n",
              "         'http://www.office-kitano.co.jp/contents/MOVIE/WORK/second.html': 1,\n",
              "         'http://www.kino.com/daysofbeingwild/': 1,\n",
              "         'http://onlyyesterdayfilm.com/': 1,\n",
              "         'http://www.pbs.org/wgbh/masterpiece/primesuspect12345/primesuspect2.html': 1,\n",
              "         'http://www.macross.co.jp/': 1,\n",
              "         'http://www.vce.com/trinity.html': 1,\n",
              "         'http://www.cannibalthemusical.net/index.shtml': 1,\n",
              "         'http://www.pusher.nu/': 1,\n",
              "         'http://www.cremaster.net/': 1,\n",
              "         'http://www.harmony-korine.com/paper/index/i_gummo.html': 1,\n",
              "         'http://www.miramax.com/movie/wishful-thinking': 1,\n",
              "         'http://www.beowulfmovie.com/': 2,\n",
              "         'http://www.bangboombang.de/': 1,\n",
              "         'http://www.solarfilms.com/elokuvat/kaikki/hajyt/fi_FI/hajyt/': 1,\n",
              "         'http://www.josephthemusical.com': 1,\n",
              "         'http://www.stylewars.com/': 1,\n",
              "         'http://www.swimmingthemovie.com/': 1,\n",
              "         'http://movies.disney.com/an-extremely-goofy-movie': 1,\n",
              "         'http://www.vertigoproductions.com.au/tracker.html': 1,\n",
              "         'http://www.wkw2046.com/': 1,\n",
              "         'http://www.bartlebythemovie.com/': 1,\n",
              "         'http://alt.tnt.tv/movies/tntoriginals/mists/': 1,\n",
              "         'http://www.goldenharvest.com/spy/': 1,\n",
              "         'http://www.miramax.com/movie/darkness': 1,\n",
              "         'http://www.bloodthemovie.com/': 1,\n",
              "         'http://www.nextwavefilms.com/southern/': 1,\n",
              "         'http://main.wgbh.org/imax/shackleton/': 1,\n",
              "         'http://www.ocean-films.com/millenniummambo/': 1,\n",
              "         'http://www.milwaukee-minnesota.com/': 1,\n",
              "         'http://www.excelmovies.com/': 1,\n",
              "         'http://hellhousemovie.com/': 1,\n",
              "         'http://www.pentagonpictures.com.my/main_film/deadend/': 1,\n",
              "         'http://asoundofthunder.warnerbros.com/': 1,\n",
              "         'http://www.intothematrix.com/': 1,\n",
              "         'https://www.uphe.com/movies/bring-it-on-again': 1,\n",
              "         'http://www.iron-jawed-angels.com': 1,\n",
              "         'http://icarusfilms.com/new2003/inj.html': 1,\n",
              "         'http://www.gegendiewand.de/': 1,\n",
              "         'http://www.warnervideo.com/salemslot/': 1,\n",
              "         'http://wwws.warnerbros.co.uk/movies/trauma/?frompromo=movies_maintouts_Trauma': 1,\n",
              "         'http://www.downtothebonethefilm.com/': 1,\n",
              "         'http://www.pathedistribution.com/accueil/filmcatalogue.php?IDFilm=498': 1,\n",
              "         'http://www.kamelfilm.de/': 1,\n",
              "         'http://www.theinterpretermovie.com/': 1,\n",
              "         'http://www.sonyclassics.com/memoryofakiller/': 1,\n",
              "         'http://www.sonypictures.co.uk/homevideo/layercake/index.html': 1,\n",
              "         'http://www.meancreekmovie.com/': 1,\n",
              "         'http://www.thecorporation.com/': 1,\n",
              "         'http://www.theyesmen.org/': 1,\n",
              "         'http://iconmovies.co.uk/aefondkiss/': 1,\n",
              "         'http://www.wie-im-himmel-derfilm.de/start.html': 1,\n",
              "         'http://www.alsdasmeerverschwand.de/': 1,\n",
              "         'http://www.kids-with-cameras.org/bornintobrothels/': 1,\n",
              "         'http://www.digthemovie.com/': 1,\n",
              "         'http://www.possiblefilms.com/2005/01/the-girl-from-monday/': 1,\n",
              "         'http://www.sonyclassics.com/ridinggiants/': 1,\n",
              "         'http://www.mux-braucht-dich.de/': 1,\n",
              "         'http://www.warnerbros.com/movies/home-entertainment/scanner-darkly-a/d7c290af-c285-41c4-a4d6-efb3a86b3893.html': 1,\n",
              "         'http://www.casshern.com/': 1,\n",
              "         'http://www.outfoxed.org/': 1,\n",
              "         'http://www.janusfilms.com/chimes/': 1,\n",
              "         'http://www.milliondollarbaby-derfilm.de/': 1,\n",
              "         'http://www.metrofilms.com/hotelrwanda/': 1,\n",
              "         'https://www.warnerbros.com/charlie-and-chocolate-factory': 1,\n",
              "         'http://www.meetthefockers.com/index.php': 1,\n",
              "         'http://www.kamikazegirls.net/': 1,\n",
              "         'http://opiumpandamonium.com/realms/': 1,\n",
              "         'http://www.newline.com/properties/upsideofanger.html': 1,\n",
              "         'http://www.bombthesystem.com/': 1,\n",
              "         'http://www.sonypictures.com/classics/imaginary/site.html': 1,\n",
              "         'http://marvel.com/movies/movie/13/elektra': 1,\n",
              "         'http://www.memoriesofmurder.com/': 1,\n",
              "         'http://www.sommersturm.de/main.html': 1,\n",
              "         'http://www.downfallthefilm.com/': 1,\n",
              "         'http://www.dasweisserauschen.de/': 1,\n",
              "         'http://www.uip.de/lo/goodies/posters/pl_boogeyman.html': 1,\n",
              "         'https://www.uphe.com/movies/the-wedding-date': 1,\n",
              "         'http://constantinemovie.warnerbros.com/': 1,\n",
              "         'http://www.beautifulboxer-themovie.com/': 1,\n",
              "         'http://www.solarfilms.com/elokuvat/kaikki/pahamaa/en_GB/frozenland/': 1,\n",
              "         'http://rossmcelwee.com/brightleaves.html': 1,\n",
              "         'http://www.atmo.se/?pageID=4&articleID=382': 1,\n",
              "         'http://www.sonypictures.com/movies/chubbchubbs/': 1,\n",
              "         'http://www.travellersandmagicians.com/': 1,\n",
              "         'http://www.zelary.com': 1,\n",
              "         'http://rialtopictures.com/masculine.html': 1,\n",
              "         'http://movies.disney.com/the-pacifier': 1,\n",
              "         'http://www.gunnerpalace.com/': 1,\n",
              "         'http://www.walkonwatermovie.com': 1,\n",
              "         'http://www.imdb.com/title/tt0106464/': 1,\n",
              "         'http://kissthebridethemovie.net/': 1,\n",
              "         'http://www.filmarchive.org.nz/feature-project/pages/Crush.php': 1,\n",
              "         'http://www.nfb.ca/film/project_grizzly/': 1,\n",
              "         'http://movies.disney.com/pom-poko': 1,\n",
              "         'http://www.wildparrotsfilm.com': 1,\n",
              "         'http://www.miramax.com/movie/sin-city/': 1,\n",
              "         'http://www.ghostsofthecivildead.com/': 1,\n",
              "         'http://www.mutantaliensmovie.com/main.html': 1,\n",
              "         'http://www.newline.com/properties/yearoftheyao.html': 1,\n",
              "         'http://www.houseofdthemovie.com/': 1,\n",
              "         'http://www.sonypictures.com/movies/xxxstateoftheunion/': 1,\n",
              "         'http://www.tlareleasing.com/deathofadynasty/': 1,\n",
              "         'http://www.kingdomofheavendvd.com/': 1,\n",
              "         'http://www.crashfilm.com/': 1,\n",
              "         'http://www.universalstudiosentertainment.com/unleashed/': 1,\n",
              "         'http://www.starwars.com/films/star-wars-episode-iii-revenge-of-the-sith': 1,\n",
              "         'http://www.badguythemovie.net/splash.html': 1,\n",
              "         'http://www.magpictures.com/profile.aspx?id=a6ef8a42-a4f9-47ed-ae35-d9dfd0e5b110': 1,\n",
              "         'http://www.cinderellamanmovie.com/index.php': 1,\n",
              "         'http://www.miramax.com/movie/the-adventures-of-sharkboy-and-lavagirl/': 1,\n",
              "         'http://www2.warnerbros.com/batmanbegins/index.html': 1,\n",
              "         'http://www.watchvideoseries.com/movies/the-perfect-man-2005/': 1,\n",
              "         'http://www.thebridgeofsanluisreymovie.com/': 1,\n",
              "         'http://www.meandyoumovie.com/': 1,\n",
              "         'http://diefettenjahre.de': 1,\n",
              "         'http://www.trekkies2.com': 1,\n",
              "         'http://empereur.luc-jacquet.com/index_flash.htm': 1,\n",
              "         'http://www.cinemaguild.com/atoutdesuite/index.html': 1,\n",
              "         'http://www.thegodmovie.com': 1,\n",
              "         'http://www.debattremoncoeursestarrete-lefilm.com/': 1,\n",
              "         'http://www.sonyclassics.com/saraband/': 1,\n",
              "         'http://www.happyendingsthemovie.com/': 1,\n",
              "         'http://www.theisland-themovie.com/': 1,\n",
              "         'http://robzombie.com/movies/the-devils-rejects/': 1,\n",
              "         'http://www.cinefilo.es/peliculas/noviembre/13163/': 1,\n",
              "         'http://disney.go.com/disneypictures/skyhigh/': 1,\n",
              "         'http://www2.warnerbros.com/mustlovedogs/': 1,\n",
              "         'http://villageproductions.gr/atouchofspice.php': 1,\n",
              "         'http://www.endofsuburbia.com/': 1,\n",
              "         'http://www.thetalentgivenus.com/': 1,\n",
              "         'http://brokenflowersmovie.com/broken_flowers': 1,\n",
              "         'http://marvel.com/movies/movie/4/man-thing': 1,\n",
              "         'http://www.warnerbros.com/dukes-hazzard/index_splash': 1,\n",
              "         'http://www.sonyclassics.com/junebug/': 1,\n",
              "         'http://fourbrothersmovie.com': 1,\n",
              "         'http://dumamovie.warnerbros.com/': 1,\n",
              "         'http://www.pyramidefilms.com/lila-dit-ca/': 1,\n",
              "         'http://www.universalstudiosentertainment.com/the-40-year-old-virgin/': 1,\n",
              "         'http://www.cache-derfilm.at': 1,\n",
              "         'http://www.undiscoveredfilm.com/': 1,\n",
              "         'http://www.miramax.com/movie/proof': 1,\n",
              "         'http://wip.warnerbros.com/everythingisilluminated/': 1,\n",
              "         'http://www.sonyclassics.com/whywefight': 1,\n",
              "         'http://www.miramax.com/anunfinishedlife/': 1,\n",
              "         'http://corpsebridemovie.warnerbros.com/': 1,\n",
              "         'http://www.warnervideo.com/greenstreethooligans/': 1,\n",
              "         'http://www.olivertwistthemovie.co.uk/': 1,\n",
              "         'http://www.sonyclassics.com/capote/': 1,\n",
              "         'http://na.square-enix.com/ff7acc/': 1,\n",
              "         'http://www.crustaces-lefilm.com/': 1,\n",
              "         'http://www.wallaceandgromit.com/films/the-curse-of-the-wererabbit': 1,\n",
              "         'http://www.d-o-e-s.com/collection/bittersweet/index0.html': 1,\n",
              "         'http://www.bubblethefilm.com/': 2,\n",
              "         'http://www.beowulfandgrendel.com/': 1,\n",
              "         'http://www.dontcomeknocking.com/': 1,\n",
              "         'http://www.aideistaparhain.com/': 1,\n",
              "         'http://www.twoforthemoney.net': 1,\n",
              "         'http://www.starwreck.com/': 1,\n",
              "         'http://www.brokebackmountain.com': 1,\n",
              "         'http://northcountrymovie.warnerbros.com/': 1,\n",
              "         'http://wip.warnerbros.com/goodnightgoodluck/': 1,\n",
              "         'http://www.sonypictures.com/homevideo/thefog/index.html': 1,\n",
              "         'http://www.loggerheadsmovie.com/': 1,\n",
              "         'http://www.livingtiltheend.com/': 1,\n",
              "         'http://www.kidsinamericamovie.com/': 1,\n",
              "         'http://www.emmanuelsgift.com/': 1,\n",
              "         'http://www.sonypictures.com/homevideo/thelegendofzorro/index.html': 1,\n",
              "         'http://www.americanreunionmovie.com/': 3,\n",
              "         'http://yokai-movie.com/': 1,\n",
              "         'http://www.sonypictures.com/movies/revolver/': 1,\n",
              "         'http://movies.disney.com/chicken-little': 1,\n",
              "         'http://syrianamovie.warnerbros.com/': 1,\n",
              "         'http://weinsteinco.com/films/derailed/': 1,\n",
              "         'http://www.prideandprejudicemovie.net/splash.html': 1,\n",
              "         'http://harrypotter.warnerbros.com/': 1,\n",
              "         'http://www.sonypictures.com/movies/rent/': 1,\n",
              "         'http://www.jesusismagicthemovie.com/': 1,\n",
              "         'http://www.breakfastonpluto.co.uk/': 1,\n",
              "         'http://www.firstdescentmovie.com/': 1,\n",
              "         'http://wip.warnerbros.com/paradisenow/': 1,\n",
              "         'http://www.sonypictures.com/homevideo/memoirsofageisha/index.html': 1,\n",
              "         'http://thepromisemovie.net': 1,\n",
              "         'http://www.walmartmovie.com/': 1,\n",
              "         'http://www.transamerica-movie.com/': 1,\n",
              "         'http://rumorhasitmovie.warnerbros.com': 1,\n",
              "         'http://www.sonypictures.com/movies/funwithdickandjane/': 1,\n",
              "         'http://www.wildsideproject.com/site/dirtylove/': 1,\n",
              "         'http://www.pixar.com/short_films/Theatrical-Shorts/Luxo-Jr.': 1,\n",
              "         'http://www.lady-vengeance.de/': 1,\n",
              "         'http://www.banlieue13-lefilm.com/': 1,\n",
              "         'http://www.bloodrayne-themovie.com/main/index.html': 1,\n",
              "         'http://www.hostelfilm.com/': 1,\n",
              "         'http://www.hoodwinkedthemovie.com': 1,\n",
              "         'http://www.aprilsshower-themovie.com/': 1,\n",
              "         'http://www.sonypictures.com/movies/underworldawakening/': 1,\n",
              "         'http://www.sophiescholl-derfilm.de/': 1,\n",
              "         'http://www.tristramshandymovie.com/': 1,\n",
              "         'http://www.cbs.com/specials/helterskelter/': 1,\n",
              "         'http://www.whatisannwyn.co.uk/': 1,\n",
              "         'http://www.chappellesblockparty.com/home.html': 1,\n",
              "         'http://www.foxsearchlight.com/imaginemeandyou/': 1,\n",
              "         'http://www.cthulhulives.org/cocmovie/index.html': 1,\n",
              "         'http://www.thebusinessmovie.co.uk/': 1,\n",
              "         'http://www.sonypictures.com/movies/whenastrangercalls/site/': 1,\n",
              "         'http://www.tamaramovie.com/': 1,\n",
              "         'http://www.sonypictures.com/homevideo/freedomland/': 1,\n",
              "         'https://www.warnerbros.com/running-scared': 1,\n",
              "         'http://www.doogalmovie.com/': 1,\n",
              "         'http://www.sonypictures.com/movies/ultraviolet/': 1,\n",
              "         'http://www.pulsethemovie.net/': 1,\n",
              "         'http://www.iceagemovies.com/films/ice-age-the-meltdown': 1,\n",
              "         'http://vforvendetta.warnerbros.com/': 1,\n",
              "         'http://theinsideman.net': 1,\n",
              "         'http://www.tsotsimovie.com/': 1,\n",
              "         'http://www.aquamarinemovie.com/': 1,\n",
              "         'http://lichter-der-vorstadt.pandorafilmverleih.de/': 1,\n",
              "         'http://www.foxsearchlight.com/thehillshaveeyes/': 1,\n",
              "         'http://movies.disney.com/the-shaggy-dog-2006': 1,\n",
              "         'http://www.sonyclassics.com/devilanddaniel/': 1,\n",
              "         'http://www.wildblueyonder.wernerherzog.com/': 1,\n",
              "         'http://www.volver-lapelicula.com': 1,\n",
              "         'http://www.akeelahandthebee.com/splash.html': 1,\n",
              "         'http://www.bichodesetecabecas.com.br/': 1,\n",
              "         'http://www.brickmovie.net/': 1,\n",
              "         'http://movies.filmax.com/fragiles/': 1,\n",
              "         'http://www.zucker-derfilm.de/': 1,\n",
              "         'http://www.dendyfilms.com.au/candy/': 1,\n",
              "         'http://hardcandymovie.com/': 1,\n",
              "         'http://www.disney.com/thewild': 1,\n",
              "         'http://www.lamujermovie.com/': 1,\n",
              "         'http://www.sonypictures.com/homevideo/silenthill/': 1,\n",
              "         'http://www.movieirresistible.com/': 1,\n",
              "         'http://www.noruzfilms.com/films/mpc.html': 1,\n",
              "         'https://buy.tromamovies.com/product_info.php?products_id=543': 1,\n",
              "         'http://www.downinthevalleyfilm.com/main.htm': 1,\n",
              "         'http://www2.warnerbros.com/poseidon/': 1,\n",
              "         'http://www.sonypictures.com/homevideo/thedavincicode/index.html': 1,\n",
              "         'https://www.uphe.com/movies/the-break-up': 1,\n",
              "         'http://www.thepeacefulwarriormovie.com/': 1,\n",
              "         'http://www.12andholdingmovie.com/': 1,\n",
              "         'http://disney.go.com/disneyvideos/animatedfilms/cars/': 1,\n",
              "         'http://www.wassuprockers.net/': 1,\n",
              "         'http://www.game6film.com/index.html': 1,\n",
              "         'http://www.theomenmovie.com/': 1,\n",
              "         'http://www.nacholibre.com/': 1,\n",
              "         'http://wwws.warnerbros.de/thelakehouse/': 1,\n",
              "         'http://www.devilwearspradamovie.com/': 1,\n",
              "         'http://disney.go.com/disneypictures/pirates/': 2,\n",
              "         'http://www.youmeanddupree.com/': 1,\n",
              "         'http://www.sonypictures.com/homevideo/marieantoinette/index.html': 1,\n",
              "         'http://www.whokilledtheelectriccar.com/': 1,\n",
              "         'http://www.climatecrisis.net/': 1,\n",
              "         'http://tv.disney.go.com/disneychannel/originalmovies/highschoolmusical/index.html': 1,\n",
              "         'http://www.drawingrestraint.net/': 1,\n",
              "         'http://www.iamasexaddictthemovie.com/home.html': 1,\n",
              "         'http://www.thefastandthefurious3.com/': 1,\n",
              "         'http://www.sommervormbalkon.de/': 1,\n",
              "         'http://mouthtomouthmovie.com/': 1,\n",
              "         'http://www.superman.com': 1,\n",
              "         'http://www.roadtoguantanamomovie.com/': 1,\n",
              "         'http://www.leonardcohenimyourman.com': 1,\n",
              "         'http://www.edmondthefilm.com/': 1,\n",
              "         'http://www.foxsearchlight.com/littlemisssunshine/': 1,\n",
              "         'http://www.dischord.com/release/080/instrument': 1,\n",
              "         'http://www.ocean-films.com/threetimes/': 1,\n",
              "         'http://www.littleman-movie.com/': 1,\n",
              "         'http://www.endofthespear.com/': 1,\n",
              "         'http://www.sonypictures.com/movies/monsterhouse/': 1,\n",
              "         'http://www.silenstvi.cz/': 1,\n",
              "         'http://www.combientumaimes.com/': 1,\n",
              "         'http://www.scoopmovie.net/': 1,\n",
              "         'http://www.sonypictures.com/homevideo/talladeganights/': 1,\n",
              "         'http://www.sonypictures.com/homevideo/strangerthanfiction/': 1,\n",
              "         'http://www.sioneswedding.com/': 1,\n",
              "         'http://www.sonypictures.com/homevideo/thepursuitofhappyness/': 1,\n",
              "         'http://www.theantbully.com': 1,\n",
              "         'http://www.mindgame.jp': 1,\n",
              "         'http://www.halfnelsonthefilm.co.uk/': 1,\n",
              "         'http://www.tidelandthemovie.com/': 1,\n",
              "         'http://www.thequeenmovie.co.uk/': 1,\n",
              "         'http://www.sorryhaters2006.com/': 1,\n",
              "         'http://www.angela-lefilm.com/': 1,\n",
              "         'http://www.thepuffychairmovie.com': 1,\n",
              "         'http://www.sonypictures.com/movies/crossover/': 1,\n",
              "         'http://www.severancefilm.com': 1,\n",
              "         'http://www.hollywoodlandmovie.com/': 1,\n",
              "         'http://thefountainmovie.warnerbros.com/': 1,\n",
              "         'http://www.lasciencedesreves-lefilm.com/accueil.htm': 1,\n",
              "         'http://www.taxidermia.at': 1,\n",
              "         'http://www.sonypictures.com/homevideo/allthekingsmen/': 1,\n",
              "         'http://www.boratmovie.com/': 1,\n",
              "         'http://iraqforsale.org/': 1,\n",
              "         'http://www.panslabyrinth.com': 1,\n",
              "         'http://www.sonypictures.com/movies/openseason/': 1,\n",
              "         'http://thedeparted.warnerbros.com/': 1,\n",
              "         'http://www.sonypictures.com/homevideo/thegrudge2/': 1,\n",
              "         'http://8x.com/onenight/main.html': 1,\n",
              "         'http://www.elementarteilchen.film.de/': 1,\n",
              "         'http://www.feast-movie.com/': 1,\n",
              "         'http://www.littlechildrenmovie.com': 1,\n",
              "         'http://www.deliverusfromevilthemovie.com/': 1,\n",
              "         'http://www.facingthegiants.com/': 1,\n",
              "         'http://www.universalstudiosentertainment.com/children-of-men/': 1,\n",
              "         'http://wwws.warnerbros.de/theprestige/': 1,\n",
              "         'http://www.9thcompany.com': 1,\n",
              "         'http://web.archive.org/web/20080210100832/http://www.azumi2.jp/index.html': 1,\n",
              "         'http://www.13-tzameti.com/': 1,\n",
              "         'http://www.deathofapresident.com/': 1,\n",
              "         'http://www.newline.com/properties/butterflyeffect2the.html': 1,\n",
              "         'http://www.dreamworksanimation.com/flushed/': 1,\n",
              "         'http://www.parfum.film.de/': 1,\n",
              "         'http://www.actefilms.fr/lesenfants.html': 1,\n",
              "         'http://www.mgm.com/#/our-titles/233/Casino-Royale-(2006)': 1,\n",
              "         'http://www.warnerbros.com/happy-feet': 1,\n",
              "         'http://www.sonypictures.com/movies/theholiday/': 1,\n",
              "         'http://www.harshtimes.com/': 1,\n",
              "         'http://www.tenaciousdmovie.com/': 1,\n",
              "         'http://www.oss117.fr/accueil.htm': 1,\n",
              "         'http://www.riseoftaj.com/': 1,\n",
              "         'http://www.eragonmovie.com/': 1,\n",
              "         'http://www.rocky.com/': 1,\n",
              "         'http://www.furmovie.com/': 1,\n",
              "         'http://www.profun.de/anothergaymovie/': 1,\n",
              "         'http://www.kumonomukou.com/': 1,\n",
              "         'http://www.thegoodshepherdmovie.com/': 1,\n",
              "         'http://www.dreamgirlsmovie.com/': 1,\n",
              "         'http://www.loosechange911.com/': 2,\n",
              "         'http://www.we-feed-the-world.at/index.htm': 1,\n",
              "         'http://www.freedomwriters.com/': 1,\n",
              "         'http://www.inlandempirecinema.com/': 1,\n",
              "         'http://www.zeitgeistfilms.com/film.php?directoryname=caravaggio': 1,\n",
              "         'http://www.foxsearchlight.com/site/thehistoryboys/': 1,\n",
              "         'http://www.foxsearchlight.com/NOAS/': 1,\n",
              "         'http://ent.sina.com.cn/hjj/': 1,\n",
              "         'http://www.the-good-german.de': 1,\n",
              "         'http://www.sweetlandmovie.com/': 1,\n",
              "         'http://iwojimathemovie.warnerbros.com/lettersofiwojima/framework/framework.html': 1,\n",
              "         'http://www.happilyneverafterthefilm.com/': 1,\n",
              "         'http://www.lovingannabelle.com/': 1,\n",
              "         'http://www.diegrossestille.de/english/': 1,\n",
              "         'http://disney.go.com/disneyvideos/liveaction/bridgetoterabithia/': 1,\n",
              "         'http://www.beerleaguethemovie.com/': 1,\n",
              "         'http://www.killerofsheep.com/': 1,\n",
              "         'http://www.dirtysanchezthemovie.co.uk/': 1,\n",
              "         'http://www.kennythemovie.com/': 1,\n",
              "         'http://www.pbs.org/pov/fortynineup/': 1,\n",
              "         'http://thesecret.tv/': 1,\n",
              "         'http://www.sonypictures.com/movies/catchandrelease/': 1,\n",
              "         'http://www.smokinaces.net/': 1,\n",
              "         'http://www.becauseisaidsomovie.com/index_intro.htm': 1,\n",
              "         'http://hannibalrising.com/': 1,\n",
              "         'http://www.meetnorbit.com/': 1,\n",
              "         'http://www.direktorenfordethele.dk/': 1,\n",
              "         'http://www.magpictures.com/profile.aspx?id=9833910c-fd4a-4fcb-a734-b3d252473a03': 1,\n",
              "         'http://www.millenniumfilms.com/lonelyhearts/': 1,\n",
              "         'http://disney.go.com/disneypictures/ratatouille/': 1,\n",
              "         'http://theastronautfarmermovie.warnerbros.com/': 1,\n",
              "         'http://www.uglyandme.com/': 1,\n",
              "         'http://www.indigenes-lefilm.com/': 1,\n",
              "         'http://www.sonypictures.com/movies/ghostrider/': 1,\n",
              "         'http://www.breachmovie.net/': 1,\n",
              "         'http://wwws.warnerbros.de/number23/': 1,\n",
              "         'http://www.moanmovie.com/': 1,\n",
              "         'http://loudquietloud.com/': 1,\n",
              "         'http://www.kidulthood.co.uk/': 1,\n",
              "         'http://www.universalstudiosentertainment.com/hot-fuzz/': 1,\n",
              "         'http://www.catsthemusical.com/the-show/the-film/': 1,\n",
              "         'http://www.godgrewtiredofus.com/': 1,\n",
              "         'http://www.iraqinfragments.com/': 1,\n",
              "         'http://www.amazinggracemovie.com/': 1,\n",
              "         'http://www.romanzocriminale.it/': 1,\n",
              "         'http://video.movies.go.com/wildhogs/': 1,\n",
              "         'http://www.1moon.ru/': 1,\n",
              "         'http://disneydvd.disney.go.com/atlantis-milos-return.html': 1,\n",
              "         'http://300themovie.warnerbros.com': 1,\n",
              "         'http://www.mimzy.com': 1,\n",
              "         'http://www.tfmdistribution.com/horsdeprix/': 1,\n",
              "         'http://www.hostmovie.com/': 1,\n",
              "         'http://becomingjane-themovie.com/': 1,\n",
              "         'http://www.secondchancethemovie.com': 1,\n",
              "         'http://www.deadsilencemovie.net/': 1,\n",
              "         'http://www.sonypictures.com/movies/reignoverme/index.html': 1,\n",
              "         'http://www.pridefilm.com/': 1,\n",
              "         'http://www.shootermovie.com/': 1,\n",
              "         'https://www.warnerbros.com/tmnt': 1,\n",
              "         'http://www.sonyclassics.com/theitalian/': 1,\n",
              "         'http://www.sonyclassics.com/jindabyne/': 1,\n",
              "         'http://www.bacfilms.com/site/nipournicontre/': 1,\n",
              "         'http://www.eklavyatheroyalguard.com/': 1,\n",
              "         'http://www.dark-horse.de/start.htm': 1,\n",
              "         'http://video.movies.go.com/thelookout/': 1,\n",
              "         'http://www.thereapingmovie.com': 1,\n",
              "         'http://www.sonyclassics.com/americanhardcore/': 1,\n",
              "         'http://www.gin-iro.jp/': 1,\n",
              "         'http://www.disturbia.com/': 1,\n",
              "         'http://www.tfmdistribution.com/lamome/lamome.htm': 1,\n",
              "         'http://www.warnerbros.com/land-women': 1,\n",
              "         'http://gracelee.net/': 1,\n",
              "         'http://www.sonypictures.com/movies/spider-man3/': 1,\n",
              "         'http://luckyyoumovie.warnerbros.com/': 1,\n",
              "         'http://kore-eda.com/hana/': 1,\n",
              "         'http://www.sharkwater.com/': 1,\n",
              "         'http://disney.go.com/disneypictures/earthsea/#/home': 1,\n",
              "         'http://www.northernstars.ca/titles/2005/maurice_richard.html': 1,\n",
              "         'http://www.diggersmovie.com/': 1,\n",
              "         'http://www.sonyclassics.com/paprika/': 1,\n",
              "         'http://www.foxsearchlight.com/daywatch/': 1,\n",
              "         'http://www.thisisenglandmovie.co.uk/': 1,\n",
              "         'http://knockedupmovie.com/': 1,\n",
              "         'http://www.hairspraymovie.com/': 1,\n",
              "         'http://www.shrekthethird.com/flash/index.html': 1,\n",
              "         'http://www.foxsearchlight.com/once/': 1,\n",
              "         'http://www.tntdrama.com/movies/the-librarian-quest-for-the-spear.html': 1,\n",
              "         'http://www.faygrimfilm.com/': 1,\n",
              "         'http://oceans13.warnerbros.com/': 1,\n",
              "         'http://www.sonnenallee.de/': 1,\n",
              "         'http://www.paranoidpark.co.uk/': 1,\n",
              "         'http://www.sonypictures.com/homevideo/surfsup/': 1,\n",
              "         'http://www.fidothemovie.com/': 1,\n",
              "         'http://www.deathproof.net/': 1,\n",
              "         'https://www.uphe.com/movies/bring-it-on-all-or-nothing': 1,\n",
              "         'http://www.amightyheartmovie.com/': 1,\n",
              "         'http://www.1408-themovie.com/': 1,\n",
              "         'http://www.deathatafuneral-themovie.com/': 1,\n",
              "         'http://licensetowedthemovie.warnerbros.com/': 1,\n",
              "         'http://www.focusfeatures.com/evening/': 1,\n",
              "         'http://www.evanalmighty.com/': 1,\n",
              "         'http://www.transformersmovie.com/': 4,\n",
              "         'http://www.harrypotterorderofthephoenix.com/': 1,\n",
              "         'http://www.chuckandlarry.com/index.php': 1,\n",
              "         'http://www.acrosstheuniverse.com/': 1,\n",
              "         'http://www.branduponthebrain.com/': 1,\n",
              "         'http://www.adogsbreakfastmovie.com/': 1,\n",
              "         'http://www.stardustmovie.com': 1,\n",
              "         'http://www.simpsonsmovie.com/': 1,\n",
              "         'http://sonypictures.com/homevideo/iknowwhokilledme/': 1,\n",
              "         'http://noreservationsmovie.warnerbros.com/': 1,\n",
              "         'http://disney.go.com/disneyvideos/liveaction/underdog/': 1,\n",
              "         'http://www.charliebartlett-themovie.com/': 1,\n",
              "         'http://www.universalstudiosentertainment.com/the-bourne-ultimatum/': 1,\n",
              "         'http://www.monmeilleurami-lefilm.com/': 1,\n",
              "         'http://www.youkillmethefilm.com/': 1,\n",
              "         'http://teddybearfilms.fatcow.com/2011/09/01/china-blue/': 1,\n",
              "         ...})"
            ]
          },
          "metadata": {},
          "execution_count": 61
        }
      ]
    },
    {
      "cell_type": "code",
      "metadata": {
        "colab": {
          "base_uri": "https://localhost:8080/"
        },
        "id": "7NPnS7FWQSvp",
        "outputId": "72603913-bd83-476e-8bdc-6f650ea30ed5"
      },
      "source": [
        "len(movies_metadata[ (movies_metadata['revenue'] == 0) ])"
      ],
      "execution_count": 62,
      "outputs": [
        {
          "output_type": "execute_result",
          "data": {
            "text/plain": [
              "38041"
            ]
          },
          "metadata": {},
          "execution_count": 62
        }
      ]
    },
    {
      "cell_type": "code",
      "metadata": {
        "colab": {
          "base_uri": "https://localhost:8080/"
        },
        "id": "l3c2JBENPuzo",
        "outputId": "0633ca2b-569c-49cd-9b23-c81b21294da0"
      },
      "source": [
        "movies_metadata[ (movies_metadata['video'] == False) ].revenue"
      ],
      "execution_count": 63,
      "outputs": [
        {
          "output_type": "execute_result",
          "data": {
            "text/plain": [
              "0        373554033.0\n",
              "1        262797249.0\n",
              "2                0.0\n",
              "3         81452156.0\n",
              "4         76578911.0\n",
              "            ...     \n",
              "45461            0.0\n",
              "45462            0.0\n",
              "45463            0.0\n",
              "45464            0.0\n",
              "45465            0.0\n",
              "Name: revenue, Length: 45354, dtype: float64"
            ]
          },
          "metadata": {},
          "execution_count": 63
        }
      ]
    },
    {
      "cell_type": "code",
      "metadata": {
        "colab": {
          "base_uri": "https://localhost:8080/",
          "height": 0
        },
        "id": "Ql4ykeOhMs_k",
        "outputId": "91df5259-bdaf-440c-cc77-bf10676937aa"
      },
      "source": [
        "import matplotlib.pyplot as plt\n",
        "plt.scatter(movies_metadata['video'], movies_metadata['revenue'], alpha = .5)\n",
        "plt.title('Scatter graph video per revenue', fontsize=20)\n",
        "plt.xlabel('video', fontsize=12)\n",
        "plt.ylabel('revenue', fontsize=12)"
      ],
      "execution_count": 64,
      "outputs": [
        {
          "output_type": "execute_result",
          "data": {
            "text/plain": [
              "Text(0, 0.5, 'revenue')"
            ]
          },
          "metadata": {},
          "execution_count": 64
        },
        {
          "output_type": "display_data",
          "data": {
            "image/png": "[encoded data removed]",
            "text/plain": [
              "<Figure size 432x288 with 1 Axes>"
            ]
          },
          "metadata": {
            "needs_background": "light"
          }
        }
      ]
    },
    {
      "cell_type": "code",
      "metadata": {
        "colab": {
          "base_uri": "https://localhost:8080/",
          "height": 0
        },
        "id": "qv8WouFDNBR0",
        "outputId": "db5bbe83-e2a8-449c-d5df-42f6724b08af"
      },
      "source": [
        "movies_metadata[movies_metadata['video']==False].revenue.hist(figsize=(16,8), log=True);"
      ],
      "execution_count": 65,
      "outputs": [
        {
          "output_type": "display_data",
          "data": {
            "image/png": "[encoded data removed]",
            "text/plain": [
              "<Figure size 1152x576 with 1 Axes>"
            ]
          },
          "metadata": {
            "needs_background": "light"
          }
        }
      ]
    },
    {
      "cell_type": "code",
      "metadata": {
        "id": "cBDwD-xSdN3n"
      },
      "source": [
        "# 출시 예정 상태의 영화에 대해서 예측할 예정이다. -> 나중에 분리\n",
        "# test_movies_metadata = movies_metadata[(movies_metadata['status'] == 'Planned') | (movies_metadata['status'] == 'In Production')]\n",
        "# print(test_movies_metadata.status.unique())"
      ],
      "execution_count": 66,
      "outputs": []
    },
    {
      "cell_type": "code",
      "metadata": {
        "colab": {
          "base_uri": "https://localhost:8080/"
        },
        "id": "uxlZLWiDd8AA",
        "outputId": "fbb93b9a-45e4-48ad-f692-2d504e979d2f"
      },
      "source": [
        "# 출시된 상태의 영화에 대해서 훈련시킬 예정이다.\n",
        "movies_metadata = movies_metadata[ (movies_metadata['status'] == 'Released') | (movies_metadata['status'] == 'Planned') \n",
        "                    | (movies_metadata['status'] == 'In Production') | (movies_metadata['status'] == 'Post Production')]\n",
        "print(movies_metadata.status.unique())"
      ],
      "execution_count": 67,
      "outputs": [
        {
          "output_type": "stream",
          "name": "stdout",
          "text": [
            "['Released' 'Post Production' 'In Production' 'Planned']\n"
          ]
        }
      ]
    },
    {
      "cell_type": "code",
      "metadata": {
        "colab": {
          "base_uri": "https://localhost:8080/",
          "height": 0
        },
        "id": "5Nqk3e50Qmxo",
        "outputId": "4937c622-4016-4204-db76-a014157c813a"
      },
      "source": [
        "movies_metadata.describe(include='all')"
      ],
      "execution_count": 68,
      "outputs": [
        {
          "output_type": "execute_result",
          "data": {
            "text/html": [
              "<div>\n",
              "<style scoped>\n",
              "    .dataframe tbody tr th:only-of-type {\n",
              "        vertical-align: middle;\n",
              "    }\n",
              "\n",
              "    .dataframe tbody tr th {\n",
              "        vertical-align: top;\n",
              "    }\n",
              "\n",
              "    .dataframe thead th {\n",
              "        text-align: right;\n",
              "    }\n",
              "</style>\n",
              "<table border=\"1\" class=\"dataframe\">\n",
              "  <thead>\n",
              "    <tr style=\"text-align: right;\">\n",
              "      <th></th>\n",
              "      <th>adult</th>\n",
              "      <th>belongs_to_collection</th>\n",
              "      <th>budget</th>\n",
              "      <th>genres</th>\n",
              "      <th>homepage</th>\n",
              "      <th>id</th>\n",
              "      <th>imdb_id</th>\n",
              "      <th>original_language</th>\n",
              "      <th>original_title</th>\n",
              "      <th>overview</th>\n",
              "      <th>popularity</th>\n",
              "      <th>poster</th>\n",
              "      <th>production_companies</th>\n",
              "      <th>production_countries</th>\n",
              "      <th>release_date</th>\n",
              "      <th>revenue</th>\n",
              "      <th>runtime</th>\n",
              "      <th>spoken_languages</th>\n",
              "      <th>status</th>\n",
              "      <th>tagline</th>\n",
              "      <th>title</th>\n",
              "      <th>video</th>\n",
              "      <th>vote_average</th>\n",
              "      <th>vote_count</th>\n",
              "    </tr>\n",
              "  </thead>\n",
              "  <tbody>\n",
              "    <tr>\n",
              "      <th>count</th>\n",
              "      <td>45135</td>\n",
              "      <td>4478</td>\n",
              "      <td>45135</td>\n",
              "      <td>45135</td>\n",
              "      <td>7750</td>\n",
              "      <td>45135.000000</td>\n",
              "      <td>45120</td>\n",
              "      <td>45125</td>\n",
              "      <td>45135</td>\n",
              "      <td>44210</td>\n",
              "      <td>45135</td>\n",
              "      <td>45135.000000</td>\n",
              "      <td>45135</td>\n",
              "      <td>45135</td>\n",
              "      <td>45053</td>\n",
              "      <td>4.513500e+04</td>\n",
              "      <td>44882.000000</td>\n",
              "      <td>45135</td>\n",
              "      <td>45135</td>\n",
              "      <td>20334</td>\n",
              "      <td>45135</td>\n",
              "      <td>45135</td>\n",
              "      <td>45135.000000</td>\n",
              "      <td>45135.000000</td>\n",
              "    </tr>\n",
              "    <tr>\n",
              "      <th>unique</th>\n",
              "      <td>2</td>\n",
              "      <td>1692</td>\n",
              "      <td>1221</td>\n",
              "      <td>4054</td>\n",
              "      <td>7643</td>\n",
              "      <td>NaN</td>\n",
              "      <td>45103</td>\n",
              "      <td>89</td>\n",
              "      <td>43081</td>\n",
              "      <td>44026</td>\n",
              "      <td>43900</td>\n",
              "      <td>NaN</td>\n",
              "      <td>22643</td>\n",
              "      <td>2384</td>\n",
              "      <td>17291</td>\n",
              "      <td>NaN</td>\n",
              "      <td>NaN</td>\n",
              "      <td>1921</td>\n",
              "      <td>4</td>\n",
              "      <td>20211</td>\n",
              "      <td>42009</td>\n",
              "      <td>2</td>\n",
              "      <td>NaN</td>\n",
              "      <td>NaN</td>\n",
              "    </tr>\n",
              "    <tr>\n",
              "      <th>top</th>\n",
              "      <td>False</td>\n",
              "      <td>{'id': 415931, 'name': 'The Bowery Boys', 'pos...</td>\n",
              "      <td>0</td>\n",
              "      <td>[{'id': 18, 'name': 'Drama'}]</td>\n",
              "      <td>http://www.georgecarlin.com</td>\n",
              "      <td>NaN</td>\n",
              "      <td>tt0157472</td>\n",
              "      <td>en</td>\n",
              "      <td>Hamlet</td>\n",
              "      <td>No overview found.</td>\n",
              "      <td>0.0</td>\n",
              "      <td>NaN</td>\n",
              "      <td>[]</td>\n",
              "      <td>[{'iso_3166_1': 'US', 'name': 'United States o...</td>\n",
              "      <td>2008-01-01</td>\n",
              "      <td>NaN</td>\n",
              "      <td>NaN</td>\n",
              "      <td>[{'iso_639_1': 'en', 'name': 'English'}]</td>\n",
              "      <td>Released</td>\n",
              "      <td>Based on a true story.</td>\n",
              "      <td>Cinderella</td>\n",
              "      <td>False</td>\n",
              "      <td>NaN</td>\n",
              "      <td>NaN</td>\n",
              "    </tr>\n",
              "    <tr>\n",
              "      <th>freq</th>\n",
              "      <td>45126</td>\n",
              "      <td>29</td>\n",
              "      <td>36259</td>\n",
              "      <td>4955</td>\n",
              "      <td>12</td>\n",
              "      <td>NaN</td>\n",
              "      <td>2</td>\n",
              "      <td>32045</td>\n",
              "      <td>8</td>\n",
              "      <td>133</td>\n",
              "      <td>33</td>\n",
              "      <td>NaN</td>\n",
              "      <td>11673</td>\n",
              "      <td>17776</td>\n",
              "      <td>135</td>\n",
              "      <td>NaN</td>\n",
              "      <td>NaN</td>\n",
              "      <td>22284</td>\n",
              "      <td>45002</td>\n",
              "      <td>7</td>\n",
              "      <td>11</td>\n",
              "      <td>45042</td>\n",
              "      <td>NaN</td>\n",
              "      <td>NaN</td>\n",
              "    </tr>\n",
              "    <tr>\n",
              "      <th>mean</th>\n",
              "      <td>NaN</td>\n",
              "      <td>NaN</td>\n",
              "      <td>NaN</td>\n",
              "      <td>NaN</td>\n",
              "      <td>NaN</td>\n",
              "      <td>108644.593043</td>\n",
              "      <td>NaN</td>\n",
              "      <td>NaN</td>\n",
              "      <td>NaN</td>\n",
              "      <td>NaN</td>\n",
              "      <td>NaN</td>\n",
              "      <td>0.991714</td>\n",
              "      <td>NaN</td>\n",
              "      <td>NaN</td>\n",
              "      <td>NaN</td>\n",
              "      <td>1.128934e+07</td>\n",
              "      <td>94.223096</td>\n",
              "      <td>NaN</td>\n",
              "      <td>NaN</td>\n",
              "      <td>NaN</td>\n",
              "      <td>NaN</td>\n",
              "      <td>NaN</td>\n",
              "      <td>5.622282</td>\n",
              "      <td>110.638263</td>\n",
              "    </tr>\n",
              "    <tr>\n",
              "      <th>std</th>\n",
              "      <td>NaN</td>\n",
              "      <td>NaN</td>\n",
              "      <td>NaN</td>\n",
              "      <td>NaN</td>\n",
              "      <td>NaN</td>\n",
              "      <td>112782.236077</td>\n",
              "      <td>NaN</td>\n",
              "      <td>NaN</td>\n",
              "      <td>NaN</td>\n",
              "      <td>NaN</td>\n",
              "      <td>NaN</td>\n",
              "      <td>0.090652</td>\n",
              "      <td>NaN</td>\n",
              "      <td>NaN</td>\n",
              "      <td>NaN</td>\n",
              "      <td>6.455644e+07</td>\n",
              "      <td>38.373427</td>\n",
              "      <td>NaN</td>\n",
              "      <td>NaN</td>\n",
              "      <td>NaN</td>\n",
              "      <td>NaN</td>\n",
              "      <td>NaN</td>\n",
              "      <td>1.918346</td>\n",
              "      <td>492.996156</td>\n",
              "    </tr>\n",
              "    <tr>\n",
              "      <th>min</th>\n",
              "      <td>NaN</td>\n",
              "      <td>NaN</td>\n",
              "      <td>NaN</td>\n",
              "      <td>NaN</td>\n",
              "      <td>NaN</td>\n",
              "      <td>2.000000</td>\n",
              "      <td>NaN</td>\n",
              "      <td>NaN</td>\n",
              "      <td>NaN</td>\n",
              "      <td>NaN</td>\n",
              "      <td>NaN</td>\n",
              "      <td>0.000000</td>\n",
              "      <td>NaN</td>\n",
              "      <td>NaN</td>\n",
              "      <td>NaN</td>\n",
              "      <td>0.000000e+00</td>\n",
              "      <td>0.000000</td>\n",
              "      <td>NaN</td>\n",
              "      <td>NaN</td>\n",
              "      <td>NaN</td>\n",
              "      <td>NaN</td>\n",
              "      <td>NaN</td>\n",
              "      <td>0.000000</td>\n",
              "      <td>0.000000</td>\n",
              "    </tr>\n",
              "    <tr>\n",
              "      <th>25%</th>\n",
              "      <td>NaN</td>\n",
              "      <td>NaN</td>\n",
              "      <td>NaN</td>\n",
              "      <td>NaN</td>\n",
              "      <td>NaN</td>\n",
              "      <td>26279.000000</td>\n",
              "      <td>NaN</td>\n",
              "      <td>NaN</td>\n",
              "      <td>NaN</td>\n",
              "      <td>NaN</td>\n",
              "      <td>NaN</td>\n",
              "      <td>1.000000</td>\n",
              "      <td>NaN</td>\n",
              "      <td>NaN</td>\n",
              "      <td>NaN</td>\n",
              "      <td>0.000000e+00</td>\n",
              "      <td>85.000000</td>\n",
              "      <td>NaN</td>\n",
              "      <td>NaN</td>\n",
              "      <td>NaN</td>\n",
              "      <td>NaN</td>\n",
              "      <td>NaN</td>\n",
              "      <td>5.000000</td>\n",
              "      <td>3.000000</td>\n",
              "    </tr>\n",
              "    <tr>\n",
              "      <th>50%</th>\n",
              "      <td>NaN</td>\n",
              "      <td>NaN</td>\n",
              "      <td>NaN</td>\n",
              "      <td>NaN</td>\n",
              "      <td>NaN</td>\n",
              "      <td>60029.000000</td>\n",
              "      <td>NaN</td>\n",
              "      <td>NaN</td>\n",
              "      <td>NaN</td>\n",
              "      <td>NaN</td>\n",
              "      <td>NaN</td>\n",
              "      <td>1.000000</td>\n",
              "      <td>NaN</td>\n",
              "      <td>NaN</td>\n",
              "      <td>NaN</td>\n",
              "      <td>0.000000e+00</td>\n",
              "      <td>95.000000</td>\n",
              "      <td>NaN</td>\n",
              "      <td>NaN</td>\n",
              "      <td>NaN</td>\n",
              "      <td>NaN</td>\n",
              "      <td>NaN</td>\n",
              "      <td>6.000000</td>\n",
              "      <td>10.000000</td>\n",
              "    </tr>\n",
              "    <tr>\n",
              "      <th>75%</th>\n",
              "      <td>NaN</td>\n",
              "      <td>NaN</td>\n",
              "      <td>NaN</td>\n",
              "      <td>NaN</td>\n",
              "      <td>NaN</td>\n",
              "      <td>158419.500000</td>\n",
              "      <td>NaN</td>\n",
              "      <td>NaN</td>\n",
              "      <td>NaN</td>\n",
              "      <td>NaN</td>\n",
              "      <td>NaN</td>\n",
              "      <td>1.000000</td>\n",
              "      <td>NaN</td>\n",
              "      <td>NaN</td>\n",
              "      <td>NaN</td>\n",
              "      <td>0.000000e+00</td>\n",
              "      <td>107.000000</td>\n",
              "      <td>NaN</td>\n",
              "      <td>NaN</td>\n",
              "      <td>NaN</td>\n",
              "      <td>NaN</td>\n",
              "      <td>NaN</td>\n",
              "      <td>6.800000</td>\n",
              "      <td>35.000000</td>\n",
              "    </tr>\n",
              "    <tr>\n",
              "      <th>max</th>\n",
              "      <td>NaN</td>\n",
              "      <td>NaN</td>\n",
              "      <td>NaN</td>\n",
              "      <td>NaN</td>\n",
              "      <td>NaN</td>\n",
              "      <td>469172.000000</td>\n",
              "      <td>NaN</td>\n",
              "      <td>NaN</td>\n",
              "      <td>NaN</td>\n",
              "      <td>NaN</td>\n",
              "      <td>NaN</td>\n",
              "      <td>1.000000</td>\n",
              "      <td>NaN</td>\n",
              "      <td>NaN</td>\n",
              "      <td>NaN</td>\n",
              "      <td>2.787965e+09</td>\n",
              "      <td>1256.000000</td>\n",
              "      <td>NaN</td>\n",
              "      <td>NaN</td>\n",
              "      <td>NaN</td>\n",
              "      <td>NaN</td>\n",
              "      <td>NaN</td>\n",
              "      <td>10.000000</td>\n",
              "      <td>14075.000000</td>\n",
              "    </tr>\n",
              "  </tbody>\n",
              "</table>\n",
              "</div>"
            ],
            "text/plain": [
              "        adult  ...    vote_count\n",
              "count   45135  ...  45135.000000\n",
              "unique      2  ...           NaN\n",
              "top     False  ...           NaN\n",
              "freq    45126  ...           NaN\n",
              "mean      NaN  ...    110.638263\n",
              "std       NaN  ...    492.996156\n",
              "min       NaN  ...      0.000000\n",
              "25%       NaN  ...      3.000000\n",
              "50%       NaN  ...     10.000000\n",
              "75%       NaN  ...     35.000000\n",
              "max       NaN  ...  14075.000000\n",
              "\n",
              "[11 rows x 24 columns]"
            ]
          },
          "metadata": {},
          "execution_count": 68
        }
      ]
    },
    {
      "cell_type": "markdown",
      "metadata": {
        "id": "0C2n4p4YWn02"
      },
      "source": [
        "imdb_id는 id값이기 때문에 실제 값으로 보기 힘들다. ->drop\n",
        "\n",
        "vote_count도 count한 통계결과이기 때문에 유의미하지않다. ->drop"
      ]
    },
    {
      "cell_type": "code",
      "metadata": {
        "colab": {
          "base_uri": "https://localhost:8080/",
          "height": 0
        },
        "id": "xLjmlfuhLOwb",
        "outputId": "24e8ded4-5736-4741-86b5-c972aac6ab44"
      },
      "source": [
        "movies_metadata['original_language'].hist(figsize=(20,10), log=True);"
      ],
      "execution_count": 69,
      "outputs": [
        {
          "output_type": "display_data",
          "data": {
            "image/png": "[encoded data removed]",
            "text/plain": [
              "<Figure size 1440x720 with 1 Axes>"
            ]
          },
          "metadata": {
            "needs_background": "light"
          }
        }
      ]
    },
    {
      "cell_type": "code",
      "metadata": {
        "colab": {
          "base_uri": "https://localhost:8080/",
          "height": 0
        },
        "id": "OkQtOq99uy0C",
        "outputId": "c02a2275-913e-468d-9dc2-7c76183e1233"
      },
      "source": [
        "movies_metadata = movies_metadata.drop(['adult', 'poster', 'belongs_to_collection', 'imdb_id', 'vote_count', \n",
        "                                        'original_language', 'original_title', 'overview', 'tagline', 'video'], axis=1)\n",
        "movies_metadata.head(2)"
      ],
      "execution_count": 70,
      "outputs": [
        {
          "output_type": "execute_result",
          "data": {
            "text/html": [
              "<div>\n",
              "<style scoped>\n",
              "    .dataframe tbody tr th:only-of-type {\n",
              "        vertical-align: middle;\n",
              "    }\n",
              "\n",
              "    .dataframe tbody tr th {\n",
              "        vertical-align: top;\n",
              "    }\n",
              "\n",
              "    .dataframe thead th {\n",
              "        text-align: right;\n",
              "    }\n",
              "</style>\n",
              "<table border=\"1\" class=\"dataframe\">\n",
              "  <thead>\n",
              "    <tr style=\"text-align: right;\">\n",
              "      <th></th>\n",
              "      <th>budget</th>\n",
              "      <th>genres</th>\n",
              "      <th>homepage</th>\n",
              "      <th>id</th>\n",
              "      <th>popularity</th>\n",
              "      <th>production_companies</th>\n",
              "      <th>production_countries</th>\n",
              "      <th>release_date</th>\n",
              "      <th>revenue</th>\n",
              "      <th>runtime</th>\n",
              "      <th>spoken_languages</th>\n",
              "      <th>status</th>\n",
              "      <th>title</th>\n",
              "      <th>vote_average</th>\n",
              "    </tr>\n",
              "  </thead>\n",
              "  <tbody>\n",
              "    <tr>\n",
              "      <th>0</th>\n",
              "      <td>30000000</td>\n",
              "      <td>[{'id': 16, 'name': 'Animation'}, {'id': 35, '...</td>\n",
              "      <td>http://toystory.disney.com/toy-story</td>\n",
              "      <td>862</td>\n",
              "      <td>21.9469</td>\n",
              "      <td>[{'name': 'Pixar Animation Studios', 'id': 3}]</td>\n",
              "      <td>[{'iso_3166_1': 'US', 'name': 'United States o...</td>\n",
              "      <td>1995-10-30</td>\n",
              "      <td>373554033.0</td>\n",
              "      <td>81.0</td>\n",
              "      <td>[{'iso_639_1': 'en', 'name': 'English'}]</td>\n",
              "      <td>Released</td>\n",
              "      <td>Toy Story</td>\n",
              "      <td>7.7</td>\n",
              "    </tr>\n",
              "    <tr>\n",
              "      <th>1</th>\n",
              "      <td>65000000</td>\n",
              "      <td>[{'id': 12, 'name': 'Adventure'}, {'id': 14, '...</td>\n",
              "      <td>NaN</td>\n",
              "      <td>8844</td>\n",
              "      <td>17.0155</td>\n",
              "      <td>[{'name': 'TriStar Pictures', 'id': 559}, {'na...</td>\n",
              "      <td>[{'iso_3166_1': 'US', 'name': 'United States o...</td>\n",
              "      <td>1995-12-15</td>\n",
              "      <td>262797249.0</td>\n",
              "      <td>104.0</td>\n",
              "      <td>[{'iso_639_1': 'en', 'name': 'English'}, {'iso...</td>\n",
              "      <td>Released</td>\n",
              "      <td>Jumanji</td>\n",
              "      <td>6.9</td>\n",
              "    </tr>\n",
              "  </tbody>\n",
              "</table>\n",
              "</div>"
            ],
            "text/plain": [
              "     budget  ... vote_average\n",
              "0  30000000  ...          7.7\n",
              "1  65000000  ...          6.9\n",
              "\n",
              "[2 rows x 14 columns]"
            ]
          },
          "metadata": {},
          "execution_count": 70
        }
      ]
    },
    {
      "cell_type": "code",
      "metadata": {
        "id": "msrVtb8l_a16",
        "colab": {
          "base_uri": "https://localhost:8080/"
        },
        "outputId": "9dccb5d2-a85b-416c-ac93-6feb4ee7f260"
      },
      "source": [
        "movies_metadata['id'] = movies_metadata['id'].astype(int)\n",
        "movies_metadata['id'].unique()\n"
      ],
      "execution_count": 71,
      "outputs": [
        {
          "output_type": "execute_result",
          "data": {
            "text/plain": [
              "array([   862,   8844,  15602, ...,  67758, 227506, 461257])"
            ]
          },
          "metadata": {},
          "execution_count": 71
        }
      ]
    },
    {
      "cell_type": "code",
      "metadata": {
        "id": "TeKE09vBKCPZ"
      },
      "source": [
        "def setHomepage(s) :\n",
        "  if s == 0 :\n",
        "    return 0\n",
        "  s = str(s)\n",
        "  if s[0:4] == 'http' :\n",
        "    return 1\n",
        "  return 0\n",
        "movies_metadata.fillna(0) # homepage가 없는 경우 0\n",
        "movies_metadata.homepage = movies_metadata.homepage.apply(setHomepage)"
      ],
      "execution_count": 72,
      "outputs": []
    },
    {
      "cell_type": "code",
      "metadata": {
        "id": "ZZLh-Xmbf2mg",
        "colab": {
          "base_uri": "https://localhost:8080/"
        },
        "outputId": "9a3d6624-6e0a-45be-b227-fc10e3e0c9a3"
      },
      "source": [
        "def setLen(s) :\n",
        "  df = getDataFrame(s)\n",
        "  n = df.shape[0]\n",
        "  return n\n",
        "movies_metadata.spoken_languages = movies_metadata.spoken_languages.apply(setLen)\n",
        "movies_metadata.spoken_languages.head(5)"
      ],
      "execution_count": 73,
      "outputs": [
        {
          "output_type": "execute_result",
          "data": {
            "text/plain": [
              "0    1\n",
              "1    2\n",
              "2    1\n",
              "3    1\n",
              "4    1\n",
              "Name: spoken_languages, dtype: int64"
            ]
          },
          "metadata": {},
          "execution_count": 73
        }
      ]
    },
    {
      "cell_type": "code",
      "metadata": {
        "id": "wbIG5CIsLxWV",
        "colab": {
          "base_uri": "https://localhost:8080/"
        },
        "outputId": "c5c36b7d-fb89-469d-9476-1daf77de84d2"
      },
      "source": [
        "movies_metadata.isnull().sum()"
      ],
      "execution_count": 74,
      "outputs": [
        {
          "output_type": "execute_result",
          "data": {
            "text/plain": [
              "budget                    0\n",
              "genres                    0\n",
              "homepage                  0\n",
              "id                        0\n",
              "popularity                0\n",
              "production_companies      0\n",
              "production_countries      0\n",
              "release_date             82\n",
              "revenue                   0\n",
              "runtime                 253\n",
              "spoken_languages          0\n",
              "status                    0\n",
              "title                     0\n",
              "vote_average              0\n",
              "dtype: int64"
            ]
          },
          "metadata": {},
          "execution_count": 74
        }
      ]
    },
    {
      "cell_type": "code",
      "metadata": {
        "id": "f26cEHoxh-1d",
        "colab": {
          "base_uri": "https://localhost:8080/"
        },
        "outputId": "1e5b0057-e93a-4b69-8f47-fc3dd8a59c02"
      },
      "source": [
        "print(movies_metadata.runtime.min())\n",
        "print(movies_metadata.runtime.max())\n",
        "print(len(movies_metadata[movies_metadata.runtime < 60]))"
      ],
      "execution_count": 75,
      "outputs": [
        {
          "output_type": "stream",
          "name": "stdout",
          "text": [
            "0.0\n",
            "1256.0\n",
            "3868\n"
          ]
        }
      ]
    },
    {
      "cell_type": "code",
      "metadata": {
        "id": "c9Q9Nfm_hvLT",
        "colab": {
          "base_uri": "https://localhost:8080/",
          "height": 0
        },
        "outputId": "e87eaa1b-fd35-4059-c55a-5c623916958b"
      },
      "source": [
        "movies_metadata = movies_metadata.drop( movies_metadata[movies_metadata['runtime'] < 60 ].index)\n",
        "print(movies_metadata.shape)\n",
        "movies_metadata.head(2)"
      ],
      "execution_count": 76,
      "outputs": [
        {
          "output_type": "stream",
          "name": "stdout",
          "text": [
            "(41267, 14)\n"
          ]
        },
        {
          "output_type": "execute_result",
          "data": {
            "text/html": [
              "<div>\n",
              "<style scoped>\n",
              "    .dataframe tbody tr th:only-of-type {\n",
              "        vertical-align: middle;\n",
              "    }\n",
              "\n",
              "    .dataframe tbody tr th {\n",
              "        vertical-align: top;\n",
              "    }\n",
              "\n",
              "    .dataframe thead th {\n",
              "        text-align: right;\n",
              "    }\n",
              "</style>\n",
              "<table border=\"1\" class=\"dataframe\">\n",
              "  <thead>\n",
              "    <tr style=\"text-align: right;\">\n",
              "      <th></th>\n",
              "      <th>budget</th>\n",
              "      <th>genres</th>\n",
              "      <th>homepage</th>\n",
              "      <th>id</th>\n",
              "      <th>popularity</th>\n",
              "      <th>production_companies</th>\n",
              "      <th>production_countries</th>\n",
              "      <th>release_date</th>\n",
              "      <th>revenue</th>\n",
              "      <th>runtime</th>\n",
              "      <th>spoken_languages</th>\n",
              "      <th>status</th>\n",
              "      <th>title</th>\n",
              "      <th>vote_average</th>\n",
              "    </tr>\n",
              "  </thead>\n",
              "  <tbody>\n",
              "    <tr>\n",
              "      <th>0</th>\n",
              "      <td>30000000</td>\n",
              "      <td>[{'id': 16, 'name': 'Animation'}, {'id': 35, '...</td>\n",
              "      <td>1</td>\n",
              "      <td>862</td>\n",
              "      <td>21.9469</td>\n",
              "      <td>[{'name': 'Pixar Animation Studios', 'id': 3}]</td>\n",
              "      <td>[{'iso_3166_1': 'US', 'name': 'United States o...</td>\n",
              "      <td>1995-10-30</td>\n",
              "      <td>373554033.0</td>\n",
              "      <td>81.0</td>\n",
              "      <td>1</td>\n",
              "      <td>Released</td>\n",
              "      <td>Toy Story</td>\n",
              "      <td>7.7</td>\n",
              "    </tr>\n",
              "    <tr>\n",
              "      <th>1</th>\n",
              "      <td>65000000</td>\n",
              "      <td>[{'id': 12, 'name': 'Adventure'}, {'id': 14, '...</td>\n",
              "      <td>0</td>\n",
              "      <td>8844</td>\n",
              "      <td>17.0155</td>\n",
              "      <td>[{'name': 'TriStar Pictures', 'id': 559}, {'na...</td>\n",
              "      <td>[{'iso_3166_1': 'US', 'name': 'United States o...</td>\n",
              "      <td>1995-12-15</td>\n",
              "      <td>262797249.0</td>\n",
              "      <td>104.0</td>\n",
              "      <td>2</td>\n",
              "      <td>Released</td>\n",
              "      <td>Jumanji</td>\n",
              "      <td>6.9</td>\n",
              "    </tr>\n",
              "  </tbody>\n",
              "</table>\n",
              "</div>"
            ],
            "text/plain": [
              "     budget  ... vote_average\n",
              "0  30000000  ...          7.7\n",
              "1  65000000  ...          6.9\n",
              "\n",
              "[2 rows x 14 columns]"
            ]
          },
          "metadata": {},
          "execution_count": 76
        }
      ]
    },
    {
      "cell_type": "markdown",
      "metadata": {
        "id": "UazMfiVNGkrj"
      },
      "source": [
        "## merge"
      ]
    },
    {
      "cell_type": "code",
      "metadata": {
        "id": "7Y2wd5MjGpVJ",
        "colab": {
          "base_uri": "https://localhost:8080/",
          "height": 0
        },
        "outputId": "478fc694-ce6d-482b-9fbd-17f457c7b2df"
      },
      "source": [
        "merged_df = pd.merge(merged_df, movies_metadata, how='inner', on='id')\n",
        "merged_df.head(3)"
      ],
      "execution_count": 77,
      "outputs": [
        {
          "output_type": "execute_result",
          "data": {
            "text/html": [
              "<div>\n",
              "<style scoped>\n",
              "    .dataframe tbody tr th:only-of-type {\n",
              "        vertical-align: middle;\n",
              "    }\n",
              "\n",
              "    .dataframe tbody tr th {\n",
              "        vertical-align: top;\n",
              "    }\n",
              "\n",
              "    .dataframe thead th {\n",
              "        text-align: right;\n",
              "    }\n",
              "</style>\n",
              "<table border=\"1\" class=\"dataframe\">\n",
              "  <thead>\n",
              "    <tr style=\"text-align: right;\">\n",
              "      <th></th>\n",
              "      <th>crew</th>\n",
              "      <th>id</th>\n",
              "      <th>actors</th>\n",
              "      <th>number_of_named_actors</th>\n",
              "      <th>number_of_named_crews</th>\n",
              "      <th>keywords</th>\n",
              "      <th>movieId</th>\n",
              "      <th>imdbId</th>\n",
              "      <th>budget</th>\n",
              "      <th>genres</th>\n",
              "      <th>homepage</th>\n",
              "      <th>popularity</th>\n",
              "      <th>production_companies</th>\n",
              "      <th>production_countries</th>\n",
              "      <th>release_date</th>\n",
              "      <th>revenue</th>\n",
              "      <th>runtime</th>\n",
              "      <th>spoken_languages</th>\n",
              "      <th>status</th>\n",
              "      <th>title</th>\n",
              "      <th>vote_average</th>\n",
              "    </tr>\n",
              "  </thead>\n",
              "  <tbody>\n",
              "    <tr>\n",
              "      <th>0</th>\n",
              "      <td>John_Lasseter Joss_Whedon Andrew_Stanton Joel_...</td>\n",
              "      <td>862</td>\n",
              "      <td>Tom_Hanks Tim_Allen Don_Rickles Jim_Varney Wal...</td>\n",
              "      <td>8</td>\n",
              "      <td>51</td>\n",
              "      <td>jealousy toy boy friendship friends rivalry bo...</td>\n",
              "      <td>1</td>\n",
              "      <td>114709</td>\n",
              "      <td>30000000</td>\n",
              "      <td>[{'id': 16, 'name': 'Animation'}, {'id': 35, '...</td>\n",
              "      <td>1</td>\n",
              "      <td>21.9469</td>\n",
              "      <td>[{'name': 'Pixar Animation Studios', 'id': 3}]</td>\n",
              "      <td>[{'iso_3166_1': 'US', 'name': 'United States o...</td>\n",
              "      <td>1995-10-30</td>\n",
              "      <td>373554033.0</td>\n",
              "      <td>81.0</td>\n",
              "      <td>1</td>\n",
              "      <td>Released</td>\n",
              "      <td>Toy Story</td>\n",
              "      <td>7.7</td>\n",
              "    </tr>\n",
              "    <tr>\n",
              "      <th>1</th>\n",
              "      <td>Larry_J_Franco Jonathan_Hensleigh James_Horner...</td>\n",
              "      <td>8844</td>\n",
              "      <td>Robin_Williams Jonathan_Hyde Kirsten_Dunst Bra...</td>\n",
              "      <td>8</td>\n",
              "      <td>59</td>\n",
              "      <td>board_game disappearance based_on_childrens_bo...</td>\n",
              "      <td>2</td>\n",
              "      <td>113497</td>\n",
              "      <td>65000000</td>\n",
              "      <td>[{'id': 12, 'name': 'Adventure'}, {'id': 14, '...</td>\n",
              "      <td>0</td>\n",
              "      <td>17.0155</td>\n",
              "      <td>[{'name': 'TriStar Pictures', 'id': 559}, {'na...</td>\n",
              "      <td>[{'iso_3166_1': 'US', 'name': 'United States o...</td>\n",
              "      <td>1995-12-15</td>\n",
              "      <td>262797249.0</td>\n",
              "      <td>104.0</td>\n",
              "      <td>2</td>\n",
              "      <td>Released</td>\n",
              "      <td>Jumanji</td>\n",
              "      <td>6.9</td>\n",
              "    </tr>\n",
              "    <tr>\n",
              "      <th>2</th>\n",
              "      <td>Howard_Deutch Mark_Steven_Johnson Mark_Steven_...</td>\n",
              "      <td>15602</td>\n",
              "      <td>Walter_Matthau Jack_Lemmon AnnMargret Sophia_L...</td>\n",
              "      <td>7</td>\n",
              "      <td>65</td>\n",
              "      <td>fishing best_friend duringcreditsstinger old_men</td>\n",
              "      <td>3</td>\n",
              "      <td>113228</td>\n",
              "      <td>0</td>\n",
              "      <td>[{'id': 10749, 'name': 'Romance'}, {'id': 35, ...</td>\n",
              "      <td>0</td>\n",
              "      <td>11.7129</td>\n",
              "      <td>[{'name': 'Warner Bros.', 'id': 6194}, {'name'...</td>\n",
              "      <td>[{'iso_3166_1': 'US', 'name': 'United States o...</td>\n",
              "      <td>1995-12-22</td>\n",
              "      <td>0.0</td>\n",
              "      <td>101.0</td>\n",
              "      <td>1</td>\n",
              "      <td>Released</td>\n",
              "      <td>Grumpier Old Men</td>\n",
              "      <td>6.5</td>\n",
              "    </tr>\n",
              "  </tbody>\n",
              "</table>\n",
              "</div>"
            ],
            "text/plain": [
              "                                                crew  ...  vote_average\n",
              "0  John_Lasseter Joss_Whedon Andrew_Stanton Joel_...  ...           7.7\n",
              "1  Larry_J_Franco Jonathan_Hensleigh James_Horner...  ...           6.9\n",
              "2  Howard_Deutch Mark_Steven_Johnson Mark_Steven_...  ...           6.5\n",
              "\n",
              "[3 rows x 21 columns]"
            ]
          },
          "metadata": {},
          "execution_count": 77
        }
      ]
    },
    {
      "cell_type": "markdown",
      "metadata": {
        "id": "yic8rhcoHNQH"
      },
      "source": [
        "## ratings : 영화에 대한 평점을 담고있는 dataframe\n",
        "-> 예측할 때 필요한 정보만 남겨놓았다.\n",
        "\n",
        "#### 과연 ?"
      ]
    },
    {
      "cell_type": "code",
      "metadata": {
        "id": "Xnm0nXyE1c04",
        "colab": {
          "base_uri": "https://localhost:8080/"
        },
        "outputId": "d51b1517-9889-4953-c495-5cd74f53bed5"
      },
      "source": [
        "ratings = ratings.drop_duplicates(ignore_index=True)  # 중복값 없음\n",
        "print(ratings.shape)"
      ],
      "execution_count": 78,
      "outputs": [
        {
          "output_type": "stream",
          "name": "stdout",
          "text": [
            "(26124293, 4)\n"
          ]
        }
      ]
    },
    {
      "cell_type": "code",
      "metadata": {
        "id": "_GvVFw9sZAtl",
        "colab": {
          "base_uri": "https://localhost:8080/"
        },
        "outputId": "0dd1382f-94f6-4cb0-f350-1997d30bb148"
      },
      "source": [
        "ratings.isnull().sum()"
      ],
      "execution_count": 79,
      "outputs": [
        {
          "output_type": "execute_result",
          "data": {
            "text/plain": [
              "userId       0\n",
              "movieId      0\n",
              "rating       0\n",
              "timestamp    0\n",
              "dtype: int64"
            ]
          },
          "metadata": {},
          "execution_count": 79
        }
      ]
    },
    {
      "cell_type": "code",
      "metadata": {
        "id": "i3h-y7dN8T6V",
        "colab": {
          "base_uri": "https://localhost:8080/",
          "height": 0
        },
        "outputId": "6e2dfe8e-580c-4c74-ae13-3af689fc5fcd"
      },
      "source": [
        "ratings.head(3)"
      ],
      "execution_count": 80,
      "outputs": [
        {
          "output_type": "execute_result",
          "data": {
            "text/html": [
              "<div>\n",
              "<style scoped>\n",
              "    .dataframe tbody tr th:only-of-type {\n",
              "        vertical-align: middle;\n",
              "    }\n",
              "\n",
              "    .dataframe tbody tr th {\n",
              "        vertical-align: top;\n",
              "    }\n",
              "\n",
              "    .dataframe thead th {\n",
              "        text-align: right;\n",
              "    }\n",
              "</style>\n",
              "<table border=\"1\" class=\"dataframe\">\n",
              "  <thead>\n",
              "    <tr style=\"text-align: right;\">\n",
              "      <th></th>\n",
              "      <th>userId</th>\n",
              "      <th>movieId</th>\n",
              "      <th>rating</th>\n",
              "      <th>timestamp</th>\n",
              "    </tr>\n",
              "  </thead>\n",
              "  <tbody>\n",
              "    <tr>\n",
              "      <th>0</th>\n",
              "      <td>1</td>\n",
              "      <td>110</td>\n",
              "      <td>1.0</td>\n",
              "      <td>1425941529</td>\n",
              "    </tr>\n",
              "    <tr>\n",
              "      <th>1</th>\n",
              "      <td>1</td>\n",
              "      <td>147</td>\n",
              "      <td>4.5</td>\n",
              "      <td>1425942435</td>\n",
              "    </tr>\n",
              "    <tr>\n",
              "      <th>2</th>\n",
              "      <td>1</td>\n",
              "      <td>858</td>\n",
              "      <td>5.0</td>\n",
              "      <td>1425941523</td>\n",
              "    </tr>\n",
              "  </tbody>\n",
              "</table>\n",
              "</div>"
            ],
            "text/plain": [
              "   userId  movieId  rating   timestamp\n",
              "0       1      110     1.0  1425941529\n",
              "1       1      147     4.5  1425942435\n",
              "2       1      858     5.0  1425941523"
            ]
          },
          "metadata": {},
          "execution_count": 80
        }
      ]
    },
    {
      "cell_type": "code",
      "metadata": {
        "id": "-xdnrwln7wx4",
        "colab": {
          "base_uri": "https://localhost:8080/"
        },
        "outputId": "64fb5646-dc02-4d0b-d14c-1686a18f6f41"
      },
      "source": [
        "ratings = ratings.drop(['userId', 'timestamp'], axis=1)\n",
        "ratings['rating'].unique()"
      ],
      "execution_count": 81,
      "outputs": [
        {
          "output_type": "execute_result",
          "data": {
            "text/plain": [
              "array([1. , 4.5, 5. , 4. , 3.5, 2.5, 0.5, 3. , 2. , 1.5])"
            ]
          },
          "metadata": {},
          "execution_count": 81
        }
      ]
    },
    {
      "cell_type": "code",
      "metadata": {
        "id": "bEjjW5iUXwdx",
        "colab": {
          "base_uri": "https://localhost:8080/",
          "height": 0
        },
        "outputId": "a1fc1b89-75e4-46f2-975e-5fb4109d1d9b"
      },
      "source": [
        "grouped_rating = (ratings.groupby(by=\"movieId\").mean())['rating'].to_frame()\n",
        "grouped_rating['rating'] = grouped_rating['rating'].round(1)\n",
        "grouped_rating = grouped_rating.reset_index()\n",
        "# grouped_rating.columns = ['id', 'rating']\n",
        "\n",
        "grouped_rating.head(3)"
      ],
      "execution_count": 82,
      "outputs": [
        {
          "output_type": "execute_result",
          "data": {
            "text/html": [
              "<div>\n",
              "<style scoped>\n",
              "    .dataframe tbody tr th:only-of-type {\n",
              "        vertical-align: middle;\n",
              "    }\n",
              "\n",
              "    .dataframe tbody tr th {\n",
              "        vertical-align: top;\n",
              "    }\n",
              "\n",
              "    .dataframe thead th {\n",
              "        text-align: right;\n",
              "    }\n",
              "</style>\n",
              "<table border=\"1\" class=\"dataframe\">\n",
              "  <thead>\n",
              "    <tr style=\"text-align: right;\">\n",
              "      <th></th>\n",
              "      <th>movieId</th>\n",
              "      <th>rating</th>\n",
              "    </tr>\n",
              "  </thead>\n",
              "  <tbody>\n",
              "    <tr>\n",
              "      <th>0</th>\n",
              "      <td>1</td>\n",
              "      <td>3.9</td>\n",
              "    </tr>\n",
              "    <tr>\n",
              "      <th>1</th>\n",
              "      <td>2</td>\n",
              "      <td>3.2</td>\n",
              "    </tr>\n",
              "    <tr>\n",
              "      <th>2</th>\n",
              "      <td>3</td>\n",
              "      <td>3.2</td>\n",
              "    </tr>\n",
              "  </tbody>\n",
              "</table>\n",
              "</div>"
            ],
            "text/plain": [
              "   movieId  rating\n",
              "0        1     3.9\n",
              "1        2     3.2\n",
              "2        3     3.2"
            ]
          },
          "metadata": {},
          "execution_count": 82
        }
      ]
    },
    {
      "cell_type": "markdown",
      "metadata": {
        "id": "kxUH52zYHPq6"
      },
      "source": [
        "## merge"
      ]
    },
    {
      "cell_type": "code",
      "metadata": {
        "id": "wauP5kle5Mah",
        "colab": {
          "base_uri": "https://localhost:8080/",
          "height": 0
        },
        "outputId": "aa872f2c-16c3-4fc7-9ea1-90d4d3a479eb"
      },
      "source": [
        "merged_df = pd.merge(merged_df, grouped_rating, how='inner', on='movieId')\n",
        "merged_df.head(3)"
      ],
      "execution_count": 83,
      "outputs": [
        {
          "output_type": "execute_result",
          "data": {
            "text/html": [
              "<div>\n",
              "<style scoped>\n",
              "    .dataframe tbody tr th:only-of-type {\n",
              "        vertical-align: middle;\n",
              "    }\n",
              "\n",
              "    .dataframe tbody tr th {\n",
              "        vertical-align: top;\n",
              "    }\n",
              "\n",
              "    .dataframe thead th {\n",
              "        text-align: right;\n",
              "    }\n",
              "</style>\n",
              "<table border=\"1\" class=\"dataframe\">\n",
              "  <thead>\n",
              "    <tr style=\"text-align: right;\">\n",
              "      <th></th>\n",
              "      <th>crew</th>\n",
              "      <th>id</th>\n",
              "      <th>actors</th>\n",
              "      <th>number_of_named_actors</th>\n",
              "      <th>number_of_named_crews</th>\n",
              "      <th>keywords</th>\n",
              "      <th>movieId</th>\n",
              "      <th>imdbId</th>\n",
              "      <th>budget</th>\n",
              "      <th>genres</th>\n",
              "      <th>homepage</th>\n",
              "      <th>popularity</th>\n",
              "      <th>production_companies</th>\n",
              "      <th>production_countries</th>\n",
              "      <th>release_date</th>\n",
              "      <th>revenue</th>\n",
              "      <th>runtime</th>\n",
              "      <th>spoken_languages</th>\n",
              "      <th>status</th>\n",
              "      <th>title</th>\n",
              "      <th>vote_average</th>\n",
              "      <th>rating</th>\n",
              "    </tr>\n",
              "  </thead>\n",
              "  <tbody>\n",
              "    <tr>\n",
              "      <th>0</th>\n",
              "      <td>John_Lasseter Joss_Whedon Andrew_Stanton Joel_...</td>\n",
              "      <td>862</td>\n",
              "      <td>Tom_Hanks Tim_Allen Don_Rickles Jim_Varney Wal...</td>\n",
              "      <td>8</td>\n",
              "      <td>51</td>\n",
              "      <td>jealousy toy boy friendship friends rivalry bo...</td>\n",
              "      <td>1</td>\n",
              "      <td>114709</td>\n",
              "      <td>30000000</td>\n",
              "      <td>[{'id': 16, 'name': 'Animation'}, {'id': 35, '...</td>\n",
              "      <td>1</td>\n",
              "      <td>21.9469</td>\n",
              "      <td>[{'name': 'Pixar Animation Studios', 'id': 3}]</td>\n",
              "      <td>[{'iso_3166_1': 'US', 'name': 'United States o...</td>\n",
              "      <td>1995-10-30</td>\n",
              "      <td>373554033.0</td>\n",
              "      <td>81.0</td>\n",
              "      <td>1</td>\n",
              "      <td>Released</td>\n",
              "      <td>Toy Story</td>\n",
              "      <td>7.7</td>\n",
              "      <td>3.9</td>\n",
              "    </tr>\n",
              "    <tr>\n",
              "      <th>1</th>\n",
              "      <td>Larry_J_Franco Jonathan_Hensleigh James_Horner...</td>\n",
              "      <td>8844</td>\n",
              "      <td>Robin_Williams Jonathan_Hyde Kirsten_Dunst Bra...</td>\n",
              "      <td>8</td>\n",
              "      <td>59</td>\n",
              "      <td>board_game disappearance based_on_childrens_bo...</td>\n",
              "      <td>2</td>\n",
              "      <td>113497</td>\n",
              "      <td>65000000</td>\n",
              "      <td>[{'id': 12, 'name': 'Adventure'}, {'id': 14, '...</td>\n",
              "      <td>0</td>\n",
              "      <td>17.0155</td>\n",
              "      <td>[{'name': 'TriStar Pictures', 'id': 559}, {'na...</td>\n",
              "      <td>[{'iso_3166_1': 'US', 'name': 'United States o...</td>\n",
              "      <td>1995-12-15</td>\n",
              "      <td>262797249.0</td>\n",
              "      <td>104.0</td>\n",
              "      <td>2</td>\n",
              "      <td>Released</td>\n",
              "      <td>Jumanji</td>\n",
              "      <td>6.9</td>\n",
              "      <td>3.2</td>\n",
              "    </tr>\n",
              "    <tr>\n",
              "      <th>2</th>\n",
              "      <td>Howard_Deutch Mark_Steven_Johnson Mark_Steven_...</td>\n",
              "      <td>15602</td>\n",
              "      <td>Walter_Matthau Jack_Lemmon AnnMargret Sophia_L...</td>\n",
              "      <td>7</td>\n",
              "      <td>65</td>\n",
              "      <td>fishing best_friend duringcreditsstinger old_men</td>\n",
              "      <td>3</td>\n",
              "      <td>113228</td>\n",
              "      <td>0</td>\n",
              "      <td>[{'id': 10749, 'name': 'Romance'}, {'id': 35, ...</td>\n",
              "      <td>0</td>\n",
              "      <td>11.7129</td>\n",
              "      <td>[{'name': 'Warner Bros.', 'id': 6194}, {'name'...</td>\n",
              "      <td>[{'iso_3166_1': 'US', 'name': 'United States o...</td>\n",
              "      <td>1995-12-22</td>\n",
              "      <td>0.0</td>\n",
              "      <td>101.0</td>\n",
              "      <td>1</td>\n",
              "      <td>Released</td>\n",
              "      <td>Grumpier Old Men</td>\n",
              "      <td>6.5</td>\n",
              "      <td>3.2</td>\n",
              "    </tr>\n",
              "  </tbody>\n",
              "</table>\n",
              "</div>"
            ],
            "text/plain": [
              "                                                crew  ...  rating\n",
              "0  John_Lasseter Joss_Whedon Andrew_Stanton Joel_...  ...     3.9\n",
              "1  Larry_J_Franco Jonathan_Hensleigh James_Horner...  ...     3.2\n",
              "2  Howard_Deutch Mark_Steven_Johnson Mark_Steven_...  ...     3.2\n",
              "\n",
              "[3 rows x 22 columns]"
            ]
          },
          "metadata": {},
          "execution_count": 83
        }
      ]
    },
    {
      "cell_type": "markdown",
      "metadata": {
        "id": "R_UPm8qZWaaa"
      },
      "source": [
        "## 학습하기 좋은 데이터 모양으로 만들기\n",
        "1. unique 데이터(ex. id) drop\n",
        "2. train과 test data 나누기"
      ]
    },
    {
      "cell_type": "code",
      "metadata": {
        "id": "9iEFddfcT56S",
        "colab": {
          "base_uri": "https://localhost:8080/"
        },
        "outputId": "4b51d46e-89ec-47d2-fa5c-e1e9498cb82a"
      },
      "source": [
        "# merged_df = merged_df.drop(['id', 'movieId', 'imdbId'], axis=1)\n",
        "merged_df.shape"
      ],
      "execution_count": 84,
      "outputs": [
        {
          "output_type": "execute_result",
          "data": {
            "text/plain": [
              "(39861, 22)"
            ]
          },
          "metadata": {},
          "execution_count": 84
        }
      ]
    },
    {
      "cell_type": "code",
      "metadata": {
        "id": "FopRWzsXZnFy",
        "colab": {
          "base_uri": "https://localhost:8080/",
          "height": 134
        },
        "outputId": "b6fd0ded-c854-49de-ef52-da8a4fb1d1fd"
      },
      "source": [
        "merged_df[merged_df['release_date'].isnull()==True].head(1)"
      ],
      "execution_count": 85,
      "outputs": [
        {
          "output_type": "execute_result",
          "data": {
            "text/html": [
              "<div>\n",
              "<style scoped>\n",
              "    .dataframe tbody tr th:only-of-type {\n",
              "        vertical-align: middle;\n",
              "    }\n",
              "\n",
              "    .dataframe tbody tr th {\n",
              "        vertical-align: top;\n",
              "    }\n",
              "\n",
              "    .dataframe thead th {\n",
              "        text-align: right;\n",
              "    }\n",
              "</style>\n",
              "<table border=\"1\" class=\"dataframe\">\n",
              "  <thead>\n",
              "    <tr style=\"text-align: right;\">\n",
              "      <th></th>\n",
              "      <th>crew</th>\n",
              "      <th>id</th>\n",
              "      <th>actors</th>\n",
              "      <th>number_of_named_actors</th>\n",
              "      <th>number_of_named_crews</th>\n",
              "      <th>keywords</th>\n",
              "      <th>movieId</th>\n",
              "      <th>imdbId</th>\n",
              "      <th>budget</th>\n",
              "      <th>genres</th>\n",
              "      <th>homepage</th>\n",
              "      <th>popularity</th>\n",
              "      <th>production_companies</th>\n",
              "      <th>production_countries</th>\n",
              "      <th>release_date</th>\n",
              "      <th>revenue</th>\n",
              "      <th>runtime</th>\n",
              "      <th>spoken_languages</th>\n",
              "      <th>status</th>\n",
              "      <th>title</th>\n",
              "      <th>vote_average</th>\n",
              "      <th>rating</th>\n",
              "    </tr>\n",
              "  </thead>\n",
              "  <tbody>\n",
              "    <tr>\n",
              "      <th>713</th>\n",
              "      <td>John_OBrien John_OBrien</td>\n",
              "      <td>215107</td>\n",
              "      <td>George_Thrush Marya_Cohn Ann_OBrien</td>\n",
              "      <td>3</td>\n",
              "      <td>23</td>\n",
              "      <td></td>\n",
              "      <td>752</td>\n",
              "      <td>105737</td>\n",
              "      <td>0</td>\n",
              "      <td>[]</td>\n",
              "      <td>0</td>\n",
              "      <td>0.75</td>\n",
              "      <td>[]</td>\n",
              "      <td>[]</td>\n",
              "      <td>NaN</td>\n",
              "      <td>0.0</td>\n",
              "      <td>88.0</td>\n",
              "      <td>0</td>\n",
              "      <td>Released</td>\n",
              "      <td>Vermont Is for Lovers</td>\n",
              "      <td>0.0</td>\n",
              "      <td>2.9</td>\n",
              "    </tr>\n",
              "  </tbody>\n",
              "</table>\n",
              "</div>"
            ],
            "text/plain": [
              "                        crew      id  ... vote_average  rating\n",
              "713  John_OBrien John_OBrien  215107  ...          0.0     2.9\n",
              "\n",
              "[1 rows x 22 columns]"
            ]
          },
          "metadata": {},
          "execution_count": 85
        }
      ]
    },
    {
      "cell_type": "code",
      "metadata": {
        "id": "agp_vfjwadGu"
      },
      "source": [
        "# merged_df[merged_df['vote_'].isnull()==True]\n"
      ],
      "execution_count": 86,
      "outputs": []
    },
    {
      "cell_type": "code",
      "metadata": {
        "id": "kOzy2TjEWd_q",
        "colab": {
          "base_uri": "https://localhost:8080/"
        },
        "outputId": "c1683b47-b028-4ca0-f644-7369a4c11847"
      },
      "source": [
        "# test data가 너무 부족하다 -> movies_metadata[movies_metadata['release_date'] > '2016-01-01']\n",
        "final_test = merged_df[merged_df['status'] != 'Released']\n",
        "train = merged_df[merged_df['status'] == 'Released']\n",
        "print(train.shape)\n",
        "print(final_test.shape)"
      ],
      "execution_count": 87,
      "outputs": [
        {
          "output_type": "stream",
          "name": "stdout",
          "text": [
            "(39756, 22)\n",
            "(105, 22)\n"
          ]
        }
      ]
    },
    {
      "cell_type": "code",
      "metadata": {
        "id": "c2A0DHQWse86",
        "outputId": "b11aac15-a4c7-4ba5-fc2a-3cef9a6a6516",
        "colab": {
          "base_uri": "https://localhost:8080/"
        }
      },
      "source": [
        "print(train['vote_average'].dtype)\n",
        "\n",
        "len(train[train['vote_average'] == 0])"
      ],
      "execution_count": 88,
      "outputs": [
        {
          "output_type": "stream",
          "name": "stdout",
          "text": [
            "float64\n"
          ]
        },
        {
          "output_type": "execute_result",
          "data": {
            "text/plain": [
              "1741"
            ]
          },
          "metadata": {},
          "execution_count": 88
        }
      ]
    },
    {
      "cell_type": "code",
      "metadata": {
        "id": "otAKVNnvwuzb",
        "outputId": "647545d4-65ff-4189-8883-f9b445c04d3e",
        "colab": {
          "base_uri": "https://localhost:8080/"
        }
      },
      "source": [
        "print(train['rating'].dtype)\n",
        "\n",
        "len(train[train['rating'] == 0])"
      ],
      "execution_count": 89,
      "outputs": [
        {
          "output_type": "stream",
          "name": "stdout",
          "text": [
            "float64\n"
          ]
        },
        {
          "output_type": "execute_result",
          "data": {
            "text/plain": [
              "0"
            ]
          },
          "metadata": {},
          "execution_count": 89
        }
      ]
    },
    {
      "cell_type": "code",
      "metadata": {
        "id": "BIpkn2HjsNyR"
      },
      "source": [
        "from sklearn.model_selection import train_test_split\n",
        "train, test = train_test_split(train, train_size=0.8, test_size=0.2, random_state=2)\n",
        "train, val = train_test_split(train, train_size=0.8, test_size=0.2, random_state=2)"
      ],
      "execution_count": 90,
      "outputs": []
    },
    {
      "cell_type": "markdown",
      "metadata": {
        "id": "63F1SlGAcHd3"
      },
      "source": [
        "### corr는 선형적 의미\n",
        "https://gomguard.tistory.com/173"
      ]
    },
    {
      "cell_type": "code",
      "metadata": {
        "id": "TEKBmOvUIOdr",
        "colab": {
          "base_uri": "https://localhost:8080/",
          "height": 390
        },
        "outputId": "97d2a4f8-22a9-4ab9-a939-405d50c0dbd0"
      },
      "source": [
        "import seaborn as sns\n",
        "corr = merged_df.corr()\n",
        "corr['rating']\n",
        "df_target_corr = corr[['rating']].sort_values('rating', ascending=False)\n",
        "df_target_corr"
      ],
      "execution_count": 91,
      "outputs": [
        {
          "output_type": "execute_result",
          "data": {
            "text/html": [
              "<div>\n",
              "<style scoped>\n",
              "    .dataframe tbody tr th:only-of-type {\n",
              "        vertical-align: middle;\n",
              "    }\n",
              "\n",
              "    .dataframe tbody tr th {\n",
              "        vertical-align: top;\n",
              "    }\n",
              "\n",
              "    .dataframe thead th {\n",
              "        text-align: right;\n",
              "    }\n",
              "</style>\n",
              "<table border=\"1\" class=\"dataframe\">\n",
              "  <thead>\n",
              "    <tr style=\"text-align: right;\">\n",
              "      <th></th>\n",
              "      <th>rating</th>\n",
              "    </tr>\n",
              "  </thead>\n",
              "  <tbody>\n",
              "    <tr>\n",
              "      <th>rating</th>\n",
              "      <td>1.000000</td>\n",
              "    </tr>\n",
              "    <tr>\n",
              "      <th>vote_average</th>\n",
              "      <td>0.362285</td>\n",
              "    </tr>\n",
              "    <tr>\n",
              "      <th>runtime</th>\n",
              "      <td>0.159481</td>\n",
              "    </tr>\n",
              "    <tr>\n",
              "      <th>spoken_languages</th>\n",
              "      <td>0.077511</td>\n",
              "    </tr>\n",
              "    <tr>\n",
              "      <th>revenue</th>\n",
              "      <td>0.065782</td>\n",
              "    </tr>\n",
              "    <tr>\n",
              "      <th>homepage</th>\n",
              "      <td>0.061452</td>\n",
              "    </tr>\n",
              "    <tr>\n",
              "      <th>number_of_named_crews</th>\n",
              "      <td>0.052008</td>\n",
              "    </tr>\n",
              "    <tr>\n",
              "      <th>imdbId</th>\n",
              "      <td>-0.011374</td>\n",
              "    </tr>\n",
              "    <tr>\n",
              "      <th>number_of_named_actors</th>\n",
              "      <td>-0.024590</td>\n",
              "    </tr>\n",
              "    <tr>\n",
              "      <th>id</th>\n",
              "      <td>-0.064633</td>\n",
              "    </tr>\n",
              "    <tr>\n",
              "      <th>movieId</th>\n",
              "      <td>-0.133563</td>\n",
              "    </tr>\n",
              "  </tbody>\n",
              "</table>\n",
              "</div>"
            ],
            "text/plain": [
              "                          rating\n",
              "rating                  1.000000\n",
              "vote_average            0.362285\n",
              "runtime                 0.159481\n",
              "spoken_languages        0.077511\n",
              "revenue                 0.065782\n",
              "homepage                0.061452\n",
              "number_of_named_crews   0.052008\n",
              "imdbId                 -0.011374\n",
              "number_of_named_actors -0.024590\n",
              "id                     -0.064633\n",
              "movieId                -0.133563"
            ]
          },
          "metadata": {},
          "execution_count": 91
        }
      ]
    },
    {
      "cell_type": "code",
      "metadata": {
        "id": "oKKHKGLyas_k"
      },
      "source": [
        "# vote_count == 0  지우기.\n",
        "# production_countries 지우기 -> 상관계수에 안나옴\n",
        "# crew 안나옴 지우자\n",
        "# actors 안나옴 -> 지우자\n",
        "# budget == 0 이 많은가? 상관계수 안뜸\n",
        "# genres 고쳐야함\n",
        "# poster 없앨까... 0.008?\n",
        "# released data 없애자.\n",
        "# title 없애자"
      ],
      "execution_count": 92,
      "outputs": []
    },
    {
      "cell_type": "code",
      "metadata": {
        "id": "dTxiL1sZrTS4",
        "outputId": "499ce49e-683f-4707-a054-e7649fe9c549",
        "colab": {
          "base_uri": "https://localhost:8080/"
        }
      },
      "source": [
        "target = 'rating'\n",
        "features = train.drop(columns=[target]).columns\n",
        "\n",
        "X_train = train[features]\n",
        "y_train = train[target]\n",
        "X_val = val[features]\n",
        "y_val = val[target]\n",
        "\n",
        "X_test = test[features]\n",
        "y_test = test[target]\n",
        "\n",
        "X_train.shape, X_val.shape, X_test.shape"
      ],
      "execution_count": 93,
      "outputs": [
        {
          "output_type": "execute_result",
          "data": {
            "text/plain": [
              "((25443, 21), (6361, 21), (7952, 21))"
            ]
          },
          "metadata": {},
          "execution_count": 93
        }
      ]
    },
    {
      "cell_type": "code",
      "metadata": {
        "id": "4J-GnBLizRLt"
      },
      "source": [
        ""
      ],
      "execution_count": 93,
      "outputs": []
    }
  ]
}