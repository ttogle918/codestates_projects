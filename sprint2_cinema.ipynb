{
  "nbformat": 4,
  "nbformat_minor": 0,
  "metadata": {
    "jupytext": {
      "cell_metadata_filter": "-all",
      "main_language": "python",
      "notebook_metadata_filter": "-all"
    },
    "kernelspec": {
      "display_name": "Python 3",
      "language": "python",
      "name": "python3"
    },
    "language_info": {
      "codemirror_mode": {
        "name": "ipython",
        "version": 3
      },
      "file_extension": ".py",
      "mimetype": "text/x-python",
      "name": "python",
      "nbconvert_exporter": "python",
      "pygments_lexer": "ipython3",
      "version": "3.7.7"
    },
    "colab": {
      "name": "sprint2_cinema.ipynb",
      "provenance": [],
      "collapsed_sections": [
        "Db3fUvmssG7X",
        "dMrXQt4-Yjbh",
        "iHCIh1ic2SbG",
        "fXggdSJtwlqu",
        "a3uFNqmkHJfO"
      ],
      "include_colab_link": true
    }
  },
  "cells": [
    {
      "cell_type": "markdown",
      "metadata": {
        "id": "view-in-github",
        "colab_type": "text"
      },
      "source": [
        "<a href=\"https://colab.research.google.com/github/ttogle918/AI_projects/blob/master/sprint2_cinema.ipynb\" target=\"_parent\"><img src=\"https://colab.research.google.com/assets/colab-badge.svg\" alt=\"Open In Colab\"/></a>"
      ]
    },
    {
      "cell_type": "markdown",
      "metadata": {
        "id": "w4FwVJetxWZ9"
      },
      "source": [
        "# Movie rating이 3.5점이상인가? 예측"
      ]
    },
    {
      "cell_type": "markdown",
      "metadata": {
        "id": "Db3fUvmssG7X"
      },
      "source": [
        "## 파일 가져오기 및 패키지 정의"
      ]
    },
    {
      "cell_type": "code",
      "metadata": {
        "id": "iqO_gCBYdTNc",
        "colab": {
          "base_uri": "https://localhost:8080/"
        },
        "outputId": "e00a5f00-939b-4de1-a93a-cf1ea0300327"
      },
      "source": [
        "# google 드라이브에 로컬 파일 업로드\n",
        "from google.colab import files, drive\n",
        "drive.mount('/content/drive')"
      ],
      "execution_count": 1,
      "outputs": [
        {
          "output_type": "stream",
          "name": "stdout",
          "text": [
            "Drive already mounted at /content/drive; to attempt to forcibly remount, call drive.mount(\"/content/drive\", force_remount=True).\n"
          ]
        }
      ]
    },
    {
      "cell_type": "code",
      "metadata": {
        "id": "R0tfYCrUdaRt"
      },
      "source": [
        "import pandas as pd\n",
        "import numpy as np\n",
        "import ast\n",
        "import re\n",
        "from collections import Counter"
      ],
      "execution_count": 2,
      "outputs": []
    },
    {
      "cell_type": "code",
      "metadata": {
        "id": "JhY5ntQK_JKN"
      },
      "source": [
        "import ast\n",
        "def getDataFrame(s) :\n",
        "  if s[0] == '\\'' :\n",
        "    s = s[1:-1]\n",
        "  if str(s)[0] == '{' :\n",
        "    df = pd.DataFrame([ast.literal_eval(s)])\n",
        "  if str(s)[0] == '[' :\n",
        "    df = pd.DataFrame(ast.literal_eval(s))\n",
        "  else :\n",
        "    df = s\n",
        "    print(s)\n",
        "  return df"
      ],
      "execution_count": 3,
      "outputs": []
    },
    {
      "cell_type": "code",
      "metadata": {
        "id": "0D1UaYJi5qeI",
        "colab": {
          "base_uri": "https://localhost:8080/"
        },
        "outputId": "8b8cbe65-f22b-4ad8-d3fd-2a1c1bd1c6a9"
      },
      "source": [
        "credits = pd.read_csv(\"/content/drive/MyDrive/Colab Notebooks/code_states/credits.csv\")\n",
        "keywords = pd.read_csv(\"/content/drive/MyDrive/Colab Notebooks/code_states/keywords.csv\")\n",
        "links = pd.read_csv(\"/content/drive/MyDrive/Colab Notebooks/code_states/links.csv\")\n",
        "links = links.append(pd.read_csv(\"/content/drive/MyDrive/Colab Notebooks/code_states/links_small.csv\"))\n",
        "movies_metadata = pd.read_csv(\"/content/drive/MyDrive/Colab Notebooks/code_states/movies_metadata.csv\")\n",
        "ratings = pd.read_csv(\"/content/drive/MyDrive/Colab Notebooks/code_states/ratings.csv\")\n",
        "ratings = ratings.append(pd.read_csv(\"/content/drive/MyDrive/Colab Notebooks/code_states/ratings_small.csv\"))\n",
        "\n",
        "credits.shape, keywords.shape, links.shape, movies_metadata.shape, ratings.shape"
      ],
      "execution_count": 4,
      "outputs": [
        {
          "output_type": "stream",
          "name": "stderr",
          "text": [
            "/usr/local/lib/python3.7/dist-packages/IPython/core/interactiveshell.py:2718: DtypeWarning: Columns (10) have mixed types.Specify dtype option on import or set low_memory=False.\n",
            "  interactivity=interactivity, compiler=compiler, result=result)\n"
          ]
        },
        {
          "output_type": "execute_result",
          "data": {
            "text/plain": [
              "((45476, 3), (46419, 2), (54968, 3), (45466, 24), (26124293, 4))"
            ]
          },
          "metadata": {},
          "execution_count": 4
        }
      ]
    },
    {
      "cell_type": "markdown",
      "metadata": {
        "id": "mcgezsWIhFBj"
      },
      "source": [
        "|  <center>credit</center> |  <center>cast</center> |\n",
        "|:--------:|:--------|\n",
        "|**credit** |cast(id, keywords), crew(credit_id, de), id> |\n",
        "|**keywords** | id (id, name), keywords(id) |\n",
        "|**links** | movieId, imdbId, tmdbId |\n",
        "|**movies_metadata** | adult, belongs_to_collection, budget, genres |\n",
        "|**''** | homepage, id, imdb_id, original_language |\n",
        "|**''** | original_title, overview, popularity, poster_path |\n",
        "|**''** | production_companies, production_countries |\n",
        "|**''** | release_date, revenue, runtime, spoken_languages |\n",
        "|**''** | status, tagline, title, video, vote_average, vote_count |\n",
        "|**ratings** | userId, movieId, rating, timestamp |"
      ]
    },
    {
      "cell_type": "markdown",
      "metadata": {
        "id": "Eil-Fj0NGOXi"
      },
      "source": [
        "## credits : 극 중 등장인물에 대한 정보와 제작진에 대한 정보를 담고있는 dataframe\n",
        "이 credits의 데이터 중 우리는 배우의 이름과 책임 감독의 이름만 궁금할 것이다.\n",
        "\n",
        "그러므로 cast에서는 상위 3명(주연), crew에서는 상위 1명(감독 혹은 작가)을 뽑아내었다.\n",
        "#### 과연 주연과 감독/PD가 영화 판매수익에 영향을 미칠까?"
      ]
    },
    {
      "cell_type": "code",
      "metadata": {
        "id": "e9NVtlH85hj_",
        "colab": {
          "base_uri": "https://localhost:8080/"
        },
        "outputId": "cb93f4d4-b8e6-41b6-b588-2ae12f0dafcd"
      },
      "source": [
        "credits.info()"
      ],
      "execution_count": 5,
      "outputs": [
        {
          "output_type": "stream",
          "name": "stdout",
          "text": [
            "<class 'pandas.core.frame.DataFrame'>\n",
            "RangeIndex: 45476 entries, 0 to 45475\n",
            "Data columns (total 3 columns):\n",
            " #   Column  Non-Null Count  Dtype \n",
            "---  ------  --------------  ----- \n",
            " 0   cast    45476 non-null  object\n",
            " 1   crew    45476 non-null  object\n",
            " 2   id      45476 non-null  int64 \n",
            "dtypes: int64(1), object(2)\n",
            "memory usage: 1.0+ MB\n"
          ]
        }
      ]
    },
    {
      "cell_type": "markdown",
      "metadata": {
        "id": "qxVWs2XJHosx"
      },
      "source": [
        "1. data 불러오기\n",
        "2. 중복된 값 지우기\n",
        "3. null값, empty값 확인 -> 지우기\n",
        "4. cast에서 배우 이름 따로 저장, crew에서 감독 이름 따로 저장"
      ]
    },
    {
      "cell_type": "code",
      "metadata": {
        "colab": {
          "base_uri": "https://localhost:8080/"
        },
        "id": "2CVGZ_oqMO1j",
        "outputId": "b03b8786-d2b5-410a-8a6c-c5803da001b7"
      },
      "source": [
        "credits.duplicated().sum()"
      ],
      "execution_count": 6,
      "outputs": [
        {
          "output_type": "execute_result",
          "data": {
            "text/plain": [
              "37"
            ]
          },
          "metadata": {},
          "execution_count": 6
        }
      ]
    },
    {
      "cell_type": "code",
      "metadata": {
        "id": "uyo6mvhBMs_U"
      },
      "source": [
        "credits = credits.drop_duplicates()"
      ],
      "execution_count": 7,
      "outputs": []
    },
    {
      "cell_type": "code",
      "metadata": {
        "id": "lL1LEOJM6pkh",
        "colab": {
          "base_uri": "https://localhost:8080/"
        },
        "outputId": "fd26a698-4ae2-49fd-9d6e-392f1af1bdd7"
      },
      "source": [
        "print('empty cast', len(credits[credits.cast == '[]']) )\n",
        "print('empty crew', len(credits[credits.crew == '[]']) )"
      ],
      "execution_count": 8,
      "outputs": [
        {
          "output_type": "stream",
          "name": "stdout",
          "text": [
            "empty cast 2414\n",
            "empty crew 771\n"
          ]
        }
      ]
    },
    {
      "cell_type": "code",
      "metadata": {
        "id": "T_TmcOXa8wX_",
        "colab": {
          "base_uri": "https://localhost:8080/"
        },
        "outputId": "5944648e-e55e-434a-89dd-6d9d1e659797"
      },
      "source": [
        "# delete empty cells\n",
        "credits = credits[(credits.cast != '[]') & (credits.crew != '[]')]\n",
        "credits.shape"
      ],
      "execution_count": 9,
      "outputs": [
        {
          "output_type": "execute_result",
          "data": {
            "text/plain": [
              "(42675, 3)"
            ]
          },
          "metadata": {},
          "execution_count": 9
        }
      ]
    },
    {
      "cell_type": "code",
      "metadata": {
        "id": "YXK2FyZg-iJ9",
        "colab": {
          "base_uri": "https://localhost:8080/"
        },
        "outputId": "c2a00884-c8a2-42c1-d46c-f15560697da6"
      },
      "source": [
        "print(len(credits['id'].unique())) # id당 한 row가 아니다!"
      ],
      "execution_count": 10,
      "outputs": [
        {
          "output_type": "stream",
          "name": "stdout",
          "text": [
            "42668\n"
          ]
        }
      ]
    },
    {
      "cell_type": "code",
      "metadata": {
        "colab": {
          "base_uri": "https://localhost:8080/",
          "height": 160
        },
        "id": "Qsy-Iqr1Ussd",
        "outputId": "f5f12c86-1b83-4122-961c-a67eba2a6524"
      },
      "source": [
        "# cast의 내용은 같고 credit_id의 값만 다르기 때문에 삭제해도 된다 -> id는 unique()\n",
        "credits = credits.drop(credits[credits['id'].duplicated() == True].index)\n",
        "print(credits.shape)\n",
        "credits.head(3)"
      ],
      "execution_count": 11,
      "outputs": [
        {
          "output_type": "stream",
          "name": "stdout",
          "text": [
            "(42668, 3)\n"
          ]
        },
        {
          "output_type": "execute_result",
          "data": {
            "text/html": [
              "<div>\n",
              "<style scoped>\n",
              "    .dataframe tbody tr th:only-of-type {\n",
              "        vertical-align: middle;\n",
              "    }\n",
              "\n",
              "    .dataframe tbody tr th {\n",
              "        vertical-align: top;\n",
              "    }\n",
              "\n",
              "    .dataframe thead th {\n",
              "        text-align: right;\n",
              "    }\n",
              "</style>\n",
              "<table border=\"1\" class=\"dataframe\">\n",
              "  <thead>\n",
              "    <tr style=\"text-align: right;\">\n",
              "      <th></th>\n",
              "      <th>cast</th>\n",
              "      <th>crew</th>\n",
              "      <th>id</th>\n",
              "    </tr>\n",
              "  </thead>\n",
              "  <tbody>\n",
              "    <tr>\n",
              "      <th>0</th>\n",
              "      <td>[{'cast_id': 14, 'character': 'Woody (voice)',...</td>\n",
              "      <td>[{'credit_id': '52fe4284c3a36847f8024f49', 'de...</td>\n",
              "      <td>862</td>\n",
              "    </tr>\n",
              "    <tr>\n",
              "      <th>1</th>\n",
              "      <td>[{'cast_id': 1, 'character': 'Alan Parrish', '...</td>\n",
              "      <td>[{'credit_id': '52fe44bfc3a36847f80a7cd1', 'de...</td>\n",
              "      <td>8844</td>\n",
              "    </tr>\n",
              "    <tr>\n",
              "      <th>2</th>\n",
              "      <td>[{'cast_id': 2, 'character': 'Max Goldman', 'c...</td>\n",
              "      <td>[{'credit_id': '52fe466a9251416c75077a89', 'de...</td>\n",
              "      <td>15602</td>\n",
              "    </tr>\n",
              "  </tbody>\n",
              "</table>\n",
              "</div>"
            ],
            "text/plain": [
              "                                                cast  ...     id\n",
              "0  [{'cast_id': 14, 'character': 'Woody (voice)',...  ...    862\n",
              "1  [{'cast_id': 1, 'character': 'Alan Parrish', '...  ...   8844\n",
              "2  [{'cast_id': 2, 'character': 'Max Goldman', 'c...  ...  15602\n",
              "\n",
              "[3 rows x 3 columns]"
            ]
          },
          "metadata": {},
          "execution_count": 11
        }
      ]
    },
    {
      "cell_type": "markdown",
      "metadata": {
        "id": "iHCIh1ic2SbG"
      },
      "source": [
        "### cast"
      ]
    },
    {
      "cell_type": "code",
      "metadata": {
        "colab": {
          "base_uri": "https://localhost:8080/"
        },
        "id": "vCnFvLKxIHOC",
        "outputId": "546836f3-5771-418a-d915-c99bb9928b18"
      },
      "source": [
        "# string 형태로 data 형태 바꾸기\n",
        "li = [entry['name'] for entry in  ast.literal_eval(credits.cast[0])[0:4]]\n",
        "li"
      ],
      "execution_count": 12,
      "outputs": [
        {
          "output_type": "execute_result",
          "data": {
            "text/plain": [
              "['Tom Hanks', 'Tim Allen', 'Don Rickles', 'Jim Varney']"
            ]
          },
          "metadata": {},
          "execution_count": 12
        }
      ]
    },
    {
      "cell_type": "code",
      "metadata": {
        "id": "wH6BRDT9N3IC"
      },
      "source": [
        "# cast 상위 8명만\n",
        "import re\n",
        "\n",
        "def set_list_to_string(s, idx, to) :\n",
        "  if to == 0 :\n",
        "    t_dict = ast.literal_eval(s)\n",
        "    return [re.sub(r'[^\\w]', '_',re.sub(r'[^\\w\\s]', '', entry[idx])) for entry in t_dict]\n",
        "  \n",
        "  t_dict = ast.literal_eval(s)[0:to]\n",
        "  return [re.sub(r'[^\\w]', '_',re.sub(r'[^\\w\\s]', '', entry[idx])) for entry in t_dict]"
      ],
      "execution_count": 13,
      "outputs": []
    },
    {
      "cell_type": "code",
      "metadata": {
        "colab": {
          "base_uri": "https://localhost:8080/"
        },
        "id": "_Xqw91gJoJZl",
        "outputId": "897dbf93-58a3-4988-ff3b-9a1b1407de66"
      },
      "source": [
        "credits['actors'] = credits.cast.apply(set_list_to_string, idx='name', to=8)\n",
        "credits['actors'].head(10)"
      ],
      "execution_count": 14,
      "outputs": [
        {
          "output_type": "execute_result",
          "data": {
            "text/plain": [
              "0    [Tom_Hanks, Tim_Allen, Don_Rickles, Jim_Varney...\n",
              "1    [Robin_Williams, Jonathan_Hyde, Kirsten_Dunst,...\n",
              "2    [Walter_Matthau, Jack_Lemmon, AnnMargret, Soph...\n",
              "3    [Whitney_Houston, Angela_Bassett, Loretta_Devi...\n",
              "4    [Steve_Martin, Diane_Keaton, Martin_Short, Kim...\n",
              "5    [Al_Pacino, Robert_De_Niro, Val_Kilmer, Jon_Vo...\n",
              "6    [Harrison_Ford, Julia_Ormond, Greg_Kinnear, An...\n",
              "7    [Jonathan_Taylor_Thomas, Brad_Renfro, Rachael_...\n",
              "8    [JeanClaude_Van_Damme, Powers_Boothe, Dorian_H...\n",
              "9    [Pierce_Brosnan, Sean_Bean, Izabella_Scorupco,...\n",
              "Name: actors, dtype: object"
            ]
          },
          "metadata": {},
          "execution_count": 14
        }
      ]
    },
    {
      "cell_type": "code",
      "metadata": {
        "colab": {
          "base_uri": "https://localhost:8080/",
          "height": 142
        },
        "id": "hQUbRNEZqRG_",
        "outputId": "31bad404-4866-430d-aa6b-e6ad1c1266e7"
      },
      "source": [
        "# 가장 많이 나온 배우 40명을 most_popular_acctors이라고 가정\n",
        "from collections import Counter\n",
        "\n",
        "actor_count = Counter([name for names_per_film in credits.actors.values for name in names_per_film])\n",
        "most_popular_actors = [entry[0] for entry in actor_count.most_common(40)]\n",
        "credits['number_of_named_actors'] = credits['actors'].apply(len)\n",
        "credits.head(3)"
      ],
      "execution_count": 15,
      "outputs": [
        {
          "output_type": "execute_result",
          "data": {
            "text/html": [
              "<div>\n",
              "<style scoped>\n",
              "    .dataframe tbody tr th:only-of-type {\n",
              "        vertical-align: middle;\n",
              "    }\n",
              "\n",
              "    .dataframe tbody tr th {\n",
              "        vertical-align: top;\n",
              "    }\n",
              "\n",
              "    .dataframe thead th {\n",
              "        text-align: right;\n",
              "    }\n",
              "</style>\n",
              "<table border=\"1\" class=\"dataframe\">\n",
              "  <thead>\n",
              "    <tr style=\"text-align: right;\">\n",
              "      <th></th>\n",
              "      <th>cast</th>\n",
              "      <th>crew</th>\n",
              "      <th>id</th>\n",
              "      <th>actors</th>\n",
              "      <th>number_of_named_actors</th>\n",
              "    </tr>\n",
              "  </thead>\n",
              "  <tbody>\n",
              "    <tr>\n",
              "      <th>0</th>\n",
              "      <td>[{'cast_id': 14, 'character': 'Woody (voice)',...</td>\n",
              "      <td>[{'credit_id': '52fe4284c3a36847f8024f49', 'de...</td>\n",
              "      <td>862</td>\n",
              "      <td>[Tom_Hanks, Tim_Allen, Don_Rickles, Jim_Varney...</td>\n",
              "      <td>8</td>\n",
              "    </tr>\n",
              "    <tr>\n",
              "      <th>1</th>\n",
              "      <td>[{'cast_id': 1, 'character': 'Alan Parrish', '...</td>\n",
              "      <td>[{'credit_id': '52fe44bfc3a36847f80a7cd1', 'de...</td>\n",
              "      <td>8844</td>\n",
              "      <td>[Robin_Williams, Jonathan_Hyde, Kirsten_Dunst,...</td>\n",
              "      <td>8</td>\n",
              "    </tr>\n",
              "    <tr>\n",
              "      <th>2</th>\n",
              "      <td>[{'cast_id': 2, 'character': 'Max Goldman', 'c...</td>\n",
              "      <td>[{'credit_id': '52fe466a9251416c75077a89', 'de...</td>\n",
              "      <td>15602</td>\n",
              "      <td>[Walter_Matthau, Jack_Lemmon, AnnMargret, Soph...</td>\n",
              "      <td>7</td>\n",
              "    </tr>\n",
              "  </tbody>\n",
              "</table>\n",
              "</div>"
            ],
            "text/plain": [
              "                                                cast  ... number_of_named_actors\n",
              "0  [{'cast_id': 14, 'character': 'Woody (voice)',...  ...                      8\n",
              "1  [{'cast_id': 1, 'character': 'Alan Parrish', '...  ...                      8\n",
              "2  [{'cast_id': 2, 'character': 'Max Goldman', 'c...  ...                      7\n",
              "\n",
              "[3 rows x 5 columns]"
            ]
          },
          "metadata": {},
          "execution_count": 15
        }
      ]
    },
    {
      "cell_type": "code",
      "metadata": {
        "id": "FbfKgwz6v_7u"
      },
      "source": [
        "def listToString(item_list):\n",
        "  return r' '.join(item_list)\n",
        "\n",
        "credits['actors'] = credits['actors'].apply(listToString)"
      ],
      "execution_count": 16,
      "outputs": []
    },
    {
      "cell_type": "markdown",
      "metadata": {
        "id": "fXggdSJtwlqu"
      },
      "source": [
        "### Crew"
      ]
    },
    {
      "cell_type": "code",
      "metadata": {
        "id": "R4k0a18V2muN",
        "outputId": "cec6a77b-8874-49d3-e1c2-baac0147aebf",
        "colab": {
          "base_uri": "https://localhost:8080/"
        }
      },
      "source": [
        "credits['crew'] = credits.crew.apply(set_list_to_string, idx='name', to=4)\n",
        "credits.crew[0]"
      ],
      "execution_count": 17,
      "outputs": [
        {
          "output_type": "execute_result",
          "data": {
            "text/plain": [
              "['John_Lasseter', 'Joss_Whedon', 'Andrew_Stanton', 'Joel_Cohen']"
            ]
          },
          "metadata": {},
          "execution_count": 17
        }
      ]
    },
    {
      "cell_type": "code",
      "metadata": {
        "id": "bMVo3ZUfrDLR",
        "outputId": "6e26be47-8e10-4cb5-bff3-b56d0e75d52b",
        "colab": {
          "base_uri": "https://localhost:8080/",
          "height": 142
        }
      },
      "source": [
        "# 가장 많이 나온 crew 40명을 most_popular_crew라고 가정\n",
        "from collections import Counter\n",
        "\n",
        "crew_count = Counter([name for names_per_film in credits.crew.values for name in names_per_film])\n",
        "most_popular_crews = [entry[0] for entry in crew_count.most_common(40)]\n",
        "credits['number_of_named_crews'] = credits['crew'].apply(len)\n",
        "\n",
        "credits['crew'] = credits['crew'].apply(listToString)\n",
        "credits.head(3)"
      ],
      "execution_count": 18,
      "outputs": [
        {
          "output_type": "execute_result",
          "data": {
            "text/html": [
              "<div>\n",
              "<style scoped>\n",
              "    .dataframe tbody tr th:only-of-type {\n",
              "        vertical-align: middle;\n",
              "    }\n",
              "\n",
              "    .dataframe tbody tr th {\n",
              "        vertical-align: top;\n",
              "    }\n",
              "\n",
              "    .dataframe thead th {\n",
              "        text-align: right;\n",
              "    }\n",
              "</style>\n",
              "<table border=\"1\" class=\"dataframe\">\n",
              "  <thead>\n",
              "    <tr style=\"text-align: right;\">\n",
              "      <th></th>\n",
              "      <th>cast</th>\n",
              "      <th>crew</th>\n",
              "      <th>id</th>\n",
              "      <th>actors</th>\n",
              "      <th>number_of_named_actors</th>\n",
              "      <th>number_of_named_crews</th>\n",
              "    </tr>\n",
              "  </thead>\n",
              "  <tbody>\n",
              "    <tr>\n",
              "      <th>0</th>\n",
              "      <td>[{'cast_id': 14, 'character': 'Woody (voice)',...</td>\n",
              "      <td>John_Lasseter Joss_Whedon Andrew_Stanton Joel_...</td>\n",
              "      <td>862</td>\n",
              "      <td>Tom_Hanks Tim_Allen Don_Rickles Jim_Varney Wal...</td>\n",
              "      <td>8</td>\n",
              "      <td>4</td>\n",
              "    </tr>\n",
              "    <tr>\n",
              "      <th>1</th>\n",
              "      <td>[{'cast_id': 1, 'character': 'Alan Parrish', '...</td>\n",
              "      <td>Larry_J_Franco Jonathan_Hensleigh James_Horner...</td>\n",
              "      <td>8844</td>\n",
              "      <td>Robin_Williams Jonathan_Hyde Kirsten_Dunst Bra...</td>\n",
              "      <td>8</td>\n",
              "      <td>4</td>\n",
              "    </tr>\n",
              "    <tr>\n",
              "      <th>2</th>\n",
              "      <td>[{'cast_id': 2, 'character': 'Max Goldman', 'c...</td>\n",
              "      <td>Howard_Deutch Mark_Steven_Johnson Mark_Steven_...</td>\n",
              "      <td>15602</td>\n",
              "      <td>Walter_Matthau Jack_Lemmon AnnMargret Sophia_L...</td>\n",
              "      <td>7</td>\n",
              "      <td>4</td>\n",
              "    </tr>\n",
              "  </tbody>\n",
              "</table>\n",
              "</div>"
            ],
            "text/plain": [
              "                                                cast  ... number_of_named_crews\n",
              "0  [{'cast_id': 14, 'character': 'Woody (voice)',...  ...                     4\n",
              "1  [{'cast_id': 1, 'character': 'Alan Parrish', '...  ...                     4\n",
              "2  [{'cast_id': 2, 'character': 'Max Goldman', 'c...  ...                     4\n",
              "\n",
              "[3 rows x 6 columns]"
            ]
          },
          "metadata": {},
          "execution_count": 18
        }
      ]
    },
    {
      "cell_type": "code",
      "metadata": {
        "id": "dgFn8xMxvxnR"
      },
      "source": [
        "credits = credits.drop(['cast'], axis=1)"
      ],
      "execution_count": 19,
      "outputs": []
    },
    {
      "cell_type": "markdown",
      "metadata": {
        "id": "qyA1XVoNvpT2"
      },
      "source": [
        "### 배우들이 영화에 주연으로 출연한 수에 따른 그래프와 영화에 참여한 크루의 수 "
      ]
    },
    {
      "cell_type": "code",
      "metadata": {
        "id": "yrLYeTuzRu_7",
        "outputId": "802a94f9-57dc-4748-9bff-713fdaa76622",
        "colab": {
          "base_uri": "https://localhost:8080/",
          "height": 359
        }
      },
      "source": [
        "x_value = list()\n",
        "y_value = list()\n",
        "for i in range(40) :\n",
        "  x_value.append(actor_count.most_common(40)[i][0])\n",
        "  y_value.append(actor_count.most_common(40)[i][1])\n",
        "\n",
        "df_actor_count = pd.DataFrame(data={'actor':x_value, 'count':y_value})\n",
        "df_actor_count.head(10)"
      ],
      "execution_count": 20,
      "outputs": [
        {
          "output_type": "execute_result",
          "data": {
            "text/html": [
              "<div>\n",
              "<style scoped>\n",
              "    .dataframe tbody tr th:only-of-type {\n",
              "        vertical-align: middle;\n",
              "    }\n",
              "\n",
              "    .dataframe tbody tr th {\n",
              "        vertical-align: top;\n",
              "    }\n",
              "\n",
              "    .dataframe thead th {\n",
              "        text-align: right;\n",
              "    }\n",
              "</style>\n",
              "<table border=\"1\" class=\"dataframe\">\n",
              "  <thead>\n",
              "    <tr style=\"text-align: right;\">\n",
              "      <th></th>\n",
              "      <th>actor</th>\n",
              "      <th>count</th>\n",
              "    </tr>\n",
              "  </thead>\n",
              "  <tbody>\n",
              "    <tr>\n",
              "      <th>0</th>\n",
              "      <td>Christopher_Lee</td>\n",
              "      <td>115</td>\n",
              "    </tr>\n",
              "    <tr>\n",
              "      <th>1</th>\n",
              "      <td>John_Wayne</td>\n",
              "      <td>112</td>\n",
              "    </tr>\n",
              "    <tr>\n",
              "      <th>2</th>\n",
              "      <td>Jackie_Chan</td>\n",
              "      <td>103</td>\n",
              "    </tr>\n",
              "    <tr>\n",
              "      <th>3</th>\n",
              "      <td>Gérard_Depardieu</td>\n",
              "      <td>103</td>\n",
              "    </tr>\n",
              "    <tr>\n",
              "      <th>4</th>\n",
              "      <td>Michael_Caine</td>\n",
              "      <td>102</td>\n",
              "    </tr>\n",
              "    <tr>\n",
              "      <th>5</th>\n",
              "      <td>Robert_De_Niro</td>\n",
              "      <td>100</td>\n",
              "    </tr>\n",
              "    <tr>\n",
              "      <th>6</th>\n",
              "      <td>Samuel_L_Jackson</td>\n",
              "      <td>97</td>\n",
              "    </tr>\n",
              "    <tr>\n",
              "      <th>7</th>\n",
              "      <td>Donald_Sutherland</td>\n",
              "      <td>92</td>\n",
              "    </tr>\n",
              "    <tr>\n",
              "      <th>8</th>\n",
              "      <td>Danny_Glover</td>\n",
              "      <td>86</td>\n",
              "    </tr>\n",
              "    <tr>\n",
              "      <th>9</th>\n",
              "      <td>Harvey_Keitel</td>\n",
              "      <td>85</td>\n",
              "    </tr>\n",
              "  </tbody>\n",
              "</table>\n",
              "</div>"
            ],
            "text/plain": [
              "               actor  count\n",
              "0    Christopher_Lee    115\n",
              "1         John_Wayne    112\n",
              "2        Jackie_Chan    103\n",
              "3   Gérard_Depardieu    103\n",
              "4      Michael_Caine    102\n",
              "5     Robert_De_Niro    100\n",
              "6   Samuel_L_Jackson     97\n",
              "7  Donald_Sutherland     92\n",
              "8       Danny_Glover     86\n",
              "9      Harvey_Keitel     85"
            ]
          },
          "metadata": {},
          "execution_count": 20
        }
      ]
    },
    {
      "cell_type": "code",
      "metadata": {
        "id": "ms_oqcO7sIPg",
        "outputId": "eac4a8af-49cd-4df9-daf8-d7051419f8d1",
        "colab": {
          "base_uri": "https://localhost:8080/",
          "height": 359
        }
      },
      "source": [
        "x_value = list()\n",
        "y_value = list()\n",
        "for i in range(40) :\n",
        "  x_value.append(crew_count.most_common(40)[i][0])\n",
        "  y_value.append(crew_count.most_common(40)[i][1])\n",
        "\n",
        "df_crew_count = pd.DataFrame(data={'crew':x_value, 'count':y_value})\n",
        "df_crew_count.head(10)"
      ],
      "execution_count": 21,
      "outputs": [
        {
          "output_type": "execute_result",
          "data": {
            "text/html": [
              "<div>\n",
              "<style scoped>\n",
              "    .dataframe tbody tr th:only-of-type {\n",
              "        vertical-align: middle;\n",
              "    }\n",
              "\n",
              "    .dataframe tbody tr th {\n",
              "        vertical-align: top;\n",
              "    }\n",
              "\n",
              "    .dataframe thead th {\n",
              "        text-align: right;\n",
              "    }\n",
              "</style>\n",
              "<table border=\"1\" class=\"dataframe\">\n",
              "  <thead>\n",
              "    <tr style=\"text-align: right;\">\n",
              "      <th></th>\n",
              "      <th>crew</th>\n",
              "      <th>count</th>\n",
              "    </tr>\n",
              "  </thead>\n",
              "  <tbody>\n",
              "    <tr>\n",
              "      <th>0</th>\n",
              "      <td>Cedric_Gibbons</td>\n",
              "      <td>189</td>\n",
              "    </tr>\n",
              "    <tr>\n",
              "      <th>1</th>\n",
              "      <td>Avy_Kaufman</td>\n",
              "      <td>132</td>\n",
              "    </tr>\n",
              "    <tr>\n",
              "      <th>2</th>\n",
              "      <td>Roger_Corman</td>\n",
              "      <td>127</td>\n",
              "    </tr>\n",
              "    <tr>\n",
              "      <th>3</th>\n",
              "      <td>Max_Steiner</td>\n",
              "      <td>122</td>\n",
              "    </tr>\n",
              "    <tr>\n",
              "      <th>4</th>\n",
              "      <td>Ennio_Morricone</td>\n",
              "      <td>116</td>\n",
              "    </tr>\n",
              "    <tr>\n",
              "      <th>5</th>\n",
              "      <td>Darryl_F_Zanuck</td>\n",
              "      <td>116</td>\n",
              "    </tr>\n",
              "    <tr>\n",
              "      <th>6</th>\n",
              "      <td>Charlie_Chaplin</td>\n",
              "      <td>115</td>\n",
              "    </tr>\n",
              "    <tr>\n",
              "      <th>7</th>\n",
              "      <td>Luc_Besson</td>\n",
              "      <td>108</td>\n",
              "    </tr>\n",
              "    <tr>\n",
              "      <th>8</th>\n",
              "      <td>Werner_Herzog</td>\n",
              "      <td>104</td>\n",
              "    </tr>\n",
              "    <tr>\n",
              "      <th>9</th>\n",
              "      <td>Hal_B_Wallis</td>\n",
              "      <td>102</td>\n",
              "    </tr>\n",
              "  </tbody>\n",
              "</table>\n",
              "</div>"
            ],
            "text/plain": [
              "              crew  count\n",
              "0   Cedric_Gibbons    189\n",
              "1      Avy_Kaufman    132\n",
              "2     Roger_Corman    127\n",
              "3      Max_Steiner    122\n",
              "4  Ennio_Morricone    116\n",
              "5  Darryl_F_Zanuck    116\n",
              "6  Charlie_Chaplin    115\n",
              "7       Luc_Besson    108\n",
              "8    Werner_Herzog    104\n",
              "9     Hal_B_Wallis    102"
            ]
          },
          "metadata": {},
          "execution_count": 21
        }
      ]
    },
    {
      "cell_type": "code",
      "metadata": {
        "colab": {
          "base_uri": "https://localhost:8080/",
          "height": 142
        },
        "id": "i6pJzZV49U52",
        "outputId": "c09fd48a-2e2c-48de-99c6-f20d66f9fd54"
      },
      "source": [
        "credits.head(3)"
      ],
      "execution_count": 22,
      "outputs": [
        {
          "output_type": "execute_result",
          "data": {
            "text/html": [
              "<div>\n",
              "<style scoped>\n",
              "    .dataframe tbody tr th:only-of-type {\n",
              "        vertical-align: middle;\n",
              "    }\n",
              "\n",
              "    .dataframe tbody tr th {\n",
              "        vertical-align: top;\n",
              "    }\n",
              "\n",
              "    .dataframe thead th {\n",
              "        text-align: right;\n",
              "    }\n",
              "</style>\n",
              "<table border=\"1\" class=\"dataframe\">\n",
              "  <thead>\n",
              "    <tr style=\"text-align: right;\">\n",
              "      <th></th>\n",
              "      <th>crew</th>\n",
              "      <th>id</th>\n",
              "      <th>actors</th>\n",
              "      <th>number_of_named_actors</th>\n",
              "      <th>number_of_named_crews</th>\n",
              "    </tr>\n",
              "  </thead>\n",
              "  <tbody>\n",
              "    <tr>\n",
              "      <th>0</th>\n",
              "      <td>John_Lasseter Joss_Whedon Andrew_Stanton Joel_...</td>\n",
              "      <td>862</td>\n",
              "      <td>Tom_Hanks Tim_Allen Don_Rickles Jim_Varney Wal...</td>\n",
              "      <td>8</td>\n",
              "      <td>4</td>\n",
              "    </tr>\n",
              "    <tr>\n",
              "      <th>1</th>\n",
              "      <td>Larry_J_Franco Jonathan_Hensleigh James_Horner...</td>\n",
              "      <td>8844</td>\n",
              "      <td>Robin_Williams Jonathan_Hyde Kirsten_Dunst Bra...</td>\n",
              "      <td>8</td>\n",
              "      <td>4</td>\n",
              "    </tr>\n",
              "    <tr>\n",
              "      <th>2</th>\n",
              "      <td>Howard_Deutch Mark_Steven_Johnson Mark_Steven_...</td>\n",
              "      <td>15602</td>\n",
              "      <td>Walter_Matthau Jack_Lemmon AnnMargret Sophia_L...</td>\n",
              "      <td>7</td>\n",
              "      <td>4</td>\n",
              "    </tr>\n",
              "  </tbody>\n",
              "</table>\n",
              "</div>"
            ],
            "text/plain": [
              "                                                crew  ...  number_of_named_crews\n",
              "0  John_Lasseter Joss_Whedon Andrew_Stanton Joel_...  ...                      4\n",
              "1  Larry_J_Franco Jonathan_Hensleigh James_Horner...  ...                      4\n",
              "2  Howard_Deutch Mark_Steven_Johnson Mark_Steven_...  ...                      4\n",
              "\n",
              "[3 rows x 5 columns]"
            ]
          },
          "metadata": {},
          "execution_count": 22
        }
      ]
    },
    {
      "cell_type": "code",
      "metadata": {
        "id": "8Fl4NDeleJyV",
        "outputId": "ae29899a-731a-4d94-9392-41bf3c8f5c92",
        "colab": {
          "base_uri": "https://localhost:8080/",
          "height": 969
        }
      },
      "source": [
        "# Count of Actors in the Movie\n",
        "import matplotlib.pyplot as plt\n",
        "import seaborn as sns\n",
        "\n",
        "fig = plt.figure(figsize=(24, 16))\n",
        "\n",
        "g = sns.barplot(data= df_actor_count, x= \"count\",y= \"actor\", ci=None)\n",
        "ax = g\n",
        "\n",
        "#annotate axis = seaborn axis \n",
        "for p in ax.patches: \n",
        "    ax.annotate(\"%.0f\" % p.get_width(), (p.get_x() + p.get_width()+2, p.get_y()+p.get_height()), \n",
        "       ha='center', va='center', fontsize=10, color='black', xytext=(0, 10), textcoords='offset points')\n",
        "\n",
        "plt.xticks(fontsize=14, rotation=0)\n",
        "plt.title(\"Actors who appear frequently in movies and that number\", fontsize=24)\n",
        "plt.xlabel('Count', fontsize=18)\n",
        "plt.ylabel('Actor', fontsize=18)\n",
        "\n",
        "plt.show()"
      ],
      "execution_count": 23,
      "outputs": [
        {
          "output_type": "display_data",
          "data": {
            "image/png": "[encoded data removed]",
            "text/plain": [
              "<Figure size 1728x1152 with 1 Axes>"
            ]
          },
          "metadata": {
            "needs_background": "light"
          }
        }
      ]
    },
    {
      "cell_type": "code",
      "metadata": {
        "id": "6g8ThWSBtdrh",
        "outputId": "47710bdf-c1d2-45e2-a7bd-329eaf64ba52",
        "colab": {
          "base_uri": "https://localhost:8080/",
          "height": 969
        }
      },
      "source": [
        "import matplotlib.pyplot as plt\n",
        "import seaborn as sns\n",
        "\n",
        "fig = plt.figure(figsize=(24, 16))\n",
        "\n",
        "g = sns.barplot(data= df_crew_count, x= \"count\",y= \"crew\", ci=None)\n",
        "ax = g\n",
        "\n",
        "#annotate axis = seaborn axis \n",
        "for p in ax.patches: \n",
        "    ax.annotate(\"%.0f\" % p.get_width(), (p.get_x() + p.get_width()+2, p.get_y()+p.get_height()), \n",
        "       ha='center', va='center', fontsize=10, color='black', xytext=(0, 10), textcoords='offset points')\n",
        "\n",
        "plt.xticks(fontsize=14, rotation=0)\n",
        "plt.title(\"Crews who appear frequently in movies and that number\", fontsize=24)\n",
        "plt.xlabel('Count', fontsize=18)\n",
        "plt.ylabel('Crew', fontsize=18)\n",
        "\n",
        "plt.show()"
      ],
      "execution_count": 24,
      "outputs": [
        {
          "output_type": "display_data",
          "data": {
            "image/png": "[encoded data removed]",
            "text/plain": [
              "<Figure size 1728x1152 with 1 Axes>"
            ]
          },
          "metadata": {
            "needs_background": "light"
          }
        }
      ]
    },
    {
      "cell_type": "markdown",
      "metadata": {
        "id": "m34yF8NYG5ut"
      },
      "source": [
        "## keywords : 극 중 키워드 단어를 담고있는 dataframe\n",
        "-> keyword_name에 극 중 키워드 단어를 처리하기 쉬운 형태로 저장한다.\n",
        "\n",
        "#### 과연 키워드가 영화 판매수익에 영향을 미칠까?"
      ]
    },
    {
      "cell_type": "code",
      "metadata": {
        "colab": {
          "base_uri": "https://localhost:8080/"
        },
        "id": "4o0vjUVB6Cgb",
        "outputId": "a64324dc-686b-4c3a-b042-3191635faaaf"
      },
      "source": [
        "# 0번째 list로 test\n",
        "[entry['name'] for entry in  ast.literal_eval(keywords.keywords[0])]"
      ],
      "execution_count": 25,
      "outputs": [
        {
          "output_type": "execute_result",
          "data": {
            "text/plain": [
              "['jealousy',\n",
              " 'toy',\n",
              " 'boy',\n",
              " 'friendship',\n",
              " 'friends',\n",
              " 'rivalry',\n",
              " 'boy next door',\n",
              " 'new toy',\n",
              " 'toy comes to life']"
            ]
          },
          "metadata": {},
          "execution_count": 25
        }
      ]
    },
    {
      "cell_type": "code",
      "metadata": {
        "id": "jFhKLDh6O4uo",
        "outputId": "aaaf89dd-89e5-4950-e024-ff331e1062c3",
        "colab": {
          "base_uri": "https://localhost:8080/",
          "height": 142
        }
      },
      "source": [
        "# dic형식으로 된 내용을 name컬럼만 빼서 list로 저장\n",
        "keywords['keywords'] = keywords.keywords.apply(set_list_to_string, idx='name', to=0)\n",
        "keywords.head(3)"
      ],
      "execution_count": 26,
      "outputs": [
        {
          "output_type": "execute_result",
          "data": {
            "text/html": [
              "<div>\n",
              "<style scoped>\n",
              "    .dataframe tbody tr th:only-of-type {\n",
              "        vertical-align: middle;\n",
              "    }\n",
              "\n",
              "    .dataframe tbody tr th {\n",
              "        vertical-align: top;\n",
              "    }\n",
              "\n",
              "    .dataframe thead th {\n",
              "        text-align: right;\n",
              "    }\n",
              "</style>\n",
              "<table border=\"1\" class=\"dataframe\">\n",
              "  <thead>\n",
              "    <tr style=\"text-align: right;\">\n",
              "      <th></th>\n",
              "      <th>id</th>\n",
              "      <th>keywords</th>\n",
              "    </tr>\n",
              "  </thead>\n",
              "  <tbody>\n",
              "    <tr>\n",
              "      <th>0</th>\n",
              "      <td>862</td>\n",
              "      <td>[jealousy, toy, boy, friendship, friends, riva...</td>\n",
              "    </tr>\n",
              "    <tr>\n",
              "      <th>1</th>\n",
              "      <td>8844</td>\n",
              "      <td>[board_game, disappearance, based_on_childrens...</td>\n",
              "    </tr>\n",
              "    <tr>\n",
              "      <th>2</th>\n",
              "      <td>15602</td>\n",
              "      <td>[fishing, best_friend, duringcreditsstinger, o...</td>\n",
              "    </tr>\n",
              "  </tbody>\n",
              "</table>\n",
              "</div>"
            ],
            "text/plain": [
              "      id                                           keywords\n",
              "0    862  [jealousy, toy, boy, friendship, friends, riva...\n",
              "1   8844  [board_game, disappearance, based_on_childrens...\n",
              "2  15602  [fishing, best_friend, duringcreditsstinger, o..."
            ]
          },
          "metadata": {},
          "execution_count": 26
        }
      ]
    },
    {
      "cell_type": "code",
      "metadata": {
        "id": "O__-bkwFsq0T",
        "outputId": "cb63576a-6a55-4c8d-a57c-67d0d8204e20",
        "colab": {
          "base_uri": "https://localhost:8080/",
          "height": 359
        }
      },
      "source": [
        "# 가장 많이 나온 키워드 40개를 most_popular_keywords라고 가정\n",
        "\n",
        "from collections import Counter\n",
        "\n",
        "keyword_count = Counter([name for names_per_film in keywords.keywords.values for name in names_per_film])\n",
        "most_popular_keywords = [entry[0] for entry in keyword_count.most_common(40)]\n",
        "keywords['number_of_named_keyword'] = keywords['keywords'].apply(len)\n",
        "\n",
        "# 아래 시각화를 위해서 정의\n",
        "x_value = list()\n",
        "y_value = list()\n",
        "for i in range(40) :\n",
        "  x_value.append(keyword_count.most_common(40)[i][0])\n",
        "  y_value.append(keyword_count.most_common(40)[i][1])\n",
        "\n",
        "df_keyword_count = pd.DataFrame(data={'keyword':x_value, 'count':y_value})\n",
        "df_keyword_count.head(10)"
      ],
      "execution_count": 27,
      "outputs": [
        {
          "output_type": "execute_result",
          "data": {
            "text/html": [
              "<div>\n",
              "<style scoped>\n",
              "    .dataframe tbody tr th:only-of-type {\n",
              "        vertical-align: middle;\n",
              "    }\n",
              "\n",
              "    .dataframe tbody tr th {\n",
              "        vertical-align: top;\n",
              "    }\n",
              "\n",
              "    .dataframe thead th {\n",
              "        text-align: right;\n",
              "    }\n",
              "</style>\n",
              "<table border=\"1\" class=\"dataframe\">\n",
              "  <thead>\n",
              "    <tr style=\"text-align: right;\">\n",
              "      <th></th>\n",
              "      <th>keyword</th>\n",
              "      <th>count</th>\n",
              "    </tr>\n",
              "  </thead>\n",
              "  <tbody>\n",
              "    <tr>\n",
              "      <th>0</th>\n",
              "      <td>woman_director</td>\n",
              "      <td>3115</td>\n",
              "    </tr>\n",
              "    <tr>\n",
              "      <th>1</th>\n",
              "      <td>independent_film</td>\n",
              "      <td>1930</td>\n",
              "    </tr>\n",
              "    <tr>\n",
              "      <th>2</th>\n",
              "      <td>murder</td>\n",
              "      <td>1308</td>\n",
              "    </tr>\n",
              "    <tr>\n",
              "      <th>3</th>\n",
              "      <td>based_on_novel</td>\n",
              "      <td>835</td>\n",
              "    </tr>\n",
              "    <tr>\n",
              "      <th>4</th>\n",
              "      <td>musical</td>\n",
              "      <td>734</td>\n",
              "    </tr>\n",
              "    <tr>\n",
              "      <th>5</th>\n",
              "      <td>sex</td>\n",
              "      <td>685</td>\n",
              "    </tr>\n",
              "    <tr>\n",
              "      <th>6</th>\n",
              "      <td>violence</td>\n",
              "      <td>651</td>\n",
              "    </tr>\n",
              "    <tr>\n",
              "      <th>7</th>\n",
              "      <td>nudity</td>\n",
              "      <td>636</td>\n",
              "    </tr>\n",
              "    <tr>\n",
              "      <th>8</th>\n",
              "      <td>biography</td>\n",
              "      <td>629</td>\n",
              "    </tr>\n",
              "    <tr>\n",
              "      <th>9</th>\n",
              "      <td>revenge</td>\n",
              "      <td>626</td>\n",
              "    </tr>\n",
              "  </tbody>\n",
              "</table>\n",
              "</div>"
            ],
            "text/plain": [
              "            keyword  count\n",
              "0    woman_director   3115\n",
              "1  independent_film   1930\n",
              "2            murder   1308\n",
              "3    based_on_novel    835\n",
              "4           musical    734\n",
              "5               sex    685\n",
              "6          violence    651\n",
              "7            nudity    636\n",
              "8         biography    629\n",
              "9           revenge    626"
            ]
          },
          "metadata": {},
          "execution_count": 27
        }
      ]
    },
    {
      "cell_type": "code",
      "metadata": {
        "colab": {
          "base_uri": "https://localhost:8080/",
          "height": 142
        },
        "id": "hrM9M7iBPgiq",
        "outputId": "c6907c1f-872e-44c8-cb8e-2b2329f5164b"
      },
      "source": [
        "keywords['keywords'] = keywords['keywords'].apply(listToString)\n",
        "keywords.head(3)"
      ],
      "execution_count": 28,
      "outputs": [
        {
          "output_type": "execute_result",
          "data": {
            "text/html": [
              "<div>\n",
              "<style scoped>\n",
              "    .dataframe tbody tr th:only-of-type {\n",
              "        vertical-align: middle;\n",
              "    }\n",
              "\n",
              "    .dataframe tbody tr th {\n",
              "        vertical-align: top;\n",
              "    }\n",
              "\n",
              "    .dataframe thead th {\n",
              "        text-align: right;\n",
              "    }\n",
              "</style>\n",
              "<table border=\"1\" class=\"dataframe\">\n",
              "  <thead>\n",
              "    <tr style=\"text-align: right;\">\n",
              "      <th></th>\n",
              "      <th>id</th>\n",
              "      <th>keywords</th>\n",
              "      <th>number_of_named_keyword</th>\n",
              "    </tr>\n",
              "  </thead>\n",
              "  <tbody>\n",
              "    <tr>\n",
              "      <th>0</th>\n",
              "      <td>862</td>\n",
              "      <td>jealousy toy boy friendship friends rivalry bo...</td>\n",
              "      <td>9</td>\n",
              "    </tr>\n",
              "    <tr>\n",
              "      <th>1</th>\n",
              "      <td>8844</td>\n",
              "      <td>board_game disappearance based_on_childrens_bo...</td>\n",
              "      <td>6</td>\n",
              "    </tr>\n",
              "    <tr>\n",
              "      <th>2</th>\n",
              "      <td>15602</td>\n",
              "      <td>fishing best_friend duringcreditsstinger old_men</td>\n",
              "      <td>4</td>\n",
              "    </tr>\n",
              "  </tbody>\n",
              "</table>\n",
              "</div>"
            ],
            "text/plain": [
              "      id  ... number_of_named_keyword\n",
              "0    862  ...                       9\n",
              "1   8844  ...                       6\n",
              "2  15602  ...                       4\n",
              "\n",
              "[3 rows x 3 columns]"
            ]
          },
          "metadata": {},
          "execution_count": 28
        }
      ]
    },
    {
      "cell_type": "code",
      "metadata": {
        "colab": {
          "base_uri": "https://localhost:8080/"
        },
        "id": "ixj8i9KiQMLl",
        "outputId": "575febdf-9168-4903-a9db-0ce15f39f9f6"
      },
      "source": [
        "keywords['keywords'].unique()"
      ],
      "execution_count": 29,
      "outputs": [
        {
          "output_type": "execute_result",
          "data": {
            "text/plain": [
              "array(['jealousy toy boy friendship friends rivalry boy_next_door new_toy toy_comes_to_life',\n",
              "       'board_game disappearance based_on_childrens_book new_home recluse giant_insect',\n",
              "       'fishing best_friend duringcreditsstinger old_men', ...,\n",
              "       'blair_witch', 'witch mythology legend serial_killer mockumentary',\n",
              "       'artist play pinoy'], dtype=object)"
            ]
          },
          "metadata": {},
          "execution_count": 29
        }
      ]
    },
    {
      "cell_type": "markdown",
      "metadata": {
        "id": "NJ1YzXi1H9e0"
      },
      "source": [
        "### keywords의 수 합계 그래프"
      ]
    },
    {
      "cell_type": "code",
      "metadata": {
        "id": "8RzP62OwqFzu",
        "outputId": "ac632b38-43b9-4962-946f-d1a9809064ce",
        "colab": {
          "base_uri": "https://localhost:8080/",
          "height": 969
        }
      },
      "source": [
        "# Keywords that appear frequently in movies and that number\n",
        "import matplotlib.pyplot as plt\n",
        "import seaborn as sns\n",
        "\n",
        "fig = plt.figure(figsize=(24, 16))\n",
        "g = sns.barplot(data= df_keyword_count, x= \"count\",y= \"keyword\", ci=None)\n",
        "ax = g\n",
        "\n",
        "#annotate axis = seaborn axis \n",
        "for p in ax.patches: \n",
        "    ax.annotate(\"%.0f\" % p.get_width(), (p.get_x() + p.get_width()+2, p.get_y()+p.get_height()), \n",
        "       ha='center', va='center', fontsize=10, color='black', xytext=(0, 10), textcoords='offset points')\n",
        "\n",
        "plt.xticks(fontsize=14, rotation=0)\n",
        "plt.title(\"Keywords that appear frequently in movies and that number\", fontsize=24)\n",
        "plt.xlabel('Count', fontsize=18)\n",
        "plt.ylabel('Keyword', fontsize=18)\n",
        "plt.show()"
      ],
      "execution_count": 30,
      "outputs": [
        {
          "output_type": "display_data",
          "data": {
            "image/png": "[encoded data removed]",
            "text/plain": [
              "<Figure size 1728x1152 with 1 Axes>"
            ]
          },
          "metadata": {
            "needs_background": "light"
          }
        }
      ]
    },
    {
      "cell_type": "markdown",
      "metadata": {
        "id": "YYC-gT2fDUxW"
      },
      "source": [
        "## credit과 keywords merge"
      ]
    },
    {
      "cell_type": "code",
      "metadata": {
        "id": "bIkndu_OC8Mw",
        "colab": {
          "base_uri": "https://localhost:8080/",
          "height": 142
        },
        "outputId": "748298d3-a0a9-4f37-f966-d9843f3219f1"
      },
      "source": [
        "merged_df = pd.merge(credits, keywords, how='inner', on='id')\n",
        "merged_df.head(3)"
      ],
      "execution_count": 31,
      "outputs": [
        {
          "output_type": "execute_result",
          "data": {
            "text/html": [
              "<div>\n",
              "<style scoped>\n",
              "    .dataframe tbody tr th:only-of-type {\n",
              "        vertical-align: middle;\n",
              "    }\n",
              "\n",
              "    .dataframe tbody tr th {\n",
              "        vertical-align: top;\n",
              "    }\n",
              "\n",
              "    .dataframe thead th {\n",
              "        text-align: right;\n",
              "    }\n",
              "</style>\n",
              "<table border=\"1\" class=\"dataframe\">\n",
              "  <thead>\n",
              "    <tr style=\"text-align: right;\">\n",
              "      <th></th>\n",
              "      <th>crew</th>\n",
              "      <th>id</th>\n",
              "      <th>actors</th>\n",
              "      <th>number_of_named_actors</th>\n",
              "      <th>number_of_named_crews</th>\n",
              "      <th>keywords</th>\n",
              "      <th>number_of_named_keyword</th>\n",
              "    </tr>\n",
              "  </thead>\n",
              "  <tbody>\n",
              "    <tr>\n",
              "      <th>0</th>\n",
              "      <td>John_Lasseter Joss_Whedon Andrew_Stanton Joel_...</td>\n",
              "      <td>862</td>\n",
              "      <td>Tom_Hanks Tim_Allen Don_Rickles Jim_Varney Wal...</td>\n",
              "      <td>8</td>\n",
              "      <td>4</td>\n",
              "      <td>jealousy toy boy friendship friends rivalry bo...</td>\n",
              "      <td>9</td>\n",
              "    </tr>\n",
              "    <tr>\n",
              "      <th>1</th>\n",
              "      <td>Larry_J_Franco Jonathan_Hensleigh James_Horner...</td>\n",
              "      <td>8844</td>\n",
              "      <td>Robin_Williams Jonathan_Hyde Kirsten_Dunst Bra...</td>\n",
              "      <td>8</td>\n",
              "      <td>4</td>\n",
              "      <td>board_game disappearance based_on_childrens_bo...</td>\n",
              "      <td>6</td>\n",
              "    </tr>\n",
              "    <tr>\n",
              "      <th>2</th>\n",
              "      <td>Howard_Deutch Mark_Steven_Johnson Mark_Steven_...</td>\n",
              "      <td>15602</td>\n",
              "      <td>Walter_Matthau Jack_Lemmon AnnMargret Sophia_L...</td>\n",
              "      <td>7</td>\n",
              "      <td>4</td>\n",
              "      <td>fishing best_friend duringcreditsstinger old_men</td>\n",
              "      <td>4</td>\n",
              "    </tr>\n",
              "  </tbody>\n",
              "</table>\n",
              "</div>"
            ],
            "text/plain": [
              "                                                crew  ...  number_of_named_keyword\n",
              "0  John_Lasseter Joss_Whedon Andrew_Stanton Joel_...  ...                        9\n",
              "1  Larry_J_Franco Jonathan_Hensleigh James_Horner...  ...                        6\n",
              "2  Howard_Deutch Mark_Steven_Johnson Mark_Steven_...  ...                        4\n",
              "\n",
              "[3 rows x 7 columns]"
            ]
          },
          "metadata": {},
          "execution_count": 31
        }
      ]
    },
    {
      "cell_type": "markdown",
      "metadata": {
        "id": "a3uFNqmkHJfO"
      },
      "source": [
        "## links : 극 중 키워드 단어를 담고있는 dataframe\n",
        "-> keyword_name에 극 중 키워드 단어를 처리하기 쉬운 형태로 저장한다.\n",
        "\n",
        "#### 과연 키워드가 영화 판매수익에 영향을 미칠까?"
      ]
    },
    {
      "cell_type": "code",
      "metadata": {
        "id": "O8vuDnEb1dph",
        "colab": {
          "base_uri": "https://localhost:8080/",
          "height": 80
        },
        "outputId": "eab33780-8e1c-4145-ab55-47c3624bf525"
      },
      "source": [
        "links.columns = ['movieId', 'imdbId', 'id']\n",
        "links.head(1)"
      ],
      "execution_count": 32,
      "outputs": [
        {
          "output_type": "execute_result",
          "data": {
            "text/html": [
              "<div>\n",
              "<style scoped>\n",
              "    .dataframe tbody tr th:only-of-type {\n",
              "        vertical-align: middle;\n",
              "    }\n",
              "\n",
              "    .dataframe tbody tr th {\n",
              "        vertical-align: top;\n",
              "    }\n",
              "\n",
              "    .dataframe thead th {\n",
              "        text-align: right;\n",
              "    }\n",
              "</style>\n",
              "<table border=\"1\" class=\"dataframe\">\n",
              "  <thead>\n",
              "    <tr style=\"text-align: right;\">\n",
              "      <th></th>\n",
              "      <th>movieId</th>\n",
              "      <th>imdbId</th>\n",
              "      <th>id</th>\n",
              "    </tr>\n",
              "  </thead>\n",
              "  <tbody>\n",
              "    <tr>\n",
              "      <th>0</th>\n",
              "      <td>1</td>\n",
              "      <td>114709</td>\n",
              "      <td>862.0</td>\n",
              "    </tr>\n",
              "  </tbody>\n",
              "</table>\n",
              "</div>"
            ],
            "text/plain": [
              "   movieId  imdbId     id\n",
              "0        1  114709  862.0"
            ]
          },
          "metadata": {},
          "execution_count": 32
        }
      ]
    },
    {
      "cell_type": "code",
      "metadata": {
        "id": "cRxpmuSqTJtb"
      },
      "source": [
        "links = links.drop_duplicates()"
      ],
      "execution_count": 33,
      "outputs": []
    },
    {
      "cell_type": "code",
      "metadata": {
        "colab": {
          "base_uri": "https://localhost:8080/"
        },
        "id": "_1i0tlbLTTLj",
        "outputId": "215821ee-9570-4fd3-efd3-914c7043f4ca"
      },
      "source": [
        "links.isnull().sum()"
      ],
      "execution_count": 34,
      "outputs": [
        {
          "output_type": "execute_result",
          "data": {
            "text/plain": [
              "movieId      0\n",
              "imdbId       0\n",
              "id         222\n",
              "dtype: int64"
            ]
          },
          "metadata": {},
          "execution_count": 34
        }
      ]
    },
    {
      "cell_type": "markdown",
      "metadata": {
        "id": "yePHVwvVGtQp"
      },
      "source": [
        "## merge\n"
      ]
    },
    {
      "cell_type": "code",
      "metadata": {
        "id": "ZcBMWYP6DzD8",
        "colab": {
          "base_uri": "https://localhost:8080/",
          "height": 193
        },
        "outputId": "2a359c3d-e8e3-4582-9aba-959da7c40981"
      },
      "source": [
        "merged_df = pd.merge(merged_df, links, how='inner', on='id')\n",
        "merged_df.head(3)"
      ],
      "execution_count": 35,
      "outputs": [
        {
          "output_type": "execute_result",
          "data": {
            "text/html": [
              "<div>\n",
              "<style scoped>\n",
              "    .dataframe tbody tr th:only-of-type {\n",
              "        vertical-align: middle;\n",
              "    }\n",
              "\n",
              "    .dataframe tbody tr th {\n",
              "        vertical-align: top;\n",
              "    }\n",
              "\n",
              "    .dataframe thead th {\n",
              "        text-align: right;\n",
              "    }\n",
              "</style>\n",
              "<table border=\"1\" class=\"dataframe\">\n",
              "  <thead>\n",
              "    <tr style=\"text-align: right;\">\n",
              "      <th></th>\n",
              "      <th>crew</th>\n",
              "      <th>id</th>\n",
              "      <th>actors</th>\n",
              "      <th>number_of_named_actors</th>\n",
              "      <th>number_of_named_crews</th>\n",
              "      <th>keywords</th>\n",
              "      <th>number_of_named_keyword</th>\n",
              "      <th>movieId</th>\n",
              "      <th>imdbId</th>\n",
              "    </tr>\n",
              "  </thead>\n",
              "  <tbody>\n",
              "    <tr>\n",
              "      <th>0</th>\n",
              "      <td>John_Lasseter Joss_Whedon Andrew_Stanton Joel_...</td>\n",
              "      <td>862</td>\n",
              "      <td>Tom_Hanks Tim_Allen Don_Rickles Jim_Varney Wal...</td>\n",
              "      <td>8</td>\n",
              "      <td>4</td>\n",
              "      <td>jealousy toy boy friendship friends rivalry bo...</td>\n",
              "      <td>9</td>\n",
              "      <td>1</td>\n",
              "      <td>114709</td>\n",
              "    </tr>\n",
              "    <tr>\n",
              "      <th>1</th>\n",
              "      <td>Larry_J_Franco Jonathan_Hensleigh James_Horner...</td>\n",
              "      <td>8844</td>\n",
              "      <td>Robin_Williams Jonathan_Hyde Kirsten_Dunst Bra...</td>\n",
              "      <td>8</td>\n",
              "      <td>4</td>\n",
              "      <td>board_game disappearance based_on_childrens_bo...</td>\n",
              "      <td>6</td>\n",
              "      <td>2</td>\n",
              "      <td>113497</td>\n",
              "    </tr>\n",
              "    <tr>\n",
              "      <th>2</th>\n",
              "      <td>Howard_Deutch Mark_Steven_Johnson Mark_Steven_...</td>\n",
              "      <td>15602</td>\n",
              "      <td>Walter_Matthau Jack_Lemmon AnnMargret Sophia_L...</td>\n",
              "      <td>7</td>\n",
              "      <td>4</td>\n",
              "      <td>fishing best_friend duringcreditsstinger old_men</td>\n",
              "      <td>4</td>\n",
              "      <td>3</td>\n",
              "      <td>113228</td>\n",
              "    </tr>\n",
              "  </tbody>\n",
              "</table>\n",
              "</div>"
            ],
            "text/plain": [
              "                                                crew     id  ... movieId  imdbId\n",
              "0  John_Lasseter Joss_Whedon Andrew_Stanton Joel_...    862  ...       1  114709\n",
              "1  Larry_J_Franco Jonathan_Hensleigh James_Horner...   8844  ...       2  113497\n",
              "2  Howard_Deutch Mark_Steven_Johnson Mark_Steven_...  15602  ...       3  113228\n",
              "\n",
              "[3 rows x 9 columns]"
            ]
          },
          "metadata": {},
          "execution_count": 35
        }
      ]
    },
    {
      "cell_type": "markdown",
      "metadata": {
        "id": "cAQWLIwtJgdr"
      },
      "source": [
        "## movies_metadata : 영화에 대한 정보를 담고있는 dataframe\n",
        "-> 예측할 때 필요한 정보만 남겨놓았다.\n",
        "\n",
        "#### 과연 예산과 장르, 상영시간, 판매회사가 영화 판매수익에 영향을 미칠까?"
      ]
    },
    {
      "cell_type": "markdown",
      "metadata": {
        "id": "mtEKHtHxu-te"
      },
      "source": [
        "+ movies_metadata에서 필요없는 컬럼 삭제 ( ['original_language', 'original_title', 'overview', 'poster_path', 'tagline'] )\n",
        "+ homepage컬럼은 유/무로 판단(있다면 1, 없다면 0)\n",
        "+ spoken_languages는 언어가 몇가지인지로 적는다. ( 이 영화에 대한 기대감과 투자의 정도를 알 수 있을 것이다. )"
      ]
    },
    {
      "cell_type": "code",
      "metadata": {
        "colab": {
          "base_uri": "https://localhost:8080/"
        },
        "id": "C8pNSF-1Lrng",
        "outputId": "232724d1-4f28-4fb3-9382-7d2d304474ac"
      },
      "source": [
        "movies_metadata.duplicated().sum()"
      ],
      "execution_count": 36,
      "outputs": [
        {
          "output_type": "execute_result",
          "data": {
            "text/plain": [
              "13"
            ]
          },
          "metadata": {},
          "execution_count": 36
        }
      ]
    },
    {
      "cell_type": "code",
      "metadata": {
        "id": "iNGsTOfAMen2"
      },
      "source": [
        "movies_metadata = movies_metadata.drop_duplicates()"
      ],
      "execution_count": 37,
      "outputs": []
    },
    {
      "cell_type": "code",
      "metadata": {
        "id": "7onqjCf41dfX",
        "colab": {
          "base_uri": "https://localhost:8080/",
          "height": 336
        },
        "outputId": "9bb0236a-b822-474a-d6b5-4c621f8f3427"
      },
      "source": [
        "print(movies_metadata.shape)\n",
        "movies_metadata.head(2)"
      ],
      "execution_count": 38,
      "outputs": [
        {
          "output_type": "stream",
          "name": "stdout",
          "text": [
            "(45453, 24)\n"
          ]
        },
        {
          "output_type": "execute_result",
          "data": {
            "text/html": [
              "<div>\n",
              "<style scoped>\n",
              "    .dataframe tbody tr th:only-of-type {\n",
              "        vertical-align: middle;\n",
              "    }\n",
              "\n",
              "    .dataframe tbody tr th {\n",
              "        vertical-align: top;\n",
              "    }\n",
              "\n",
              "    .dataframe thead th {\n",
              "        text-align: right;\n",
              "    }\n",
              "</style>\n",
              "<table border=\"1\" class=\"dataframe\">\n",
              "  <thead>\n",
              "    <tr style=\"text-align: right;\">\n",
              "      <th></th>\n",
              "      <th>adult</th>\n",
              "      <th>belongs_to_collection</th>\n",
              "      <th>budget</th>\n",
              "      <th>genres</th>\n",
              "      <th>homepage</th>\n",
              "      <th>id</th>\n",
              "      <th>imdb_id</th>\n",
              "      <th>original_language</th>\n",
              "      <th>original_title</th>\n",
              "      <th>overview</th>\n",
              "      <th>popularity</th>\n",
              "      <th>poster_path</th>\n",
              "      <th>production_companies</th>\n",
              "      <th>production_countries</th>\n",
              "      <th>release_date</th>\n",
              "      <th>revenue</th>\n",
              "      <th>runtime</th>\n",
              "      <th>spoken_languages</th>\n",
              "      <th>status</th>\n",
              "      <th>tagline</th>\n",
              "      <th>title</th>\n",
              "      <th>video</th>\n",
              "      <th>vote_average</th>\n",
              "      <th>vote_count</th>\n",
              "    </tr>\n",
              "  </thead>\n",
              "  <tbody>\n",
              "    <tr>\n",
              "      <th>0</th>\n",
              "      <td>False</td>\n",
              "      <td>{'id': 10194, 'name': 'Toy Story Collection', ...</td>\n",
              "      <td>30000000</td>\n",
              "      <td>[{'id': 16, 'name': 'Animation'}, {'id': 35, '...</td>\n",
              "      <td>http://toystory.disney.com/toy-story</td>\n",
              "      <td>862</td>\n",
              "      <td>tt0114709</td>\n",
              "      <td>en</td>\n",
              "      <td>Toy Story</td>\n",
              "      <td>Led by Woody, Andy's toys live happily in his ...</td>\n",
              "      <td>21.9469</td>\n",
              "      <td>/rhIRbceoE9lR4veEXuwCC2wARtG.jpg</td>\n",
              "      <td>[{'name': 'Pixar Animation Studios', 'id': 3}]</td>\n",
              "      <td>[{'iso_3166_1': 'US', 'name': 'United States o...</td>\n",
              "      <td>1995-10-30</td>\n",
              "      <td>373554033.0</td>\n",
              "      <td>81.0</td>\n",
              "      <td>[{'iso_639_1': 'en', 'name': 'English'}]</td>\n",
              "      <td>Released</td>\n",
              "      <td>NaN</td>\n",
              "      <td>Toy Story</td>\n",
              "      <td>False</td>\n",
              "      <td>7.7</td>\n",
              "      <td>5415.0</td>\n",
              "    </tr>\n",
              "    <tr>\n",
              "      <th>1</th>\n",
              "      <td>False</td>\n",
              "      <td>NaN</td>\n",
              "      <td>65000000</td>\n",
              "      <td>[{'id': 12, 'name': 'Adventure'}, {'id': 14, '...</td>\n",
              "      <td>NaN</td>\n",
              "      <td>8844</td>\n",
              "      <td>tt0113497</td>\n",
              "      <td>en</td>\n",
              "      <td>Jumanji</td>\n",
              "      <td>When siblings Judy and Peter discover an encha...</td>\n",
              "      <td>17.0155</td>\n",
              "      <td>/vzmL6fP7aPKNKPRTFnZmiUfciyV.jpg</td>\n",
              "      <td>[{'name': 'TriStar Pictures', 'id': 559}, {'na...</td>\n",
              "      <td>[{'iso_3166_1': 'US', 'name': 'United States o...</td>\n",
              "      <td>1995-12-15</td>\n",
              "      <td>262797249.0</td>\n",
              "      <td>104.0</td>\n",
              "      <td>[{'iso_639_1': 'en', 'name': 'English'}, {'iso...</td>\n",
              "      <td>Released</td>\n",
              "      <td>Roll the dice and unleash the excitement!</td>\n",
              "      <td>Jumanji</td>\n",
              "      <td>False</td>\n",
              "      <td>6.9</td>\n",
              "      <td>2413.0</td>\n",
              "    </tr>\n",
              "  </tbody>\n",
              "</table>\n",
              "</div>"
            ],
            "text/plain": [
              "   adult  ... vote_count\n",
              "0  False  ...     5415.0\n",
              "1  False  ...     2413.0\n",
              "\n",
              "[2 rows x 24 columns]"
            ]
          },
          "metadata": {},
          "execution_count": 38
        }
      ]
    },
    {
      "cell_type": "code",
      "metadata": {
        "id": "25hmLDV9FSWh",
        "colab": {
          "base_uri": "https://localhost:8080/"
        },
        "outputId": "630eb1cf-04a8-4120-baa5-8f341e4a4da0"
      },
      "source": [
        "print(movies_metadata.revenue.mean())\n",
        "print(movies_metadata.revenue.median())\n",
        "movies_metadata.status.unique()"
      ],
      "execution_count": 39,
      "outputs": [
        {
          "output_type": "stream",
          "name": "stdout",
          "text": [
            "11212544.046889784\n",
            "0.0\n"
          ]
        },
        {
          "output_type": "execute_result",
          "data": {
            "text/plain": [
              "array(['Released', nan, 'Rumored', 'Post Production', 'In Production',\n",
              "       'Planned', 'Canceled'], dtype=object)"
            ]
          },
          "metadata": {},
          "execution_count": 39
        }
      ]
    },
    {
      "cell_type": "code",
      "metadata": {
        "colab": {
          "base_uri": "https://localhost:8080/"
        },
        "id": "ioT6XKBqOeD7",
        "outputId": "4a4a040c-b5b0-4b29-adfd-e2745f8e36cb"
      },
      "source": [
        "movies_metadata.isnull().sum()"
      ],
      "execution_count": 40,
      "outputs": [
        {
          "output_type": "execute_result",
          "data": {
            "text/plain": [
              "adult                        0\n",
              "belongs_to_collection    40959\n",
              "budget                       0\n",
              "genres                       0\n",
              "homepage                 37673\n",
              "id                           0\n",
              "imdb_id                     17\n",
              "original_language           11\n",
              "original_title               0\n",
              "overview                   954\n",
              "popularity                   5\n",
              "poster_path                386\n",
              "production_companies         3\n",
              "production_countries         3\n",
              "release_date                87\n",
              "revenue                      6\n",
              "runtime                    263\n",
              "spoken_languages             6\n",
              "status                      87\n",
              "tagline                  25045\n",
              "title                        6\n",
              "video                        6\n",
              "vote_average                 6\n",
              "vote_count                   6\n",
              "dtype: int64"
            ]
          },
          "metadata": {},
          "execution_count": 40
        }
      ]
    },
    {
      "cell_type": "code",
      "metadata": {
        "colab": {
          "base_uri": "https://localhost:8080/"
        },
        "id": "lyUQfWFkBS-l",
        "outputId": "fc6c2006-5d13-4c2c-ec29-83b8b4e59c79"
      },
      "source": [
        "movies_metadata.dtypes"
      ],
      "execution_count": 41,
      "outputs": [
        {
          "output_type": "execute_result",
          "data": {
            "text/plain": [
              "adult                     object\n",
              "belongs_to_collection     object\n",
              "budget                    object\n",
              "genres                    object\n",
              "homepage                  object\n",
              "id                        object\n",
              "imdb_id                   object\n",
              "original_language         object\n",
              "original_title            object\n",
              "overview                  object\n",
              "popularity                object\n",
              "poster_path               object\n",
              "production_companies      object\n",
              "production_countries      object\n",
              "release_date              object\n",
              "revenue                  float64\n",
              "runtime                  float64\n",
              "spoken_languages          object\n",
              "status                    object\n",
              "tagline                   object\n",
              "title                     object\n",
              "video                     object\n",
              "vote_average             float64\n",
              "vote_count               float64\n",
              "dtype: object"
            ]
          },
          "metadata": {},
          "execution_count": 41
        }
      ]
    },
    {
      "cell_type": "code",
      "metadata": {
        "colab": {
          "base_uri": "https://localhost:8080/"
        },
        "id": "TSgG4auLBmwb",
        "outputId": "db06d358-6a23-4d02-fab4-e3dddf9833a0"
      },
      "source": [
        "def toint(s) :\n",
        "  try :\n",
        "    n = int(s)\n",
        "    return n\n",
        "  except :\n",
        "    print(s)\n",
        "    return s\n",
        "movies_metadata.budget.apply(toint)"
      ],
      "execution_count": 42,
      "outputs": [
        {
          "output_type": "stream",
          "name": "stdout",
          "text": [
            "/ff9qCepilowshEtG2GYWwzt2bs4.jpg\n",
            "/zV8bHuSL6WXoD6FWogP9j4x80bL.jpg\n",
            "/zaSf5OG7V8X8gqFvly88zDdRm46.jpg\n"
          ]
        },
        {
          "output_type": "execute_result",
          "data": {
            "text/plain": [
              "0        30000000\n",
              "1        65000000\n",
              "2               0\n",
              "3        16000000\n",
              "4               0\n",
              "           ...   \n",
              "45461           0\n",
              "45462           0\n",
              "45463           0\n",
              "45464           0\n",
              "45465           0\n",
              "Name: budget, Length: 45453, dtype: object"
            ]
          },
          "metadata": {},
          "execution_count": 42
        }
      ]
    },
    {
      "cell_type": "code",
      "metadata": {
        "colab": {
          "base_uri": "https://localhost:8080/",
          "height": 185
        },
        "id": "EX-_PgplCj-m",
        "outputId": "a6f8982b-193f-4dd5-b000-1be60ddf4adc"
      },
      "source": [
        "# 본인의 columns 위치가 아닌 곳에 데이터가 있는 data들 drop\n",
        "movies_metadata[movies_metadata.budget == '/zV8bHuSL6WXoD6FWogP9j4x80bL.jpg']"
      ],
      "execution_count": 43,
      "outputs": [
        {
          "output_type": "execute_result",
          "data": {
            "text/html": [
              "<div>\n",
              "<style scoped>\n",
              "    .dataframe tbody tr th:only-of-type {\n",
              "        vertical-align: middle;\n",
              "    }\n",
              "\n",
              "    .dataframe tbody tr th {\n",
              "        vertical-align: top;\n",
              "    }\n",
              "\n",
              "    .dataframe thead th {\n",
              "        text-align: right;\n",
              "    }\n",
              "</style>\n",
              "<table border=\"1\" class=\"dataframe\">\n",
              "  <thead>\n",
              "    <tr style=\"text-align: right;\">\n",
              "      <th></th>\n",
              "      <th>adult</th>\n",
              "      <th>belongs_to_collection</th>\n",
              "      <th>budget</th>\n",
              "      <th>genres</th>\n",
              "      <th>homepage</th>\n",
              "      <th>id</th>\n",
              "      <th>imdb_id</th>\n",
              "      <th>original_language</th>\n",
              "      <th>original_title</th>\n",
              "      <th>overview</th>\n",
              "      <th>popularity</th>\n",
              "      <th>poster_path</th>\n",
              "      <th>production_companies</th>\n",
              "      <th>production_countries</th>\n",
              "      <th>release_date</th>\n",
              "      <th>revenue</th>\n",
              "      <th>runtime</th>\n",
              "      <th>spoken_languages</th>\n",
              "      <th>status</th>\n",
              "      <th>tagline</th>\n",
              "      <th>title</th>\n",
              "      <th>video</th>\n",
              "      <th>vote_average</th>\n",
              "      <th>vote_count</th>\n",
              "    </tr>\n",
              "  </thead>\n",
              "  <tbody>\n",
              "    <tr>\n",
              "      <th>29503</th>\n",
              "      <td>Rune Balot goes to a casino connected to the ...</td>\n",
              "      <td>1.931659</td>\n",
              "      <td>/zV8bHuSL6WXoD6FWogP9j4x80bL.jpg</td>\n",
              "      <td>[{'name': 'Aniplex', 'id': 2883}, {'name': 'Go...</td>\n",
              "      <td>[{'iso_3166_1': 'US', 'name': 'United States o...</td>\n",
              "      <td>2012-09-29</td>\n",
              "      <td>0</td>\n",
              "      <td>68.0</td>\n",
              "      <td>[{'iso_639_1': 'ja', 'name': '日本語'}]</td>\n",
              "      <td>Released</td>\n",
              "      <td>NaN</td>\n",
              "      <td>Mardock Scramble: The Third Exhaust</td>\n",
              "      <td>False</td>\n",
              "      <td>7.0</td>\n",
              "      <td>12</td>\n",
              "      <td>NaN</td>\n",
              "      <td>NaN</td>\n",
              "      <td>NaN</td>\n",
              "      <td>NaN</td>\n",
              "      <td>NaN</td>\n",
              "      <td>NaN</td>\n",
              "      <td>NaN</td>\n",
              "      <td>NaN</td>\n",
              "      <td>NaN</td>\n",
              "    </tr>\n",
              "  </tbody>\n",
              "</table>\n",
              "</div>"
            ],
            "text/plain": [
              "                                                   adult  ... vote_count\n",
              "29503   Rune Balot goes to a casino connected to the ...  ...        NaN\n",
              "\n",
              "[1 rows x 24 columns]"
            ]
          },
          "metadata": {},
          "execution_count": 43
        }
      ]
    },
    {
      "cell_type": "code",
      "metadata": {
        "colab": {
          "base_uri": "https://localhost:8080/"
        },
        "id": "vPs-LdPAC24A",
        "outputId": "72cabd9a-b0fd-4139-bbdc-d803d69244ee"
      },
      "source": [
        "movies_metadata = movies_metadata.drop(index=movies_metadata[movies_metadata.budget == '/ff9qCepilowshEtG2GYWwzt2bs4.jpg'].index)\n",
        "movies_metadata = movies_metadata.drop(index=movies_metadata[movies_metadata.budget == '/zV8bHuSL6WXoD6FWogP9j4x80bL.jpg'].index)\n",
        "movies_metadata = movies_metadata.drop(index=movies_metadata[movies_metadata.budget == '/zaSf5OG7V8X8gqFvly88zDdRm46.jpg'].index)\n",
        "print(movies_metadata.shape)\n",
        "movies_metadata.id = movies_metadata.id.astype(int)"
      ],
      "execution_count": 44,
      "outputs": [
        {
          "output_type": "stream",
          "name": "stdout",
          "text": [
            "(45450, 24)\n"
          ]
        }
      ]
    },
    {
      "cell_type": "code",
      "metadata": {
        "id": "xCZfepTRO1Oz"
      },
      "source": [
        "# nan 값을 0으로 치환(없다고 가정한다)\n",
        "movies_metadata.poster_path = movies_metadata.poster_path.fillna(0)"
      ],
      "execution_count": 45,
      "outputs": []
    },
    {
      "cell_type": "code",
      "metadata": {
        "colab": {
          "base_uri": "https://localhost:8080/"
        },
        "id": "xs5EopmnQkS9",
        "outputId": "71a617fa-c78f-4eb2-8a98-0ba855618056"
      },
      "source": [
        "def set_poster(s) :\n",
        "  if s == 0 :\n",
        "    return 0\n",
        "  else :\n",
        "    return 1\n",
        "  return 0\n",
        "movies_metadata.poster_path = movies_metadata.poster_path.apply(set_poster)\n",
        "movies_metadata.columns = ['adult', 'belongs_to_collection', 'budget', 'genres', 'homepage', 'id',\n",
        "       'imdb_id', 'original_language', 'original_title', 'overview',\n",
        "       'popularity', 'poster', 'production_companies',\n",
        "       'production_countries', 'release_date', 'revenue', 'runtime',\n",
        "       'spoken_languages', 'status', 'tagline', 'title', 'video',\n",
        "       'vote_average', 'vote_count']\n",
        "movies_metadata.columns"
      ],
      "execution_count": 46,
      "outputs": [
        {
          "output_type": "execute_result",
          "data": {
            "text/plain": [
              "Index(['adult', 'belongs_to_collection', 'budget', 'genres', 'homepage', 'id',\n",
              "       'imdb_id', 'original_language', 'original_title', 'overview',\n",
              "       'popularity', 'poster', 'production_companies', 'production_countries',\n",
              "       'release_date', 'revenue', 'runtime', 'spoken_languages', 'status',\n",
              "       'tagline', 'title', 'video', 'vote_average', 'vote_count'],\n",
              "      dtype='object')"
            ]
          },
          "metadata": {},
          "execution_count": 46
        }
      ]
    },
    {
      "cell_type": "code",
      "metadata": {
        "colab": {
          "base_uri": "https://localhost:8080/"
        },
        "id": "OPqVkN0mXXbG",
        "outputId": "b834df12-949e-4f97-c5ec-66484a28d644"
      },
      "source": [
        "print(movies_metadata.adult.unique())\n",
        "print(movies_metadata.status.unique())\n",
        "print(movies_metadata.video.unique())"
      ],
      "execution_count": 47,
      "outputs": [
        {
          "output_type": "stream",
          "name": "stdout",
          "text": [
            "['False' 'True']\n",
            "['Released' nan 'Rumored' 'Post Production' 'In Production' 'Planned'\n",
            " 'Canceled']\n",
            "[False True nan]\n"
          ]
        }
      ]
    },
    {
      "cell_type": "code",
      "metadata": {
        "colab": {
          "base_uri": "https://localhost:8080/"
        },
        "id": "IOk1ub_MTDbD",
        "outputId": "27b0312c-1bd7-4e24-9e9f-47749574bbc8"
      },
      "source": [
        "# False가 대부분이고, True는 극소수(대략 0.02%)이므로 통계적으로 의미를 띄지않는다.(유의미하지않다.) -> drop\n",
        "Counter(movies_metadata.adult)"
      ],
      "execution_count": 48,
      "outputs": [
        {
          "output_type": "execute_result",
          "data": {
            "text/plain": [
              "Counter({'False': 45441, 'True': 9})"
            ]
          },
          "metadata": {},
          "execution_count": 48
        }
      ]
    },
    {
      "cell_type": "code",
      "metadata": {
        "colab": {
          "base_uri": "https://localhost:8080/"
        },
        "id": "u-H97MlAVkhG",
        "outputId": "d56932fa-3850-481a-f003-beab75e13da6"
      },
      "source": [
        "# belongs_to_collection 컬럼에 빈칸(nan)값이 많기 때문에 우리가 예측하고자 하는 바에 도움이 되지 않는다. -> drop\n",
        "movies_metadata.shape, movies_metadata.belongs_to_collection.isnull().sum()"
      ],
      "execution_count": 49,
      "outputs": [
        {
          "output_type": "execute_result",
          "data": {
            "text/plain": [
              "((45450, 24), 40959)"
            ]
          },
          "metadata": {},
          "execution_count": 49
        }
      ]
    },
    {
      "cell_type": "code",
      "metadata": {
        "id": "ib5xioYYgEoY",
        "outputId": "9ac45596-a466-4efa-9fad-f0db13c21170",
        "colab": {
          "base_uri": "https://localhost:8080/",
          "height": 434
        }
      },
      "source": [
        "# dic형식으로 된 내용을 name컬럼만 빼서 list로 저장\n",
        "movies_metadata['genres'] = movies_metadata.genres.apply(set_list_to_string, idx='name', to=0)\n",
        "movies_metadata['number_of_popular_genres'] = movies_metadata['genres'].apply(len)\n",
        "\n",
        "movies_metadata.head(3)"
      ],
      "execution_count": 50,
      "outputs": [
        {
          "output_type": "execute_result",
          "data": {
            "text/html": [
              "<div>\n",
              "<style scoped>\n",
              "    .dataframe tbody tr th:only-of-type {\n",
              "        vertical-align: middle;\n",
              "    }\n",
              "\n",
              "    .dataframe tbody tr th {\n",
              "        vertical-align: top;\n",
              "    }\n",
              "\n",
              "    .dataframe thead th {\n",
              "        text-align: right;\n",
              "    }\n",
              "</style>\n",
              "<table border=\"1\" class=\"dataframe\">\n",
              "  <thead>\n",
              "    <tr style=\"text-align: right;\">\n",
              "      <th></th>\n",
              "      <th>adult</th>\n",
              "      <th>belongs_to_collection</th>\n",
              "      <th>budget</th>\n",
              "      <th>genres</th>\n",
              "      <th>homepage</th>\n",
              "      <th>id</th>\n",
              "      <th>imdb_id</th>\n",
              "      <th>original_language</th>\n",
              "      <th>original_title</th>\n",
              "      <th>overview</th>\n",
              "      <th>popularity</th>\n",
              "      <th>poster</th>\n",
              "      <th>production_companies</th>\n",
              "      <th>production_countries</th>\n",
              "      <th>release_date</th>\n",
              "      <th>revenue</th>\n",
              "      <th>runtime</th>\n",
              "      <th>spoken_languages</th>\n",
              "      <th>status</th>\n",
              "      <th>tagline</th>\n",
              "      <th>title</th>\n",
              "      <th>video</th>\n",
              "      <th>vote_average</th>\n",
              "      <th>vote_count</th>\n",
              "      <th>number_of_popular_genres</th>\n",
              "    </tr>\n",
              "  </thead>\n",
              "  <tbody>\n",
              "    <tr>\n",
              "      <th>0</th>\n",
              "      <td>False</td>\n",
              "      <td>{'id': 10194, 'name': 'Toy Story Collection', ...</td>\n",
              "      <td>30000000</td>\n",
              "      <td>[Animation, Comedy, Family]</td>\n",
              "      <td>http://toystory.disney.com/toy-story</td>\n",
              "      <td>862</td>\n",
              "      <td>tt0114709</td>\n",
              "      <td>en</td>\n",
              "      <td>Toy Story</td>\n",
              "      <td>Led by Woody, Andy's toys live happily in his ...</td>\n",
              "      <td>21.9469</td>\n",
              "      <td>1</td>\n",
              "      <td>[{'name': 'Pixar Animation Studios', 'id': 3}]</td>\n",
              "      <td>[{'iso_3166_1': 'US', 'name': 'United States o...</td>\n",
              "      <td>1995-10-30</td>\n",
              "      <td>373554033.0</td>\n",
              "      <td>81.0</td>\n",
              "      <td>[{'iso_639_1': 'en', 'name': 'English'}]</td>\n",
              "      <td>Released</td>\n",
              "      <td>NaN</td>\n",
              "      <td>Toy Story</td>\n",
              "      <td>False</td>\n",
              "      <td>7.7</td>\n",
              "      <td>5415.0</td>\n",
              "      <td>3</td>\n",
              "    </tr>\n",
              "    <tr>\n",
              "      <th>1</th>\n",
              "      <td>False</td>\n",
              "      <td>NaN</td>\n",
              "      <td>65000000</td>\n",
              "      <td>[Adventure, Fantasy, Family]</td>\n",
              "      <td>NaN</td>\n",
              "      <td>8844</td>\n",
              "      <td>tt0113497</td>\n",
              "      <td>en</td>\n",
              "      <td>Jumanji</td>\n",
              "      <td>When siblings Judy and Peter discover an encha...</td>\n",
              "      <td>17.0155</td>\n",
              "      <td>1</td>\n",
              "      <td>[{'name': 'TriStar Pictures', 'id': 559}, {'na...</td>\n",
              "      <td>[{'iso_3166_1': 'US', 'name': 'United States o...</td>\n",
              "      <td>1995-12-15</td>\n",
              "      <td>262797249.0</td>\n",
              "      <td>104.0</td>\n",
              "      <td>[{'iso_639_1': 'en', 'name': 'English'}, {'iso...</td>\n",
              "      <td>Released</td>\n",
              "      <td>Roll the dice and unleash the excitement!</td>\n",
              "      <td>Jumanji</td>\n",
              "      <td>False</td>\n",
              "      <td>6.9</td>\n",
              "      <td>2413.0</td>\n",
              "      <td>3</td>\n",
              "    </tr>\n",
              "    <tr>\n",
              "      <th>2</th>\n",
              "      <td>False</td>\n",
              "      <td>{'id': 119050, 'name': 'Grumpy Old Men Collect...</td>\n",
              "      <td>0</td>\n",
              "      <td>[Romance, Comedy]</td>\n",
              "      <td>NaN</td>\n",
              "      <td>15602</td>\n",
              "      <td>tt0113228</td>\n",
              "      <td>en</td>\n",
              "      <td>Grumpier Old Men</td>\n",
              "      <td>A family wedding reignites the ancient feud be...</td>\n",
              "      <td>11.7129</td>\n",
              "      <td>1</td>\n",
              "      <td>[{'name': 'Warner Bros.', 'id': 6194}, {'name'...</td>\n",
              "      <td>[{'iso_3166_1': 'US', 'name': 'United States o...</td>\n",
              "      <td>1995-12-22</td>\n",
              "      <td>0.0</td>\n",
              "      <td>101.0</td>\n",
              "      <td>[{'iso_639_1': 'en', 'name': 'English'}]</td>\n",
              "      <td>Released</td>\n",
              "      <td>Still Yelling. Still Fighting. Still Ready for...</td>\n",
              "      <td>Grumpier Old Men</td>\n",
              "      <td>False</td>\n",
              "      <td>6.5</td>\n",
              "      <td>92.0</td>\n",
              "      <td>2</td>\n",
              "    </tr>\n",
              "  </tbody>\n",
              "</table>\n",
              "</div>"
            ],
            "text/plain": [
              "   adult  ... number_of_popular_genres\n",
              "0  False  ...                        3\n",
              "1  False  ...                        3\n",
              "2  False  ...                        2\n",
              "\n",
              "[3 rows x 25 columns]"
            ]
          },
          "metadata": {},
          "execution_count": 50
        }
      ]
    },
    {
      "cell_type": "code",
      "metadata": {
        "id": "yoEIpK0jTJa8",
        "outputId": "fe457f60-709b-4c1b-c104-136695738a18",
        "colab": {
          "base_uri": "https://localhost:8080/",
          "height": 434
        }
      },
      "source": [
        "# 가장 많이 나온 crew 40명을 most_popular_genres라고 가정\n",
        "from collections import Counter\n",
        "\n",
        "genre_count = Counter([name for names_per_film in movies_metadata.genres.values for name in names_per_film])\n",
        "most_popular_genres = [entry[0] for entry in genre_count.most_common(40)]\n",
        "\n",
        "movies_metadata['genres'] = movies_metadata['genres'].apply(listToString)\n",
        "\n",
        "movies_metadata.head(3)"
      ],
      "execution_count": 51,
      "outputs": [
        {
          "output_type": "execute_result",
          "data": {
            "text/html": [
              "<div>\n",
              "<style scoped>\n",
              "    .dataframe tbody tr th:only-of-type {\n",
              "        vertical-align: middle;\n",
              "    }\n",
              "\n",
              "    .dataframe tbody tr th {\n",
              "        vertical-align: top;\n",
              "    }\n",
              "\n",
              "    .dataframe thead th {\n",
              "        text-align: right;\n",
              "    }\n",
              "</style>\n",
              "<table border=\"1\" class=\"dataframe\">\n",
              "  <thead>\n",
              "    <tr style=\"text-align: right;\">\n",
              "      <th></th>\n",
              "      <th>adult</th>\n",
              "      <th>belongs_to_collection</th>\n",
              "      <th>budget</th>\n",
              "      <th>genres</th>\n",
              "      <th>homepage</th>\n",
              "      <th>id</th>\n",
              "      <th>imdb_id</th>\n",
              "      <th>original_language</th>\n",
              "      <th>original_title</th>\n",
              "      <th>overview</th>\n",
              "      <th>popularity</th>\n",
              "      <th>poster</th>\n",
              "      <th>production_companies</th>\n",
              "      <th>production_countries</th>\n",
              "      <th>release_date</th>\n",
              "      <th>revenue</th>\n",
              "      <th>runtime</th>\n",
              "      <th>spoken_languages</th>\n",
              "      <th>status</th>\n",
              "      <th>tagline</th>\n",
              "      <th>title</th>\n",
              "      <th>video</th>\n",
              "      <th>vote_average</th>\n",
              "      <th>vote_count</th>\n",
              "      <th>number_of_popular_genres</th>\n",
              "    </tr>\n",
              "  </thead>\n",
              "  <tbody>\n",
              "    <tr>\n",
              "      <th>0</th>\n",
              "      <td>False</td>\n",
              "      <td>{'id': 10194, 'name': 'Toy Story Collection', ...</td>\n",
              "      <td>30000000</td>\n",
              "      <td>Animation Comedy Family</td>\n",
              "      <td>http://toystory.disney.com/toy-story</td>\n",
              "      <td>862</td>\n",
              "      <td>tt0114709</td>\n",
              "      <td>en</td>\n",
              "      <td>Toy Story</td>\n",
              "      <td>Led by Woody, Andy's toys live happily in his ...</td>\n",
              "      <td>21.9469</td>\n",
              "      <td>1</td>\n",
              "      <td>[{'name': 'Pixar Animation Studios', 'id': 3}]</td>\n",
              "      <td>[{'iso_3166_1': 'US', 'name': 'United States o...</td>\n",
              "      <td>1995-10-30</td>\n",
              "      <td>373554033.0</td>\n",
              "      <td>81.0</td>\n",
              "      <td>[{'iso_639_1': 'en', 'name': 'English'}]</td>\n",
              "      <td>Released</td>\n",
              "      <td>NaN</td>\n",
              "      <td>Toy Story</td>\n",
              "      <td>False</td>\n",
              "      <td>7.7</td>\n",
              "      <td>5415.0</td>\n",
              "      <td>3</td>\n",
              "    </tr>\n",
              "    <tr>\n",
              "      <th>1</th>\n",
              "      <td>False</td>\n",
              "      <td>NaN</td>\n",
              "      <td>65000000</td>\n",
              "      <td>Adventure Fantasy Family</td>\n",
              "      <td>NaN</td>\n",
              "      <td>8844</td>\n",
              "      <td>tt0113497</td>\n",
              "      <td>en</td>\n",
              "      <td>Jumanji</td>\n",
              "      <td>When siblings Judy and Peter discover an encha...</td>\n",
              "      <td>17.0155</td>\n",
              "      <td>1</td>\n",
              "      <td>[{'name': 'TriStar Pictures', 'id': 559}, {'na...</td>\n",
              "      <td>[{'iso_3166_1': 'US', 'name': 'United States o...</td>\n",
              "      <td>1995-12-15</td>\n",
              "      <td>262797249.0</td>\n",
              "      <td>104.0</td>\n",
              "      <td>[{'iso_639_1': 'en', 'name': 'English'}, {'iso...</td>\n",
              "      <td>Released</td>\n",
              "      <td>Roll the dice and unleash the excitement!</td>\n",
              "      <td>Jumanji</td>\n",
              "      <td>False</td>\n",
              "      <td>6.9</td>\n",
              "      <td>2413.0</td>\n",
              "      <td>3</td>\n",
              "    </tr>\n",
              "    <tr>\n",
              "      <th>2</th>\n",
              "      <td>False</td>\n",
              "      <td>{'id': 119050, 'name': 'Grumpy Old Men Collect...</td>\n",
              "      <td>0</td>\n",
              "      <td>Romance Comedy</td>\n",
              "      <td>NaN</td>\n",
              "      <td>15602</td>\n",
              "      <td>tt0113228</td>\n",
              "      <td>en</td>\n",
              "      <td>Grumpier Old Men</td>\n",
              "      <td>A family wedding reignites the ancient feud be...</td>\n",
              "      <td>11.7129</td>\n",
              "      <td>1</td>\n",
              "      <td>[{'name': 'Warner Bros.', 'id': 6194}, {'name'...</td>\n",
              "      <td>[{'iso_3166_1': 'US', 'name': 'United States o...</td>\n",
              "      <td>1995-12-22</td>\n",
              "      <td>0.0</td>\n",
              "      <td>101.0</td>\n",
              "      <td>[{'iso_639_1': 'en', 'name': 'English'}]</td>\n",
              "      <td>Released</td>\n",
              "      <td>Still Yelling. Still Fighting. Still Ready for...</td>\n",
              "      <td>Grumpier Old Men</td>\n",
              "      <td>False</td>\n",
              "      <td>6.5</td>\n",
              "      <td>92.0</td>\n",
              "      <td>2</td>\n",
              "    </tr>\n",
              "  </tbody>\n",
              "</table>\n",
              "</div>"
            ],
            "text/plain": [
              "   adult  ... number_of_popular_genres\n",
              "0  False  ...                        3\n",
              "1  False  ...                        3\n",
              "2  False  ...                        2\n",
              "\n",
              "[3 rows x 25 columns]"
            ]
          },
          "metadata": {},
          "execution_count": 51
        }
      ]
    },
    {
      "cell_type": "code",
      "metadata": {
        "id": "vMtBDLVgbN3N",
        "outputId": "1dd21fc9-ff85-4752-ee19-241a790c8844",
        "colab": {
          "base_uri": "https://localhost:8080/"
        }
      },
      "source": [
        "genre_count"
      ],
      "execution_count": 52,
      "outputs": [
        {
          "output_type": "execute_result",
          "data": {
            "text/plain": [
              "Counter({'Action': 6594,\n",
              "         'Adventure': 3495,\n",
              "         'Animation': 1933,\n",
              "         'Comedy': 13180,\n",
              "         'Crime': 4306,\n",
              "         'Documentary': 3932,\n",
              "         'Drama': 20255,\n",
              "         'Family': 2770,\n",
              "         'Fantasy': 2311,\n",
              "         'Foreign': 1620,\n",
              "         'History': 1398,\n",
              "         'Horror': 4672,\n",
              "         'Music': 1598,\n",
              "         'Mystery': 2465,\n",
              "         'Romance': 6734,\n",
              "         'Science_Fiction': 3046,\n",
              "         'TV_Movie': 767,\n",
              "         'Thriller': 7621,\n",
              "         'War': 1323,\n",
              "         'Western': 1042})"
            ]
          },
          "metadata": {},
          "execution_count": 52
        }
      ]
    },
    {
      "cell_type": "code",
      "metadata": {
        "colab": {
          "base_uri": "https://localhost:8080/"
        },
        "id": "JveUiIWpWOW2",
        "outputId": "0ad812cb-12e6-484c-ef18-ed6a5eb3e318"
      },
      "source": [
        "# Released는 train data로, Planned, In Production, Post Production은 test 데이터로\n",
        "Counter(movies_metadata.status)"
      ],
      "execution_count": 53,
      "outputs": [
        {
          "output_type": "execute_result",
          "data": {
            "text/plain": [
              "Counter({'Canceled': 2,\n",
              "         'In Production': 20,\n",
              "         'Planned': 15,\n",
              "         'Post Production': 98,\n",
              "         'Released': 45002,\n",
              "         'Rumored': 229,\n",
              "         nan: 84})"
            ]
          },
          "metadata": {},
          "execution_count": 53
        }
      ]
    },
    {
      "cell_type": "code",
      "metadata": {
        "colab": {
          "base_uri": "https://localhost:8080/"
        },
        "id": "X4W27gMuMhwz",
        "outputId": "f7eefdef-62af-4d3f-8492-304db76753a7"
      },
      "source": [
        "# False가 대부분이므로 video feature 삭제\n",
        "Counter(movies_metadata.video)"
      ],
      "execution_count": 54,
      "outputs": [
        {
          "output_type": "execute_result",
          "data": {
            "text/plain": [
              "Counter({False: 45354, True: 93, nan: 3})"
            ]
          },
          "metadata": {},
          "execution_count": 54
        }
      ]
    },
    {
      "cell_type": "code",
      "metadata": {
        "id": "AYk1nVLpVVR-",
        "colab": {
          "base_uri": "https://localhost:8080/"
        },
        "outputId": "8ada7119-45e6-46f8-eb15-b549b80f8696"
      },
      "source": [
        "# 1(포스터가 존재)이 대부분이므로 유의미하지 않다.\n",
        "Counter(movies_metadata.poster)"
      ],
      "execution_count": 55,
      "outputs": [
        {
          "output_type": "execute_result",
          "data": {
            "text/plain": [
              "Counter({0: 386, 1: 45064})"
            ]
          },
          "metadata": {},
          "execution_count": 55
        }
      ]
    },
    {
      "cell_type": "code",
      "metadata": {
        "id": "Tz9KtWaXGX-a",
        "outputId": "9505e3b5-56fc-4c6d-ae42-1093ec0c273e",
        "colab": {
          "base_uri": "https://localhost:8080/"
        }
      },
      "source": [
        "movies_metadata[movies_metadata.spoken_languages.isnull() == True].index"
      ],
      "execution_count": 56,
      "outputs": [
        {
          "output_type": "execute_result",
          "data": {
            "text/plain": [
              "Int64Index([19729, 29502, 35586], dtype='int64')"
            ]
          },
          "metadata": {},
          "execution_count": 56
        }
      ]
    },
    {
      "cell_type": "code",
      "metadata": {
        "id": "Zxf8kgK_J3p-",
        "outputId": "b5e15bc4-182d-4a9b-a7fa-7b6f59f25dda",
        "colab": {
          "base_uri": "https://localhost:8080/"
        }
      },
      "source": [
        "print(movies_metadata.shape)\n",
        "movies_metadata = movies_metadata.dropna()\n",
        "print(movies_metadata.shape)"
      ],
      "execution_count": 57,
      "outputs": [
        {
          "output_type": "stream",
          "name": "stdout",
          "text": [
            "(45450, 25)\n",
            "(693, 25)\n"
          ]
        }
      ]
    },
    {
      "cell_type": "code",
      "metadata": {
        "id": "TeKE09vBKCPZ",
        "outputId": "712e00aa-8944-40fa-ba46-842299a066f2",
        "colab": {
          "base_uri": "https://localhost:8080/"
        }
      },
      "source": [
        "# 홈페이지가 존재한다면 1, 없다면 0으로 치환\n",
        "def setHomepage(s) :\n",
        "  if s == 0 :\n",
        "    return 0\n",
        "  s = str(s)\n",
        "  if s[0:4] == 'http' :\n",
        "    return 1\n",
        "  return 0\n",
        "movies_metadata.fillna(0) # homepage가 없는 경우 0\n",
        "movies_metadata.homepage = movies_metadata.homepage.apply(setHomepage)\n",
        "\n",
        "\n",
        "# 음성언어가 몇가지 있는지 치환\n",
        "movies_metadata.spoken_languages = movies_metadata.spoken_languages.apply(set_list_to_string, idx='name', to=0)\n",
        "movies_metadata.spoken_languages = movies_metadata.spoken_languages.apply(len)\n",
        "movies_metadata.spoken_languages.head(5)"
      ],
      "execution_count": 58,
      "outputs": [
        {
          "output_type": "stream",
          "name": "stderr",
          "text": [
            "/usr/local/lib/python3.7/dist-packages/pandas/core/generic.py:5170: SettingWithCopyWarning: \n",
            "A value is trying to be set on a copy of a slice from a DataFrame.\n",
            "Try using .loc[row_indexer,col_indexer] = value instead\n",
            "\n",
            "See the caveats in the documentation: https://pandas.pydata.org/pandas-docs/stable/user_guide/indexing.html#returning-a-view-versus-a-copy\n",
            "  self[name] = value\n"
          ]
        },
        {
          "output_type": "execute_result",
          "data": {
            "text/plain": [
              "9      3\n",
              "68     1\n",
              "69     2\n",
              "153    1\n",
              "178    1\n",
              "Name: spoken_languages, dtype: int64"
            ]
          },
          "metadata": {},
          "execution_count": 58
        }
      ]
    },
    {
      "cell_type": "code",
      "metadata": {
        "id": "Lqsix6gQVrlK",
        "colab": {
          "base_uri": "https://localhost:8080/"
        },
        "outputId": "6544ff58-7d20-458e-dd7e-346bc5dcd35d"
      },
      "source": [
        "Counter(movies_metadata.homepage) # 대략 1의 비율이 17% -> 남겨둔다."
      ],
      "execution_count": 59,
      "outputs": [
        {
          "output_type": "execute_result",
          "data": {
            "text/plain": [
              "Counter({1: 693})"
            ]
          },
          "metadata": {},
          "execution_count": 59
        }
      ]
    },
    {
      "cell_type": "code",
      "metadata": {
        "colab": {
          "base_uri": "https://localhost:8080/"
        },
        "id": "7NPnS7FWQSvp",
        "outputId": "d7e383c1-8109-45df-a537-c90d8be71b9b"
      },
      "source": [
        "len(movies_metadata[ (movies_metadata['revenue'] == 0) ])"
      ],
      "execution_count": 60,
      "outputs": [
        {
          "output_type": "execute_result",
          "data": {
            "text/plain": [
              "191"
            ]
          },
          "metadata": {},
          "execution_count": 60
        }
      ]
    },
    {
      "cell_type": "code",
      "metadata": {
        "colab": {
          "base_uri": "https://localhost:8080/"
        },
        "id": "l3c2JBENPuzo",
        "outputId": "970e8bd7-665c-43e3-ca1e-37f38a9cc6c7"
      },
      "source": [
        "movies_metadata[ (movies_metadata['video'] == False) ].revenue"
      ],
      "execution_count": 61,
      "outputs": [
        {
          "output_type": "execute_result",
          "data": {
            "text/plain": [
              "9        352194034.0\n",
              "68        28215918.0\n",
              "69        25836616.0\n",
              "153        1275000.0\n",
              "178       66000000.0\n",
              "            ...     \n",
              "44274    369907963.0\n",
              "44674            0.0\n",
              "44821     68411275.0\n",
              "44842    604942143.0\n",
              "45029            0.0\n",
              "Name: revenue, Length: 692, dtype: float64"
            ]
          },
          "metadata": {},
          "execution_count": 61
        }
      ]
    },
    {
      "cell_type": "code",
      "metadata": {
        "colab": {
          "base_uri": "https://localhost:8080/",
          "height": 321
        },
        "id": "Ql4ykeOhMs_k",
        "outputId": "4fcc8ab9-1f82-4260-e907-418248f34c22"
      },
      "source": [
        "import matplotlib.pyplot as plt\n",
        "plt.scatter(movies_metadata['video'], movies_metadata['revenue'], alpha = .5)\n",
        "plt.title('Scatter graph video per revenue', fontsize=20)\n",
        "plt.xlabel('video', fontsize=12)\n",
        "plt.ylabel('revenue', fontsize=12)"
      ],
      "execution_count": 62,
      "outputs": [
        {
          "output_type": "execute_result",
          "data": {
            "text/plain": [
              "Text(0, 0.5, 'revenue')"
            ]
          },
          "metadata": {},
          "execution_count": 62
        },
        {
          "output_type": "display_data",
          "data": {
            "image/png": "[encoded data removed]",
            "text/plain": [
              "<Figure size 432x288 with 1 Axes>"
            ]
          },
          "metadata": {
            "needs_background": "light"
          }
        }
      ]
    },
    {
      "cell_type": "code",
      "metadata": {
        "colab": {
          "base_uri": "https://localhost:8080/",
          "height": 496
        },
        "id": "qv8WouFDNBR0",
        "outputId": "5c6108ca-3025-4d32-8c06-dbb47f1358cd"
      },
      "source": [
        "movies_metadata[movies_metadata['video']==False].revenue.hist(figsize=(16,8), log=True);"
      ],
      "execution_count": 63,
      "outputs": [
        {
          "output_type": "display_data",
          "data": {
            "image/png": "[encoded data removed]",
            "text/plain": [
              "<Figure size 1152x576 with 1 Axes>"
            ]
          },
          "metadata": {
            "needs_background": "light"
          }
        }
      ]
    },
    {
      "cell_type": "code",
      "metadata": {
        "colab": {
          "base_uri": "https://localhost:8080/"
        },
        "id": "uxlZLWiDd8AA",
        "outputId": "f68023fb-3695-4c62-fe88-93d6cf3422c1"
      },
      "source": [
        "# 출시된 상태의 영화에 대해서 훈련시킬 예정이다.\n",
        "movies_metadata = movies_metadata[ (movies_metadata['status'] == 'Released') | (movies_metadata['status'] == 'Planned') \n",
        "                    | (movies_metadata['status'] == 'In Production') | (movies_metadata['status'] == 'Post Production')]\n",
        "print(movies_metadata.status.unique())"
      ],
      "execution_count": 64,
      "outputs": [
        {
          "output_type": "stream",
          "name": "stdout",
          "text": [
            "['Released']\n"
          ]
        }
      ]
    },
    {
      "cell_type": "code",
      "metadata": {
        "colab": {
          "base_uri": "https://localhost:8080/",
          "height": 512
        },
        "id": "5Nqk3e50Qmxo",
        "outputId": "d852ccb3-34ce-427b-f24f-cd59f73b756a"
      },
      "source": [
        "movies_metadata.describe(include='all')"
      ],
      "execution_count": 65,
      "outputs": [
        {
          "output_type": "execute_result",
          "data": {
            "text/html": [
              "<div>\n",
              "<style scoped>\n",
              "    .dataframe tbody tr th:only-of-type {\n",
              "        vertical-align: middle;\n",
              "    }\n",
              "\n",
              "    .dataframe tbody tr th {\n",
              "        vertical-align: top;\n",
              "    }\n",
              "\n",
              "    .dataframe thead th {\n",
              "        text-align: right;\n",
              "    }\n",
              "</style>\n",
              "<table border=\"1\" class=\"dataframe\">\n",
              "  <thead>\n",
              "    <tr style=\"text-align: right;\">\n",
              "      <th></th>\n",
              "      <th>adult</th>\n",
              "      <th>belongs_to_collection</th>\n",
              "      <th>budget</th>\n",
              "      <th>genres</th>\n",
              "      <th>homepage</th>\n",
              "      <th>id</th>\n",
              "      <th>imdb_id</th>\n",
              "      <th>original_language</th>\n",
              "      <th>original_title</th>\n",
              "      <th>overview</th>\n",
              "      <th>popularity</th>\n",
              "      <th>poster</th>\n",
              "      <th>production_companies</th>\n",
              "      <th>production_countries</th>\n",
              "      <th>release_date</th>\n",
              "      <th>revenue</th>\n",
              "      <th>runtime</th>\n",
              "      <th>spoken_languages</th>\n",
              "      <th>status</th>\n",
              "      <th>tagline</th>\n",
              "      <th>title</th>\n",
              "      <th>video</th>\n",
              "      <th>vote_average</th>\n",
              "      <th>vote_count</th>\n",
              "      <th>number_of_popular_genres</th>\n",
              "    </tr>\n",
              "  </thead>\n",
              "  <tbody>\n",
              "    <tr>\n",
              "      <th>count</th>\n",
              "      <td>693</td>\n",
              "      <td>693</td>\n",
              "      <td>693</td>\n",
              "      <td>693</td>\n",
              "      <td>693.0</td>\n",
              "      <td>693.000000</td>\n",
              "      <td>693</td>\n",
              "      <td>693</td>\n",
              "      <td>693</td>\n",
              "      <td>693</td>\n",
              "      <td>693</td>\n",
              "      <td>693.0</td>\n",
              "      <td>693</td>\n",
              "      <td>693</td>\n",
              "      <td>693</td>\n",
              "      <td>6.930000e+02</td>\n",
              "      <td>693.000000</td>\n",
              "      <td>693.000000</td>\n",
              "      <td>693</td>\n",
              "      <td>693</td>\n",
              "      <td>693</td>\n",
              "      <td>693</td>\n",
              "      <td>693.000000</td>\n",
              "      <td>693.000000</td>\n",
              "      <td>693.000000</td>\n",
              "    </tr>\n",
              "    <tr>\n",
              "      <th>unique</th>\n",
              "      <td>1</td>\n",
              "      <td>423</td>\n",
              "      <td>164</td>\n",
              "      <td>333</td>\n",
              "      <td>NaN</td>\n",
              "      <td>NaN</td>\n",
              "      <td>692</td>\n",
              "      <td>21</td>\n",
              "      <td>688</td>\n",
              "      <td>691</td>\n",
              "      <td>693</td>\n",
              "      <td>NaN</td>\n",
              "      <td>555</td>\n",
              "      <td>107</td>\n",
              "      <td>646</td>\n",
              "      <td>NaN</td>\n",
              "      <td>NaN</td>\n",
              "      <td>NaN</td>\n",
              "      <td>1</td>\n",
              "      <td>685</td>\n",
              "      <td>687</td>\n",
              "      <td>2</td>\n",
              "      <td>NaN</td>\n",
              "      <td>NaN</td>\n",
              "      <td>NaN</td>\n",
              "    </tr>\n",
              "    <tr>\n",
              "      <th>top</th>\n",
              "      <td>False</td>\n",
              "      <td>{'id': 645, 'name': 'James Bond Collection', '...</td>\n",
              "      <td>0</td>\n",
              "      <td>Comedy</td>\n",
              "      <td>NaN</td>\n",
              "      <td>NaN</td>\n",
              "      <td>tt0235679</td>\n",
              "      <td>en</td>\n",
              "      <td>Halloween</td>\n",
              "      <td>When Molly Hale's sadness of her father's disa...</td>\n",
              "      <td>9.914008</td>\n",
              "      <td>NaN</td>\n",
              "      <td>[]</td>\n",
              "      <td>[{'iso_3166_1': 'US', 'name': 'United States o...</td>\n",
              "      <td>2013-07-11</td>\n",
              "      <td>NaN</td>\n",
              "      <td>NaN</td>\n",
              "      <td>NaN</td>\n",
              "      <td>Released</td>\n",
              "      <td>Who is John Galt?</td>\n",
              "      <td>Ghostbusters</td>\n",
              "      <td>False</td>\n",
              "      <td>NaN</td>\n",
              "      <td>NaN</td>\n",
              "      <td>NaN</td>\n",
              "    </tr>\n",
              "    <tr>\n",
              "      <th>freq</th>\n",
              "      <td>693</td>\n",
              "      <td>25</td>\n",
              "      <td>175</td>\n",
              "      <td>37</td>\n",
              "      <td>NaN</td>\n",
              "      <td>NaN</td>\n",
              "      <td>2</td>\n",
              "      <td>610</td>\n",
              "      <td>2</td>\n",
              "      <td>2</td>\n",
              "      <td>1</td>\n",
              "      <td>NaN</td>\n",
              "      <td>31</td>\n",
              "      <td>396</td>\n",
              "      <td>3</td>\n",
              "      <td>NaN</td>\n",
              "      <td>NaN</td>\n",
              "      <td>NaN</td>\n",
              "      <td>693</td>\n",
              "      <td>3</td>\n",
              "      <td>2</td>\n",
              "      <td>692</td>\n",
              "      <td>NaN</td>\n",
              "      <td>NaN</td>\n",
              "      <td>NaN</td>\n",
              "    </tr>\n",
              "    <tr>\n",
              "      <th>mean</th>\n",
              "      <td>NaN</td>\n",
              "      <td>NaN</td>\n",
              "      <td>NaN</td>\n",
              "      <td>NaN</td>\n",
              "      <td>1.0</td>\n",
              "      <td>75374.291486</td>\n",
              "      <td>NaN</td>\n",
              "      <td>NaN</td>\n",
              "      <td>NaN</td>\n",
              "      <td>NaN</td>\n",
              "      <td>NaN</td>\n",
              "      <td>1.0</td>\n",
              "      <td>NaN</td>\n",
              "      <td>NaN</td>\n",
              "      <td>NaN</td>\n",
              "      <td>2.348037e+08</td>\n",
              "      <td>107.363636</td>\n",
              "      <td>1.559885</td>\n",
              "      <td>NaN</td>\n",
              "      <td>NaN</td>\n",
              "      <td>NaN</td>\n",
              "      <td>NaN</td>\n",
              "      <td>6.270996</td>\n",
              "      <td>1691.366522</td>\n",
              "      <td>2.797980</td>\n",
              "    </tr>\n",
              "    <tr>\n",
              "      <th>std</th>\n",
              "      <td>NaN</td>\n",
              "      <td>NaN</td>\n",
              "      <td>NaN</td>\n",
              "      <td>NaN</td>\n",
              "      <td>0.0</td>\n",
              "      <td>101321.301068</td>\n",
              "      <td>NaN</td>\n",
              "      <td>NaN</td>\n",
              "      <td>NaN</td>\n",
              "      <td>NaN</td>\n",
              "      <td>NaN</td>\n",
              "      <td>0.0</td>\n",
              "      <td>NaN</td>\n",
              "      <td>NaN</td>\n",
              "      <td>NaN</td>\n",
              "      <td>3.299089e+08</td>\n",
              "      <td>27.243771</td>\n",
              "      <td>1.038817</td>\n",
              "      <td>NaN</td>\n",
              "      <td>NaN</td>\n",
              "      <td>NaN</td>\n",
              "      <td>NaN</td>\n",
              "      <td>1.012328</td>\n",
              "      <td>2215.285619</td>\n",
              "      <td>1.098947</td>\n",
              "    </tr>\n",
              "    <tr>\n",
              "      <th>min</th>\n",
              "      <td>NaN</td>\n",
              "      <td>NaN</td>\n",
              "      <td>NaN</td>\n",
              "      <td>NaN</td>\n",
              "      <td>1.0</td>\n",
              "      <td>11.000000</td>\n",
              "      <td>NaN</td>\n",
              "      <td>NaN</td>\n",
              "      <td>NaN</td>\n",
              "      <td>NaN</td>\n",
              "      <td>NaN</td>\n",
              "      <td>1.0</td>\n",
              "      <td>NaN</td>\n",
              "      <td>NaN</td>\n",
              "      <td>NaN</td>\n",
              "      <td>0.000000e+00</td>\n",
              "      <td>0.000000</td>\n",
              "      <td>0.000000</td>\n",
              "      <td>NaN</td>\n",
              "      <td>NaN</td>\n",
              "      <td>NaN</td>\n",
              "      <td>NaN</td>\n",
              "      <td>0.000000</td>\n",
              "      <td>0.000000</td>\n",
              "      <td>1.000000</td>\n",
              "    </tr>\n",
              "    <tr>\n",
              "      <th>25%</th>\n",
              "      <td>NaN</td>\n",
              "      <td>NaN</td>\n",
              "      <td>NaN</td>\n",
              "      <td>NaN</td>\n",
              "      <td>1.0</td>\n",
              "      <td>8359.000000</td>\n",
              "      <td>NaN</td>\n",
              "      <td>NaN</td>\n",
              "      <td>NaN</td>\n",
              "      <td>NaN</td>\n",
              "      <td>NaN</td>\n",
              "      <td>1.0</td>\n",
              "      <td>NaN</td>\n",
              "      <td>NaN</td>\n",
              "      <td>NaN</td>\n",
              "      <td>0.000000e+00</td>\n",
              "      <td>91.000000</td>\n",
              "      <td>1.000000</td>\n",
              "      <td>NaN</td>\n",
              "      <td>NaN</td>\n",
              "      <td>NaN</td>\n",
              "      <td>NaN</td>\n",
              "      <td>5.800000</td>\n",
              "      <td>121.000000</td>\n",
              "      <td>2.000000</td>\n",
              "    </tr>\n",
              "    <tr>\n",
              "      <th>50%</th>\n",
              "      <td>NaN</td>\n",
              "      <td>NaN</td>\n",
              "      <td>NaN</td>\n",
              "      <td>NaN</td>\n",
              "      <td>1.0</td>\n",
              "      <td>33303.000000</td>\n",
              "      <td>NaN</td>\n",
              "      <td>NaN</td>\n",
              "      <td>NaN</td>\n",
              "      <td>NaN</td>\n",
              "      <td>NaN</td>\n",
              "      <td>1.0</td>\n",
              "      <td>NaN</td>\n",
              "      <td>NaN</td>\n",
              "      <td>NaN</td>\n",
              "      <td>8.332000e+07</td>\n",
              "      <td>103.000000</td>\n",
              "      <td>1.000000</td>\n",
              "      <td>NaN</td>\n",
              "      <td>NaN</td>\n",
              "      <td>NaN</td>\n",
              "      <td>NaN</td>\n",
              "      <td>6.300000</td>\n",
              "      <td>688.000000</td>\n",
              "      <td>3.000000</td>\n",
              "    </tr>\n",
              "    <tr>\n",
              "      <th>75%</th>\n",
              "      <td>NaN</td>\n",
              "      <td>NaN</td>\n",
              "      <td>NaN</td>\n",
              "      <td>NaN</td>\n",
              "      <td>1.0</td>\n",
              "      <td>91586.000000</td>\n",
              "      <td>NaN</td>\n",
              "      <td>NaN</td>\n",
              "      <td>NaN</td>\n",
              "      <td>NaN</td>\n",
              "      <td>NaN</td>\n",
              "      <td>1.0</td>\n",
              "      <td>NaN</td>\n",
              "      <td>NaN</td>\n",
              "      <td>NaN</td>\n",
              "      <td>3.613666e+08</td>\n",
              "      <td>121.000000</td>\n",
              "      <td>2.000000</td>\n",
              "      <td>NaN</td>\n",
              "      <td>NaN</td>\n",
              "      <td>NaN</td>\n",
              "      <td>NaN</td>\n",
              "      <td>7.000000</td>\n",
              "      <td>2491.000000</td>\n",
              "      <td>3.000000</td>\n",
              "    </tr>\n",
              "    <tr>\n",
              "      <th>max</th>\n",
              "      <td>NaN</td>\n",
              "      <td>NaN</td>\n",
              "      <td>NaN</td>\n",
              "      <td>NaN</td>\n",
              "      <td>1.0</td>\n",
              "      <td>426580.000000</td>\n",
              "      <td>NaN</td>\n",
              "      <td>NaN</td>\n",
              "      <td>NaN</td>\n",
              "      <td>NaN</td>\n",
              "      <td>NaN</td>\n",
              "      <td>1.0</td>\n",
              "      <td>NaN</td>\n",
              "      <td>NaN</td>\n",
              "      <td>NaN</td>\n",
              "      <td>2.787965e+09</td>\n",
              "      <td>476.000000</td>\n",
              "      <td>7.000000</td>\n",
              "      <td>NaN</td>\n",
              "      <td>NaN</td>\n",
              "      <td>NaN</td>\n",
              "      <td>NaN</td>\n",
              "      <td>8.500000</td>\n",
              "      <td>12269.000000</td>\n",
              "      <td>6.000000</td>\n",
              "    </tr>\n",
              "  </tbody>\n",
              "</table>\n",
              "</div>"
            ],
            "text/plain": [
              "        adult  ... number_of_popular_genres\n",
              "count     693  ...               693.000000\n",
              "unique      1  ...                      NaN\n",
              "top     False  ...                      NaN\n",
              "freq      693  ...                      NaN\n",
              "mean      NaN  ...                 2.797980\n",
              "std       NaN  ...                 1.098947\n",
              "min       NaN  ...                 1.000000\n",
              "25%       NaN  ...                 2.000000\n",
              "50%       NaN  ...                 3.000000\n",
              "75%       NaN  ...                 3.000000\n",
              "max       NaN  ...                 6.000000\n",
              "\n",
              "[11 rows x 25 columns]"
            ]
          },
          "metadata": {},
          "execution_count": 65
        }
      ]
    },
    {
      "cell_type": "markdown",
      "metadata": {
        "id": "0C2n4p4YWn02"
      },
      "source": [
        "imdb_id는 id값이기 때문에 실제 값으로 보기 힘들다. ->drop\n",
        "\n",
        "vote_count도 count한 통계결과이기 때문에 유의미하지않다. ->drop"
      ]
    },
    {
      "cell_type": "code",
      "metadata": {
        "colab": {
          "base_uri": "https://localhost:8080/",
          "height": 592
        },
        "id": "xLjmlfuhLOwb",
        "outputId": "75c8f608-6284-4e14-f523-78ba072706cd"
      },
      "source": [
        "movies_metadata['original_language'].hist(figsize=(20,10), log=True);"
      ],
      "execution_count": 66,
      "outputs": [
        {
          "output_type": "display_data",
          "data": {
            "image/png": "[encoded data removed]",
            "text/plain": [
              "<Figure size 1440x720 with 1 Axes>"
            ]
          },
          "metadata": {
            "needs_background": "light"
          }
        }
      ]
    },
    {
      "cell_type": "code",
      "metadata": {
        "colab": {
          "base_uri": "https://localhost:8080/",
          "height": 145
        },
        "id": "OkQtOq99uy0C",
        "outputId": "4de5d3ea-4d32-4923-a605-5a34aded4dc4"
      },
      "source": [
        "movies_metadata = movies_metadata.drop(['adult', 'poster', 'belongs_to_collection', 'imdb_id', 'vote_count', \n",
        "                                        'original_language', 'original_title', 'overview', 'tagline', 'video'], axis=1)\n",
        "movies_metadata.head(2)"
      ],
      "execution_count": 67,
      "outputs": [
        {
          "output_type": "execute_result",
          "data": {
            "text/html": [
              "<div>\n",
              "<style scoped>\n",
              "    .dataframe tbody tr th:only-of-type {\n",
              "        vertical-align: middle;\n",
              "    }\n",
              "\n",
              "    .dataframe tbody tr th {\n",
              "        vertical-align: top;\n",
              "    }\n",
              "\n",
              "    .dataframe thead th {\n",
              "        text-align: right;\n",
              "    }\n",
              "</style>\n",
              "<table border=\"1\" class=\"dataframe\">\n",
              "  <thead>\n",
              "    <tr style=\"text-align: right;\">\n",
              "      <th></th>\n",
              "      <th>budget</th>\n",
              "      <th>genres</th>\n",
              "      <th>homepage</th>\n",
              "      <th>id</th>\n",
              "      <th>popularity</th>\n",
              "      <th>production_companies</th>\n",
              "      <th>production_countries</th>\n",
              "      <th>release_date</th>\n",
              "      <th>revenue</th>\n",
              "      <th>runtime</th>\n",
              "      <th>spoken_languages</th>\n",
              "      <th>status</th>\n",
              "      <th>title</th>\n",
              "      <th>vote_average</th>\n",
              "      <th>number_of_popular_genres</th>\n",
              "    </tr>\n",
              "  </thead>\n",
              "  <tbody>\n",
              "    <tr>\n",
              "      <th>9</th>\n",
              "      <td>58000000</td>\n",
              "      <td>Adventure Action Thriller</td>\n",
              "      <td>1</td>\n",
              "      <td>710</td>\n",
              "      <td>14.686</td>\n",
              "      <td>[{'name': 'United Artists', 'id': 60}, {'name'...</td>\n",
              "      <td>[{'iso_3166_1': 'GB', 'name': 'United Kingdom'...</td>\n",
              "      <td>1995-11-16</td>\n",
              "      <td>352194034.0</td>\n",
              "      <td>130.0</td>\n",
              "      <td>3</td>\n",
              "      <td>Released</td>\n",
              "      <td>GoldenEye</td>\n",
              "      <td>6.6</td>\n",
              "      <td>3</td>\n",
              "    </tr>\n",
              "    <tr>\n",
              "      <th>68</th>\n",
              "      <td>3500000</td>\n",
              "      <td>Comedy</td>\n",
              "      <td>1</td>\n",
              "      <td>10634</td>\n",
              "      <td>14.5696</td>\n",
              "      <td>[{'name': 'New Line Cinema', 'id': 12}]</td>\n",
              "      <td>[{'iso_3166_1': 'US', 'name': 'United States o...</td>\n",
              "      <td>1995-04-26</td>\n",
              "      <td>28215918.0</td>\n",
              "      <td>91.0</td>\n",
              "      <td>1</td>\n",
              "      <td>Released</td>\n",
              "      <td>Friday</td>\n",
              "      <td>7.0</td>\n",
              "      <td>1</td>\n",
              "    </tr>\n",
              "  </tbody>\n",
              "</table>\n",
              "</div>"
            ],
            "text/plain": [
              "      budget                     genres  ...  vote_average  number_of_popular_genres\n",
              "9   58000000  Adventure Action Thriller  ...           6.6                         3\n",
              "68   3500000                     Comedy  ...           7.0                         1\n",
              "\n",
              "[2 rows x 15 columns]"
            ]
          },
          "metadata": {},
          "execution_count": 67
        }
      ]
    },
    {
      "cell_type": "code",
      "metadata": {
        "id": "msrVtb8l_a16"
      },
      "source": [
        "movies_metadata['id'] = movies_metadata['id'].astype(int)"
      ],
      "execution_count": 68,
      "outputs": []
    },
    {
      "cell_type": "code",
      "metadata": {
        "id": "wbIG5CIsLxWV",
        "colab": {
          "base_uri": "https://localhost:8080/"
        },
        "outputId": "e66a94db-4989-4b81-923a-5a8aad2fa392"
      },
      "source": [
        "movies_metadata.isnull().sum()"
      ],
      "execution_count": 69,
      "outputs": [
        {
          "output_type": "execute_result",
          "data": {
            "text/plain": [
              "budget                      0\n",
              "genres                      0\n",
              "homepage                    0\n",
              "id                          0\n",
              "popularity                  0\n",
              "production_companies        0\n",
              "production_countries        0\n",
              "release_date                0\n",
              "revenue                     0\n",
              "runtime                     0\n",
              "spoken_languages            0\n",
              "status                      0\n",
              "title                       0\n",
              "vote_average                0\n",
              "number_of_popular_genres    0\n",
              "dtype: int64"
            ]
          },
          "metadata": {},
          "execution_count": 69
        }
      ]
    },
    {
      "cell_type": "code",
      "metadata": {
        "id": "f26cEHoxh-1d",
        "colab": {
          "base_uri": "https://localhost:8080/"
        },
        "outputId": "62d0ed6d-907f-457e-b32c-8ad08e2232e6"
      },
      "source": [
        "print(movies_metadata.runtime.min())\n",
        "print(movies_metadata.runtime.max())\n",
        "print(len(movies_metadata[movies_metadata.runtime < 60]))"
      ],
      "execution_count": 70,
      "outputs": [
        {
          "output_type": "stream",
          "name": "stdout",
          "text": [
            "0.0\n",
            "476.0\n",
            "12\n"
          ]
        }
      ]
    },
    {
      "cell_type": "code",
      "metadata": {
        "id": "c9Q9Nfm_hvLT",
        "colab": {
          "base_uri": "https://localhost:8080/",
          "height": 163
        },
        "outputId": "0fc2f39c-e717-4ce3-8b1e-1eae00c3f6c7"
      },
      "source": [
        "movies_metadata = movies_metadata.drop( movies_metadata[movies_metadata['runtime'] < 60 ].index)\n",
        "print(movies_metadata.shape)\n",
        "movies_metadata.head(2)"
      ],
      "execution_count": 71,
      "outputs": [
        {
          "output_type": "stream",
          "name": "stdout",
          "text": [
            "(681, 15)\n"
          ]
        },
        {
          "output_type": "execute_result",
          "data": {
            "text/html": [
              "<div>\n",
              "<style scoped>\n",
              "    .dataframe tbody tr th:only-of-type {\n",
              "        vertical-align: middle;\n",
              "    }\n",
              "\n",
              "    .dataframe tbody tr th {\n",
              "        vertical-align: top;\n",
              "    }\n",
              "\n",
              "    .dataframe thead th {\n",
              "        text-align: right;\n",
              "    }\n",
              "</style>\n",
              "<table border=\"1\" class=\"dataframe\">\n",
              "  <thead>\n",
              "    <tr style=\"text-align: right;\">\n",
              "      <th></th>\n",
              "      <th>budget</th>\n",
              "      <th>genres</th>\n",
              "      <th>homepage</th>\n",
              "      <th>id</th>\n",
              "      <th>popularity</th>\n",
              "      <th>production_companies</th>\n",
              "      <th>production_countries</th>\n",
              "      <th>release_date</th>\n",
              "      <th>revenue</th>\n",
              "      <th>runtime</th>\n",
              "      <th>spoken_languages</th>\n",
              "      <th>status</th>\n",
              "      <th>title</th>\n",
              "      <th>vote_average</th>\n",
              "      <th>number_of_popular_genres</th>\n",
              "    </tr>\n",
              "  </thead>\n",
              "  <tbody>\n",
              "    <tr>\n",
              "      <th>9</th>\n",
              "      <td>58000000</td>\n",
              "      <td>Adventure Action Thriller</td>\n",
              "      <td>1</td>\n",
              "      <td>710</td>\n",
              "      <td>14.686</td>\n",
              "      <td>[{'name': 'United Artists', 'id': 60}, {'name'...</td>\n",
              "      <td>[{'iso_3166_1': 'GB', 'name': 'United Kingdom'...</td>\n",
              "      <td>1995-11-16</td>\n",
              "      <td>352194034.0</td>\n",
              "      <td>130.0</td>\n",
              "      <td>3</td>\n",
              "      <td>Released</td>\n",
              "      <td>GoldenEye</td>\n",
              "      <td>6.6</td>\n",
              "      <td>3</td>\n",
              "    </tr>\n",
              "    <tr>\n",
              "      <th>68</th>\n",
              "      <td>3500000</td>\n",
              "      <td>Comedy</td>\n",
              "      <td>1</td>\n",
              "      <td>10634</td>\n",
              "      <td>14.5696</td>\n",
              "      <td>[{'name': 'New Line Cinema', 'id': 12}]</td>\n",
              "      <td>[{'iso_3166_1': 'US', 'name': 'United States o...</td>\n",
              "      <td>1995-04-26</td>\n",
              "      <td>28215918.0</td>\n",
              "      <td>91.0</td>\n",
              "      <td>1</td>\n",
              "      <td>Released</td>\n",
              "      <td>Friday</td>\n",
              "      <td>7.0</td>\n",
              "      <td>1</td>\n",
              "    </tr>\n",
              "  </tbody>\n",
              "</table>\n",
              "</div>"
            ],
            "text/plain": [
              "      budget                     genres  ...  vote_average  number_of_popular_genres\n",
              "9   58000000  Adventure Action Thriller  ...           6.6                         3\n",
              "68   3500000                     Comedy  ...           7.0                         1\n",
              "\n",
              "[2 rows x 15 columns]"
            ]
          },
          "metadata": {},
          "execution_count": 71
        }
      ]
    },
    {
      "cell_type": "markdown",
      "metadata": {
        "id": "UazMfiVNGkrj"
      },
      "source": [
        "## merge"
      ]
    },
    {
      "cell_type": "code",
      "metadata": {
        "id": "7Y2wd5MjGpVJ",
        "colab": {
          "base_uri": "https://localhost:8080/",
          "height": 315
        },
        "outputId": "b760aa1b-2dfc-4293-f087-323ff2ef3cbc"
      },
      "source": [
        "merged_df = pd.merge(merged_df, movies_metadata, how='inner', on='id')\n",
        "merged_df.head(3)"
      ],
      "execution_count": 72,
      "outputs": [
        {
          "output_type": "execute_result",
          "data": {
            "text/html": [
              "<div>\n",
              "<style scoped>\n",
              "    .dataframe tbody tr th:only-of-type {\n",
              "        vertical-align: middle;\n",
              "    }\n",
              "\n",
              "    .dataframe tbody tr th {\n",
              "        vertical-align: top;\n",
              "    }\n",
              "\n",
              "    .dataframe thead th {\n",
              "        text-align: right;\n",
              "    }\n",
              "</style>\n",
              "<table border=\"1\" class=\"dataframe\">\n",
              "  <thead>\n",
              "    <tr style=\"text-align: right;\">\n",
              "      <th></th>\n",
              "      <th>crew</th>\n",
              "      <th>id</th>\n",
              "      <th>actors</th>\n",
              "      <th>number_of_named_actors</th>\n",
              "      <th>number_of_named_crews</th>\n",
              "      <th>keywords</th>\n",
              "      <th>number_of_named_keyword</th>\n",
              "      <th>movieId</th>\n",
              "      <th>imdbId</th>\n",
              "      <th>budget</th>\n",
              "      <th>genres</th>\n",
              "      <th>homepage</th>\n",
              "      <th>popularity</th>\n",
              "      <th>production_companies</th>\n",
              "      <th>production_countries</th>\n",
              "      <th>release_date</th>\n",
              "      <th>revenue</th>\n",
              "      <th>runtime</th>\n",
              "      <th>spoken_languages</th>\n",
              "      <th>status</th>\n",
              "      <th>title</th>\n",
              "      <th>vote_average</th>\n",
              "      <th>number_of_popular_genres</th>\n",
              "    </tr>\n",
              "  </thead>\n",
              "  <tbody>\n",
              "    <tr>\n",
              "      <th>0</th>\n",
              "      <td>Martin_Campbell Ian_Fleming Jeffrey_Caine Bruc...</td>\n",
              "      <td>710</td>\n",
              "      <td>Pierce_Brosnan Sean_Bean Izabella_Scorupco Fam...</td>\n",
              "      <td>8</td>\n",
              "      <td>4</td>\n",
              "      <td>cuba falsely_accused secret_identity computer_...</td>\n",
              "      <td>15</td>\n",
              "      <td>10</td>\n",
              "      <td>113189</td>\n",
              "      <td>58000000</td>\n",
              "      <td>Adventure Action Thriller</td>\n",
              "      <td>1</td>\n",
              "      <td>14.686</td>\n",
              "      <td>[{'name': 'United Artists', 'id': 60}, {'name'...</td>\n",
              "      <td>[{'iso_3166_1': 'GB', 'name': 'United Kingdom'...</td>\n",
              "      <td>1995-11-16</td>\n",
              "      <td>352194034.0</td>\n",
              "      <td>130.0</td>\n",
              "      <td>3</td>\n",
              "      <td>Released</td>\n",
              "      <td>GoldenEye</td>\n",
              "      <td>6.6</td>\n",
              "      <td>3</td>\n",
              "    </tr>\n",
              "    <tr>\n",
              "      <th>1</th>\n",
              "      <td>F_Gary_Gray DJ_Pooh Ice_Cube Frank_Fitzpatrick</td>\n",
              "      <td>10634</td>\n",
              "      <td>Ice_Cube Chris_Tucker Nia_Long Tom_Lister_Jr J...</td>\n",
              "      <td>8</td>\n",
              "      <td>4</td>\n",
              "      <td>rap_music parent_child_relationship rapper job</td>\n",
              "      <td>4</td>\n",
              "      <td>69</td>\n",
              "      <td>113118</td>\n",
              "      <td>3500000</td>\n",
              "      <td>Comedy</td>\n",
              "      <td>1</td>\n",
              "      <td>14.5696</td>\n",
              "      <td>[{'name': 'New Line Cinema', 'id': 12}]</td>\n",
              "      <td>[{'iso_3166_1': 'US', 'name': 'United States o...</td>\n",
              "      <td>1995-04-26</td>\n",
              "      <td>28215918.0</td>\n",
              "      <td>91.0</td>\n",
              "      <td>1</td>\n",
              "      <td>Released</td>\n",
              "      <td>Friday</td>\n",
              "      <td>7.0</td>\n",
              "      <td>1</td>\n",
              "    </tr>\n",
              "    <tr>\n",
              "      <th>2</th>\n",
              "      <td>Robert_Rodriguez Quentin_Tarantino Quentin_Tar...</td>\n",
              "      <td>755</td>\n",
              "      <td>George_Clooney Quentin_Tarantino Harvey_Keitel...</td>\n",
              "      <td>8</td>\n",
              "      <td>4</td>\n",
              "      <td>dancing brother_brother_relationship sexual_ob...</td>\n",
              "      <td>26</td>\n",
              "      <td>70</td>\n",
              "      <td>116367</td>\n",
              "      <td>19000000</td>\n",
              "      <td>Horror Action Thriller Crime</td>\n",
              "      <td>1</td>\n",
              "      <td>15.3392</td>\n",
              "      <td>[{'name': 'A Band Apart', 'id': 59}, {'name': ...</td>\n",
              "      <td>[{'iso_3166_1': 'US', 'name': 'United States o...</td>\n",
              "      <td>1996-01-19</td>\n",
              "      <td>25836616.0</td>\n",
              "      <td>108.0</td>\n",
              "      <td>2</td>\n",
              "      <td>Released</td>\n",
              "      <td>From Dusk Till Dawn</td>\n",
              "      <td>6.9</td>\n",
              "      <td>4</td>\n",
              "    </tr>\n",
              "  </tbody>\n",
              "</table>\n",
              "</div>"
            ],
            "text/plain": [
              "                                                crew  ...  number_of_popular_genres\n",
              "0  Martin_Campbell Ian_Fleming Jeffrey_Caine Bruc...  ...                         3\n",
              "1     F_Gary_Gray DJ_Pooh Ice_Cube Frank_Fitzpatrick  ...                         1\n",
              "2  Robert_Rodriguez Quentin_Tarantino Quentin_Tar...  ...                         4\n",
              "\n",
              "[3 rows x 23 columns]"
            ]
          },
          "metadata": {},
          "execution_count": 72
        }
      ]
    },
    {
      "cell_type": "markdown",
      "metadata": {
        "id": "yic8rhcoHNQH"
      },
      "source": [
        "## ratings : 영화에 대한 평점을 담고있는 dataframe\n",
        "-> 예측할 때 필요한 정보만 남겨놓았다.\n",
        "\n",
        "#### 과연 ?"
      ]
    },
    {
      "cell_type": "code",
      "metadata": {
        "id": "Xnm0nXyE1c04",
        "colab": {
          "base_uri": "https://localhost:8080/"
        },
        "outputId": "eb82224b-673a-4a11-dcd1-bf16838fe7fc"
      },
      "source": [
        "ratings = ratings.drop_duplicates(ignore_index=True)  # 중복값 없음\n",
        "print(ratings.shape)"
      ],
      "execution_count": 73,
      "outputs": [
        {
          "output_type": "stream",
          "name": "stdout",
          "text": [
            "(26124293, 4)\n"
          ]
        }
      ]
    },
    {
      "cell_type": "code",
      "metadata": {
        "id": "_GvVFw9sZAtl",
        "colab": {
          "base_uri": "https://localhost:8080/"
        },
        "outputId": "b1e4f29f-48a6-42ee-d904-652d6a2279ad"
      },
      "source": [
        "ratings.isnull().sum()"
      ],
      "execution_count": 74,
      "outputs": [
        {
          "output_type": "execute_result",
          "data": {
            "text/plain": [
              "userId       0\n",
              "movieId      0\n",
              "rating       0\n",
              "timestamp    0\n",
              "dtype: int64"
            ]
          },
          "metadata": {},
          "execution_count": 74
        }
      ]
    },
    {
      "cell_type": "code",
      "metadata": {
        "id": "i3h-y7dN8T6V",
        "colab": {
          "base_uri": "https://localhost:8080/",
          "height": 142
        },
        "outputId": "34006312-b5d8-4665-dafe-4d1e8c87d387"
      },
      "source": [
        "ratings.head(3)"
      ],
      "execution_count": 75,
      "outputs": [
        {
          "output_type": "execute_result",
          "data": {
            "text/html": [
              "<div>\n",
              "<style scoped>\n",
              "    .dataframe tbody tr th:only-of-type {\n",
              "        vertical-align: middle;\n",
              "    }\n",
              "\n",
              "    .dataframe tbody tr th {\n",
              "        vertical-align: top;\n",
              "    }\n",
              "\n",
              "    .dataframe thead th {\n",
              "        text-align: right;\n",
              "    }\n",
              "</style>\n",
              "<table border=\"1\" class=\"dataframe\">\n",
              "  <thead>\n",
              "    <tr style=\"text-align: right;\">\n",
              "      <th></th>\n",
              "      <th>userId</th>\n",
              "      <th>movieId</th>\n",
              "      <th>rating</th>\n",
              "      <th>timestamp</th>\n",
              "    </tr>\n",
              "  </thead>\n",
              "  <tbody>\n",
              "    <tr>\n",
              "      <th>0</th>\n",
              "      <td>1</td>\n",
              "      <td>110</td>\n",
              "      <td>1.0</td>\n",
              "      <td>1425941529</td>\n",
              "    </tr>\n",
              "    <tr>\n",
              "      <th>1</th>\n",
              "      <td>1</td>\n",
              "      <td>147</td>\n",
              "      <td>4.5</td>\n",
              "      <td>1425942435</td>\n",
              "    </tr>\n",
              "    <tr>\n",
              "      <th>2</th>\n",
              "      <td>1</td>\n",
              "      <td>858</td>\n",
              "      <td>5.0</td>\n",
              "      <td>1425941523</td>\n",
              "    </tr>\n",
              "  </tbody>\n",
              "</table>\n",
              "</div>"
            ],
            "text/plain": [
              "   userId  movieId  rating   timestamp\n",
              "0       1      110     1.0  1425941529\n",
              "1       1      147     4.5  1425942435\n",
              "2       1      858     5.0  1425941523"
            ]
          },
          "metadata": {},
          "execution_count": 75
        }
      ]
    },
    {
      "cell_type": "code",
      "metadata": {
        "id": "-xdnrwln7wx4",
        "colab": {
          "base_uri": "https://localhost:8080/"
        },
        "outputId": "d6b6f883-bb3d-4da6-b030-86ec4cc4c991"
      },
      "source": [
        "ratings = ratings.drop(['userId', 'timestamp'], axis=1)\n",
        "ratings['rating'].unique()"
      ],
      "execution_count": 76,
      "outputs": [
        {
          "output_type": "execute_result",
          "data": {
            "text/plain": [
              "array([1. , 4.5, 5. , 4. , 3.5, 2.5, 0.5, 3. , 2. , 1.5])"
            ]
          },
          "metadata": {},
          "execution_count": 76
        }
      ]
    },
    {
      "cell_type": "code",
      "metadata": {
        "id": "bEjjW5iUXwdx",
        "colab": {
          "base_uri": "https://localhost:8080/",
          "height": 142
        },
        "outputId": "d4a14aa2-ec58-4db8-9206-e9e337268278"
      },
      "source": [
        "grouped_rating = (ratings.groupby(by=\"movieId\").mean())['rating'].to_frame()\n",
        "grouped_rating['rating'] = grouped_rating['rating'].round(1)\n",
        "grouped_rating = grouped_rating.reset_index()\n",
        "\n",
        "grouped_rating.head(3)"
      ],
      "execution_count": 77,
      "outputs": [
        {
          "output_type": "execute_result",
          "data": {
            "text/html": [
              "<div>\n",
              "<style scoped>\n",
              "    .dataframe tbody tr th:only-of-type {\n",
              "        vertical-align: middle;\n",
              "    }\n",
              "\n",
              "    .dataframe tbody tr th {\n",
              "        vertical-align: top;\n",
              "    }\n",
              "\n",
              "    .dataframe thead th {\n",
              "        text-align: right;\n",
              "    }\n",
              "</style>\n",
              "<table border=\"1\" class=\"dataframe\">\n",
              "  <thead>\n",
              "    <tr style=\"text-align: right;\">\n",
              "      <th></th>\n",
              "      <th>movieId</th>\n",
              "      <th>rating</th>\n",
              "    </tr>\n",
              "  </thead>\n",
              "  <tbody>\n",
              "    <tr>\n",
              "      <th>0</th>\n",
              "      <td>1</td>\n",
              "      <td>3.9</td>\n",
              "    </tr>\n",
              "    <tr>\n",
              "      <th>1</th>\n",
              "      <td>2</td>\n",
              "      <td>3.2</td>\n",
              "    </tr>\n",
              "    <tr>\n",
              "      <th>2</th>\n",
              "      <td>3</td>\n",
              "      <td>3.2</td>\n",
              "    </tr>\n",
              "  </tbody>\n",
              "</table>\n",
              "</div>"
            ],
            "text/plain": [
              "   movieId  rating\n",
              "0        1     3.9\n",
              "1        2     3.2\n",
              "2        3     3.2"
            ]
          },
          "metadata": {},
          "execution_count": 77
        }
      ]
    },
    {
      "cell_type": "code",
      "metadata": {
        "id": "bi4zi7g7vOcT",
        "outputId": "0fad23ea-f3fe-4aa9-aa19-97de0a860454",
        "colab": {
          "base_uri": "https://localhost:8080/"
        }
      },
      "source": [
        "grouped_rating.rating.mean(), grouped_rating.rating.median()"
      ],
      "execution_count": 78,
      "outputs": [
        {
          "output_type": "execute_result",
          "data": {
            "text/plain": [
              "(3.0617113223854715, 3.2)"
            ]
          },
          "metadata": {},
          "execution_count": 78
        }
      ]
    },
    {
      "cell_type": "code",
      "metadata": {
        "id": "KrgnuWZ0vRF6"
      },
      "source": [
        "def transform_rating(n) :\n",
        "  if n >= 3.2 :\n",
        "    return True\n",
        "  return False\n",
        "\n",
        "grouped_rating['rating'] = grouped_rating['rating'].apply(transform_rating)"
      ],
      "execution_count": 79,
      "outputs": []
    },
    {
      "cell_type": "markdown",
      "metadata": {
        "id": "kxUH52zYHPq6"
      },
      "source": [
        "## merge"
      ]
    },
    {
      "cell_type": "code",
      "metadata": {
        "id": "wauP5kle5Mah",
        "colab": {
          "base_uri": "https://localhost:8080/",
          "height": 315
        },
        "outputId": "ae9ca369-103d-4391-d4d0-6423711899e5"
      },
      "source": [
        "merged_df = pd.merge(merged_df, grouped_rating, how='inner', on='movieId')\n",
        "merged_df.head(3)"
      ],
      "execution_count": 80,
      "outputs": [
        {
          "output_type": "execute_result",
          "data": {
            "text/html": [
              "<div>\n",
              "<style scoped>\n",
              "    .dataframe tbody tr th:only-of-type {\n",
              "        vertical-align: middle;\n",
              "    }\n",
              "\n",
              "    .dataframe tbody tr th {\n",
              "        vertical-align: top;\n",
              "    }\n",
              "\n",
              "    .dataframe thead th {\n",
              "        text-align: right;\n",
              "    }\n",
              "</style>\n",
              "<table border=\"1\" class=\"dataframe\">\n",
              "  <thead>\n",
              "    <tr style=\"text-align: right;\">\n",
              "      <th></th>\n",
              "      <th>crew</th>\n",
              "      <th>id</th>\n",
              "      <th>actors</th>\n",
              "      <th>number_of_named_actors</th>\n",
              "      <th>number_of_named_crews</th>\n",
              "      <th>keywords</th>\n",
              "      <th>number_of_named_keyword</th>\n",
              "      <th>movieId</th>\n",
              "      <th>imdbId</th>\n",
              "      <th>budget</th>\n",
              "      <th>genres</th>\n",
              "      <th>homepage</th>\n",
              "      <th>popularity</th>\n",
              "      <th>production_companies</th>\n",
              "      <th>production_countries</th>\n",
              "      <th>release_date</th>\n",
              "      <th>revenue</th>\n",
              "      <th>runtime</th>\n",
              "      <th>spoken_languages</th>\n",
              "      <th>status</th>\n",
              "      <th>title</th>\n",
              "      <th>vote_average</th>\n",
              "      <th>number_of_popular_genres</th>\n",
              "      <th>rating</th>\n",
              "    </tr>\n",
              "  </thead>\n",
              "  <tbody>\n",
              "    <tr>\n",
              "      <th>0</th>\n",
              "      <td>Martin_Campbell Ian_Fleming Jeffrey_Caine Bruc...</td>\n",
              "      <td>710</td>\n",
              "      <td>Pierce_Brosnan Sean_Bean Izabella_Scorupco Fam...</td>\n",
              "      <td>8</td>\n",
              "      <td>4</td>\n",
              "      <td>cuba falsely_accused secret_identity computer_...</td>\n",
              "      <td>15</td>\n",
              "      <td>10</td>\n",
              "      <td>113189</td>\n",
              "      <td>58000000</td>\n",
              "      <td>Adventure Action Thriller</td>\n",
              "      <td>1</td>\n",
              "      <td>14.686</td>\n",
              "      <td>[{'name': 'United Artists', 'id': 60}, {'name'...</td>\n",
              "      <td>[{'iso_3166_1': 'GB', 'name': 'United Kingdom'...</td>\n",
              "      <td>1995-11-16</td>\n",
              "      <td>352194034.0</td>\n",
              "      <td>130.0</td>\n",
              "      <td>3</td>\n",
              "      <td>Released</td>\n",
              "      <td>GoldenEye</td>\n",
              "      <td>6.6</td>\n",
              "      <td>3</td>\n",
              "      <td>True</td>\n",
              "    </tr>\n",
              "    <tr>\n",
              "      <th>1</th>\n",
              "      <td>F_Gary_Gray DJ_Pooh Ice_Cube Frank_Fitzpatrick</td>\n",
              "      <td>10634</td>\n",
              "      <td>Ice_Cube Chris_Tucker Nia_Long Tom_Lister_Jr J...</td>\n",
              "      <td>8</td>\n",
              "      <td>4</td>\n",
              "      <td>rap_music parent_child_relationship rapper job</td>\n",
              "      <td>4</td>\n",
              "      <td>69</td>\n",
              "      <td>113118</td>\n",
              "      <td>3500000</td>\n",
              "      <td>Comedy</td>\n",
              "      <td>1</td>\n",
              "      <td>14.5696</td>\n",
              "      <td>[{'name': 'New Line Cinema', 'id': 12}]</td>\n",
              "      <td>[{'iso_3166_1': 'US', 'name': 'United States o...</td>\n",
              "      <td>1995-04-26</td>\n",
              "      <td>28215918.0</td>\n",
              "      <td>91.0</td>\n",
              "      <td>1</td>\n",
              "      <td>Released</td>\n",
              "      <td>Friday</td>\n",
              "      <td>7.0</td>\n",
              "      <td>1</td>\n",
              "      <td>True</td>\n",
              "    </tr>\n",
              "    <tr>\n",
              "      <th>2</th>\n",
              "      <td>Robert_Rodriguez Quentin_Tarantino Quentin_Tar...</td>\n",
              "      <td>755</td>\n",
              "      <td>George_Clooney Quentin_Tarantino Harvey_Keitel...</td>\n",
              "      <td>8</td>\n",
              "      <td>4</td>\n",
              "      <td>dancing brother_brother_relationship sexual_ob...</td>\n",
              "      <td>26</td>\n",
              "      <td>70</td>\n",
              "      <td>116367</td>\n",
              "      <td>19000000</td>\n",
              "      <td>Horror Action Thriller Crime</td>\n",
              "      <td>1</td>\n",
              "      <td>15.3392</td>\n",
              "      <td>[{'name': 'A Band Apart', 'id': 59}, {'name': ...</td>\n",
              "      <td>[{'iso_3166_1': 'US', 'name': 'United States o...</td>\n",
              "      <td>1996-01-19</td>\n",
              "      <td>25836616.0</td>\n",
              "      <td>108.0</td>\n",
              "      <td>2</td>\n",
              "      <td>Released</td>\n",
              "      <td>From Dusk Till Dawn</td>\n",
              "      <td>6.9</td>\n",
              "      <td>4</td>\n",
              "      <td>True</td>\n",
              "    </tr>\n",
              "  </tbody>\n",
              "</table>\n",
              "</div>"
            ],
            "text/plain": [
              "                                                crew  ...  rating\n",
              "0  Martin_Campbell Ian_Fleming Jeffrey_Caine Bruc...  ...    True\n",
              "1     F_Gary_Gray DJ_Pooh Ice_Cube Frank_Fitzpatrick  ...    True\n",
              "2  Robert_Rodriguez Quentin_Tarantino Quentin_Tar...  ...    True\n",
              "\n",
              "[3 rows x 24 columns]"
            ]
          },
          "metadata": {},
          "execution_count": 80
        }
      ]
    },
    {
      "cell_type": "markdown",
      "metadata": {
        "id": "R_UPm8qZWaaa"
      },
      "source": [
        "## 학습하기 좋은 데이터 모양으로 만들기\n",
        "1. unique 데이터(ex. id) drop\n",
        "2. train과 test data 나누기"
      ]
    },
    {
      "cell_type": "code",
      "metadata": {
        "id": "agp_vfjwadGu",
        "outputId": "c34d0760-477a-400f-89ec-b7c5721b2862",
        "colab": {
          "base_uri": "https://localhost:8080/"
        }
      },
      "source": [
        "merged_df.shape, len(merged_df[merged_df['budget']==0])"
      ],
      "execution_count": 81,
      "outputs": [
        {
          "output_type": "execute_result",
          "data": {
            "text/plain": [
              "((681, 24), 0)"
            ]
          },
          "metadata": {},
          "execution_count": 81
        }
      ]
    },
    {
      "cell_type": "code",
      "metadata": {
        "id": "kOzy2TjEWd_q",
        "colab": {
          "base_uri": "https://localhost:8080/"
        },
        "outputId": "ee8a2927-8ab8-4766-a4f5-418b70d3ac45"
      },
      "source": [
        "# test data가 너무 부족하다 -> movies_metadata[movies_metadata['release_date'] > '2016-01-01']\n",
        "final_test = merged_df[merged_df['status'] != 'Released']\n",
        "train = merged_df[merged_df['status'] == 'Released']\n",
        "print(train.shape)\n",
        "print(final_test.shape)"
      ],
      "execution_count": 82,
      "outputs": [
        {
          "output_type": "stream",
          "name": "stdout",
          "text": [
            "(681, 24)\n",
            "(0, 24)\n"
          ]
        }
      ]
    },
    {
      "cell_type": "code",
      "metadata": {
        "id": "c2A0DHQWse86",
        "colab": {
          "base_uri": "https://localhost:8080/"
        },
        "outputId": "9823482f-e9f0-4a0c-8edd-418a8b3f3203"
      },
      "source": [
        "print(train['vote_average'].dtype)\n",
        "len(train[train['vote_average'] == 0])\n",
        "print(train.shape)\n",
        "train = train.drop(train[train['vote_average'] == 0].index)\n",
        "print(train.shape)"
      ],
      "execution_count": 83,
      "outputs": [
        {
          "output_type": "stream",
          "name": "stdout",
          "text": [
            "float64\n",
            "(681, 24)\n",
            "(679, 24)\n"
          ]
        }
      ]
    },
    {
      "cell_type": "code",
      "metadata": {
        "id": "otAKVNnvwuzb",
        "colab": {
          "base_uri": "https://localhost:8080/"
        },
        "outputId": "f8144d93-c09c-47ef-9577-5470d8a7fd3f"
      },
      "source": [
        "print(train['rating'].dtype)\n",
        "len(train[train['rating'] == 0])"
      ],
      "execution_count": 84,
      "outputs": [
        {
          "output_type": "stream",
          "name": "stdout",
          "text": [
            "bool\n"
          ]
        },
        {
          "output_type": "execute_result",
          "data": {
            "text/plain": [
              "303"
            ]
          },
          "metadata": {},
          "execution_count": 84
        }
      ]
    },
    {
      "cell_type": "code",
      "metadata": {
        "id": "BIpkn2HjsNyR"
      },
      "source": [
        "from sklearn.model_selection import train_test_split\n",
        "train, test = train_test_split(train, train_size=0.8, test_size=0.2, random_state=2)\n",
        "train, val = train_test_split(train, train_size=0.8, test_size=0.2, random_state=2)"
      ],
      "execution_count": 85,
      "outputs": []
    },
    {
      "cell_type": "markdown",
      "metadata": {
        "id": "63F1SlGAcHd3"
      },
      "source": [
        "### 모델 훈련\n",
        "#### 랜덤포레스트 모델을 적용하여 분류 예측\n",
        "\n",
        "https://gomguard.tistory.com/173"
      ]
    },
    {
      "cell_type": "code",
      "metadata": {
        "id": "OVFTPEA7OifV"
      },
      "source": [
        "# !pip install category_encoders"
      ],
      "execution_count": 86,
      "outputs": []
    },
    {
      "cell_type": "code",
      "metadata": {
        "id": "QOm2v3YtPg-k",
        "outputId": "a7044eec-ff99-403c-b6fc-f67086021a65",
        "colab": {
          "base_uri": "https://localhost:8080/",
          "height": 479
        }
      },
      "source": [
        "merged_df.head()"
      ],
      "execution_count": 87,
      "outputs": [
        {
          "output_type": "execute_result",
          "data": {
            "text/html": [
              "<div>\n",
              "<style scoped>\n",
              "    .dataframe tbody tr th:only-of-type {\n",
              "        vertical-align: middle;\n",
              "    }\n",
              "\n",
              "    .dataframe tbody tr th {\n",
              "        vertical-align: top;\n",
              "    }\n",
              "\n",
              "    .dataframe thead th {\n",
              "        text-align: right;\n",
              "    }\n",
              "</style>\n",
              "<table border=\"1\" class=\"dataframe\">\n",
              "  <thead>\n",
              "    <tr style=\"text-align: right;\">\n",
              "      <th></th>\n",
              "      <th>crew</th>\n",
              "      <th>id</th>\n",
              "      <th>actors</th>\n",
              "      <th>number_of_named_actors</th>\n",
              "      <th>number_of_named_crews</th>\n",
              "      <th>keywords</th>\n",
              "      <th>number_of_named_keyword</th>\n",
              "      <th>movieId</th>\n",
              "      <th>imdbId</th>\n",
              "      <th>budget</th>\n",
              "      <th>genres</th>\n",
              "      <th>homepage</th>\n",
              "      <th>popularity</th>\n",
              "      <th>production_companies</th>\n",
              "      <th>production_countries</th>\n",
              "      <th>release_date</th>\n",
              "      <th>revenue</th>\n",
              "      <th>runtime</th>\n",
              "      <th>spoken_languages</th>\n",
              "      <th>status</th>\n",
              "      <th>title</th>\n",
              "      <th>vote_average</th>\n",
              "      <th>number_of_popular_genres</th>\n",
              "      <th>rating</th>\n",
              "    </tr>\n",
              "  </thead>\n",
              "  <tbody>\n",
              "    <tr>\n",
              "      <th>0</th>\n",
              "      <td>Martin_Campbell Ian_Fleming Jeffrey_Caine Bruc...</td>\n",
              "      <td>710</td>\n",
              "      <td>Pierce_Brosnan Sean_Bean Izabella_Scorupco Fam...</td>\n",
              "      <td>8</td>\n",
              "      <td>4</td>\n",
              "      <td>cuba falsely_accused secret_identity computer_...</td>\n",
              "      <td>15</td>\n",
              "      <td>10</td>\n",
              "      <td>113189</td>\n",
              "      <td>58000000</td>\n",
              "      <td>Adventure Action Thriller</td>\n",
              "      <td>1</td>\n",
              "      <td>14.686</td>\n",
              "      <td>[{'name': 'United Artists', 'id': 60}, {'name'...</td>\n",
              "      <td>[{'iso_3166_1': 'GB', 'name': 'United Kingdom'...</td>\n",
              "      <td>1995-11-16</td>\n",
              "      <td>352194034.0</td>\n",
              "      <td>130.0</td>\n",
              "      <td>3</td>\n",
              "      <td>Released</td>\n",
              "      <td>GoldenEye</td>\n",
              "      <td>6.6</td>\n",
              "      <td>3</td>\n",
              "      <td>True</td>\n",
              "    </tr>\n",
              "    <tr>\n",
              "      <th>1</th>\n",
              "      <td>F_Gary_Gray DJ_Pooh Ice_Cube Frank_Fitzpatrick</td>\n",
              "      <td>10634</td>\n",
              "      <td>Ice_Cube Chris_Tucker Nia_Long Tom_Lister_Jr J...</td>\n",
              "      <td>8</td>\n",
              "      <td>4</td>\n",
              "      <td>rap_music parent_child_relationship rapper job</td>\n",
              "      <td>4</td>\n",
              "      <td>69</td>\n",
              "      <td>113118</td>\n",
              "      <td>3500000</td>\n",
              "      <td>Comedy</td>\n",
              "      <td>1</td>\n",
              "      <td>14.5696</td>\n",
              "      <td>[{'name': 'New Line Cinema', 'id': 12}]</td>\n",
              "      <td>[{'iso_3166_1': 'US', 'name': 'United States o...</td>\n",
              "      <td>1995-04-26</td>\n",
              "      <td>28215918.0</td>\n",
              "      <td>91.0</td>\n",
              "      <td>1</td>\n",
              "      <td>Released</td>\n",
              "      <td>Friday</td>\n",
              "      <td>7.0</td>\n",
              "      <td>1</td>\n",
              "      <td>True</td>\n",
              "    </tr>\n",
              "    <tr>\n",
              "      <th>2</th>\n",
              "      <td>Robert_Rodriguez Quentin_Tarantino Quentin_Tar...</td>\n",
              "      <td>755</td>\n",
              "      <td>George_Clooney Quentin_Tarantino Harvey_Keitel...</td>\n",
              "      <td>8</td>\n",
              "      <td>4</td>\n",
              "      <td>dancing brother_brother_relationship sexual_ob...</td>\n",
              "      <td>26</td>\n",
              "      <td>70</td>\n",
              "      <td>116367</td>\n",
              "      <td>19000000</td>\n",
              "      <td>Horror Action Thriller Crime</td>\n",
              "      <td>1</td>\n",
              "      <td>15.3392</td>\n",
              "      <td>[{'name': 'A Band Apart', 'id': 59}, {'name': ...</td>\n",
              "      <td>[{'iso_3166_1': 'US', 'name': 'United States o...</td>\n",
              "      <td>1996-01-19</td>\n",
              "      <td>25836616.0</td>\n",
              "      <td>108.0</td>\n",
              "      <td>2</td>\n",
              "      <td>Released</td>\n",
              "      <td>From Dusk Till Dawn</td>\n",
              "      <td>6.9</td>\n",
              "      <td>4</td>\n",
              "      <td>True</td>\n",
              "    </tr>\n",
              "    <tr>\n",
              "      <th>3</th>\n",
              "      <td>Paul_Auster Paul_Auster Wayne_Wang Harvey_Keitel</td>\n",
              "      <td>5894</td>\n",
              "      <td>Harvey_Keitel Lou_Reed Michael_J_Fox Roseanne_...</td>\n",
              "      <td>8</td>\n",
              "      <td>4</td>\n",
              "      <td>smoking corner_shop cigarette tobacco cigar in...</td>\n",
              "      <td>6</td>\n",
              "      <td>156</td>\n",
              "      <td>112541</td>\n",
              "      <td>2000000</td>\n",
              "      <td>Comedy</td>\n",
              "      <td>1</td>\n",
              "      <td>11.5281</td>\n",
              "      <td>[{'name': 'Miramax Films', 'id': 14}, {'name':...</td>\n",
              "      <td>[{'iso_3166_1': 'US', 'name': 'United States o...</td>\n",
              "      <td>1995-09-15</td>\n",
              "      <td>1275000.0</td>\n",
              "      <td>83.0</td>\n",
              "      <td>1</td>\n",
              "      <td>Released</td>\n",
              "      <td>Blue in the Face</td>\n",
              "      <td>6.8</td>\n",
              "      <td>1</td>\n",
              "      <td>True</td>\n",
              "    </tr>\n",
              "    <tr>\n",
              "      <th>4</th>\n",
              "      <td>Suzanne_Todd Graeme_Revell Wayne_Wahrman Josep...</td>\n",
              "      <td>9070</td>\n",
              "      <td>Amy_Jo_Johnson Jason_David_Frank David_Yost Jo...</td>\n",
              "      <td>8</td>\n",
              "      <td>4</td>\n",
              "      <td>based_on_tv_series tokusatsu superhero_team et...</td>\n",
              "      <td>8</td>\n",
              "      <td>181</td>\n",
              "      <td>113820</td>\n",
              "      <td>15000000</td>\n",
              "      <td>Action Adventure Science_Fiction Family Fantasy</td>\n",
              "      <td>1</td>\n",
              "      <td>7.02423</td>\n",
              "      <td>[{'name': 'Twentieth Century Fox Film Corporat...</td>\n",
              "      <td>[{'iso_3166_1': 'JP', 'name': 'Japan'}, {'iso_...</td>\n",
              "      <td>1995-06-30</td>\n",
              "      <td>66000000.0</td>\n",
              "      <td>92.0</td>\n",
              "      <td>1</td>\n",
              "      <td>Released</td>\n",
              "      <td>Mighty Morphin Power Rangers: The Movie</td>\n",
              "      <td>5.2</td>\n",
              "      <td>5</td>\n",
              "      <td>False</td>\n",
              "    </tr>\n",
              "  </tbody>\n",
              "</table>\n",
              "</div>"
            ],
            "text/plain": [
              "                                                crew  ...  rating\n",
              "0  Martin_Campbell Ian_Fleming Jeffrey_Caine Bruc...  ...    True\n",
              "1     F_Gary_Gray DJ_Pooh Ice_Cube Frank_Fitzpatrick  ...    True\n",
              "2  Robert_Rodriguez Quentin_Tarantino Quentin_Tar...  ...    True\n",
              "3   Paul_Auster Paul_Auster Wayne_Wang Harvey_Keitel  ...    True\n",
              "4  Suzanne_Todd Graeme_Revell Wayne_Wahrman Josep...  ...   False\n",
              "\n",
              "[5 rows x 24 columns]"
            ]
          },
          "metadata": {},
          "execution_count": 87
        }
      ]
    },
    {
      "cell_type": "code",
      "metadata": {
        "id": "TEKBmOvUIOdr",
        "colab": {
          "base_uri": "https://localhost:8080/",
          "height": 452
        },
        "outputId": "bb438635-b748-4ed6-dee8-b9adc905d907"
      },
      "source": [
        "import seaborn as sns\n",
        "corr = merged_df.corr()\n",
        "corr['rating']\n",
        "df_target_corr = corr[['rating']].sort_values('rating', ascending=False)\n",
        "df_target_corr"
      ],
      "execution_count": 88,
      "outputs": [
        {
          "output_type": "execute_result",
          "data": {
            "text/html": [
              "<div>\n",
              "<style scoped>\n",
              "    .dataframe tbody tr th:only-of-type {\n",
              "        vertical-align: middle;\n",
              "    }\n",
              "\n",
              "    .dataframe tbody tr th {\n",
              "        vertical-align: top;\n",
              "    }\n",
              "\n",
              "    .dataframe thead th {\n",
              "        text-align: right;\n",
              "    }\n",
              "</style>\n",
              "<table border=\"1\" class=\"dataframe\">\n",
              "  <thead>\n",
              "    <tr style=\"text-align: right;\">\n",
              "      <th></th>\n",
              "      <th>rating</th>\n",
              "    </tr>\n",
              "  </thead>\n",
              "  <tbody>\n",
              "    <tr>\n",
              "      <th>rating</th>\n",
              "      <td>1.000000</td>\n",
              "    </tr>\n",
              "    <tr>\n",
              "      <th>vote_average</th>\n",
              "      <td>0.629139</td>\n",
              "    </tr>\n",
              "    <tr>\n",
              "      <th>revenue</th>\n",
              "      <td>0.241846</td>\n",
              "    </tr>\n",
              "    <tr>\n",
              "      <th>number_of_named_keyword</th>\n",
              "      <td>0.239403</td>\n",
              "    </tr>\n",
              "    <tr>\n",
              "      <th>runtime</th>\n",
              "      <td>0.234049</td>\n",
              "    </tr>\n",
              "    <tr>\n",
              "      <th>spoken_languages</th>\n",
              "      <td>0.139970</td>\n",
              "    </tr>\n",
              "    <tr>\n",
              "      <th>number_of_named_crews</th>\n",
              "      <td>0.065205</td>\n",
              "    </tr>\n",
              "    <tr>\n",
              "      <th>number_of_popular_genres</th>\n",
              "      <td>0.039117</td>\n",
              "    </tr>\n",
              "    <tr>\n",
              "      <th>number_of_named_actors</th>\n",
              "      <td>0.011900</td>\n",
              "    </tr>\n",
              "    <tr>\n",
              "      <th>id</th>\n",
              "      <td>-0.121724</td>\n",
              "    </tr>\n",
              "    <tr>\n",
              "      <th>imdbId</th>\n",
              "      <td>-0.135465</td>\n",
              "    </tr>\n",
              "    <tr>\n",
              "      <th>movieId</th>\n",
              "      <td>-0.188186</td>\n",
              "    </tr>\n",
              "    <tr>\n",
              "      <th>homepage</th>\n",
              "      <td>NaN</td>\n",
              "    </tr>\n",
              "  </tbody>\n",
              "</table>\n",
              "</div>"
            ],
            "text/plain": [
              "                            rating\n",
              "rating                    1.000000\n",
              "vote_average              0.629139\n",
              "revenue                   0.241846\n",
              "number_of_named_keyword   0.239403\n",
              "runtime                   0.234049\n",
              "spoken_languages          0.139970\n",
              "number_of_named_crews     0.065205\n",
              "number_of_popular_genres  0.039117\n",
              "number_of_named_actors    0.011900\n",
              "id                       -0.121724\n",
              "imdbId                   -0.135465\n",
              "movieId                  -0.188186\n",
              "homepage                       NaN"
            ]
          },
          "metadata": {},
          "execution_count": 88
        }
      ]
    },
    {
      "cell_type": "code",
      "metadata": {
        "id": "oKKHKGLyas_k"
      },
      "source": [
        "# vote_count == 0  지우기.\n",
        "# production_countries 지우기 -> 상관계수에 안나옴\n",
        "# crew 안나옴 지우자\n",
        "# actors 안나옴 -> 지우자\n",
        "# budget == 0 이 많은가? 상관계수 안뜸\n",
        "# genres 고쳐야함\n",
        "# poster 없앨까... 0.008?\n",
        "# released data 없애자.\n",
        "# title 없애자"
      ],
      "execution_count": 89,
      "outputs": []
    },
    {
      "cell_type": "code",
      "metadata": {
        "id": "dTxiL1sZrTS4",
        "colab": {
          "base_uri": "https://localhost:8080/"
        },
        "outputId": "888f3774-77d5-4950-f85e-f4ce34940826"
      },
      "source": [
        "target = 'rating'\n",
        "features = ['vote_average', 'runtime', 'spoken_languages', 'revenue', 'homepage', 'number_of_named_crews', 'number_of_named_actors']\n",
        "\n",
        "X_train = train[features]\n",
        "y_train = train[target]\n",
        "X_val = val[features]\n",
        "y_val = val[target]\n",
        "\n",
        "X_test = test[features]\n",
        "y_test = test[target]\n",
        "\n",
        "X_train.shape, X_val.shape, X_test.shape"
      ],
      "execution_count": 90,
      "outputs": [
        {
          "output_type": "execute_result",
          "data": {
            "text/plain": [
              "((434, 7), (109, 7), (136, 7))"
            ]
          },
          "metadata": {},
          "execution_count": 90
        }
      ]
    },
    {
      "cell_type": "code",
      "metadata": {
        "id": "dBDOFLqyuaRB"
      },
      "source": [
        "# coefficients = pd.Series(model.coef_[0], X_train_encoded.columns)\n",
        "# coefficients"
      ],
      "execution_count": 91,
      "outputs": []
    },
    {
      "cell_type": "code",
      "metadata": {
        "id": "4J-GnBLizRLt",
        "outputId": "90d1f93c-514f-42fa-da0d-c928bf98664d",
        "colab": {
          "base_uri": "https://localhost:8080/"
        }
      },
      "source": [
        "from sklearn.metrics import accuracy_score\n",
        "\n",
        "major = y_train.mode()[0]\n",
        "basic_model = [major] * len(y_train)\n",
        "print(\"기준모델과 훈련용 데이터 학습 정확도 :\", accuracy_score(y_train, basic_model))\n",
        "\n",
        "y_pred_val = [major] * len(y_val)\n",
        "\n",
        "print(\"기준모델과 검증용 데이터 학습 정확도 :\", accuracy_score(y_val, y_pred_val))"
      ],
      "execution_count": 92,
      "outputs": [
        {
          "output_type": "stream",
          "name": "stdout",
          "text": [
            "기준모델과 훈련용 데이터 학습 정확도 : 0.5691244239631337\n",
            "기준모델과 검증용 데이터 학습 정확도 : 0.5045871559633027\n"
          ]
        }
      ]
    },
    {
      "cell_type": "code",
      "metadata": {
        "id": "0EnRiA98IOys",
        "outputId": "be9e9d31-d91c-41cc-e044-f2513c2e1633",
        "colab": {
          "base_uri": "https://localhost:8080/"
        }
      },
      "source": [
        "from sklearn.pipeline import make_pipeline\n",
        "from category_encoders import OrdinalEncoder\n",
        "from sklearn.impute import SimpleImputer\n",
        "from sklearn.ensemble import RandomForestClassifier\n",
        "\n",
        "pipe = make_pipeline(\n",
        "    OrdinalEncoder(), \n",
        "    SimpleImputer(), \n",
        "    RandomForestClassifier(max_depth=7, random_state=10, n_jobs=-1, oob_score=True)\n",
        ")\n",
        "\n",
        "pipe.fit(X_train, y_train)\n",
        "print('훈련 정확도: ', pipe.score(X_train, y_train))\n",
        "print('검증 정확도', pipe.score(X_val, y_val))\n",
        "\n",
        "from sklearn.metrics import f1_score\n",
        "\n",
        "y_pred_val = pipe.predict(X_val)\n",
        "print('검증 f1 score: ', f1_score(y_val, y_pred_val))"
      ],
      "execution_count": 93,
      "outputs": [
        {
          "output_type": "stream",
          "name": "stderr",
          "text": [
            "/usr/local/lib/python3.7/dist-packages/statsmodels/tools/_testing.py:19: FutureWarning: pandas.util.testing is deprecated. Use the functions in the public API at pandas.testing instead.\n",
            "  import pandas.util.testing as tm\n"
          ]
        },
        {
          "output_type": "stream",
          "name": "stdout",
          "text": [
            "훈련 정확도:  0.9493087557603687\n",
            "검증 정확도 0.8623853211009175\n",
            "검증 f1 score:  0.8623853211009175\n"
          ]
        }
      ]
    },
    {
      "cell_type": "code",
      "metadata": {
        "id": "2pNT1mm2IftR",
        "outputId": "e59b4940-a5ce-47d0-b47a-44172a93fb0a",
        "colab": {
          "base_uri": "https://localhost:8080/"
        }
      },
      "source": [
        "pipe.named_steps['randomforestclassifier'].oob_score_"
      ],
      "execution_count": 94,
      "outputs": [
        {
          "output_type": "execute_result",
          "data": {
            "text/plain": [
              "0.8640552995391705"
            ]
          },
          "metadata": {},
          "execution_count": 94
        }
      ]
    },
    {
      "cell_type": "code",
      "metadata": {
        "id": "jJtRvQSfIhEK",
        "outputId": "60c743f4-4502-4608-86fb-1d84bc16fb1d",
        "colab": {
          "base_uri": "https://localhost:8080/"
        }
      },
      "source": [
        "y_pred = pipe.predict(X_train)\n",
        "print('predict 전 test 정확도: ', pipe.score(X_test, y_test))\n",
        "\n",
        "from sklearn.metrics import f1_score\n",
        "print('test f1 score: ', f1_score(y_train, y_pred))"
      ],
      "execution_count": 95,
      "outputs": [
        {
          "output_type": "stream",
          "name": "stdout",
          "text": [
            "predict 전 test 정확도:  0.8970588235294118\n",
            "test f1 score:  0.9551020408163265\n"
          ]
        }
      ]
    },
    {
      "cell_type": "code",
      "metadata": {
        "id": "iQu7lWmnIikB",
        "outputId": "e2839268-7d97-4d0d-a7c1-0944c0870c06",
        "colab": {
          "base_uri": "https://localhost:8080/"
        }
      },
      "source": [
        "enc = pipe.named_steps['ordinalencoder']\n",
        "encoded = enc.transform(X_train)\n",
        "\n",
        "print('Ordinal  shape: ', encoded.shape)"
      ],
      "execution_count": 96,
      "outputs": [
        {
          "output_type": "stream",
          "name": "stdout",
          "text": [
            "Ordinal  shape:  (434, 7)\n"
          ]
        }
      ]
    },
    {
      "cell_type": "code",
      "metadata": {
        "id": "HS6uyerAIm_L",
        "outputId": "10750ee3-40c9-413d-d59b-6ea0225054a3",
        "colab": {
          "base_uri": "https://localhost:8080/",
          "height": 340
        }
      },
      "source": [
        "# y_pred = pipe.predict(final_test[features])\n",
        "# y_pred"
      ],
      "execution_count": 97,
      "outputs": [
        {
          "output_type": "error",
          "ename": "ValueError",
          "evalue": "ignored",
          "traceback": [
            "\u001b[0;31m---------------------------------------------------------------------------\u001b[0m",
            "\u001b[0;31mValueError\u001b[0m                                Traceback (most recent call last)",
            "\u001b[0;32m<ipython-input-97-d966c4433f89>\u001b[0m in \u001b[0;36m<module>\u001b[0;34m()\u001b[0m\n\u001b[0;32m----> 1\u001b[0;31m \u001b[0my_pred\u001b[0m \u001b[0;34m=\u001b[0m \u001b[0mpipe\u001b[0m\u001b[0;34m.\u001b[0m\u001b[0mpredict\u001b[0m\u001b[0;34m(\u001b[0m\u001b[0mfinal_test\u001b[0m\u001b[0;34m[\u001b[0m\u001b[0mfeatures\u001b[0m\u001b[0;34m]\u001b[0m\u001b[0;34m)\u001b[0m\u001b[0;34m\u001b[0m\u001b[0;34m\u001b[0m\u001b[0m\n\u001b[0m\u001b[1;32m      2\u001b[0m \u001b[0my_pred\u001b[0m\u001b[0;34m\u001b[0m\u001b[0;34m\u001b[0m\u001b[0m\n",
            "\u001b[0;32m/usr/local/lib/python3.7/dist-packages/sklearn/utils/metaestimators.py\u001b[0m in \u001b[0;36m<lambda>\u001b[0;34m(*args, **kwargs)\u001b[0m\n\u001b[1;32m    114\u001b[0m \u001b[0;34m\u001b[0m\u001b[0m\n\u001b[1;32m    115\u001b[0m         \u001b[0;31m# lambda, but not partial, allows help() to work with update_wrapper\u001b[0m\u001b[0;34m\u001b[0m\u001b[0;34m\u001b[0m\u001b[0;34m\u001b[0m\u001b[0m\n\u001b[0;32m--> 116\u001b[0;31m         \u001b[0mout\u001b[0m \u001b[0;34m=\u001b[0m \u001b[0;32mlambda\u001b[0m \u001b[0;34m*\u001b[0m\u001b[0margs\u001b[0m\u001b[0;34m,\u001b[0m \u001b[0;34m**\u001b[0m\u001b[0mkwargs\u001b[0m\u001b[0;34m:\u001b[0m \u001b[0mself\u001b[0m\u001b[0;34m.\u001b[0m\u001b[0mfn\u001b[0m\u001b[0;34m(\u001b[0m\u001b[0mobj\u001b[0m\u001b[0;34m,\u001b[0m \u001b[0;34m*\u001b[0m\u001b[0margs\u001b[0m\u001b[0;34m,\u001b[0m \u001b[0;34m**\u001b[0m\u001b[0mkwargs\u001b[0m\u001b[0;34m)\u001b[0m\u001b[0;34m\u001b[0m\u001b[0;34m\u001b[0m\u001b[0m\n\u001b[0m\u001b[1;32m    117\u001b[0m         \u001b[0;31m# update the docstring of the returned function\u001b[0m\u001b[0;34m\u001b[0m\u001b[0;34m\u001b[0m\u001b[0;34m\u001b[0m\u001b[0m\n\u001b[1;32m    118\u001b[0m         \u001b[0mupdate_wrapper\u001b[0m\u001b[0;34m(\u001b[0m\u001b[0mout\u001b[0m\u001b[0;34m,\u001b[0m \u001b[0mself\u001b[0m\u001b[0;34m.\u001b[0m\u001b[0mfn\u001b[0m\u001b[0;34m)\u001b[0m\u001b[0;34m\u001b[0m\u001b[0;34m\u001b[0m\u001b[0m\n",
            "\u001b[0;32m/usr/local/lib/python3.7/dist-packages/sklearn/pipeline.py\u001b[0m in \u001b[0;36mpredict\u001b[0;34m(self, X, **predict_params)\u001b[0m\n\u001b[1;32m    417\u001b[0m         \u001b[0mXt\u001b[0m \u001b[0;34m=\u001b[0m \u001b[0mX\u001b[0m\u001b[0;34m\u001b[0m\u001b[0;34m\u001b[0m\u001b[0m\n\u001b[1;32m    418\u001b[0m         \u001b[0;32mfor\u001b[0m \u001b[0m_\u001b[0m\u001b[0;34m,\u001b[0m \u001b[0mname\u001b[0m\u001b[0;34m,\u001b[0m \u001b[0mtransform\u001b[0m \u001b[0;32min\u001b[0m \u001b[0mself\u001b[0m\u001b[0;34m.\u001b[0m\u001b[0m_iter\u001b[0m\u001b[0;34m(\u001b[0m\u001b[0mwith_final\u001b[0m\u001b[0;34m=\u001b[0m\u001b[0;32mFalse\u001b[0m\u001b[0;34m)\u001b[0m\u001b[0;34m:\u001b[0m\u001b[0;34m\u001b[0m\u001b[0;34m\u001b[0m\u001b[0m\n\u001b[0;32m--> 419\u001b[0;31m             \u001b[0mXt\u001b[0m \u001b[0;34m=\u001b[0m \u001b[0mtransform\u001b[0m\u001b[0;34m.\u001b[0m\u001b[0mtransform\u001b[0m\u001b[0;34m(\u001b[0m\u001b[0mXt\u001b[0m\u001b[0;34m)\u001b[0m\u001b[0;34m\u001b[0m\u001b[0;34m\u001b[0m\u001b[0m\n\u001b[0m\u001b[1;32m    420\u001b[0m         \u001b[0;32mreturn\u001b[0m \u001b[0mself\u001b[0m\u001b[0;34m.\u001b[0m\u001b[0msteps\u001b[0m\u001b[0;34m[\u001b[0m\u001b[0;34m-\u001b[0m\u001b[0;36m1\u001b[0m\u001b[0;34m]\u001b[0m\u001b[0;34m[\u001b[0m\u001b[0;34m-\u001b[0m\u001b[0;36m1\u001b[0m\u001b[0;34m]\u001b[0m\u001b[0;34m.\u001b[0m\u001b[0mpredict\u001b[0m\u001b[0;34m(\u001b[0m\u001b[0mXt\u001b[0m\u001b[0;34m,\u001b[0m \u001b[0;34m**\u001b[0m\u001b[0mpredict_params\u001b[0m\u001b[0;34m)\u001b[0m\u001b[0;34m\u001b[0m\u001b[0;34m\u001b[0m\u001b[0m\n\u001b[1;32m    421\u001b[0m \u001b[0;34m\u001b[0m\u001b[0m\n",
            "\u001b[0;32m/usr/local/lib/python3.7/dist-packages/sklearn/impute/_base.py\u001b[0m in \u001b[0;36mtransform\u001b[0;34m(self, X)\u001b[0m\n\u001b[1;32m    404\u001b[0m         \u001b[0mcheck_is_fitted\u001b[0m\u001b[0;34m(\u001b[0m\u001b[0mself\u001b[0m\u001b[0;34m)\u001b[0m\u001b[0;34m\u001b[0m\u001b[0;34m\u001b[0m\u001b[0m\n\u001b[1;32m    405\u001b[0m \u001b[0;34m\u001b[0m\u001b[0m\n\u001b[0;32m--> 406\u001b[0;31m         \u001b[0mX\u001b[0m \u001b[0;34m=\u001b[0m \u001b[0mself\u001b[0m\u001b[0;34m.\u001b[0m\u001b[0m_validate_input\u001b[0m\u001b[0;34m(\u001b[0m\u001b[0mX\u001b[0m\u001b[0;34m)\u001b[0m\u001b[0;34m\u001b[0m\u001b[0;34m\u001b[0m\u001b[0m\n\u001b[0m\u001b[1;32m    407\u001b[0m         \u001b[0mX_indicator\u001b[0m \u001b[0;34m=\u001b[0m \u001b[0msuper\u001b[0m\u001b[0;34m(\u001b[0m\u001b[0;34m)\u001b[0m\u001b[0;34m.\u001b[0m\u001b[0m_transform_indicator\u001b[0m\u001b[0;34m(\u001b[0m\u001b[0mX\u001b[0m\u001b[0;34m)\u001b[0m\u001b[0;34m\u001b[0m\u001b[0;34m\u001b[0m\u001b[0m\n\u001b[1;32m    408\u001b[0m \u001b[0;34m\u001b[0m\u001b[0m\n",
            "\u001b[0;32m/usr/local/lib/python3.7/dist-packages/sklearn/impute/_base.py\u001b[0m in \u001b[0;36m_validate_input\u001b[0;34m(self, X)\u001b[0m\n\u001b[1;32m    240\u001b[0m                 \u001b[0;32mraise\u001b[0m \u001b[0mnew_ve\u001b[0m \u001b[0;32mfrom\u001b[0m \u001b[0;32mNone\u001b[0m\u001b[0;34m\u001b[0m\u001b[0;34m\u001b[0m\u001b[0m\n\u001b[1;32m    241\u001b[0m             \u001b[0;32melse\u001b[0m\u001b[0;34m:\u001b[0m\u001b[0;34m\u001b[0m\u001b[0;34m\u001b[0m\u001b[0m\n\u001b[0;32m--> 242\u001b[0;31m                 \u001b[0;32mraise\u001b[0m \u001b[0mve\u001b[0m\u001b[0;34m\u001b[0m\u001b[0;34m\u001b[0m\u001b[0m\n\u001b[0m\u001b[1;32m    243\u001b[0m \u001b[0;34m\u001b[0m\u001b[0m\n\u001b[1;32m    244\u001b[0m         \u001b[0m_check_inputs_dtype\u001b[0m\u001b[0;34m(\u001b[0m\u001b[0mX\u001b[0m\u001b[0;34m,\u001b[0m \u001b[0mself\u001b[0m\u001b[0;34m.\u001b[0m\u001b[0mmissing_values\u001b[0m\u001b[0;34m)\u001b[0m\u001b[0;34m\u001b[0m\u001b[0;34m\u001b[0m\u001b[0m\n",
            "\u001b[0;32m/usr/local/lib/python3.7/dist-packages/sklearn/impute/_base.py\u001b[0m in \u001b[0;36m_validate_input\u001b[0;34m(self, X)\u001b[0m\n\u001b[1;32m    233\u001b[0m         \u001b[0;32mtry\u001b[0m\u001b[0;34m:\u001b[0m\u001b[0;34m\u001b[0m\u001b[0;34m\u001b[0m\u001b[0m\n\u001b[1;32m    234\u001b[0m             X = check_array(X, accept_sparse='csc', dtype=dtype,\n\u001b[0;32m--> 235\u001b[0;31m                             force_all_finite=force_all_finite, copy=self.copy)\n\u001b[0m\u001b[1;32m    236\u001b[0m         \u001b[0;32mexcept\u001b[0m \u001b[0mValueError\u001b[0m \u001b[0;32mas\u001b[0m \u001b[0mve\u001b[0m\u001b[0;34m:\u001b[0m\u001b[0;34m\u001b[0m\u001b[0;34m\u001b[0m\u001b[0m\n\u001b[1;32m    237\u001b[0m             \u001b[0;32mif\u001b[0m \u001b[0;34m\"could not convert\"\u001b[0m \u001b[0;32min\u001b[0m \u001b[0mstr\u001b[0m\u001b[0;34m(\u001b[0m\u001b[0mve\u001b[0m\u001b[0;34m)\u001b[0m\u001b[0;34m:\u001b[0m\u001b[0;34m\u001b[0m\u001b[0;34m\u001b[0m\u001b[0m\n",
            "\u001b[0;32m/usr/local/lib/python3.7/dist-packages/sklearn/utils/validation.py\u001b[0m in \u001b[0;36mcheck_array\u001b[0;34m(array, accept_sparse, accept_large_sparse, dtype, order, copy, force_all_finite, ensure_2d, allow_nd, ensure_min_samples, ensure_min_features, warn_on_dtype, estimator)\u001b[0m\n\u001b[1;32m    584\u001b[0m                              \u001b[0;34m\" minimum of %d is required%s.\"\u001b[0m\u001b[0;34m\u001b[0m\u001b[0;34m\u001b[0m\u001b[0m\n\u001b[1;32m    585\u001b[0m                              % (n_samples, array.shape, ensure_min_samples,\n\u001b[0;32m--> 586\u001b[0;31m                                 context))\n\u001b[0m\u001b[1;32m    587\u001b[0m \u001b[0;34m\u001b[0m\u001b[0m\n\u001b[1;32m    588\u001b[0m     \u001b[0;32mif\u001b[0m \u001b[0mensure_min_features\u001b[0m \u001b[0;34m>\u001b[0m \u001b[0;36m0\u001b[0m \u001b[0;32mand\u001b[0m \u001b[0marray\u001b[0m\u001b[0;34m.\u001b[0m\u001b[0mndim\u001b[0m \u001b[0;34m==\u001b[0m \u001b[0;36m2\u001b[0m\u001b[0;34m:\u001b[0m\u001b[0;34m\u001b[0m\u001b[0;34m\u001b[0m\u001b[0m\n",
            "\u001b[0;31mValueError\u001b[0m: Found array with 0 sample(s) (shape=(0, 7)) while a minimum of 1 is required."
          ]
        }
      ]
    },
    {
      "cell_type": "code",
      "metadata": {
        "id": "j7xaj4OEUviL"
      },
      "source": [
        "print('predict 전 test 정확도: ', pipe.score(X_test, y_test))"
      ],
      "execution_count": null,
      "outputs": []
    }
  ]
}