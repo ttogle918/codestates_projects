{
  "nbformat": 4,
  "nbformat_minor": 0,
  "metadata": {
    "jupytext": {
      "cell_metadata_filter": "-all",
      "main_language": "python",
      "notebook_metadata_filter": "-all"
    },
    "kernelspec": {
      "display_name": "Python 3",
      "language": "python",
      "name": "python3"
    },
    "language_info": {
      "codemirror_mode": {
        "name": "ipython",
        "version": 3
      },
      "file_extension": ".py",
      "mimetype": "text/x-python",
      "name": "python",
      "nbconvert_exporter": "python",
      "pygments_lexer": "ipython3",
      "version": "3.7.7"
    },
    "colab": {
      "name": "sprint2_cinema.ipynb",
      "provenance": [],
      "collapsed_sections": [
        "Db3fUvmssG7X",
        "dMrXQt4-Yjbh",
        "iHCIh1ic2SbG",
        "fXggdSJtwlqu",
        "a3uFNqmkHJfO"
      ],
      "include_colab_link": true
    }
  },
  "cells": [
    {
      "cell_type": "markdown",
      "metadata": {
        "id": "view-in-github",
        "colab_type": "text"
      },
      "source": [
        "<a href=\"https://colab.research.google.com/github/ttogle918/AI_projects/blob/master/sprint2_cinema.ipynb\" target=\"_parent\"><img src=\"https://colab.research.google.com/assets/colab-badge.svg\" alt=\"Open In Colab\"/></a>"
      ]
    },
    {
      "cell_type": "markdown",
      "metadata": {
        "id": "w4FwVJetxWZ9"
      },
      "source": [
        "# Movie revenue 예측"
      ]
    },
    {
      "cell_type": "markdown",
      "metadata": {
        "id": "Db3fUvmssG7X"
      },
      "source": [
        "## 파일 가져오기 및 패키지 정의"
      ]
    },
    {
      "cell_type": "code",
      "metadata": {
        "id": "iqO_gCBYdTNc",
        "colab": {
          "base_uri": "https://localhost:8080/"
        },
        "outputId": "024828ea-f030-411e-824e-35385c0674da"
      },
      "source": [
        "# google 드라이브에 로컬 파일 업로드\n",
        "from google.colab import files, drive\n",
        "drive.mount('/content/drive')"
      ],
      "execution_count": 1,
      "outputs": [
        {
          "output_type": "stream",
          "name": "stdout",
          "text": [
            "Drive already mounted at /content/drive; to attempt to forcibly remount, call drive.mount(\"/content/drive\", force_remount=True).\n"
          ]
        }
      ]
    },
    {
      "cell_type": "code",
      "metadata": {
        "id": "R0tfYCrUdaRt"
      },
      "source": [
        "import pandas as pd\n",
        "import numpy as np\n",
        "\n",
        "import re\n",
        "from collections import Counter"
      ],
      "execution_count": 2,
      "outputs": []
    },
    {
      "cell_type": "code",
      "metadata": {
        "id": "JhY5ntQK_JKN"
      },
      "source": [
        "import ast\n",
        "def getDataFrame(s) :\n",
        "  if s[0] == '\\'' :\n",
        "    s = s[1:-1]\n",
        "  if str(s)[0] == '{' :\n",
        "    df = pd.DataFrame([ast.literal_eval(s)])\n",
        "  if str(s)[0] == '[' :\n",
        "    df = pd.DataFrame(ast.literal_eval(s))\n",
        "  else :\n",
        "    df = s\n",
        "  return df"
      ],
      "execution_count": 3,
      "outputs": []
    },
    {
      "cell_type": "markdown",
      "metadata": {
        "id": "dMrXQt4-Yjbh"
      },
      "source": [
        "### 1. 구글 드라이브에서 파일 불러오기\n",
        "\n",
        "\n",
        "\n",
        "#### ? links와 links_small이 같은 내용인가? (중복되는 것이 있는가?)\n",
        "#### ? ratings_small과 ratings가 같은 내용인가? (중복? 합쳐도 되는가?)\n",
        "#### cast, crew, 등 안에 dataframe있는 것은 어떻게 해결? -> 데이터프레임을 따로 만들고 merge하자.\n",
        "#### metadata는 무엇? 필요없는 것은 삭제하자! homepage는 boolean으로 해결(신뢰성때문에)\n",
        "\n",
        "\n"
      ]
    },
    {
      "cell_type": "markdown",
      "metadata": {
        "id": "mcgezsWIhFBj"
      },
      "source": [
        "|  <center>credit</center> |  <center>cast</center> |\n",
        "|:--------:|:--------|\n",
        "|**credit** |cast(id, keywords), crew(credit_id, de), id> |\n",
        "|**keywords** | id (id, name), keywords(id) |\n",
        "|**links** | movieId, imdbId, tmdbId |\n",
        "|**movies_metadata** | adult, belongs_to_collection, budget, genres |\n",
        "|**''** | homepage, id, imdb_id, original_language |\n",
        "|**''** | original_title, overview, popularity, poster_path |\n",
        "|**''** | production_companies, production_countries |\n",
        "|**''** | release_date, revenue, runtime, spoken_languages |\n",
        "|**''** | status, tagline, title, video, vote_average, vote_count |\n",
        "|**ratings** | userId, movieId, rating, timestamp |"
      ]
    },
    {
      "cell_type": "markdown",
      "metadata": {
        "id": "Eil-Fj0NGOXi"
      },
      "source": [
        "## credits : 극 중 등장인물에 대한 정보와 제작진에 대한 정보를 담고있는 dataframe\n",
        "이 credits의 데이터 중 우리는 배우의 이름과 책임 감독의 이름만 궁금할 것이다.\n",
        "\n",
        "그러므로 cast에서는 상위 3명(주연), crew에서는 상위 1명(감독 혹은 작가)을 뽑아내었다.\n",
        "#### 과연 주연과 감독/PD가 영화 판매수익에 영향을 미칠까?"
      ]
    },
    {
      "cell_type": "markdown",
      "metadata": {
        "id": "qxVWs2XJHosx"
      },
      "source": [
        "1. data 불러오기\n",
        "2. 중복된 값 지우기\n",
        "3. null값 확인 -> 지우거나 고치거나\n",
        "4. cast에서 배우 이름 따로 저장, crew에서 감독 이름 따로 저장"
      ]
    },
    {
      "cell_type": "code",
      "metadata": {
        "id": "sJmAuWw8MMVX"
      },
      "source": [
        "credits = pd.read_csv(\"/content/drive/MyDrive/Colab Notebooks/code_states/credits.csv\")"
      ],
      "execution_count": 4,
      "outputs": []
    },
    {
      "cell_type": "code",
      "metadata": {
        "colab": {
          "base_uri": "https://localhost:8080/"
        },
        "id": "2CVGZ_oqMO1j",
        "outputId": "14d52bac-a53c-49a1-cbc6-291cbabf12c2"
      },
      "source": [
        "credits.duplicated().sum()"
      ],
      "execution_count": 5,
      "outputs": [
        {
          "output_type": "execute_result",
          "data": {
            "text/plain": [
              "37"
            ]
          },
          "metadata": {},
          "execution_count": 5
        }
      ]
    },
    {
      "cell_type": "code",
      "metadata": {
        "id": "uyo6mvhBMs_U"
      },
      "source": [
        "credits = credits.drop_duplicates()"
      ],
      "execution_count": 6,
      "outputs": []
    },
    {
      "cell_type": "code",
      "metadata": {
        "colab": {
          "base_uri": "https://localhost:8080/"
        },
        "id": "y1Sbx4hLMwzB",
        "outputId": "3cacc933-a430-42d5-c0be-0737ca655a13"
      },
      "source": [
        "print(credits.isnull().sum())\n",
        "print('Empty cells: ' + str(len(credits[credits['cast'] == '[]'])) )"
      ],
      "execution_count": 7,
      "outputs": [
        {
          "output_type": "stream",
          "name": "stdout",
          "text": [
            "cast    0\n",
            "crew    0\n",
            "id      0\n",
            "dtype: int64\n",
            "Empty cells: 2414\n"
          ]
        }
      ]
    },
    {
      "cell_type": "code",
      "metadata": {
        "id": "YXK2FyZg-iJ9",
        "colab": {
          "base_uri": "https://localhost:8080/"
        },
        "outputId": "1433738e-1767-4669-ed98-e4c51448ae26"
      },
      "source": [
        "print(credits.shape)\n",
        "print(len(credits['id'].unique())) # id당 한 row가 아니다!"
      ],
      "execution_count": 8,
      "outputs": [
        {
          "output_type": "stream",
          "name": "stdout",
          "text": [
            "(45439, 3)\n",
            "45432\n"
          ]
        }
      ]
    },
    {
      "cell_type": "code",
      "metadata": {
        "colab": {
          "base_uri": "https://localhost:8080/",
          "height": 359
        },
        "id": "Qsy-Iqr1Ussd",
        "outputId": "4571efb1-5dcd-4114-a255-d2199af082ff"
      },
      "source": [
        "credits.head(10)"
      ],
      "execution_count": 9,
      "outputs": [
        {
          "output_type": "execute_result",
          "data": {
            "text/html": [
              "<div>\n",
              "<style scoped>\n",
              "    .dataframe tbody tr th:only-of-type {\n",
              "        vertical-align: middle;\n",
              "    }\n",
              "\n",
              "    .dataframe tbody tr th {\n",
              "        vertical-align: top;\n",
              "    }\n",
              "\n",
              "    .dataframe thead th {\n",
              "        text-align: right;\n",
              "    }\n",
              "</style>\n",
              "<table border=\"1\" class=\"dataframe\">\n",
              "  <thead>\n",
              "    <tr style=\"text-align: right;\">\n",
              "      <th></th>\n",
              "      <th>cast</th>\n",
              "      <th>crew</th>\n",
              "      <th>id</th>\n",
              "    </tr>\n",
              "  </thead>\n",
              "  <tbody>\n",
              "    <tr>\n",
              "      <th>0</th>\n",
              "      <td>[{'cast_id': 14, 'character': 'Woody (voice)',...</td>\n",
              "      <td>[{'credit_id': '52fe4284c3a36847f8024f49', 'de...</td>\n",
              "      <td>862</td>\n",
              "    </tr>\n",
              "    <tr>\n",
              "      <th>1</th>\n",
              "      <td>[{'cast_id': 1, 'character': 'Alan Parrish', '...</td>\n",
              "      <td>[{'credit_id': '52fe44bfc3a36847f80a7cd1', 'de...</td>\n",
              "      <td>8844</td>\n",
              "    </tr>\n",
              "    <tr>\n",
              "      <th>2</th>\n",
              "      <td>[{'cast_id': 2, 'character': 'Max Goldman', 'c...</td>\n",
              "      <td>[{'credit_id': '52fe466a9251416c75077a89', 'de...</td>\n",
              "      <td>15602</td>\n",
              "    </tr>\n",
              "    <tr>\n",
              "      <th>3</th>\n",
              "      <td>[{'cast_id': 1, 'character': \"Savannah 'Vannah...</td>\n",
              "      <td>[{'credit_id': '52fe44779251416c91011acb', 'de...</td>\n",
              "      <td>31357</td>\n",
              "    </tr>\n",
              "    <tr>\n",
              "      <th>4</th>\n",
              "      <td>[{'cast_id': 1, 'character': 'George Banks', '...</td>\n",
              "      <td>[{'credit_id': '52fe44959251416c75039ed7', 'de...</td>\n",
              "      <td>11862</td>\n",
              "    </tr>\n",
              "    <tr>\n",
              "      <th>5</th>\n",
              "      <td>[{'cast_id': 25, 'character': 'Lt. Vincent Han...</td>\n",
              "      <td>[{'credit_id': '52fe4292c3a36847f802916d', 'de...</td>\n",
              "      <td>949</td>\n",
              "    </tr>\n",
              "    <tr>\n",
              "      <th>6</th>\n",
              "      <td>[{'cast_id': 1, 'character': 'Linus Larrabee',...</td>\n",
              "      <td>[{'credit_id': '52fe44959251416c75039da9', 'de...</td>\n",
              "      <td>11860</td>\n",
              "    </tr>\n",
              "    <tr>\n",
              "      <th>7</th>\n",
              "      <td>[{'cast_id': 2, 'character': 'Tom Sawyer', 'cr...</td>\n",
              "      <td>[{'credit_id': '52fe46bdc3a36847f810f797', 'de...</td>\n",
              "      <td>45325</td>\n",
              "    </tr>\n",
              "    <tr>\n",
              "      <th>8</th>\n",
              "      <td>[{'cast_id': 1, 'character': 'Darren Francis T...</td>\n",
              "      <td>[{'credit_id': '52fe44dbc3a36847f80ae0f1', 'de...</td>\n",
              "      <td>9091</td>\n",
              "    </tr>\n",
              "    <tr>\n",
              "      <th>9</th>\n",
              "      <td>[{'cast_id': 1, 'character': 'James Bond', 'cr...</td>\n",
              "      <td>[{'credit_id': '52fe426ec3a36847f801e14b', 'de...</td>\n",
              "      <td>710</td>\n",
              "    </tr>\n",
              "  </tbody>\n",
              "</table>\n",
              "</div>"
            ],
            "text/plain": [
              "                                                cast  ...     id\n",
              "0  [{'cast_id': 14, 'character': 'Woody (voice)',...  ...    862\n",
              "1  [{'cast_id': 1, 'character': 'Alan Parrish', '...  ...   8844\n",
              "2  [{'cast_id': 2, 'character': 'Max Goldman', 'c...  ...  15602\n",
              "3  [{'cast_id': 1, 'character': \"Savannah 'Vannah...  ...  31357\n",
              "4  [{'cast_id': 1, 'character': 'George Banks', '...  ...  11862\n",
              "5  [{'cast_id': 25, 'character': 'Lt. Vincent Han...  ...    949\n",
              "6  [{'cast_id': 1, 'character': 'Linus Larrabee',...  ...  11860\n",
              "7  [{'cast_id': 2, 'character': 'Tom Sawyer', 'cr...  ...  45325\n",
              "8  [{'cast_id': 1, 'character': 'Darren Francis T...  ...   9091\n",
              "9  [{'cast_id': 1, 'character': 'James Bond', 'cr...  ...    710\n",
              "\n",
              "[10 rows x 3 columns]"
            ]
          },
          "metadata": {},
          "execution_count": 9
        }
      ]
    },
    {
      "cell_type": "markdown",
      "metadata": {
        "id": "iHCIh1ic2SbG"
      },
      "source": [
        "### cast"
      ]
    },
    {
      "cell_type": "code",
      "metadata": {
        "colab": {
          "base_uri": "https://localhost:8080/"
        },
        "id": "vCnFvLKxIHOC",
        "outputId": "c4a202f9-60b2-4084-f3fe-284e9097db8d"
      },
      "source": [
        "# string 형태로 data 형태 바꾸기\n",
        "li = [entry['name'] for entry in  ast.literal_eval(credits.cast[0])[0:3]]\n",
        "li"
      ],
      "execution_count": 10,
      "outputs": [
        {
          "output_type": "execute_result",
          "data": {
            "text/plain": [
              "['Tom Hanks', 'Tim Allen', 'Don Rickles']"
            ]
          },
          "metadata": {},
          "execution_count": 10
        }
      ]
    },
    {
      "cell_type": "code",
      "metadata": {
        "id": "wH6BRDT9N3IC"
      },
      "source": [
        "# cast 상위 4명만\n",
        "import re\n",
        "\n",
        "def set_list_to_string(s, idx, to) :\n",
        "  if to == 0 :\n",
        "    t_dict = ast.literal_eval(s)\n",
        "    return [re.sub(r'[^\\w]', '_',re.sub(r'[^\\w\\s]', '', entry[idx])) for entry in t_dict]\n",
        "  \n",
        "  t_dict = ast.literal_eval(s)[0:to]\n",
        "  return [re.sub(r'[^\\w]', '_',re.sub(r'[^\\w\\s]', '', entry[idx])) for entry in t_dict]"
      ],
      "execution_count": 11,
      "outputs": []
    },
    {
      "cell_type": "code",
      "metadata": {
        "colab": {
          "base_uri": "https://localhost:8080/"
        },
        "id": "_Xqw91gJoJZl",
        "outputId": "896c7e31-1b0b-49c8-adea-fd97dcc36998"
      },
      "source": [
        "credits['actors'] = credits.cast.apply(set_list_to_string, idx='name', to=4)\n",
        "credits['actors'].head(10)"
      ],
      "execution_count": 12,
      "outputs": [
        {
          "output_type": "execute_result",
          "data": {
            "text/plain": [
              "0      [Tom_Hanks, Tim_Allen, Don_Rickles, Jim_Varney]\n",
              "1    [Robin_Williams, Jonathan_Hyde, Kirsten_Dunst,...\n",
              "2    [Walter_Matthau, Jack_Lemmon, AnnMargret, Soph...\n",
              "3    [Whitney_Houston, Angela_Bassett, Loretta_Devi...\n",
              "4    [Steve_Martin, Diane_Keaton, Martin_Short, Kim...\n",
              "5    [Al_Pacino, Robert_De_Niro, Val_Kilmer, Jon_Vo...\n",
              "6    [Harrison_Ford, Julia_Ormond, Greg_Kinnear, An...\n",
              "7    [Jonathan_Taylor_Thomas, Brad_Renfro, Rachael_...\n",
              "8    [JeanClaude_Van_Damme, Powers_Boothe, Dorian_H...\n",
              "9    [Pierce_Brosnan, Sean_Bean, Izabella_Scorupco,...\n",
              "Name: actors, dtype: object"
            ]
          },
          "metadata": {},
          "execution_count": 12
        }
      ]
    },
    {
      "cell_type": "code",
      "metadata": {
        "colab": {
          "base_uri": "https://localhost:8080/"
        },
        "id": "hQUbRNEZqRG_",
        "outputId": "11c0ee77-53df-4e65-b5d7-fb8247f04dd3"
      },
      "source": [
        "from collections import Counter\n",
        "\n",
        "actor_count = Counter([name for names_per_film in credits.actors.values for name in names_per_film])\n",
        "most_popular_actors = [entry[0] for entry in actor_count.most_common(20)]\n",
        "most_popular_actors"
      ],
      "execution_count": 13,
      "outputs": [
        {
          "output_type": "execute_result",
          "data": {
            "text/plain": [
              "['John_Wayne',\n",
              " 'Jackie_Chan',\n",
              " 'Robert_De_Niro',\n",
              " 'Michael_Caine',\n",
              " 'Gérard_Depardieu',\n",
              " 'Christopher_Lee',\n",
              " 'Nicolas_Cage',\n",
              " 'Samuel_L_Jackson',\n",
              " 'Susan_Sarandon',\n",
              " 'Harvey_Keitel',\n",
              " 'Bruce_Willis',\n",
              " 'Donald_Sutherland',\n",
              " 'Bette_Davis',\n",
              " 'James_Mason',\n",
              " 'Christopher_Walken',\n",
              " 'Gene_Hackman',\n",
              " 'Christopher_Plummer',\n",
              " 'Alec_Baldwin',\n",
              " 'Jeff_Bridges',\n",
              " 'Danny_Glover']"
            ]
          },
          "metadata": {},
          "execution_count": 13
        }
      ]
    },
    {
      "cell_type": "code",
      "metadata": {
        "id": "taaUHhBowFF9"
      },
      "source": [
        "credits['number_of_named_actors'] = credits['actors'].apply(len)"
      ],
      "execution_count": 14,
      "outputs": []
    },
    {
      "cell_type": "code",
      "metadata": {
        "id": "FbfKgwz6v_7u"
      },
      "source": [
        "def listToString(item_list):\n",
        "  return r' '.join(item_list)\n",
        "\n",
        "credits['actors'] = credits['actors'].apply(listToString)"
      ],
      "execution_count": 15,
      "outputs": []
    },
    {
      "cell_type": "code",
      "metadata": {
        "id": "d4SkPN51rHnF"
      },
      "source": [
        "import sklearn\n",
        "from sklearn.feature_extraction.text import CountVectorizer\n",
        "\n",
        "vectorizer = CountVectorizer(min_df=50)\n",
        "corpus = [word for string in credits['actors'].values for word in string.split(' ')]\n",
        "vectorizer.fit(corpus)\n",
        "credits['actors_vec'] = credits['actors'].apply(lambda x: [x]).apply(vectorizer.transform)"
      ],
      "execution_count": 16,
      "outputs": []
    },
    {
      "cell_type": "code",
      "metadata": {
        "colab": {
          "base_uri": "https://localhost:8080/"
        },
        "id": "jELpEk8ovA_n",
        "outputId": "e8107ac3-75ae-40a8-897d-12c647b5d492"
      },
      "source": [
        "credits['actors_vec'][4]"
      ],
      "execution_count": 17,
      "outputs": [
        {
          "output_type": "execute_result",
          "data": {
            "text/plain": [
              "<1x98 sparse matrix of type '<class 'numpy.int64'>'\n",
              "\twith 0 stored elements in Compressed Sparse Row format>"
            ]
          },
          "metadata": {},
          "execution_count": 17
        }
      ]
    },
    {
      "cell_type": "markdown",
      "metadata": {
        "id": "fXggdSJtwlqu"
      },
      "source": [
        "### Crew"
      ]
    },
    {
      "cell_type": "code",
      "metadata": {
        "colab": {
          "base_uri": "https://localhost:8080/"
        },
        "id": "Ai33uEvcPEbi",
        "outputId": "e524b30a-84f3-4ce4-d15d-53b7f308cf9c"
      },
      "source": [
        "print('Empty cells: ' + str(len(credits[credits['crew'] == '[]'])))\n",
        "print('Cells with NaN values: ' + str(credits.crew.isna().sum()))"
      ],
      "execution_count": 18,
      "outputs": [
        {
          "output_type": "stream",
          "name": "stdout",
          "text": [
            "Empty cells: 771\n",
            "Cells with NaN values: 0\n"
          ]
        }
      ]
    },
    {
      "cell_type": "code",
      "metadata": {
        "colab": {
          "base_uri": "https://localhost:8080/",
          "height": 179
        },
        "id": "3d9n7-Kc3FEC",
        "outputId": "5d32683f-02d9-4473-93d0-09807d532fad"
      },
      "source": [
        "credits.crew[0]"
      ],
      "execution_count": 19,
      "outputs": [
        {
          "output_type": "execute_result",
          "data": {
            "application/vnd.google.colaboratory.intrinsic+json": {
              "type": "string"
            },
            "text/plain": [
              "'[{\\'credit_id\\': \\'52fe4284c3a36847f8024f49\\', \\'department\\': \\'Directing\\', \\'gender\\': 2, \\'id\\': 7879, \\'job\\': \\'Director\\', \\'name\\': \\'John Lasseter\\', \\'profile_path\\': \\'/7EdqiNbr4FRjIhKHyPPdFfEEEFG.jpg\\'}, {\\'credit_id\\': \\'52fe4284c3a36847f8024f4f\\', \\'department\\': \\'Writing\\', \\'gender\\': 2, \\'id\\': 12891, \\'job\\': \\'Screenplay\\', \\'name\\': \\'Joss Whedon\\', \\'profile_path\\': \\'/dTiVsuaTVTeGmvkhcyJvKp2A5kr.jpg\\'}, {\\'credit_id\\': \\'52fe4284c3a36847f8024f55\\', \\'department\\': \\'Writing\\', \\'gender\\': 2, \\'id\\': 7, \\'job\\': \\'Screenplay\\', \\'name\\': \\'Andrew Stanton\\', \\'profile_path\\': \\'/pvQWsu0qc8JFQhMVJkTHuexUAa1.jpg\\'}, {\\'credit_id\\': \\'52fe4284c3a36847f8024f5b\\', \\'department\\': \\'Writing\\', \\'gender\\': 2, \\'id\\': 12892, \\'job\\': \\'Screenplay\\', \\'name\\': \\'Joel Cohen\\', \\'profile_path\\': \\'/dAubAiZcvKFbboWlj7oXOkZnTSu.jpg\\'}, {\\'credit_id\\': \\'52fe4284c3a36847f8024f61\\', \\'department\\': \\'Writing\\', \\'gender\\': 0, \\'id\\': 12893, \\'job\\': \\'Screenplay\\', \\'name\\': \\'Alec Sokolow\\', \\'profile_path\\': \\'/v79vlRYi94BZUQnkkyznbGUZLjT.jpg\\'}, {\\'credit_id\\': \\'52fe4284c3a36847f8024f67\\', \\'department\\': \\'Production\\', \\'gender\\': 1, \\'id\\': 12894, \\'job\\': \\'Producer\\', \\'name\\': \\'Bonnie Arnold\\', \\'profile_path\\': None}, {\\'credit_id\\': \\'52fe4284c3a36847f8024f6d\\', \\'department\\': \\'Production\\', \\'gender\\': 0, \\'id\\': 12895, \\'job\\': \\'Executive Producer\\', \\'name\\': \\'Ed Catmull\\', \\'profile_path\\': None}, {\\'credit_id\\': \\'52fe4284c3a36847f8024f73\\', \\'department\\': \\'Production\\', \\'gender\\': 2, \\'id\\': 12896, \\'job\\': \\'Producer\\', \\'name\\': \\'Ralph Guggenheim\\', \\'profile_path\\': None}, {\\'credit_id\\': \\'52fe4284c3a36847f8024f79\\', \\'department\\': \\'Production\\', \\'gender\\': 2, \\'id\\': 12897, \\'job\\': \\'Executive Producer\\', \\'name\\': \\'Steve Jobs\\', \\'profile_path\\': \\'/mOMP3SwD5qWQSR0ldCIByd3guTV.jpg\\'}, {\\'credit_id\\': \\'52fe4284c3a36847f8024f8b\\', \\'department\\': \\'Editing\\', \\'gender\\': 2, \\'id\\': 8, \\'job\\': \\'Editor\\', \\'name\\': \\'Lee Unkrich\\', \\'profile_path\\': \\'/bdTCCXjgOV3YyaNmLGYGOxFQMOc.jpg\\'}, {\\'credit_id\\': \\'52fe4284c3a36847f8024f91\\', \\'department\\': \\'Art\\', \\'gender\\': 2, \\'id\\': 7883, \\'job\\': \\'Art Direction\\', \\'name\\': \\'Ralph Eggleston\\', \\'profile_path\\': \\'/uUfcGKDsKO1aROMpXRs67Hn6RvR.jpg\\'}, {\\'credit_id\\': \\'598331bf925141421201044b\\', \\'department\\': \\'Editing\\', \\'gender\\': 2, \\'id\\': 1168870, \\'job\\': \\'Editor\\', \\'name\\': \\'Robert Gordon\\', \\'profile_path\\': None}, {\\'credit_id\\': \\'5892168cc3a36809660095f9\\', \\'department\\': \\'Sound\\', \\'gender\\': 0, \\'id\\': 1552883, \\'job\\': \\'Foley Editor\\', \\'name\\': \\'Mary Helen Leasman\\', \\'profile_path\\': None}, {\\'credit_id\\': \\'5531824d9251415289000945\\', \\'department\\': \\'Visual Effects\\', \\'gender\\': 0, \\'id\\': 1453514, \\'job\\': \\'Animation\\', \\'name\\': \\'Kim Blanchette\\', \\'profile_path\\': None}, {\\'credit_id\\': \\'589215969251412dcb009bf6\\', \\'department\\': \\'Sound\\', \\'gender\\': 0, \\'id\\': 1414182, \\'job\\': \\'ADR Editor\\', \\'name\\': \\'Marilyn McCoppen\\', \\'profile_path\\': None}, {\\'credit_id\\': \\'589217099251412dc500a018\\', \\'department\\': \\'Sound\\', \\'gender\\': 2, \\'id\\': 7885, \\'job\\': \\'Orchestrator\\', \\'name\\': \\'Randy Newman\\', \\'profile_path\\': \\'/w0JzfoiM25nrnxYOzosPHRq6mlE.jpg\\'}, {\\'credit_id\\': \\'5693e6b29251417b0e0000e3\\', \\'department\\': \\'Editing\\', \\'gender\\': 0, \\'id\\': 1429549, \\'job\\': \\'Color Timer\\', \\'name\\': \\'Dale E. Grahn\\', \\'profile_path\\': None}, {\\'credit_id\\': \\'572e2522c3a36869e6001a9c\\', \\'department\\': \\'Visual Effects\\', \\'gender\\': 0, \\'id\\': 7949, \\'job\\': \\'CG Painter\\', \\'name\\': \\'Robin Cooper\\', \\'profile_path\\': None}, {\\'credit_id\\': \\'574f12309251415ca1000012\\', \\'department\\': \\'Writing\\', \\'gender\\': 2, \\'id\\': 7879, \\'job\\': \\'Original Story\\', \\'name\\': \\'John Lasseter\\', \\'profile_path\\': \\'/7EdqiNbr4FRjIhKHyPPdFfEEEFG.jpg\\'}, {\\'credit_id\\': \\'574f1240c3a3682e7300001c\\', \\'department\\': \\'Writing\\', \\'gender\\': 2, \\'id\\': 12890, \\'job\\': \\'Original Story\\', \\'name\\': \\'Pete Docter\\', \\'profile_path\\': \\'/r6ngPgnReA3RHmKjmSoVsc6Awjp.jpg\\'}, {\\'credit_id\\': \\'574f12519251415c92000015\\', \\'department\\': \\'Writing\\', \\'gender\\': 0, \\'id\\': 7911, \\'job\\': \\'Original Story\\', \\'name\\': \\'Joe Ranft\\', \\'profile_path\\': \\'/f1BoWC2JbCcfP1e5hKfGsxkHzVU.jpg\\'}, {\\'credit_id\\': \\'574f12cec3a3682e82000022\\', \\'department\\': \\'Crew\\', \\'gender\\': 0, \\'id\\': 1629419, \\'job\\': \\'Post Production Supervisor\\', \\'name\\': \\'Patsy Bouge\\', \\'profile_path\\': None}, {\\'credit_id\\': \\'574f14f19251415ca1000082\\', \\'department\\': \\'Art\\', \\'gender\\': 0, \\'id\\': 7961, \\'job\\': \\'Sculptor\\', \\'name\\': \\'Norm DeCarlo\\', \\'profile_path\\': None}, {\\'credit_id\\': \\'5751ae4bc3a3683772002b7f\\', \\'department\\': \\'Visual Effects\\', \\'gender\\': 2, \\'id\\': 12905, \\'job\\': \\'Animation Director\\', \\'name\\': \\'Ash Brannon\\', \\'profile_path\\': \\'/6ueWgPEEBHvS3De2BHYQnYjRTig.jpg\\'}, {\\'credit_id\\': \\'5891edbe9251412dc5007cd6\\', \\'department\\': \\'Sound\\', \\'gender\\': 2, \\'id\\': 7885, \\'job\\': \\'Music\\', \\'name\\': \\'Randy Newman\\', \\'profile_path\\': \\'/w0JzfoiM25nrnxYOzosPHRq6mlE.jpg\\'}, {\\'credit_id\\': \\'589213d39251412dc8009832\\', \\'department\\': \\'Directing\\', \\'gender\\': 0, \\'id\\': 1748707, \\'job\\': \\'Layout\\', \\'name\\': \\'Roman Figun\\', \\'profile_path\\': None}, {\\'credit_id\\': \\'5892173dc3a3680968009351\\', \\'department\\': \\'Sound\\', \\'gender\\': 2, \\'id\\': 4949, \\'job\\': \\'Orchestrator\\', \\'name\\': \\'Don Davis\\', \\'profile_path\\': None}, {\\'credit_id\\': \\'589217cec3a3686b0a0052ba\\', \\'department\\': \\'Sound\\', \\'gender\\': 0, \\'id\\': 1372885, \\'job\\': \\'Music Editor\\', \\'name\\': \\'James Flamberg\\', \\'profile_path\\': None}, {\\'credit_id\\': \\'58921831c3a3686348004a64\\', \\'department\\': \\'Editing\\', \\'gender\\': 0, \\'id\\': 1739962, \\'job\\': \\'Negative Cutter\\', \\'name\\': \\'Mary Beth Smith\\', \\'profile_path\\': None}, {\\'credit_id\\': \\'58921838c3a36809700096c0\\', \\'department\\': \\'Editing\\', \\'gender\\': 0, \\'id\\': 1748513, \\'job\\': \\'Negative Cutter\\', \\'name\\': \\'Rick Mackay\\', \\'profile_path\\': None}, {\\'credit_id\\': \\'589218429251412dd1009d1b\\', \\'department\\': \\'Art\\', \\'gender\\': 0, \\'id\\': 1458006, \\'job\\': \\'Title Designer\\', \\'name\\': \\'Susan Bradley\\', \\'profile_path\\': None}, {\\'credit_id\\': \\'5891ed99c3a3680966007670\\', \\'department\\': \\'Crew\\', \\'gender\\': 0, \\'id\\': 1748557, \\'job\\': \\'Supervising Technical Director\\', \\'name\\': \\'William Reeves\\', \\'profile_path\\': None}, {\\'credit_id\\': \\'5891edcec3a3686b0a002eb2\\', \\'department\\': \\'Sound\\', \\'gender\\': 2, \\'id\\': 7885, \\'job\\': \\'Songs\\', \\'name\\': \\'Randy Newman\\', \\'profile_path\\': \\'/w0JzfoiM25nrnxYOzosPHRq6mlE.jpg\\'}, {\\'credit_id\\': \\'5891edf9c3a36809700075e6\\', \\'department\\': \\'Writing\\', \\'gender\\': 2, \\'id\\': 7, \\'job\\': \\'Original Story\\', \\'name\\': \\'Andrew Stanton\\', \\'profile_path\\': \\'/pvQWsu0qc8JFQhMVJkTHuexUAa1.jpg\\'}, {\\'credit_id\\': \\'58920f0b9251412dd7009104\\', \\'department\\': \\'Crew\\', \\'gender\\': 2, \\'id\\': 12890, \\'job\\': \\'Supervising Animator\\', \\'name\\': \\'Pete Docter\\', \\'profile_path\\': \\'/r6ngPgnReA3RHmKjmSoVsc6Awjp.jpg\\'}, {\\'credit_id\\': \\'58920f1fc3a3680977009021\\', \\'department\\': \\'Sound\\', \\'gender\\': 2, \\'id\\': 2216, \\'job\\': \\'Sound Designer\\', \\'name\\': \\'Gary Rydstrom\\', \\'profile_path\\': \\'/jZpr1nVfO7lldWI0YtmP1FGw7Rj.jpg\\'}, {\\'credit_id\\': \\'58920f389251412dd700912d\\', \\'department\\': \\'Production\\', \\'gender\\': 0, \\'id\\': 12909, \\'job\\': \\'Production Supervisor\\', \\'name\\': \\'Karen Robert Jackson\\', \\'profile_path\\': None}, {\\'credit_id\\': \\'58920fbd9251412dcb00969c\\', \\'department\\': \\'Crew\\', \\'gender\\': 0, \\'id\\': 953331, \\'job\\': \\'Executive Music Producer\\', \\'name\\': \\'Chris Montan\\', \\'profile_path\\': None}, {\\'credit_id\\': \\'589210069251412dd7009219\\', \\'department\\': \\'Visual Effects\\', \\'gender\\': 0, \\'id\\': 7893, \\'job\\': \\'Animation Director\\', \\'name\\': \\'Rich Quade\\', \\'profile_path\\': None}, {\\'credit_id\\': \\'589210329251412dcd00943b\\', \\'department\\': \\'Visual Effects\\', \\'gender\\': 0, \\'id\\': 8025, \\'job\\': \\'Animation\\', \\'name\\': \\'Michael Berenstein\\', \\'profile_path\\': None}, {\\'credit_id\\': \\'5892103bc3a368096a009180\\', \\'department\\': \\'Visual Effects\\', \\'gender\\': 0, \\'id\\': 78009, \\'job\\': \\'Animation\\', \\'name\\': \\'Colin Brady\\', \\'profile_path\\': None}, {\\'credit_id\\': \\'5892105dc3a3680968008db2\\', \\'department\\': \\'Visual Effects\\', \\'gender\\': 0, \\'id\\': 1748682, \\'job\\': \\'Animation\\', \\'name\\': \\'Davey Crockett Feiten\\', \\'profile_path\\': None}, {\\'credit_id\\': \\'589210669251412dcd009466\\', \\'department\\': \\'Visual Effects\\', \\'gender\\': 0, \\'id\\': 1454030, \\'job\\': \\'Animation\\', \\'name\\': \\'Angie Glocka\\', \\'profile_path\\': None}, {\\'credit_id\\': \\'5892107c9251412dd1009613\\', \\'department\\': \\'Visual Effects\\', \\'gender\\': 0, \\'id\\': 1748683, \\'job\\': \\'Animation\\', \\'name\\': \\'Rex Grignon\\', \\'profile_path\\': None}, {\\'credit_id\\': \\'5892108ac3a3680973008d3f\\', \\'department\\': \\'Visual Effects\\', \\'gender\\': 0, \\'id\\': 1748684, \\'job\\': \\'Animation\\', \\'name\\': \\'Tom K. Gurney\\', \\'profile_path\\': None}, {\\'credit_id\\': \\'58921093c3a3686348004477\\', \\'department\\': \\'Visual Effects\\', \\'gender\\': 2, \\'id\\': 8029, \\'job\\': \\'Animation\\', \\'name\\': \\'Jimmy Hayward\\', \\'profile_path\\': \\'/lTDRpudEY7BDwTefXbXzMlmb0ui.jpg\\'}, {\\'credit_id\\': \\'5892109b9251412dcd0094b0\\', \\'department\\': \\'Visual Effects\\', \\'gender\\': 0, \\'id\\': 1426773, \\'job\\': \\'Animation\\', \\'name\\': \\'Hal T. Hickel\\', \\'profile_path\\': None}, {\\'credit_id\\': \\'589210a29251412dc5009a29\\', \\'department\\': \\'Visual Effects\\', \\'gender\\': 0, \\'id\\': 8035, \\'job\\': \\'Animation\\', \\'name\\': \\'Karen Kiser\\', \\'profile_path\\': None}, {\\'credit_id\\': \\'589210ccc3a3680977009191\\', \\'department\\': \\'Visual Effects\\', \\'gender\\': 0, \\'id\\': 1748688, \\'job\\': \\'Animation\\', \\'name\\': \\'Anthony B. LaMolinara\\', \\'profile_path\\': None}, {\\'credit_id\\': \\'589210d7c3a3686b0a004c1f\\', \\'department\\': \\'Visual Effects\\', \\'gender\\': 0, \\'id\\': 587314, \\'job\\': \\'Animation\\', \\'name\\': \\'Guionne Leroy\\', \\'profile_path\\': None}, {\\'credit_id\\': \\'589210e1c3a36809770091a7\\', \\'department\\': \\'Visual Effects\\', \\'gender\\': 2, \\'id\\': 7918, \\'job\\': \\'Animation\\', \\'name\\': \\'Bud Luckey\\', \\'profile_path\\': \\'/pcCh7G19FKMNijmPQg1PMH1btic.jpg\\'}, {\\'credit_id\\': \\'589210ee9251412dc200978a\\', \\'department\\': \\'Visual Effects\\', \\'gender\\': 0, \\'id\\': 1748689, \\'job\\': \\'Animation\\', \\'name\\': \\'Les Major\\', \\'profile_path\\': None}, {\\'credit_id\\': \\'589210fa9251412dc8009595\\', \\'department\\': \\'Visual Effects\\', \\'gender\\': 2, \\'id\\': 7892, \\'job\\': \\'Animation\\', \\'name\\': \\'Glenn McQueen\\', \\'profile_path\\': None}, {\\'credit_id\\': \\'589211029251412dc8009598\\', \\'department\\': \\'Visual Effects\\', \\'gender\\': 0, \\'id\\': 555795, \\'job\\': \\'Animation\\', \\'name\\': \\'Mark Oftedal\\', \\'profile_path\\': None}, {\\'credit_id\\': \\'5892110b9251412dc800959d\\', \\'department\\': \\'Visual Effects\\', \\'gender\\': 2, \\'id\\': 7882, \\'job\\': \\'Animation\\', \\'name\\': \\'Jeff Pidgeon\\', \\'profile_path\\': \\'/yLddkg5HcgbJg00cS13GVBnP0HY.jpg\\'}, {\\'credit_id\\': \\'58921113c3a36863480044e4\\', \\'department\\': \\'Visual Effects\\', \\'gender\\': 0, \\'id\\': 8017, \\'job\\': \\'Animation\\', \\'name\\': \\'Jeff Pratt\\', \\'profile_path\\': None}, {\\'credit_id\\': \\'5892111c9251412dcb0097e9\\', \\'department\\': \\'Visual Effects\\', \\'gender\\': 0, \\'id\\': 1184140, \\'job\\': \\'Animation\\', \\'name\\': \\'Steve Rabatich\\', \\'profile_path\\': None}, {\\'credit_id\\': \\'58921123c3a36809700090f6\\', \\'department\\': \\'Visual Effects\\', \\'gender\\': 0, \\'id\\': 8049, \\'job\\': \\'Animation\\', \\'name\\': \\'Roger Rose\\', \\'profile_path\\': None}, {\\'credit_id\\': \\'5892112b9251412dcb0097fb\\', \\'department\\': \\'Visual Effects\\', \\'gender\\': 0, \\'id\\': 1509559, \\'job\\': \\'Animation\\', \\'name\\': \\'Steve Segal\\', \\'profile_path\\': None}, {\\'credit_id\\': \\'589211349251412dc80095c3\\', \\'department\\': \\'Visual Effects\\', \\'gender\\': 0, \\'id\\': 1748691, \\'job\\': \\'Animation\\', \\'name\\': \\'Doug Sheppeck\\', \\'profile_path\\': None}, {\\'credit_id\\': \\'5892113cc3a3680970009106\\', \\'department\\': \\'Visual Effects\\', \\'gender\\': 0, \\'id\\': 8050, \\'job\\': \\'Animation\\', \\'name\\': \\'Alan Sperling\\', \\'profile_path\\': None}, {\\'credit_id\\': \\'58921148c3a3686b0a004c99\\', \\'department\\': \\'Visual Effects\\', \\'gender\\': 0, \\'id\\': 8010, \\'job\\': \\'Animation\\', \\'name\\': \\'Doug Sweetland\\', \\'profile_path\\': None}, {\\'credit_id\\': \\'58921150c3a3680966009125\\', \\'department\\': \\'Visual Effects\\', \\'gender\\': 0, \\'id\\': 8044, \\'job\\': \\'Animation\\', \\'name\\': \\'David Tart\\', \\'profile_path\\': None}, {\\'credit_id\\': \\'589211629251412dc5009b00\\', \\'department\\': \\'Visual Effects\\', \\'gender\\': 0, \\'id\\': 1454034, \\'job\\': \\'Animation\\', \\'name\\': \\'Ken Willard\\', \\'profile_path\\': None}, {\\'credit_id\\': \\'589211c1c3a3686b0a004d28\\', \\'department\\': \\'Visual Effects\\', \\'gender\\': 0, \\'id\\': 7887, \\'job\\': \\'Visual Effects Supervisor\\', \\'name\\': \\'Thomas Porter\\', \\'profile_path\\': None}, {\\'credit_id\\': \\'589211d4c3a3680968008ed9\\', \\'department\\': \\'Visual Effects\\', \\'gender\\': 0, \\'id\\': 1406878, \\'job\\': \\'Visual Effects\\', \\'name\\': \\'Mark Thomas Henne\\', \\'profile_path\\': None}, {\\'credit_id\\': \\'589211f59251412dd4008e65\\', \\'department\\': \\'Visual Effects\\', \\'gender\\': 0, \\'id\\': 1748698, \\'job\\': \\'Visual Effects\\', \\'name\\': \\'Oren Jacob\\', \\'profile_path\\': None}, {\\'credit_id\\': \\'58921242c3a368096a00939b\\', \\'department\\': \\'Visual Effects\\', \\'gender\\': 0, \\'id\\': 1748699, \\'job\\': \\'Visual Effects\\', \\'name\\': \\'Darwyn Peachey\\', \\'profile_path\\': None}, {\\'credit_id\\': \\'5892124b9251412dc5009bd2\\', \\'department\\': \\'Visual Effects\\', \\'gender\\': 0, \\'id\\': 1748701, \\'job\\': \\'Visual Effects\\', \\'name\\': \\'Mitch Prater\\', \\'profile_path\\': None}, {\\'credit_id\\': \\'58921264c3a3686b0a004dbf\\', \\'department\\': \\'Visual Effects\\', \\'gender\\': 0, \\'id\\': 1748703, \\'job\\': \\'Visual Effects\\', \\'name\\': \\'Brian M. Rosen\\', \\'profile_path\\': None}, {\\'credit_id\\': \\'589212709251412dcd009676\\', \\'department\\': \\'Lighting\\', \\'gender\\': 1, \\'id\\': 12912, \\'job\\': \\'Lighting Supervisor\\', \\'name\\': \\'Sharon Calahan\\', \\'profile_path\\': None}, {\\'credit_id\\': \\'5892127fc3a3686b0a004de5\\', \\'department\\': \\'Lighting\\', \\'gender\\': 0, \\'id\\': 7899, \\'job\\': \\'Lighting Supervisor\\', \\'name\\': \\'Galyn Susman\\', \\'profile_path\\': None}, {\\'credit_id\\': \\'589212cdc3a3680970009268\\', \\'department\\': \\'Visual Effects\\', \\'gender\\': 0, \\'id\\': 12915, \\'job\\': \\'CG Painter\\', \\'name\\': \\'William Cone\\', \\'profile_path\\': None}, {\\'credit_id\\': \\'5892130f9251412dc8009791\\', \\'department\\': \\'Art\\', \\'gender\\': 0, \\'id\\': 1748705, \\'job\\': \\'Sculptor\\', \\'name\\': \\'Shelley Daniels Lekven\\', \\'profile_path\\': None}, {\\'credit_id\\': \\'5892131c9251412dd4008f4c\\', \\'department\\': \\'Visual Effects\\', \\'gender\\': 2, \\'id\\': 7889, \\'job\\': \\'Character Designer\\', \\'name\\': \\'Bob Pauley\\', \\'profile_path\\': None}, {\\'credit_id\\': \\'589213249251412dd100987b\\', \\'department\\': \\'Visual Effects\\', \\'gender\\': 2, \\'id\\': 7918, \\'job\\': \\'Character Designer\\', \\'name\\': \\'Bud Luckey\\', \\'profile_path\\': \\'/pcCh7G19FKMNijmPQg1PMH1btic.jpg\\'}, {\\'credit_id\\': \\'5892132b9251412dc80097b1\\', \\'department\\': \\'Visual Effects\\', \\'gender\\': 2, \\'id\\': 7, \\'job\\': \\'Character Designer\\', \\'name\\': \\'Andrew Stanton\\', \\'profile_path\\': \\'/pvQWsu0qc8JFQhMVJkTHuexUAa1.jpg\\'}, {\\'credit_id\\': \\'58921332c3a368634800467b\\', \\'department\\': \\'Visual Effects\\', \\'gender\\': 0, \\'id\\': 12915, \\'job\\': \\'Character Designer\\', \\'name\\': \\'William Cone\\', \\'profile_path\\': None}, {\\'credit_id\\': \\'5892135f9251412dd4008f90\\', \\'department\\': \\'Visual Effects\\', \\'gender\\': 0, \\'id\\': 1748706, \\'job\\': \\'Character Designer\\', \\'name\\': \\'Steve Johnson\\', \\'profile_path\\': None}, {\\'credit_id\\': \\'58921384c3a3680973008fd4\\', \\'department\\': \\'Visual Effects\\', \\'gender\\': 0, \\'id\\': 1176752, \\'job\\': \\'Character Designer\\', \\'name\\': \\'Dan Haskett\\', \\'profile_path\\': None}, {\\'credit_id\\': \\'5892138e9251412dc20099fc\\', \\'department\\': \\'Visual Effects\\', \\'gender\\': 0, \\'id\\': 1088034, \\'job\\': \\'Character Designer\\', \\'name\\': \\'Tom Holloway\\', \\'profile_path\\': \\'/a0r0T2usTBpgMI5aZbRBDW1fTl8.jpg\\'}, {\\'credit_id\\': \\'58921395c3a368097700942f\\', \\'department\\': \\'Visual Effects\\', \\'gender\\': 0, \\'id\\': 1447465, \\'job\\': \\'Character Designer\\', \\'name\\': \\'Jean Gillmore\\', \\'profile_path\\': None}, {\\'credit_id\\': \\'589213e2c3a3680973009026\\', \\'department\\': \\'Directing\\', \\'gender\\': 0, \\'id\\': 1748709, \\'job\\': \\'Layout\\', \\'name\\': \\'Desirée Mourad\\', \\'profile_path\\': None}, {\\'credit_id\\': \\'589214099251412dc5009d57\\', \\'department\\': \\'Art\\', \\'gender\\': 0, \\'id\\': 1748710, \\'job\\': \\'Set Dresser\\', \\'name\\': \"Kelly O\\'Connell\", \\'profile_path\\': None}, {\\'credit_id\\': \\'58921411c3a3686b0a004f70\\', \\'department\\': \\'Art\\', \\'gender\\': 0, \\'id\\': 1443471, \\'job\\': \\'Set Dresser\\', \\'name\\': \\'Sonoko Konishi\\', \\'profile_path\\': None}, {\\'credit_id\\': \\'58921434c3a368096a00956e\\', \\'department\\': \\'Art\\', \\'gender\\': 0, \\'id\\': 1748711, \\'job\\': \\'Set Dresser\\', \\'name\\': \\'Ann M. Rockwell\\', \\'profile_path\\': None}, {\\'credit_id\\': \\'5892144ac3a36809680090de\\', \\'department\\': \\'Editing\\', \\'gender\\': 0, \\'id\\': 1748712, \\'job\\': \\'Editorial Manager\\', \\'name\\': \\'Julie M. McDonald\\', \\'profile_path\\': None}, {\\'credit_id\\': \\'58921479c3a368096800910f\\', \\'department\\': \\'Editing\\', \\'gender\\': 0, \\'id\\': 1589729, \\'job\\': \\'Assistant Editor\\', \\'name\\': \\'Robin Lee\\', \\'profile_path\\': None}, {\\'credit_id\\': \\'5892148b9251412dd10099cc\\', \\'department\\': \\'Editing\\', \\'gender\\': 0, \\'id\\': 1748716, \\'job\\': \\'Assistant Editor\\', \\'name\\': \\'Tom Freeman\\', \\'profile_path\\': None}, {\\'credit_id\\': \\'589214959251412dcb009b1f\\', \\'department\\': \\'Editing\\', \\'gender\\': 0, \\'id\\': 1748717, \\'job\\': \\'Assistant Editor\\', \\'name\\': \\'Ada Cochavi\\', \\'profile_path\\': None}, {\\'credit_id\\': \\'5892149ec3a3686348004798\\', \\'department\\': \\'Editing\\', \\'gender\\': 0, \\'id\\': 1336438, \\'job\\': \\'Assistant Editor\\', \\'name\\': \\'Dana Mulligan\\', \\'profile_path\\': None}, {\\'credit_id\\': \\'589214adc3a368096a0095db\\', \\'department\\': \\'Editing\\', \\'gender\\': 0, \\'id\\': 1748718, \\'job\\': \\'Editorial Coordinator\\', \\'name\\': \\'Deirdre Morrison\\', \\'profile_path\\': None}, {\\'credit_id\\': \\'589214c7c3a368097700952b\\', \\'department\\': \\'Production\\', \\'gender\\': 0, \\'id\\': 1748719, \\'job\\': \\'Production Coordinator\\', \\'name\\': \\'Lori Lombardo\\', \\'profile_path\\': None}, {\\'credit_id\\': \\'589214cec3a368096a009603\\', \\'department\\': \\'Production\\', \\'gender\\': 0, \\'id\\': 1748720, \\'job\\': \\'Production Coordinator\\', \\'name\\': \\'Ellen Devine\\', \\'profile_path\\': None}, {\\'credit_id\\': \\'589214e39251412dc8009904\\', \\'department\\': \\'Crew\\', \\'gender\\': 0, \\'id\\': 1468014, \\'job\\': \\'Unit Publicist\\', \\'name\\': \\'Lauren Beth Strogoff\\', \\'profile_path\\': None}, {\\'credit_id\\': \\'58921544c3a3686b0a00507d\\', \\'department\\': \\'Sound\\', \\'gender\\': 2, \\'id\\': 2216, \\'job\\': \\'Sound Re-Recording Mixer\\', \\'name\\': \\'Gary Rydstrom\\', \\'profile_path\\': \\'/jZpr1nVfO7lldWI0YtmP1FGw7Rj.jpg\\'}, {\\'credit_id\\': \\'5892154c9251412dd1009a56\\', \\'department\\': \\'Sound\\', \\'gender\\': 0, \\'id\\': 1425978, \\'job\\': \\'Sound Re-Recording Mixer\\', \\'name\\': \\'Gary Summers\\', \\'profile_path\\': None}, {\\'credit_id\\': \\'58921555c3a36809680091bd\\', \\'department\\': \\'Sound\\', \\'gender\\': 2, \\'id\\': 8276, \\'job\\': \\'Supervising Sound Editor\\', \\'name\\': \\'Tim Holland\\', \\'profile_path\\': None}, {\\'credit_id\\': \\'589215c39251412dcb009c12\\', \\'department\\': \\'Sound\\', \\'gender\\': 0, \\'id\\': 7069, \\'job\\': \\'Sound Effects Editor\\', \\'name\\': \\'Pat Jackson\\', \\'profile_path\\': None}, {\\'credit_id\\': \\'58921698c3a368096a009788\\', \\'department\\': \\'Crew\\', \\'gender\\': 2, \\'id\\': 15894, \\'job\\': \\'Sound Design Assistant\\', \\'name\\': \\'Tom Myers\\', \\'profile_path\\': None}, {\\'credit_id\\': \\'589216a89251412dc2009ca4\\', \\'department\\': \\'Sound\\', \\'gender\\': 0, \\'id\\': 1414177, \\'job\\': \\'Assistant Sound Editor\\', \\'name\\': \\'J.R. Grubbs\\', \\'profile_path\\': None}, {\\'credit_id\\': \\'589216c19251412dc2009cb9\\', \\'department\\': \\'Sound\\', \\'gender\\': 1, \\'id\\': 1748724, \\'job\\': \\'Assistant Sound Editor\\', \\'name\\': \\'Susan Sanford\\', \\'profile_path\\': None}, {\\'credit_id\\': \\'589216ccc3a3680973009274\\', \\'department\\': \\'Sound\\', \\'gender\\': 0, \\'id\\': 1748725, \\'job\\': \\'Assistant Sound Editor\\', \\'name\\': \\'Susan Popovic\\', \\'profile_path\\': None}, {\\'credit_id\\': \\'589216d79251412dc8009aa0\\', \\'department\\': \\'Sound\\', \\'gender\\': 0, \\'id\\': 8067, \\'job\\': \\'Assistant Sound Editor\\', \\'name\\': \\'Dan Engstrom\\', \\'profile_path\\': None}, {\\'credit_id\\': \\'589216e49251412dcd009a4f\\', \\'department\\': \\'Production\\', \\'gender\\': 1, \\'id\\': 7902, \\'job\\': \\'Casting Consultant\\', \\'name\\': \\'Ruth Lambert\\', \\'profile_path\\': None}, {\\'credit_id\\': \\'589216f39251412dc2009cf3\\', \\'department\\': \\'Production\\', \\'gender\\': 0, \\'id\\': 84493, \\'job\\': \\'ADR Voice Casting\\', \\'name\\': \\'Mickie McGowan\\', \\'profile_path\\': \\'/k7TjJBfINsg8vLQxJwos6XObAD6.jpg\\'}]'"
            ]
          },
          "metadata": {},
          "execution_count": 19
        }
      ]
    },
    {
      "cell_type": "code",
      "metadata": {
        "colab": {
          "base_uri": "https://localhost:8080/"
        },
        "id": "2j5kAama2YEj",
        "outputId": "d0a04158-8d27-4217-9782-de7857bce39c"
      },
      "source": [
        "[entry['name'] for entry in ast.literal_eval(credits.crew[0])]"
      ],
      "execution_count": 20,
      "outputs": [
        {
          "output_type": "execute_result",
          "data": {
            "text/plain": [
              "['John Lasseter',\n",
              " 'Joss Whedon',\n",
              " 'Andrew Stanton',\n",
              " 'Joel Cohen',\n",
              " 'Alec Sokolow',\n",
              " 'Bonnie Arnold',\n",
              " 'Ed Catmull',\n",
              " 'Ralph Guggenheim',\n",
              " 'Steve Jobs',\n",
              " 'Lee Unkrich',\n",
              " 'Ralph Eggleston',\n",
              " 'Robert Gordon',\n",
              " 'Mary Helen Leasman',\n",
              " 'Kim Blanchette',\n",
              " 'Marilyn McCoppen',\n",
              " 'Randy Newman',\n",
              " 'Dale E. Grahn',\n",
              " 'Robin Cooper',\n",
              " 'John Lasseter',\n",
              " 'Pete Docter',\n",
              " 'Joe Ranft',\n",
              " 'Patsy Bouge',\n",
              " 'Norm DeCarlo',\n",
              " 'Ash Brannon',\n",
              " 'Randy Newman',\n",
              " 'Roman Figun',\n",
              " 'Don Davis',\n",
              " 'James Flamberg',\n",
              " 'Mary Beth Smith',\n",
              " 'Rick Mackay',\n",
              " 'Susan Bradley',\n",
              " 'William Reeves',\n",
              " 'Randy Newman',\n",
              " 'Andrew Stanton',\n",
              " 'Pete Docter',\n",
              " 'Gary Rydstrom',\n",
              " 'Karen Robert Jackson',\n",
              " 'Chris Montan',\n",
              " 'Rich Quade',\n",
              " 'Michael Berenstein',\n",
              " 'Colin Brady',\n",
              " 'Davey Crockett Feiten',\n",
              " 'Angie Glocka',\n",
              " 'Rex Grignon',\n",
              " 'Tom K. Gurney',\n",
              " 'Jimmy Hayward',\n",
              " 'Hal T. Hickel',\n",
              " 'Karen Kiser',\n",
              " 'Anthony B. LaMolinara',\n",
              " 'Guionne Leroy',\n",
              " 'Bud Luckey',\n",
              " 'Les Major',\n",
              " 'Glenn McQueen',\n",
              " 'Mark Oftedal',\n",
              " 'Jeff Pidgeon',\n",
              " 'Jeff Pratt',\n",
              " 'Steve Rabatich',\n",
              " 'Roger Rose',\n",
              " 'Steve Segal',\n",
              " 'Doug Sheppeck',\n",
              " 'Alan Sperling',\n",
              " 'Doug Sweetland',\n",
              " 'David Tart',\n",
              " 'Ken Willard',\n",
              " 'Thomas Porter',\n",
              " 'Mark Thomas Henne',\n",
              " 'Oren Jacob',\n",
              " 'Darwyn Peachey',\n",
              " 'Mitch Prater',\n",
              " 'Brian M. Rosen',\n",
              " 'Sharon Calahan',\n",
              " 'Galyn Susman',\n",
              " 'William Cone',\n",
              " 'Shelley Daniels Lekven',\n",
              " 'Bob Pauley',\n",
              " 'Bud Luckey',\n",
              " 'Andrew Stanton',\n",
              " 'William Cone',\n",
              " 'Steve Johnson',\n",
              " 'Dan Haskett',\n",
              " 'Tom Holloway',\n",
              " 'Jean Gillmore',\n",
              " 'Desirée Mourad',\n",
              " \"Kelly O'Connell\",\n",
              " 'Sonoko Konishi',\n",
              " 'Ann M. Rockwell',\n",
              " 'Julie M. McDonald',\n",
              " 'Robin Lee',\n",
              " 'Tom Freeman',\n",
              " 'Ada Cochavi',\n",
              " 'Dana Mulligan',\n",
              " 'Deirdre Morrison',\n",
              " 'Lori Lombardo',\n",
              " 'Ellen Devine',\n",
              " 'Lauren Beth Strogoff',\n",
              " 'Gary Rydstrom',\n",
              " 'Gary Summers',\n",
              " 'Tim Holland',\n",
              " 'Pat Jackson',\n",
              " 'Tom Myers',\n",
              " 'J.R. Grubbs',\n",
              " 'Susan Sanford',\n",
              " 'Susan Popovic',\n",
              " 'Dan Engstrom',\n",
              " 'Ruth Lambert',\n",
              " 'Mickie McGowan']"
            ]
          },
          "metadata": {},
          "execution_count": 20
        }
      ]
    },
    {
      "cell_type": "code",
      "metadata": {
        "id": "R4k0a18V2muN"
      },
      "source": [
        "credits['crew'] = credits.crew.apply(set_list_to_string, idx='name', to=4)"
      ],
      "execution_count": 21,
      "outputs": []
    },
    {
      "cell_type": "code",
      "metadata": {
        "colab": {
          "base_uri": "https://localhost:8080/"
        },
        "id": "qt17Y5eX2ml7",
        "outputId": "302b860a-6da7-4bbd-8abb-3837cff3cbaa"
      },
      "source": [
        "credits.crew[0]"
      ],
      "execution_count": 22,
      "outputs": [
        {
          "output_type": "execute_result",
          "data": {
            "text/plain": [
              "['John_Lasseter', 'Joss_Whedon', 'Andrew_Stanton', 'Joel_Cohen']"
            ]
          },
          "metadata": {},
          "execution_count": 22
        }
      ]
    },
    {
      "cell_type": "code",
      "metadata": {
        "id": "ui98ERcXAV1t"
      },
      "source": [
        "credits['crew'] = credits['crew'].apply(listToString)"
      ],
      "execution_count": 23,
      "outputs": []
    },
    {
      "cell_type": "code",
      "metadata": {
        "id": "ZX5srDEI9hVm"
      },
      "source": [
        "credits['number_of_named_crews'] = credits['crew'].apply(len)"
      ],
      "execution_count": 24,
      "outputs": []
    },
    {
      "cell_type": "code",
      "metadata": {
        "colab": {
          "base_uri": "https://localhost:8080/",
          "height": 383
        },
        "id": "Smtr1OyANo_O",
        "outputId": "e47d1a7e-fe4f-448f-e646-d542dd2a4f0e"
      },
      "source": [
        "credits.head(3)"
      ],
      "execution_count": 25,
      "outputs": [
        {
          "output_type": "execute_result",
          "data": {
            "text/html": [
              "<div>\n",
              "<style scoped>\n",
              "    .dataframe tbody tr th:only-of-type {\n",
              "        vertical-align: middle;\n",
              "    }\n",
              "\n",
              "    .dataframe tbody tr th {\n",
              "        vertical-align: top;\n",
              "    }\n",
              "\n",
              "    .dataframe thead th {\n",
              "        text-align: right;\n",
              "    }\n",
              "</style>\n",
              "<table border=\"1\" class=\"dataframe\">\n",
              "  <thead>\n",
              "    <tr style=\"text-align: right;\">\n",
              "      <th></th>\n",
              "      <th>cast</th>\n",
              "      <th>crew</th>\n",
              "      <th>id</th>\n",
              "      <th>actors</th>\n",
              "      <th>number_of_named_actors</th>\n",
              "      <th>actors_vec</th>\n",
              "      <th>number_of_named_crews</th>\n",
              "    </tr>\n",
              "  </thead>\n",
              "  <tbody>\n",
              "    <tr>\n",
              "      <th>0</th>\n",
              "      <td>[{'cast_id': 14, 'character': 'Woody (voice)',...</td>\n",
              "      <td>John_Lasseter Joss_Whedon Andrew_Stanton Joel_...</td>\n",
              "      <td>862</td>\n",
              "      <td>Tom_Hanks Tim_Allen Don_Rickles Jim_Varney</td>\n",
              "      <td>4</td>\n",
              "      <td>(0, 91)\\t1</td>\n",
              "      <td>51</td>\n",
              "    </tr>\n",
              "    <tr>\n",
              "      <th>1</th>\n",
              "      <td>[{'cast_id': 1, 'character': 'Alan Parrish', '...</td>\n",
              "      <td>Larry_J_Franco Jonathan_Hensleigh James_Horner...</td>\n",
              "      <td>8844</td>\n",
              "      <td>Robin_Williams Jonathan_Hyde Kirsten_Dunst Bra...</td>\n",
              "      <td>4</td>\n",
              "      <td>(0, 81)\\t1</td>\n",
              "      <td>59</td>\n",
              "    </tr>\n",
              "    <tr>\n",
              "      <th>2</th>\n",
              "      <td>[{'cast_id': 2, 'character': 'Max Goldman', 'c...</td>\n",
              "      <td>Howard_Deutch Mark_Steven_Johnson Mark_Steven_...</td>\n",
              "      <td>15602</td>\n",
              "      <td>Walter_Matthau Jack_Lemmon AnnMargret Sophia_L...</td>\n",
              "      <td>4</td>\n",
              "      <td>(0, 43)\\t1\\n  (0, 94)\\t1</td>\n",
              "      <td>65</td>\n",
              "    </tr>\n",
              "  </tbody>\n",
              "</table>\n",
              "</div>"
            ],
            "text/plain": [
              "                                                cast  ... number_of_named_crews\n",
              "0  [{'cast_id': 14, 'character': 'Woody (voice)',...  ...                    51\n",
              "1  [{'cast_id': 1, 'character': 'Alan Parrish', '...  ...                    59\n",
              "2  [{'cast_id': 2, 'character': 'Max Goldman', 'c...  ...                    65\n",
              "\n",
              "[3 rows x 7 columns]"
            ]
          },
          "metadata": {},
          "execution_count": 25
        }
      ]
    },
    {
      "cell_type": "code",
      "metadata": {
        "id": "u76-Iv_V_gvf"
      },
      "source": [
        "vectorizer = CountVectorizer(min_df=50)\n",
        "corpus = [word for string in credits['crew'].values for word in string.split(' ')]\n",
        "vectorizer.fit(corpus)\n",
        "credits['crews_vec'] = credits['crew'].apply(lambda x: [x]).apply(vectorizer.transform)"
      ],
      "execution_count": 26,
      "outputs": []
    },
    {
      "cell_type": "code",
      "metadata": {
        "colab": {
          "base_uri": "https://localhost:8080/"
        },
        "id": "xVQmGp-h_m0C",
        "outputId": "113259c5-dde6-4624-8d92-0ff1d27213b5"
      },
      "source": [
        "credits['crews_vec'][4]"
      ],
      "execution_count": 27,
      "outputs": [
        {
          "output_type": "execute_result",
          "data": {
            "text/plain": [
              "<1x103 sparse matrix of type '<class 'numpy.int64'>'\n",
              "\twith 1 stored elements in Compressed Sparse Row format>"
            ]
          },
          "metadata": {},
          "execution_count": 27
        }
      ]
    },
    {
      "cell_type": "code",
      "metadata": {
        "id": "dgFn8xMxvxnR"
      },
      "source": [
        "credits = credits.drop(['cast'], axis=1)"
      ],
      "execution_count": 29,
      "outputs": []
    },
    {
      "cell_type": "markdown",
      "metadata": {
        "id": "qyA1XVoNvpT2"
      },
      "source": [
        "### EDA를 거친 credits 모습"
      ]
    },
    {
      "cell_type": "code",
      "metadata": {
        "colab": {
          "base_uri": "https://localhost:8080/",
          "height": 315
        },
        "id": "i6pJzZV49U52",
        "outputId": "6bde4a0c-a1f0-4724-b1d6-d225666bce70"
      },
      "source": [
        "credits.head(3)"
      ],
      "execution_count": 30,
      "outputs": [
        {
          "output_type": "execute_result",
          "data": {
            "text/html": [
              "<div>\n",
              "<style scoped>\n",
              "    .dataframe tbody tr th:only-of-type {\n",
              "        vertical-align: middle;\n",
              "    }\n",
              "\n",
              "    .dataframe tbody tr th {\n",
              "        vertical-align: top;\n",
              "    }\n",
              "\n",
              "    .dataframe thead th {\n",
              "        text-align: right;\n",
              "    }\n",
              "</style>\n",
              "<table border=\"1\" class=\"dataframe\">\n",
              "  <thead>\n",
              "    <tr style=\"text-align: right;\">\n",
              "      <th></th>\n",
              "      <th>crew</th>\n",
              "      <th>id</th>\n",
              "      <th>actors</th>\n",
              "      <th>number_of_named_actors</th>\n",
              "      <th>actors_vec</th>\n",
              "      <th>number_of_named_crews</th>\n",
              "      <th>crews_vec</th>\n",
              "    </tr>\n",
              "  </thead>\n",
              "  <tbody>\n",
              "    <tr>\n",
              "      <th>0</th>\n",
              "      <td>John_Lasseter Joss_Whedon Andrew_Stanton Joel_...</td>\n",
              "      <td>862</td>\n",
              "      <td>Tom_Hanks Tim_Allen Don_Rickles Jim_Varney</td>\n",
              "      <td>4</td>\n",
              "      <td>(0, 91)\\t1</td>\n",
              "      <td>51</td>\n",
              "      <td>(0, 56)\\t1</td>\n",
              "    </tr>\n",
              "    <tr>\n",
              "      <th>1</th>\n",
              "      <td>Larry_J_Franco Jonathan_Hensleigh James_Horner...</td>\n",
              "      <td>8844</td>\n",
              "      <td>Robin_Williams Jonathan_Hyde Kirsten_Dunst Bra...</td>\n",
              "      <td>4</td>\n",
              "      <td>(0, 81)\\t1</td>\n",
              "      <td>59</td>\n",
              "      <td>(0, 48)\\t1</td>\n",
              "    </tr>\n",
              "    <tr>\n",
              "      <th>2</th>\n",
              "      <td>Howard_Deutch Mark_Steven_Johnson Mark_Steven_...</td>\n",
              "      <td>15602</td>\n",
              "      <td>Walter_Matthau Jack_Lemmon AnnMargret Sophia_L...</td>\n",
              "      <td>4</td>\n",
              "      <td>(0, 43)\\t1\\n  (0, 94)\\t1</td>\n",
              "      <td>65</td>\n",
              "      <td></td>\n",
              "    </tr>\n",
              "  </tbody>\n",
              "</table>\n",
              "</div>"
            ],
            "text/plain": [
              "                                                crew  ...     crews_vec\n",
              "0  John_Lasseter Joss_Whedon Andrew_Stanton Joel_...  ...    (0, 56)\\t1\n",
              "1  Larry_J_Franco Jonathan_Hensleigh James_Horner...  ...    (0, 48)\\t1\n",
              "2  Howard_Deutch Mark_Steven_Johnson Mark_Steven_...  ...              \n",
              "\n",
              "[3 rows x 7 columns]"
            ]
          },
          "metadata": {},
          "execution_count": 30
        }
      ]
    },
    {
      "cell_type": "markdown",
      "metadata": {
        "id": "m34yF8NYG5ut"
      },
      "source": [
        "## keywords : 극 중 키워드 단어를 담고있는 dataframe\n",
        "-> keyword_name에 극 중 키워드 단어를 처리하기 쉬운 형태로 저장한다.\n",
        "\n",
        "#### 과연 키워드가 영화 판매수익에 영향을 미칠까?"
      ]
    },
    {
      "cell_type": "code",
      "metadata": {
        "id": "4b0E4gX3HBlj"
      },
      "source": [
        "keywords = pd.read_csv(\"/content/drive/MyDrive/Colab Notebooks/code_states/keywords.csv\")"
      ],
      "execution_count": 42,
      "outputs": []
    },
    {
      "cell_type": "code",
      "metadata": {
        "id": "COraiVP-1R8j",
        "colab": {
          "base_uri": "https://localhost:8080/",
          "height": 98
        },
        "outputId": "d6ac44f2-b806-46d4-8116-085a2050338c"
      },
      "source": [
        "print(keywords.shape)\n",
        "keywords.head(1)"
      ],
      "execution_count": 43,
      "outputs": [
        {
          "output_type": "stream",
          "name": "stdout",
          "text": [
            "(46419, 2)\n"
          ]
        },
        {
          "output_type": "execute_result",
          "data": {
            "text/html": [
              "<div>\n",
              "<style scoped>\n",
              "    .dataframe tbody tr th:only-of-type {\n",
              "        vertical-align: middle;\n",
              "    }\n",
              "\n",
              "    .dataframe tbody tr th {\n",
              "        vertical-align: top;\n",
              "    }\n",
              "\n",
              "    .dataframe thead th {\n",
              "        text-align: right;\n",
              "    }\n",
              "</style>\n",
              "<table border=\"1\" class=\"dataframe\">\n",
              "  <thead>\n",
              "    <tr style=\"text-align: right;\">\n",
              "      <th></th>\n",
              "      <th>id</th>\n",
              "      <th>keywords</th>\n",
              "    </tr>\n",
              "  </thead>\n",
              "  <tbody>\n",
              "    <tr>\n",
              "      <th>0</th>\n",
              "      <td>862</td>\n",
              "      <td>[{'id': 931, 'name': 'jealousy'}, {'id': 4290,...</td>\n",
              "    </tr>\n",
              "  </tbody>\n",
              "</table>\n",
              "</div>"
            ],
            "text/plain": [
              "    id                                           keywords\n",
              "0  862  [{'id': 931, 'name': 'jealousy'}, {'id': 4290,..."
            ]
          },
          "metadata": {},
          "execution_count": 43
        }
      ]
    },
    {
      "cell_type": "code",
      "metadata": {
        "colab": {
          "base_uri": "https://localhost:8080/"
        },
        "id": "4o0vjUVB6Cgb",
        "outputId": "f2847b94-079d-4e3a-c52d-88919a5eca87"
      },
      "source": [
        "[entry['name'] for entry in  ast.literal_eval(keywords.keywords[0])]"
      ],
      "execution_count": 44,
      "outputs": [
        {
          "output_type": "execute_result",
          "data": {
            "text/plain": [
              "['jealousy',\n",
              " 'toy',\n",
              " 'boy',\n",
              " 'friendship',\n",
              " 'friends',\n",
              " 'rivalry',\n",
              " 'boy next door',\n",
              " 'new toy',\n",
              " 'toy comes to life']"
            ]
          },
          "metadata": {},
          "execution_count": 44
        }
      ]
    },
    {
      "cell_type": "code",
      "metadata": {
        "id": "jFhKLDh6O4uo"
      },
      "source": [
        "keywords['keywords'] = keywords.keywords.apply(set_list_to_string, idx='name', to=0)"
      ],
      "execution_count": 45,
      "outputs": []
    },
    {
      "cell_type": "code",
      "metadata": {
        "colab": {
          "base_uri": "https://localhost:8080/",
          "height": 142
        },
        "id": "fL6cHQp30xHa",
        "outputId": "f14c676c-d699-4468-de52-1ad315c91d19"
      },
      "source": [
        "keywords.head(3)"
      ],
      "execution_count": 46,
      "outputs": [
        {
          "output_type": "execute_result",
          "data": {
            "text/html": [
              "<div>\n",
              "<style scoped>\n",
              "    .dataframe tbody tr th:only-of-type {\n",
              "        vertical-align: middle;\n",
              "    }\n",
              "\n",
              "    .dataframe tbody tr th {\n",
              "        vertical-align: top;\n",
              "    }\n",
              "\n",
              "    .dataframe thead th {\n",
              "        text-align: right;\n",
              "    }\n",
              "</style>\n",
              "<table border=\"1\" class=\"dataframe\">\n",
              "  <thead>\n",
              "    <tr style=\"text-align: right;\">\n",
              "      <th></th>\n",
              "      <th>id</th>\n",
              "      <th>keywords</th>\n",
              "    </tr>\n",
              "  </thead>\n",
              "  <tbody>\n",
              "    <tr>\n",
              "      <th>0</th>\n",
              "      <td>862</td>\n",
              "      <td>[jealousy, toy, boy, friendship, friends, riva...</td>\n",
              "    </tr>\n",
              "    <tr>\n",
              "      <th>1</th>\n",
              "      <td>8844</td>\n",
              "      <td>[board_game, disappearance, based_on_childrens...</td>\n",
              "    </tr>\n",
              "    <tr>\n",
              "      <th>2</th>\n",
              "      <td>15602</td>\n",
              "      <td>[fishing, best_friend, duringcreditsstinger, o...</td>\n",
              "    </tr>\n",
              "  </tbody>\n",
              "</table>\n",
              "</div>"
            ],
            "text/plain": [
              "      id                                           keywords\n",
              "0    862  [jealousy, toy, boy, friendship, friends, riva...\n",
              "1   8844  [board_game, disappearance, based_on_childrens...\n",
              "2  15602  [fishing, best_friend, duringcreditsstinger, o..."
            ]
          },
          "metadata": {},
          "execution_count": 46
        }
      ]
    },
    {
      "cell_type": "code",
      "metadata": {
        "colab": {
          "base_uri": "https://localhost:8080/"
        },
        "id": "yO0tQwM4xEpX",
        "outputId": "da105152-19b7-4b10-f04c-d2257fc0edc4"
      },
      "source": [
        "keyword_zip = []\n",
        "keyword_zip = keyword_zip.append(keywords['keywords'].iloc[1])\n",
        "print(keyword_zip)"
      ],
      "execution_count": 47,
      "outputs": [
        {
          "output_type": "stream",
          "name": "stdout",
          "text": [
            "None\n"
          ]
        }
      ]
    },
    {
      "cell_type": "code",
      "metadata": {
        "colab": {
          "base_uri": "https://localhost:8080/",
          "height": 142
        },
        "id": "hrM9M7iBPgiq",
        "outputId": "f3e7fd22-131f-4344-d128-e46ab8a86c4c"
      },
      "source": [
        "keywords['keywords'] = keywords['keywords'].apply(listToString)\n",
        "keywords.head(3)"
      ],
      "execution_count": null,
      "outputs": [
        {
          "output_type": "execute_result",
          "data": {
            "text/html": [
              "<div>\n",
              "<style scoped>\n",
              "    .dataframe tbody tr th:only-of-type {\n",
              "        vertical-align: middle;\n",
              "    }\n",
              "\n",
              "    .dataframe tbody tr th {\n",
              "        vertical-align: top;\n",
              "    }\n",
              "\n",
              "    .dataframe thead th {\n",
              "        text-align: right;\n",
              "    }\n",
              "</style>\n",
              "<table border=\"1\" class=\"dataframe\">\n",
              "  <thead>\n",
              "    <tr style=\"text-align: right;\">\n",
              "      <th></th>\n",
              "      <th>id</th>\n",
              "      <th>keywords</th>\n",
              "    </tr>\n",
              "  </thead>\n",
              "  <tbody>\n",
              "    <tr>\n",
              "      <th>0</th>\n",
              "      <td>862</td>\n",
              "      <td>jealousy toy boy friendship friends rivalry bo...</td>\n",
              "    </tr>\n",
              "    <tr>\n",
              "      <th>1</th>\n",
              "      <td>8844</td>\n",
              "      <td>board_game disappearance based_on_childrens_bo...</td>\n",
              "    </tr>\n",
              "    <tr>\n",
              "      <th>2</th>\n",
              "      <td>15602</td>\n",
              "      <td>fishing best_friend duringcreditsstinger old_men</td>\n",
              "    </tr>\n",
              "  </tbody>\n",
              "</table>\n",
              "</div>"
            ],
            "text/plain": [
              "      id                                           keywords\n",
              "0    862  jealousy toy boy friendship friends rivalry bo...\n",
              "1   8844  board_game disappearance based_on_childrens_bo...\n",
              "2  15602   fishing best_friend duringcreditsstinger old_men"
            ]
          },
          "metadata": {},
          "execution_count": 128
        }
      ]
    },
    {
      "cell_type": "code",
      "metadata": {
        "colab": {
          "base_uri": "https://localhost:8080/"
        },
        "id": "ixj8i9KiQMLl",
        "outputId": "a43975ea-71bd-409e-e286-c5c9321348cc"
      },
      "source": [
        "keywords['keywords'].unique()"
      ],
      "execution_count": null,
      "outputs": [
        {
          "output_type": "execute_result",
          "data": {
            "text/plain": [
              "array(['jealousy toy boy friendship friends rivalry boy_next_door new_toy toy_comes_to_life',\n",
              "       'board_game disappearance based_on_childrens_book new_home recluse giant_insect',\n",
              "       'fishing best_friend duringcreditsstinger old_men', ...,\n",
              "       'blair_witch', 'witch mythology legend serial_killer mockumentary',\n",
              "       'artist play pinoy'], dtype=object)"
            ]
          },
          "metadata": {},
          "execution_count": 129
        }
      ]
    },
    {
      "cell_type": "markdown",
      "metadata": {
        "id": "a3uFNqmkHJfO"
      },
      "source": [
        "## links : 극 중 키워드 단어를 담고있는 dataframe\n",
        "-> keyword_name에 극 중 키워드 단어를 처리하기 쉬운 형태로 저장한다.\n",
        "\n",
        "#### 과연 키워드가 영화 판매수익에 영향을 미칠까?"
      ]
    },
    {
      "cell_type": "code",
      "metadata": {
        "colab": {
          "base_uri": "https://localhost:8080/"
        },
        "id": "ZBVgR75fHFOF",
        "outputId": "ffd55bcf-b47d-4437-d275-43d1c97a83c9"
      },
      "source": [
        "links = pd.read_csv(\"/content/drive/MyDrive/Colab Notebooks/code_states/links.csv\")\n",
        "print(links.shape)\n",
        "links = links.append(pd.read_csv(\"/content/drive/MyDrive/Colab Notebooks/code_states/links_small.csv\"))"
      ],
      "execution_count": null,
      "outputs": [
        {
          "output_type": "stream",
          "name": "stdout",
          "text": [
            "(45843, 3)\n"
          ]
        }
      ]
    },
    {
      "cell_type": "code",
      "metadata": {
        "id": "O8vuDnEb1dph",
        "colab": {
          "base_uri": "https://localhost:8080/",
          "height": 98
        },
        "outputId": "48c7fb4b-cf11-4bd6-a5d4-b7093a58e9cd"
      },
      "source": [
        "print(links.shape)\n",
        "links.head(1)"
      ],
      "execution_count": null,
      "outputs": [
        {
          "output_type": "stream",
          "name": "stdout",
          "text": [
            "(54968, 3)\n"
          ]
        },
        {
          "output_type": "execute_result",
          "data": {
            "text/html": [
              "<div>\n",
              "<style scoped>\n",
              "    .dataframe tbody tr th:only-of-type {\n",
              "        vertical-align: middle;\n",
              "    }\n",
              "\n",
              "    .dataframe tbody tr th {\n",
              "        vertical-align: top;\n",
              "    }\n",
              "\n",
              "    .dataframe thead th {\n",
              "        text-align: right;\n",
              "    }\n",
              "</style>\n",
              "<table border=\"1\" class=\"dataframe\">\n",
              "  <thead>\n",
              "    <tr style=\"text-align: right;\">\n",
              "      <th></th>\n",
              "      <th>movieId</th>\n",
              "      <th>imdbId</th>\n",
              "      <th>tmdbId</th>\n",
              "    </tr>\n",
              "  </thead>\n",
              "  <tbody>\n",
              "    <tr>\n",
              "      <th>0</th>\n",
              "      <td>1</td>\n",
              "      <td>114709</td>\n",
              "      <td>862.0</td>\n",
              "    </tr>\n",
              "  </tbody>\n",
              "</table>\n",
              "</div>"
            ],
            "text/plain": [
              "   movieId  imdbId  tmdbId\n",
              "0        1  114709   862.0"
            ]
          },
          "metadata": {},
          "execution_count": 131
        }
      ]
    },
    {
      "cell_type": "code",
      "metadata": {
        "id": "cRxpmuSqTJtb"
      },
      "source": [
        "links = links.drop_duplicates()"
      ],
      "execution_count": null,
      "outputs": []
    },
    {
      "cell_type": "code",
      "metadata": {
        "colab": {
          "base_uri": "https://localhost:8080/"
        },
        "id": "_1i0tlbLTTLj",
        "outputId": "d5ac029e-aa48-4120-a643-efd11be6cdd1"
      },
      "source": [
        "links.isnull().sum()"
      ],
      "execution_count": null,
      "outputs": [
        {
          "output_type": "execute_result",
          "data": {
            "text/plain": [
              "movieId      0\n",
              "imdbId       0\n",
              "tmdbId     222\n",
              "dtype: int64"
            ]
          },
          "metadata": {},
          "execution_count": 133
        }
      ]
    },
    {
      "cell_type": "markdown",
      "metadata": {
        "id": "cAQWLIwtJgdr"
      },
      "source": [
        "## movies_metadata : 영화에 대한 정보를 담고있는 dataframe\n",
        "-> 예측할 때 필요한 정보만 남겨놓았다.\n",
        "\n",
        "#### 과연 예산과 장르, 상영시간, 판매회사가 영화 판매수익에 영향을 미칠까?"
      ]
    },
    {
      "cell_type": "markdown",
      "metadata": {
        "id": "mtEKHtHxu-te"
      },
      "source": [
        "+ movies_metadata에서 필요없는 컬럼 삭제 ( ['original_language', 'original_title', 'overview', 'poster_path', 'tagline'] )\n",
        "+ homepage컬럼은 유/무로 판단(있다면 1, 없다면 0)\n",
        "+ spoken_languages는 언어가 몇가지인지로 적는다. ( 이 영화에 대한 기대감과 투자의 정도를 알 수 있을 것이다. )"
      ]
    },
    {
      "cell_type": "code",
      "metadata": {
        "colab": {
          "base_uri": "https://localhost:8080/"
        },
        "id": "evzNXc-tMGX-",
        "outputId": "d16bd2ed-d79c-426e-f2e2-59712a626609"
      },
      "source": [
        "movies_metadata = pd.read_csv(\"/content/drive/MyDrive/Colab Notebooks/code_states/movies_metadata.csv\")"
      ],
      "execution_count": null,
      "outputs": [
        {
          "output_type": "stream",
          "name": "stderr",
          "text": [
            "/usr/local/lib/python3.7/dist-packages/IPython/core/interactiveshell.py:2718: DtypeWarning: Columns (10) have mixed types.Specify dtype option on import or set low_memory=False.\n",
            "  interactivity=interactivity, compiler=compiler, result=result)\n"
          ]
        }
      ]
    },
    {
      "cell_type": "code",
      "metadata": {
        "colab": {
          "base_uri": "https://localhost:8080/"
        },
        "id": "C8pNSF-1Lrng",
        "outputId": "f3fdbd26-6750-4dd0-af60-8d21d5971c3d"
      },
      "source": [
        "movies_metadata.duplicated().sum()"
      ],
      "execution_count": null,
      "outputs": [
        {
          "output_type": "execute_result",
          "data": {
            "text/plain": [
              "13"
            ]
          },
          "metadata": {},
          "execution_count": 135
        }
      ]
    },
    {
      "cell_type": "code",
      "metadata": {
        "id": "iNGsTOfAMen2"
      },
      "source": [
        "movies_metadata = movies_metadata.drop_duplicates()"
      ],
      "execution_count": null,
      "outputs": []
    },
    {
      "cell_type": "code",
      "metadata": {
        "id": "7onqjCf41dfX",
        "colab": {
          "base_uri": "https://localhost:8080/",
          "height": 336
        },
        "outputId": "ac8b8f86-ba4a-421b-f7d6-c9c01f481470"
      },
      "source": [
        "print(movies_metadata.shape)\n",
        "movies_metadata.head(2)"
      ],
      "execution_count": null,
      "outputs": [
        {
          "output_type": "stream",
          "name": "stdout",
          "text": [
            "(45453, 24)\n"
          ]
        },
        {
          "output_type": "execute_result",
          "data": {
            "text/html": [
              "<div>\n",
              "<style scoped>\n",
              "    .dataframe tbody tr th:only-of-type {\n",
              "        vertical-align: middle;\n",
              "    }\n",
              "\n",
              "    .dataframe tbody tr th {\n",
              "        vertical-align: top;\n",
              "    }\n",
              "\n",
              "    .dataframe thead th {\n",
              "        text-align: right;\n",
              "    }\n",
              "</style>\n",
              "<table border=\"1\" class=\"dataframe\">\n",
              "  <thead>\n",
              "    <tr style=\"text-align: right;\">\n",
              "      <th></th>\n",
              "      <th>adult</th>\n",
              "      <th>belongs_to_collection</th>\n",
              "      <th>budget</th>\n",
              "      <th>genres</th>\n",
              "      <th>homepage</th>\n",
              "      <th>id</th>\n",
              "      <th>imdb_id</th>\n",
              "      <th>original_language</th>\n",
              "      <th>original_title</th>\n",
              "      <th>overview</th>\n",
              "      <th>popularity</th>\n",
              "      <th>poster_path</th>\n",
              "      <th>production_companies</th>\n",
              "      <th>production_countries</th>\n",
              "      <th>release_date</th>\n",
              "      <th>revenue</th>\n",
              "      <th>runtime</th>\n",
              "      <th>spoken_languages</th>\n",
              "      <th>status</th>\n",
              "      <th>tagline</th>\n",
              "      <th>title</th>\n",
              "      <th>video</th>\n",
              "      <th>vote_average</th>\n",
              "      <th>vote_count</th>\n",
              "    </tr>\n",
              "  </thead>\n",
              "  <tbody>\n",
              "    <tr>\n",
              "      <th>0</th>\n",
              "      <td>False</td>\n",
              "      <td>{'id': 10194, 'name': 'Toy Story Collection', ...</td>\n",
              "      <td>30000000</td>\n",
              "      <td>[{'id': 16, 'name': 'Animation'}, {'id': 35, '...</td>\n",
              "      <td>http://toystory.disney.com/toy-story</td>\n",
              "      <td>862</td>\n",
              "      <td>tt0114709</td>\n",
              "      <td>en</td>\n",
              "      <td>Toy Story</td>\n",
              "      <td>Led by Woody, Andy's toys live happily in his ...</td>\n",
              "      <td>21.9469</td>\n",
              "      <td>/rhIRbceoE9lR4veEXuwCC2wARtG.jpg</td>\n",
              "      <td>[{'name': 'Pixar Animation Studios', 'id': 3}]</td>\n",
              "      <td>[{'iso_3166_1': 'US', 'name': 'United States o...</td>\n",
              "      <td>1995-10-30</td>\n",
              "      <td>373554033.0</td>\n",
              "      <td>81.0</td>\n",
              "      <td>[{'iso_639_1': 'en', 'name': 'English'}]</td>\n",
              "      <td>Released</td>\n",
              "      <td>NaN</td>\n",
              "      <td>Toy Story</td>\n",
              "      <td>False</td>\n",
              "      <td>7.7</td>\n",
              "      <td>5415.0</td>\n",
              "    </tr>\n",
              "    <tr>\n",
              "      <th>1</th>\n",
              "      <td>False</td>\n",
              "      <td>NaN</td>\n",
              "      <td>65000000</td>\n",
              "      <td>[{'id': 12, 'name': 'Adventure'}, {'id': 14, '...</td>\n",
              "      <td>NaN</td>\n",
              "      <td>8844</td>\n",
              "      <td>tt0113497</td>\n",
              "      <td>en</td>\n",
              "      <td>Jumanji</td>\n",
              "      <td>When siblings Judy and Peter discover an encha...</td>\n",
              "      <td>17.0155</td>\n",
              "      <td>/vzmL6fP7aPKNKPRTFnZmiUfciyV.jpg</td>\n",
              "      <td>[{'name': 'TriStar Pictures', 'id': 559}, {'na...</td>\n",
              "      <td>[{'iso_3166_1': 'US', 'name': 'United States o...</td>\n",
              "      <td>1995-12-15</td>\n",
              "      <td>262797249.0</td>\n",
              "      <td>104.0</td>\n",
              "      <td>[{'iso_639_1': 'en', 'name': 'English'}, {'iso...</td>\n",
              "      <td>Released</td>\n",
              "      <td>Roll the dice and unleash the excitement!</td>\n",
              "      <td>Jumanji</td>\n",
              "      <td>False</td>\n",
              "      <td>6.9</td>\n",
              "      <td>2413.0</td>\n",
              "    </tr>\n",
              "  </tbody>\n",
              "</table>\n",
              "</div>"
            ],
            "text/plain": [
              "   adult  ... vote_count\n",
              "0  False  ...     5415.0\n",
              "1  False  ...     2413.0\n",
              "\n",
              "[2 rows x 24 columns]"
            ]
          },
          "metadata": {},
          "execution_count": 137
        }
      ]
    },
    {
      "cell_type": "code",
      "metadata": {
        "colab": {
          "base_uri": "https://localhost:8080/"
        },
        "id": "ioT6XKBqOeD7",
        "outputId": "9704e507-7002-450a-b466-4e6768ff8364"
      },
      "source": [
        "movies_metadata.isnull().sum()"
      ],
      "execution_count": null,
      "outputs": [
        {
          "output_type": "execute_result",
          "data": {
            "text/plain": [
              "adult                        0\n",
              "belongs_to_collection    40959\n",
              "budget                       0\n",
              "genres                       0\n",
              "homepage                 37673\n",
              "id                           0\n",
              "imdb_id                     17\n",
              "original_language           11\n",
              "original_title               0\n",
              "overview                   954\n",
              "popularity                   5\n",
              "poster_path                386\n",
              "production_companies         3\n",
              "production_countries         3\n",
              "release_date                87\n",
              "revenue                      6\n",
              "runtime                    263\n",
              "spoken_languages             6\n",
              "status                      87\n",
              "tagline                  25045\n",
              "title                        6\n",
              "video                        6\n",
              "vote_average                 6\n",
              "vote_count                   6\n",
              "dtype: int64"
            ]
          },
          "metadata": {},
          "execution_count": 138
        }
      ]
    },
    {
      "cell_type": "code",
      "metadata": {
        "colab": {
          "base_uri": "https://localhost:8080/"
        },
        "id": "lyUQfWFkBS-l",
        "outputId": "08890ae6-ac8b-42af-e9d6-2d6f6f84fc3f"
      },
      "source": [
        "movies_metadata.dtypes"
      ],
      "execution_count": null,
      "outputs": [
        {
          "output_type": "execute_result",
          "data": {
            "text/plain": [
              "adult                     object\n",
              "belongs_to_collection     object\n",
              "budget                    object\n",
              "genres                    object\n",
              "homepage                  object\n",
              "id                        object\n",
              "imdb_id                   object\n",
              "original_language         object\n",
              "original_title            object\n",
              "overview                  object\n",
              "popularity                object\n",
              "poster_path               object\n",
              "production_companies      object\n",
              "production_countries      object\n",
              "release_date              object\n",
              "revenue                  float64\n",
              "runtime                  float64\n",
              "spoken_languages          object\n",
              "status                    object\n",
              "tagline                   object\n",
              "title                     object\n",
              "video                     object\n",
              "vote_average             float64\n",
              "vote_count               float64\n",
              "dtype: object"
            ]
          },
          "metadata": {},
          "execution_count": 139
        }
      ]
    },
    {
      "cell_type": "code",
      "metadata": {
        "colab": {
          "base_uri": "https://localhost:8080/"
        },
        "id": "TSgG4auLBmwb",
        "outputId": "63258406-4d3c-468d-d80f-28e8c227ef9a"
      },
      "source": [
        "def toint(s) :\n",
        "  try :\n",
        "    n = int(s)\n",
        "    return n\n",
        "  except :\n",
        "    print(s)\n",
        "    return s\n",
        "movies_metadata.budget.apply(toint)"
      ],
      "execution_count": null,
      "outputs": [
        {
          "output_type": "stream",
          "name": "stdout",
          "text": [
            "/ff9qCepilowshEtG2GYWwzt2bs4.jpg\n",
            "/zV8bHuSL6WXoD6FWogP9j4x80bL.jpg\n",
            "/zaSf5OG7V8X8gqFvly88zDdRm46.jpg\n"
          ]
        },
        {
          "output_type": "execute_result",
          "data": {
            "text/plain": [
              "0        30000000\n",
              "1        65000000\n",
              "2               0\n",
              "3        16000000\n",
              "4               0\n",
              "           ...   \n",
              "45461           0\n",
              "45462           0\n",
              "45463           0\n",
              "45464           0\n",
              "45465           0\n",
              "Name: budget, Length: 45453, dtype: object"
            ]
          },
          "metadata": {},
          "execution_count": 140
        }
      ]
    },
    {
      "cell_type": "code",
      "metadata": {
        "colab": {
          "base_uri": "https://localhost:8080/",
          "height": 185
        },
        "id": "EX-_PgplCj-m",
        "outputId": "6a3a292e-b6a5-49ea-f62b-17e5d3ac2ff1"
      },
      "source": [
        "# 본인의 columns 위치가 아닌 곳에 데이터가 있는 data들 drop\n",
        "movies_metadata[movies_metadata.budget == '/zV8bHuSL6WXoD6FWogP9j4x80bL.jpg']"
      ],
      "execution_count": null,
      "outputs": [
        {
          "output_type": "execute_result",
          "data": {
            "text/html": [
              "<div>\n",
              "<style scoped>\n",
              "    .dataframe tbody tr th:only-of-type {\n",
              "        vertical-align: middle;\n",
              "    }\n",
              "\n",
              "    .dataframe tbody tr th {\n",
              "        vertical-align: top;\n",
              "    }\n",
              "\n",
              "    .dataframe thead th {\n",
              "        text-align: right;\n",
              "    }\n",
              "</style>\n",
              "<table border=\"1\" class=\"dataframe\">\n",
              "  <thead>\n",
              "    <tr style=\"text-align: right;\">\n",
              "      <th></th>\n",
              "      <th>adult</th>\n",
              "      <th>belongs_to_collection</th>\n",
              "      <th>budget</th>\n",
              "      <th>genres</th>\n",
              "      <th>homepage</th>\n",
              "      <th>id</th>\n",
              "      <th>imdb_id</th>\n",
              "      <th>original_language</th>\n",
              "      <th>original_title</th>\n",
              "      <th>overview</th>\n",
              "      <th>popularity</th>\n",
              "      <th>poster_path</th>\n",
              "      <th>production_companies</th>\n",
              "      <th>production_countries</th>\n",
              "      <th>release_date</th>\n",
              "      <th>revenue</th>\n",
              "      <th>runtime</th>\n",
              "      <th>spoken_languages</th>\n",
              "      <th>status</th>\n",
              "      <th>tagline</th>\n",
              "      <th>title</th>\n",
              "      <th>video</th>\n",
              "      <th>vote_average</th>\n",
              "      <th>vote_count</th>\n",
              "    </tr>\n",
              "  </thead>\n",
              "  <tbody>\n",
              "    <tr>\n",
              "      <th>29503</th>\n",
              "      <td>Rune Balot goes to a casino connected to the ...</td>\n",
              "      <td>1.931659</td>\n",
              "      <td>/zV8bHuSL6WXoD6FWogP9j4x80bL.jpg</td>\n",
              "      <td>[{'name': 'Aniplex', 'id': 2883}, {'name': 'Go...</td>\n",
              "      <td>[{'iso_3166_1': 'US', 'name': 'United States o...</td>\n",
              "      <td>2012-09-29</td>\n",
              "      <td>0</td>\n",
              "      <td>68.0</td>\n",
              "      <td>[{'iso_639_1': 'ja', 'name': '日本語'}]</td>\n",
              "      <td>Released</td>\n",
              "      <td>NaN</td>\n",
              "      <td>Mardock Scramble: The Third Exhaust</td>\n",
              "      <td>False</td>\n",
              "      <td>7.0</td>\n",
              "      <td>12</td>\n",
              "      <td>NaN</td>\n",
              "      <td>NaN</td>\n",
              "      <td>NaN</td>\n",
              "      <td>NaN</td>\n",
              "      <td>NaN</td>\n",
              "      <td>NaN</td>\n",
              "      <td>NaN</td>\n",
              "      <td>NaN</td>\n",
              "      <td>NaN</td>\n",
              "    </tr>\n",
              "  </tbody>\n",
              "</table>\n",
              "</div>"
            ],
            "text/plain": [
              "                                                   adult  ... vote_count\n",
              "29503   Rune Balot goes to a casino connected to the ...  ...        NaN\n",
              "\n",
              "[1 rows x 24 columns]"
            ]
          },
          "metadata": {},
          "execution_count": 141
        }
      ]
    },
    {
      "cell_type": "code",
      "metadata": {
        "colab": {
          "base_uri": "https://localhost:8080/"
        },
        "id": "vPs-LdPAC24A",
        "outputId": "f428bfbf-96c2-489d-9eb9-8df23b4763d5"
      },
      "source": [
        "movies_metadata = movies_metadata.drop(index=movies_metadata[movies_metadata.budget == '/ff9qCepilowshEtG2GYWwzt2bs4.jpg'].index)\n",
        "movies_metadata = movies_metadata.drop(index=movies_metadata[movies_metadata.budget == '/zV8bHuSL6WXoD6FWogP9j4x80bL.jpg'].index)\n",
        "movies_metadata = movies_metadata.drop(index=movies_metadata[movies_metadata.budget == '/zaSf5OG7V8X8gqFvly88zDdRm46.jpg'].index)\n",
        "print(movies_metadata.shape)"
      ],
      "execution_count": null,
      "outputs": [
        {
          "output_type": "stream",
          "name": "stdout",
          "text": [
            "(45450, 24)\n"
          ]
        }
      ]
    },
    {
      "cell_type": "code",
      "metadata": {
        "id": "xCZfepTRO1Oz"
      },
      "source": [
        "movies_metadata.poster_path = movies_metadata.poster_path.fillna(0)"
      ],
      "execution_count": null,
      "outputs": []
    },
    {
      "cell_type": "code",
      "metadata": {
        "colab": {
          "base_uri": "https://localhost:8080/"
        },
        "id": "xs5EopmnQkS9",
        "outputId": "8f9e04d6-0c3e-4ebc-b3c1-f6b5fb49c593"
      },
      "source": [
        "def set_poster(s) :\n",
        "  if s == 0 :\n",
        "    return 0\n",
        "  else :\n",
        "    return 1\n",
        "  return 0\n",
        "movies_metadata.poster_path = movies_metadata.poster_path.apply(set_poster)\n",
        "movies_metadata.columns = ['adult', 'belongs_to_collection', 'budget', 'genres', 'homepage', 'id',\n",
        "       'imdb_id', 'original_language', 'original_title', 'overview',\n",
        "       'popularity', 'poster', 'production_companies',\n",
        "       'production_countries', 'release_date', 'revenue', 'runtime',\n",
        "       'spoken_languages', 'status', 'tagline', 'title', 'video',\n",
        "       'vote_average', 'vote_count']\n",
        "movies_metadata.columns"
      ],
      "execution_count": null,
      "outputs": [
        {
          "output_type": "execute_result",
          "data": {
            "text/plain": [
              "Index(['adult', 'belongs_to_collection', 'budget', 'genres', 'homepage', 'id',\n",
              "       'imdb_id', 'original_language', 'original_title', 'overview',\n",
              "       'popularity', 'poster', 'production_companies', 'production_countries',\n",
              "       'release_date', 'revenue', 'runtime', 'spoken_languages', 'status',\n",
              "       'tagline', 'title', 'video', 'vote_average', 'vote_count'],\n",
              "      dtype='object')"
            ]
          },
          "metadata": {},
          "execution_count": 144
        }
      ]
    },
    {
      "cell_type": "code",
      "metadata": {
        "colab": {
          "base_uri": "https://localhost:8080/"
        },
        "id": "OPqVkN0mXXbG",
        "outputId": "24755124-a1ac-4190-bd74-9c227cb3e739"
      },
      "source": [
        "print(movies_metadata.adult.unique())\n",
        "print(movies_metadata.status.unique())\n",
        "print(movies_metadata.video.unique())"
      ],
      "execution_count": null,
      "outputs": [
        {
          "output_type": "stream",
          "name": "stdout",
          "text": [
            "['False' 'True']\n",
            "['Released' nan 'Rumored' 'Post Production' 'In Production' 'Planned'\n",
            " 'Canceled']\n",
            "[False True nan]\n"
          ]
        }
      ]
    },
    {
      "cell_type": "code",
      "metadata": {
        "colab": {
          "base_uri": "https://localhost:8080/"
        },
        "id": "IOk1ub_MTDbD",
        "outputId": "c37b1004-68be-422e-ae4b-d2dbd4a6035c"
      },
      "source": [
        "# False가 대부분이고, True는 극소수(대략 0.02%)이므로 통계적으로 의미를 띄지않는다.(유의미하지않다.) -> drop\n",
        "Counter(movies_metadata.adult)"
      ],
      "execution_count": null,
      "outputs": [
        {
          "output_type": "execute_result",
          "data": {
            "text/plain": [
              "Counter({'False': 45441, 'True': 9})"
            ]
          },
          "metadata": {},
          "execution_count": 146
        }
      ]
    },
    {
      "cell_type": "code",
      "metadata": {
        "colab": {
          "base_uri": "https://localhost:8080/"
        },
        "id": "u-H97MlAVkhG",
        "outputId": "32d0e9e8-1a23-47e3-dac7-6927501c54a9"
      },
      "source": [
        "# belongs_to_collection 컬럼에 빈칸(nan)값이 많기 때문에 우리가 예측하고자 하는 바에 도움이 되지 않는다. -> drop\n",
        "movies_metadata.shape, movies_metadata.belongs_to_collection.isnull().sum()"
      ],
      "execution_count": null,
      "outputs": [
        {
          "output_type": "execute_result",
          "data": {
            "text/plain": [
              "((45450, 24), 40959)"
            ]
          },
          "metadata": {},
          "execution_count": 147
        }
      ]
    },
    {
      "cell_type": "code",
      "metadata": {
        "colab": {
          "base_uri": "https://localhost:8080/"
        },
        "id": "JveUiIWpWOW2",
        "outputId": "3e498945-1f1c-4901-84a9-9d64fe4cd51c"
      },
      "source": [
        "Counter(movies_metadata.status)"
      ],
      "execution_count": null,
      "outputs": [
        {
          "output_type": "execute_result",
          "data": {
            "text/plain": [
              "Counter({'Canceled': 2,\n",
              "         'In Production': 20,\n",
              "         'Planned': 15,\n",
              "         'Post Production': 98,\n",
              "         'Released': 45002,\n",
              "         'Rumored': 229,\n",
              "         nan: 84})"
            ]
          },
          "metadata": {},
          "execution_count": 148
        }
      ]
    },
    {
      "cell_type": "code",
      "metadata": {
        "colab": {
          "base_uri": "https://localhost:8080/"
        },
        "id": "X4W27gMuMhwz",
        "outputId": "d9a536ab-1f16-494c-9d01-e2ae0597a403"
      },
      "source": [
        "Counter(movies_metadata.video)"
      ],
      "execution_count": null,
      "outputs": [
        {
          "output_type": "execute_result",
          "data": {
            "text/plain": [
              "Counter({False: 45354, True: 93, nan: 3})"
            ]
          },
          "metadata": {},
          "execution_count": 149
        }
      ]
    },
    {
      "cell_type": "code",
      "metadata": {
        "colab": {
          "base_uri": "https://localhost:8080/"
        },
        "id": "7NPnS7FWQSvp",
        "outputId": "2b72f2aa-dfb6-4b42-afe2-29b0893b3958"
      },
      "source": [
        "len(movies_metadata[ (movies_metadata['revenue'] == 0) ])"
      ],
      "execution_count": null,
      "outputs": [
        {
          "output_type": "execute_result",
          "data": {
            "text/plain": [
              "38041"
            ]
          },
          "metadata": {},
          "execution_count": 150
        }
      ]
    },
    {
      "cell_type": "code",
      "metadata": {
        "colab": {
          "base_uri": "https://localhost:8080/"
        },
        "id": "l3c2JBENPuzo",
        "outputId": "5fcd4353-21fe-4761-ffb7-abbb9bb990c1"
      },
      "source": [
        "movies_metadata[ (movies_metadata['video'] == False) ].revenue"
      ],
      "execution_count": null,
      "outputs": [
        {
          "output_type": "execute_result",
          "data": {
            "text/plain": [
              "0        373554033.0\n",
              "1        262797249.0\n",
              "2                0.0\n",
              "3         81452156.0\n",
              "4         76578911.0\n",
              "            ...     \n",
              "45461            0.0\n",
              "45462            0.0\n",
              "45463            0.0\n",
              "45464            0.0\n",
              "45465            0.0\n",
              "Name: revenue, Length: 45354, dtype: float64"
            ]
          },
          "metadata": {},
          "execution_count": 151
        }
      ]
    },
    {
      "cell_type": "code",
      "metadata": {
        "colab": {
          "base_uri": "https://localhost:8080/",
          "height": 321
        },
        "id": "Ql4ykeOhMs_k",
        "outputId": "77a0000c-820e-48b9-f02d-6e92e1a33505"
      },
      "source": [
        "import matplotlib.pyplot as plt\n",
        "plt.scatter(movies_metadata['video'], movies_metadata['revenue'], alpha = .5)\n",
        "plt.title('Scatter graph video per revenue', fontsize=20)\n",
        "plt.xlabel('video', fontsize=12)\n",
        "plt.ylabel('revenue', fontsize=12)"
      ],
      "execution_count": null,
      "outputs": [
        {
          "output_type": "execute_result",
          "data": {
            "text/plain": [
              "Text(0, 0.5, 'revenue')"
            ]
          },
          "metadata": {},
          "execution_count": 152
        },
        {
          "output_type": "display_data",
          "data": {
            "image/png": "[encoded data removed]",
            "text/plain": [
              "<Figure size 432x288 with 1 Axes>"
            ]
          },
          "metadata": {
            "needs_background": "light"
          }
        }
      ]
    },
    {
      "cell_type": "code",
      "metadata": {
        "colab": {
          "base_uri": "https://localhost:8080/",
          "height": 496
        },
        "id": "qv8WouFDNBR0",
        "outputId": "be991616-8e3c-43e9-e2f0-652af56e49be"
      },
      "source": [
        "movies_metadata[movies_metadata['video']==False].revenue.hist(figsize=(16,8), log=True);"
      ],
      "execution_count": null,
      "outputs": [
        {
          "output_type": "display_data",
          "data": {
            "image/png": "[encoded data removed]",
            "text/plain": [
              "<Figure size 1152x576 with 1 Axes>"
            ]
          },
          "metadata": {
            "needs_background": "light"
          }
        }
      ]
    },
    {
      "cell_type": "code",
      "metadata": {
        "id": "cBDwD-xSdN3n"
      },
      "source": [
        "# 출시 예정 상태의 영화에 대해서 예측할 예정이다. -> 나중에 분리\n",
        "# test_movies_metadata = movies_metadata[(movies_metadata['status'] == 'Planned') | (movies_metadata['status'] == 'In Production')]\n",
        "# print(test_movies_metadata.status.unique())"
      ],
      "execution_count": null,
      "outputs": []
    },
    {
      "cell_type": "code",
      "metadata": {
        "colab": {
          "base_uri": "https://localhost:8080/"
        },
        "id": "uxlZLWiDd8AA",
        "outputId": "886b1528-93a3-4861-a149-e1e65ba1bc21"
      },
      "source": [
        "# 출시된 상태의 영화에 대해서 훈련시킬 예정이다.\n",
        "movies_metadata = movies_metadata[ (movies_metadata['status'] == 'Released') | (movies_metadata['status'] == 'Planned') | (movies_metadata['status'] == 'In Production')]\n",
        "print(movies_metadata.status.unique())"
      ],
      "execution_count": null,
      "outputs": [
        {
          "output_type": "stream",
          "name": "stdout",
          "text": [
            "['Released' 'In Production' 'Planned']\n"
          ]
        }
      ]
    },
    {
      "cell_type": "code",
      "metadata": {
        "colab": {
          "base_uri": "https://localhost:8080/",
          "height": 461
        },
        "id": "5Nqk3e50Qmxo",
        "outputId": "a84165fe-71f7-4227-b85b-1d1dd309efdc"
      },
      "source": [
        "movies_metadata.describe(include='all')"
      ],
      "execution_count": null,
      "outputs": [
        {
          "output_type": "execute_result",
          "data": {
            "text/html": [
              "<div>\n",
              "<style scoped>\n",
              "    .dataframe tbody tr th:only-of-type {\n",
              "        vertical-align: middle;\n",
              "    }\n",
              "\n",
              "    .dataframe tbody tr th {\n",
              "        vertical-align: top;\n",
              "    }\n",
              "\n",
              "    .dataframe thead th {\n",
              "        text-align: right;\n",
              "    }\n",
              "</style>\n",
              "<table border=\"1\" class=\"dataframe\">\n",
              "  <thead>\n",
              "    <tr style=\"text-align: right;\">\n",
              "      <th></th>\n",
              "      <th>adult</th>\n",
              "      <th>belongs_to_collection</th>\n",
              "      <th>budget</th>\n",
              "      <th>genres</th>\n",
              "      <th>homepage</th>\n",
              "      <th>id</th>\n",
              "      <th>imdb_id</th>\n",
              "      <th>original_language</th>\n",
              "      <th>original_title</th>\n",
              "      <th>overview</th>\n",
              "      <th>popularity</th>\n",
              "      <th>poster</th>\n",
              "      <th>production_companies</th>\n",
              "      <th>production_countries</th>\n",
              "      <th>release_date</th>\n",
              "      <th>revenue</th>\n",
              "      <th>runtime</th>\n",
              "      <th>spoken_languages</th>\n",
              "      <th>status</th>\n",
              "      <th>tagline</th>\n",
              "      <th>title</th>\n",
              "      <th>video</th>\n",
              "      <th>vote_average</th>\n",
              "      <th>vote_count</th>\n",
              "    </tr>\n",
              "  </thead>\n",
              "  <tbody>\n",
              "    <tr>\n",
              "      <th>count</th>\n",
              "      <td>45037</td>\n",
              "      <td>4472</td>\n",
              "      <td>45037</td>\n",
              "      <td>45037</td>\n",
              "      <td>7715</td>\n",
              "      <td>45037</td>\n",
              "      <td>45022</td>\n",
              "      <td>45027</td>\n",
              "      <td>45037</td>\n",
              "      <td>44113</td>\n",
              "      <td>45037</td>\n",
              "      <td>45037.000000</td>\n",
              "      <td>45037</td>\n",
              "      <td>45037</td>\n",
              "      <td>44956</td>\n",
              "      <td>4.503700e+04</td>\n",
              "      <td>44784.000000</td>\n",
              "      <td>45037</td>\n",
              "      <td>45037</td>\n",
              "      <td>20305</td>\n",
              "      <td>45037</td>\n",
              "      <td>45037</td>\n",
              "      <td>45037.000000</td>\n",
              "      <td>45037.000000</td>\n",
              "    </tr>\n",
              "    <tr>\n",
              "      <th>unique</th>\n",
              "      <td>2</td>\n",
              "      <td>1691</td>\n",
              "      <td>1219</td>\n",
              "      <td>4048</td>\n",
              "      <td>7610</td>\n",
              "      <td>45020</td>\n",
              "      <td>45005</td>\n",
              "      <td>89</td>\n",
              "      <td>42988</td>\n",
              "      <td>43929</td>\n",
              "      <td>43803</td>\n",
              "      <td>NaN</td>\n",
              "      <td>22592</td>\n",
              "      <td>2378</td>\n",
              "      <td>17279</td>\n",
              "      <td>NaN</td>\n",
              "      <td>NaN</td>\n",
              "      <td>1918</td>\n",
              "      <td>3</td>\n",
              "      <td>20182</td>\n",
              "      <td>41920</td>\n",
              "      <td>2</td>\n",
              "      <td>NaN</td>\n",
              "      <td>NaN</td>\n",
              "    </tr>\n",
              "    <tr>\n",
              "      <th>top</th>\n",
              "      <td>False</td>\n",
              "      <td>{'id': 415931, 'name': 'The Bowery Boys', 'pos...</td>\n",
              "      <td>0</td>\n",
              "      <td>[{'id': 18, 'name': 'Drama'}]</td>\n",
              "      <td>http://www.georgecarlin.com</td>\n",
              "      <td>10991</td>\n",
              "      <td>tt0046468</td>\n",
              "      <td>en</td>\n",
              "      <td>Alice in Wonderland</td>\n",
              "      <td>No overview found.</td>\n",
              "      <td>0.0</td>\n",
              "      <td>NaN</td>\n",
              "      <td>[]</td>\n",
              "      <td>[{'iso_3166_1': 'US', 'name': 'United States o...</td>\n",
              "      <td>2008-01-01</td>\n",
              "      <td>NaN</td>\n",
              "      <td>NaN</td>\n",
              "      <td>[{'iso_639_1': 'en', 'name': 'English'}]</td>\n",
              "      <td>Released</td>\n",
              "      <td>Based on a true story.</td>\n",
              "      <td>Cinderella</td>\n",
              "      <td>False</td>\n",
              "      <td>NaN</td>\n",
              "      <td>NaN</td>\n",
              "    </tr>\n",
              "    <tr>\n",
              "      <th>freq</th>\n",
              "      <td>45028</td>\n",
              "      <td>29</td>\n",
              "      <td>36173</td>\n",
              "      <td>4941</td>\n",
              "      <td>12</td>\n",
              "      <td>2</td>\n",
              "      <td>2</td>\n",
              "      <td>31971</td>\n",
              "      <td>8</td>\n",
              "      <td>133</td>\n",
              "      <td>33</td>\n",
              "      <td>NaN</td>\n",
              "      <td>11640</td>\n",
              "      <td>17743</td>\n",
              "      <td>135</td>\n",
              "      <td>NaN</td>\n",
              "      <td>NaN</td>\n",
              "      <td>22221</td>\n",
              "      <td>45002</td>\n",
              "      <td>7</td>\n",
              "      <td>11</td>\n",
              "      <td>44944</td>\n",
              "      <td>NaN</td>\n",
              "      <td>NaN</td>\n",
              "    </tr>\n",
              "    <tr>\n",
              "      <th>mean</th>\n",
              "      <td>NaN</td>\n",
              "      <td>NaN</td>\n",
              "      <td>NaN</td>\n",
              "      <td>NaN</td>\n",
              "      <td>NaN</td>\n",
              "      <td>NaN</td>\n",
              "      <td>NaN</td>\n",
              "      <td>NaN</td>\n",
              "      <td>NaN</td>\n",
              "      <td>NaN</td>\n",
              "      <td>NaN</td>\n",
              "      <td>0.991696</td>\n",
              "      <td>NaN</td>\n",
              "      <td>NaN</td>\n",
              "      <td>NaN</td>\n",
              "      <td>1.131311e+07</td>\n",
              "      <td>94.248392</td>\n",
              "      <td>NaN</td>\n",
              "      <td>NaN</td>\n",
              "      <td>NaN</td>\n",
              "      <td>NaN</td>\n",
              "      <td>NaN</td>\n",
              "      <td>5.623321</td>\n",
              "      <td>110.842152</td>\n",
              "    </tr>\n",
              "    <tr>\n",
              "      <th>std</th>\n",
              "      <td>NaN</td>\n",
              "      <td>NaN</td>\n",
              "      <td>NaN</td>\n",
              "      <td>NaN</td>\n",
              "      <td>NaN</td>\n",
              "      <td>NaN</td>\n",
              "      <td>NaN</td>\n",
              "      <td>NaN</td>\n",
              "      <td>NaN</td>\n",
              "      <td>NaN</td>\n",
              "      <td>NaN</td>\n",
              "      <td>0.090750</td>\n",
              "      <td>NaN</td>\n",
              "      <td>NaN</td>\n",
              "      <td>NaN</td>\n",
              "      <td>6.462451e+07</td>\n",
              "      <td>38.377917</td>\n",
              "      <td>NaN</td>\n",
              "      <td>NaN</td>\n",
              "      <td>NaN</td>\n",
              "      <td>NaN</td>\n",
              "      <td>NaN</td>\n",
              "      <td>1.916475</td>\n",
              "      <td>493.507790</td>\n",
              "    </tr>\n",
              "    <tr>\n",
              "      <th>min</th>\n",
              "      <td>NaN</td>\n",
              "      <td>NaN</td>\n",
              "      <td>NaN</td>\n",
              "      <td>NaN</td>\n",
              "      <td>NaN</td>\n",
              "      <td>NaN</td>\n",
              "      <td>NaN</td>\n",
              "      <td>NaN</td>\n",
              "      <td>NaN</td>\n",
              "      <td>NaN</td>\n",
              "      <td>NaN</td>\n",
              "      <td>0.000000</td>\n",
              "      <td>NaN</td>\n",
              "      <td>NaN</td>\n",
              "      <td>NaN</td>\n",
              "      <td>0.000000e+00</td>\n",
              "      <td>0.000000</td>\n",
              "      <td>NaN</td>\n",
              "      <td>NaN</td>\n",
              "      <td>NaN</td>\n",
              "      <td>NaN</td>\n",
              "      <td>NaN</td>\n",
              "      <td>0.000000</td>\n",
              "      <td>0.000000</td>\n",
              "    </tr>\n",
              "    <tr>\n",
              "      <th>25%</th>\n",
              "      <td>NaN</td>\n",
              "      <td>NaN</td>\n",
              "      <td>NaN</td>\n",
              "      <td>NaN</td>\n",
              "      <td>NaN</td>\n",
              "      <td>NaN</td>\n",
              "      <td>NaN</td>\n",
              "      <td>NaN</td>\n",
              "      <td>NaN</td>\n",
              "      <td>NaN</td>\n",
              "      <td>NaN</td>\n",
              "      <td>1.000000</td>\n",
              "      <td>NaN</td>\n",
              "      <td>NaN</td>\n",
              "      <td>NaN</td>\n",
              "      <td>0.000000e+00</td>\n",
              "      <td>85.000000</td>\n",
              "      <td>NaN</td>\n",
              "      <td>NaN</td>\n",
              "      <td>NaN</td>\n",
              "      <td>NaN</td>\n",
              "      <td>NaN</td>\n",
              "      <td>5.000000</td>\n",
              "      <td>3.000000</td>\n",
              "    </tr>\n",
              "    <tr>\n",
              "      <th>50%</th>\n",
              "      <td>NaN</td>\n",
              "      <td>NaN</td>\n",
              "      <td>NaN</td>\n",
              "      <td>NaN</td>\n",
              "      <td>NaN</td>\n",
              "      <td>NaN</td>\n",
              "      <td>NaN</td>\n",
              "      <td>NaN</td>\n",
              "      <td>NaN</td>\n",
              "      <td>NaN</td>\n",
              "      <td>NaN</td>\n",
              "      <td>1.000000</td>\n",
              "      <td>NaN</td>\n",
              "      <td>NaN</td>\n",
              "      <td>NaN</td>\n",
              "      <td>0.000000e+00</td>\n",
              "      <td>95.000000</td>\n",
              "      <td>NaN</td>\n",
              "      <td>NaN</td>\n",
              "      <td>NaN</td>\n",
              "      <td>NaN</td>\n",
              "      <td>NaN</td>\n",
              "      <td>6.000000</td>\n",
              "      <td>10.000000</td>\n",
              "    </tr>\n",
              "    <tr>\n",
              "      <th>75%</th>\n",
              "      <td>NaN</td>\n",
              "      <td>NaN</td>\n",
              "      <td>NaN</td>\n",
              "      <td>NaN</td>\n",
              "      <td>NaN</td>\n",
              "      <td>NaN</td>\n",
              "      <td>NaN</td>\n",
              "      <td>NaN</td>\n",
              "      <td>NaN</td>\n",
              "      <td>NaN</td>\n",
              "      <td>NaN</td>\n",
              "      <td>1.000000</td>\n",
              "      <td>NaN</td>\n",
              "      <td>NaN</td>\n",
              "      <td>NaN</td>\n",
              "      <td>0.000000e+00</td>\n",
              "      <td>107.000000</td>\n",
              "      <td>NaN</td>\n",
              "      <td>NaN</td>\n",
              "      <td>NaN</td>\n",
              "      <td>NaN</td>\n",
              "      <td>NaN</td>\n",
              "      <td>6.800000</td>\n",
              "      <td>35.000000</td>\n",
              "    </tr>\n",
              "    <tr>\n",
              "      <th>max</th>\n",
              "      <td>NaN</td>\n",
              "      <td>NaN</td>\n",
              "      <td>NaN</td>\n",
              "      <td>NaN</td>\n",
              "      <td>NaN</td>\n",
              "      <td>NaN</td>\n",
              "      <td>NaN</td>\n",
              "      <td>NaN</td>\n",
              "      <td>NaN</td>\n",
              "      <td>NaN</td>\n",
              "      <td>NaN</td>\n",
              "      <td>1.000000</td>\n",
              "      <td>NaN</td>\n",
              "      <td>NaN</td>\n",
              "      <td>NaN</td>\n",
              "      <td>2.787965e+09</td>\n",
              "      <td>1256.000000</td>\n",
              "      <td>NaN</td>\n",
              "      <td>NaN</td>\n",
              "      <td>NaN</td>\n",
              "      <td>NaN</td>\n",
              "      <td>NaN</td>\n",
              "      <td>10.000000</td>\n",
              "      <td>14075.000000</td>\n",
              "    </tr>\n",
              "  </tbody>\n",
              "</table>\n",
              "</div>"
            ],
            "text/plain": [
              "        adult  ...    vote_count\n",
              "count   45037  ...  45037.000000\n",
              "unique      2  ...           NaN\n",
              "top     False  ...           NaN\n",
              "freq    45028  ...           NaN\n",
              "mean      NaN  ...    110.842152\n",
              "std       NaN  ...    493.507790\n",
              "min       NaN  ...      0.000000\n",
              "25%       NaN  ...      3.000000\n",
              "50%       NaN  ...     10.000000\n",
              "75%       NaN  ...     35.000000\n",
              "max       NaN  ...  14075.000000\n",
              "\n",
              "[11 rows x 24 columns]"
            ]
          },
          "metadata": {},
          "execution_count": 156
        }
      ]
    },
    {
      "cell_type": "markdown",
      "metadata": {
        "id": "0C2n4p4YWn02"
      },
      "source": [
        "imdb_id는 id값이기 때문에 실제 값으로 보기 힘들다. ->drop\n",
        "\n",
        "vote_count도 count한 통계결과이기 때문에 유의미하지않다. ->drop"
      ]
    },
    {
      "cell_type": "markdown",
      "metadata": {
        "id": "0XSnZBJ4eXnC"
      },
      "source": [
        "### **여기부터!!!**"
      ]
    },
    {
      "cell_type": "code",
      "metadata": {
        "colab": {
          "base_uri": "https://localhost:8080/",
          "height": 592
        },
        "id": "xLjmlfuhLOwb",
        "outputId": "d9ffc176-250a-444a-d599-9d4bd0290c09"
      },
      "source": [
        "movies_metadata['original_language'].hist(figsize=(20,10), log=True);"
      ],
      "execution_count": null,
      "outputs": [
        {
          "output_type": "display_data",
          "data": {
            "image/png": "[encoded data removed]",
            "text/plain": [
              "<Figure size 1440x720 with 1 Axes>"
            ]
          },
          "metadata": {
            "needs_background": "light"
          }
        }
      ]
    },
    {
      "cell_type": "code",
      "metadata": {
        "colab": {
          "base_uri": "https://localhost:8080/",
          "height": 179
        },
        "id": "OkQtOq99uy0C",
        "outputId": "ce87ff77-a633-46de-ae4c-706fc9e7b61e"
      },
      "source": [
        "movies_metadata = movies_metadata.drop(['adult','belongs_to_collection', 'imdb_id', 'vote_count', 'original_language', 'original_title', 'overview', 'tagline'], axis=1)\n",
        "movies_metadata.head(2)"
      ],
      "execution_count": null,
      "outputs": [
        {
          "output_type": "execute_result",
          "data": {
            "text/html": [
              "<div>\n",
              "<style scoped>\n",
              "    .dataframe tbody tr th:only-of-type {\n",
              "        vertical-align: middle;\n",
              "    }\n",
              "\n",
              "    .dataframe tbody tr th {\n",
              "        vertical-align: top;\n",
              "    }\n",
              "\n",
              "    .dataframe thead th {\n",
              "        text-align: right;\n",
              "    }\n",
              "</style>\n",
              "<table border=\"1\" class=\"dataframe\">\n",
              "  <thead>\n",
              "    <tr style=\"text-align: right;\">\n",
              "      <th></th>\n",
              "      <th>budget</th>\n",
              "      <th>genres</th>\n",
              "      <th>homepage</th>\n",
              "      <th>id</th>\n",
              "      <th>popularity</th>\n",
              "      <th>poster</th>\n",
              "      <th>production_companies</th>\n",
              "      <th>production_countries</th>\n",
              "      <th>release_date</th>\n",
              "      <th>revenue</th>\n",
              "      <th>runtime</th>\n",
              "      <th>spoken_languages</th>\n",
              "      <th>status</th>\n",
              "      <th>title</th>\n",
              "      <th>video</th>\n",
              "      <th>vote_average</th>\n",
              "    </tr>\n",
              "  </thead>\n",
              "  <tbody>\n",
              "    <tr>\n",
              "      <th>0</th>\n",
              "      <td>30000000</td>\n",
              "      <td>[{'id': 16, 'name': 'Animation'}, {'id': 35, '...</td>\n",
              "      <td>http://toystory.disney.com/toy-story</td>\n",
              "      <td>862</td>\n",
              "      <td>21.9469</td>\n",
              "      <td>1</td>\n",
              "      <td>[{'name': 'Pixar Animation Studios', 'id': 3}]</td>\n",
              "      <td>[{'iso_3166_1': 'US', 'name': 'United States o...</td>\n",
              "      <td>1995-10-30</td>\n",
              "      <td>373554033.0</td>\n",
              "      <td>81.0</td>\n",
              "      <td>[{'iso_639_1': 'en', 'name': 'English'}]</td>\n",
              "      <td>Released</td>\n",
              "      <td>Toy Story</td>\n",
              "      <td>False</td>\n",
              "      <td>7.7</td>\n",
              "    </tr>\n",
              "    <tr>\n",
              "      <th>1</th>\n",
              "      <td>65000000</td>\n",
              "      <td>[{'id': 12, 'name': 'Adventure'}, {'id': 14, '...</td>\n",
              "      <td>NaN</td>\n",
              "      <td>8844</td>\n",
              "      <td>17.0155</td>\n",
              "      <td>1</td>\n",
              "      <td>[{'name': 'TriStar Pictures', 'id': 559}, {'na...</td>\n",
              "      <td>[{'iso_3166_1': 'US', 'name': 'United States o...</td>\n",
              "      <td>1995-12-15</td>\n",
              "      <td>262797249.0</td>\n",
              "      <td>104.0</td>\n",
              "      <td>[{'iso_639_1': 'en', 'name': 'English'}, {'iso...</td>\n",
              "      <td>Released</td>\n",
              "      <td>Jumanji</td>\n",
              "      <td>False</td>\n",
              "      <td>6.9</td>\n",
              "    </tr>\n",
              "  </tbody>\n",
              "</table>\n",
              "</div>"
            ],
            "text/plain": [
              "     budget  ... vote_average\n",
              "0  30000000  ...          7.7\n",
              "1  65000000  ...          6.9\n",
              "\n",
              "[2 rows x 16 columns]"
            ]
          },
          "metadata": {},
          "execution_count": 158
        }
      ]
    },
    {
      "cell_type": "code",
      "metadata": {
        "id": "jWaXE-8WXttM"
      },
      "source": [
        "movies_metadata['video'] = movies_metadata['video'].fillna(False)"
      ],
      "execution_count": null,
      "outputs": []
    },
    {
      "cell_type": "code",
      "metadata": {
        "id": "TeKE09vBKCPZ"
      },
      "source": [
        "def setHomepage(s) :\n",
        "  if s == 0 :\n",
        "    return 0\n",
        "  s = str(s)\n",
        "  if s[0:4] == 'http' :\n",
        "    return 1\n",
        "  return 0\n",
        "movies_metadata.fillna(0) # homepage가 없는 경우 0\n",
        "movies_metadata.homepage = movies_metadata.homepage.apply(setHomepage)"
      ],
      "execution_count": null,
      "outputs": []
    },
    {
      "cell_type": "code",
      "metadata": {
        "id": "ZZLh-Xmbf2mg"
      },
      "source": [
        "def setLen(s) :\n",
        "  df = getDataFrame(s)\n",
        "  n = df.shape[0]\n",
        "  return n\n",
        "movies_metadata.spoken_languages = movies_metadata.spoken_languages.apply(setLen)\n",
        "movies_metadata.spoken_languages.head(5)"
      ],
      "execution_count": null,
      "outputs": []
    },
    {
      "cell_type": "code",
      "metadata": {
        "id": "wbIG5CIsLxWV"
      },
      "source": [
        "movies_metadata.isnull().sum()"
      ],
      "execution_count": null,
      "outputs": []
    },
    {
      "cell_type": "code",
      "metadata": {
        "id": "f26cEHoxh-1d"
      },
      "source": [
        "print(movies_metadata.runtime.min())\n",
        "print(movies_metadata.runtime.max())\n",
        "print(len(movies_metadata[movies_metadata.runtime < 60]))"
      ],
      "execution_count": null,
      "outputs": []
    },
    {
      "cell_type": "code",
      "metadata": {
        "id": "c9Q9Nfm_hvLT"
      },
      "source": [
        "movies_metadata = movies_metadata.drop( movies_metadata[movies_metadata['runtime'] < 60 ].index)\n",
        "print(movies_metadata.shape)\n",
        "movies_metadata.head(2)"
      ],
      "execution_count": null,
      "outputs": []
    },
    {
      "cell_type": "markdown",
      "metadata": {
        "id": "yic8rhcoHNQH"
      },
      "source": [
        "## ratings : 영화에 대한 평점을 담고있는 dataframe\n",
        "-> 예측할 때 필요한 정보만 남겨놓았다.\n",
        "\n",
        "#### 과연 ?"
      ]
    },
    {
      "cell_type": "code",
      "metadata": {
        "id": "6Q2rtqvaHL9T"
      },
      "source": [
        "ratings = pd.read_csv(\"/content/drive/MyDrive/Colab Notebooks/code_states/ratings.csv\")\n",
        "ratings = ratings.append(pd.read_csv(\"/content/drive/MyDrive/Colab Notebooks/code_states/ratings_small.csv\"))"
      ],
      "execution_count": 48,
      "outputs": []
    },
    {
      "cell_type": "code",
      "metadata": {
        "id": "AZ8MsBYi1dJK",
        "colab": {
          "base_uri": "https://localhost:8080/",
          "height": 98
        },
        "outputId": "9f9ffa72-4a54-4f7f-9a2e-ae45a7f80484"
      },
      "source": [
        "print(ratings.shape)\n",
        "ratings.head(1)"
      ],
      "execution_count": 49,
      "outputs": [
        {
          "output_type": "stream",
          "name": "stdout",
          "text": [
            "(26124293, 4)\n"
          ]
        },
        {
          "output_type": "execute_result",
          "data": {
            "text/html": [
              "<div>\n",
              "<style scoped>\n",
              "    .dataframe tbody tr th:only-of-type {\n",
              "        vertical-align: middle;\n",
              "    }\n",
              "\n",
              "    .dataframe tbody tr th {\n",
              "        vertical-align: top;\n",
              "    }\n",
              "\n",
              "    .dataframe thead th {\n",
              "        text-align: right;\n",
              "    }\n",
              "</style>\n",
              "<table border=\"1\" class=\"dataframe\">\n",
              "  <thead>\n",
              "    <tr style=\"text-align: right;\">\n",
              "      <th></th>\n",
              "      <th>userId</th>\n",
              "      <th>movieId</th>\n",
              "      <th>rating</th>\n",
              "      <th>timestamp</th>\n",
              "    </tr>\n",
              "  </thead>\n",
              "  <tbody>\n",
              "    <tr>\n",
              "      <th>0</th>\n",
              "      <td>1</td>\n",
              "      <td>110</td>\n",
              "      <td>1.0</td>\n",
              "      <td>1425941529</td>\n",
              "    </tr>\n",
              "  </tbody>\n",
              "</table>\n",
              "</div>"
            ],
            "text/plain": [
              "   userId  movieId  rating   timestamp\n",
              "0       1      110     1.0  1425941529"
            ]
          },
          "metadata": {},
          "execution_count": 49
        }
      ]
    },
    {
      "cell_type": "code",
      "metadata": {
        "id": "Xnm0nXyE1c04",
        "colab": {
          "base_uri": "https://localhost:8080/"
        },
        "outputId": "bd9edba0-cf0a-4a99-c8c1-9f9549dd2f5a"
      },
      "source": [
        "ratings = ratings.drop_duplicates(ignore_index=True)\n",
        "print(ratings.shape)"
      ],
      "execution_count": 50,
      "outputs": [
        {
          "output_type": "stream",
          "name": "stdout",
          "text": [
            "(26124293, 4)\n"
          ]
        }
      ]
    },
    {
      "cell_type": "code",
      "metadata": {
        "id": "_GvVFw9sZAtl",
        "colab": {
          "base_uri": "https://localhost:8080/"
        },
        "outputId": "6b207cdb-eed2-4648-b72a-bd1733d349e1"
      },
      "source": [
        "# ratings = ratings.drop_duplicates(ignore_index=True)\n",
        "ratings.isnull().sum()"
      ],
      "execution_count": 51,
      "outputs": [
        {
          "output_type": "execute_result",
          "data": {
            "text/plain": [
              "userId       0\n",
              "movieId      0\n",
              "rating       0\n",
              "timestamp    0\n",
              "dtype: int64"
            ]
          },
          "metadata": {},
          "execution_count": 51
        }
      ]
    },
    {
      "cell_type": "code",
      "metadata": {
        "id": "6SrkFttsea3E"
      },
      "source": [
        "# movies_metadata['id'], movies_metadata['name'] = movies_metadata.belongs_to_collection.apply(getDataFrame)\n",
        "# movies_metadata.head(3)"
      ],
      "execution_count": null,
      "outputs": []
    },
    {
      "cell_type": "code",
      "metadata": {
        "id": "bEjjW5iUXwdx",
        "colab": {
          "base_uri": "https://localhost:8080/",
          "height": 450
        },
        "outputId": "2b64b703-a72d-4567-efc5-aca77caad734"
      },
      "source": [
        "ratings.groupby(by=\"movieId\").mean()"
      ],
      "execution_count": 56,
      "outputs": [
        {
          "output_type": "execute_result",
          "data": {
            "text/html": [
              "<div>\n",
              "<style scoped>\n",
              "    .dataframe tbody tr th:only-of-type {\n",
              "        vertical-align: middle;\n",
              "    }\n",
              "\n",
              "    .dataframe tbody tr th {\n",
              "        vertical-align: top;\n",
              "    }\n",
              "\n",
              "    .dataframe thead th {\n",
              "        text-align: right;\n",
              "    }\n",
              "</style>\n",
              "<table border=\"1\" class=\"dataframe\">\n",
              "  <thead>\n",
              "    <tr style=\"text-align: right;\">\n",
              "      <th></th>\n",
              "      <th>userId</th>\n",
              "      <th>rating</th>\n",
              "      <th>timestamp</th>\n",
              "    </tr>\n",
              "    <tr>\n",
              "      <th>movieId</th>\n",
              "      <th></th>\n",
              "      <th></th>\n",
              "      <th></th>\n",
              "    </tr>\n",
              "  </thead>\n",
              "  <tbody>\n",
              "    <tr>\n",
              "      <th>1</th>\n",
              "      <td>134618.571746</td>\n",
              "      <td>3.888099</td>\n",
              "      <td>1.113401e+09</td>\n",
              "    </tr>\n",
              "    <tr>\n",
              "      <th>2</th>\n",
              "      <td>134327.725685</td>\n",
              "      <td>3.237628</td>\n",
              "      <td>1.088542e+09</td>\n",
              "    </tr>\n",
              "    <tr>\n",
              "      <th>3</th>\n",
              "      <td>136004.085048</td>\n",
              "      <td>3.175495</td>\n",
              "      <td>9.661129e+08</td>\n",
              "    </tr>\n",
              "    <tr>\n",
              "      <th>4</th>\n",
              "      <td>135659.481964</td>\n",
              "      <td>2.873580</td>\n",
              "      <td>9.389754e+08</td>\n",
              "    </tr>\n",
              "    <tr>\n",
              "      <th>5</th>\n",
              "      <td>134799.710526</td>\n",
              "      <td>3.080253</td>\n",
              "      <td>9.897045e+08</td>\n",
              "    </tr>\n",
              "    <tr>\n",
              "      <th>...</th>\n",
              "      <td>...</td>\n",
              "      <td>...</td>\n",
              "      <td>...</td>\n",
              "    </tr>\n",
              "    <tr>\n",
              "      <th>176267</th>\n",
              "      <td>189131.000000</td>\n",
              "      <td>4.000000</td>\n",
              "      <td>1.501746e+09</td>\n",
              "    </tr>\n",
              "    <tr>\n",
              "      <th>176269</th>\n",
              "      <td>97528.000000</td>\n",
              "      <td>3.500000</td>\n",
              "      <td>1.501765e+09</td>\n",
              "    </tr>\n",
              "    <tr>\n",
              "      <th>176271</th>\n",
              "      <td>837.000000</td>\n",
              "      <td>5.000000</td>\n",
              "      <td>1.501766e+09</td>\n",
              "    </tr>\n",
              "    <tr>\n",
              "      <th>176273</th>\n",
              "      <td>267799.000000</td>\n",
              "      <td>1.000000</td>\n",
              "      <td>1.501770e+09</td>\n",
              "    </tr>\n",
              "    <tr>\n",
              "      <th>176275</th>\n",
              "      <td>178373.000000</td>\n",
              "      <td>3.000000</td>\n",
              "      <td>1.501776e+09</td>\n",
              "    </tr>\n",
              "  </tbody>\n",
              "</table>\n",
              "<p>45123 rows × 3 columns</p>\n",
              "</div>"
            ],
            "text/plain": [
              "                userId    rating     timestamp\n",
              "movieId                                       \n",
              "1        134618.571746  3.888099  1.113401e+09\n",
              "2        134327.725685  3.237628  1.088542e+09\n",
              "3        136004.085048  3.175495  9.661129e+08\n",
              "4        135659.481964  2.873580  9.389754e+08\n",
              "5        134799.710526  3.080253  9.897045e+08\n",
              "...                ...       ...           ...\n",
              "176267   189131.000000  4.000000  1.501746e+09\n",
              "176269    97528.000000  3.500000  1.501765e+09\n",
              "176271      837.000000  5.000000  1.501766e+09\n",
              "176273   267799.000000  1.000000  1.501770e+09\n",
              "176275   178373.000000  3.000000  1.501776e+09\n",
              "\n",
              "[45123 rows x 3 columns]"
            ]
          },
          "metadata": {},
          "execution_count": 56
        }
      ]
    },
    {
      "cell_type": "code",
      "metadata": {
        "id": "v6YJzk8v-i5-"
      },
      "source": [
        ""
      ],
      "execution_count": null,
      "outputs": []
    }
  ]
}